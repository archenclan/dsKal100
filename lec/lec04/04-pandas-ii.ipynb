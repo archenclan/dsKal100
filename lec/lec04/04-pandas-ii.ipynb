{
  "cells": [
    {
      "cell_type": "markdown",
      "metadata": {
        "id": "PnTFY58EeUGI"
      },
      "source": [
        "# Introduction to Pandas, Part 2\n",
        "\n",
        "Advanced Pandas syntax, aggregation, and joining."
      ]
    },
    {
      "cell_type": "code",
      "execution_count": 1,
      "metadata": {
        "id": "uFRWFwzgeUGP"
      },
      "outputs": [],
      "source": [
        "import numpy as np\n",
        "import pandas as pd"
      ]
    },
    {
      "cell_type": "markdown",
      "metadata": {
        "id": "cvUeUwo2eUGR"
      },
      "source": [
        "Let's start by loading the California baby names again."
      ]
    },
    {
      "cell_type": "code",
      "execution_count": 2,
      "metadata": {
        "id": "dom645G0eUGR",
        "outputId": "d7f9171f-dc7d-41d1-ef8a-511634276fae",
        "colab": {
          "base_uri": "https://localhost:8080/",
          "height": 204
        }
      },
      "outputs": [
        {
          "output_type": "execute_result",
          "data": {
            "text/plain": [
              "       State Sex  Year       Name  Count\n",
              "393223    CA   M  2019       Yoel     23\n",
              "207521    CA   F  2014     Venice     13\n",
              "232729    CA   F  2021      Kenia     59\n",
              "281058    CA   M  1971     Lonnie     69\n",
              "381469    CA   M  2015  Alexandro     29"
            ],
            "text/html": [
              "\n",
              "  <div id=\"df-155880b5-70dd-4b0d-8b4a-fafd0a0578ca\">\n",
              "    <div class=\"colab-df-container\">\n",
              "      <div>\n",
              "<style scoped>\n",
              "    .dataframe tbody tr th:only-of-type {\n",
              "        vertical-align: middle;\n",
              "    }\n",
              "\n",
              "    .dataframe tbody tr th {\n",
              "        vertical-align: top;\n",
              "    }\n",
              "\n",
              "    .dataframe thead th {\n",
              "        text-align: right;\n",
              "    }\n",
              "</style>\n",
              "<table border=\"1\" class=\"dataframe\">\n",
              "  <thead>\n",
              "    <tr style=\"text-align: right;\">\n",
              "      <th></th>\n",
              "      <th>State</th>\n",
              "      <th>Sex</th>\n",
              "      <th>Year</th>\n",
              "      <th>Name</th>\n",
              "      <th>Count</th>\n",
              "    </tr>\n",
              "  </thead>\n",
              "  <tbody>\n",
              "    <tr>\n",
              "      <th>393223</th>\n",
              "      <td>CA</td>\n",
              "      <td>M</td>\n",
              "      <td>2019</td>\n",
              "      <td>Yoel</td>\n",
              "      <td>23</td>\n",
              "    </tr>\n",
              "    <tr>\n",
              "      <th>207521</th>\n",
              "      <td>CA</td>\n",
              "      <td>F</td>\n",
              "      <td>2014</td>\n",
              "      <td>Venice</td>\n",
              "      <td>13</td>\n",
              "    </tr>\n",
              "    <tr>\n",
              "      <th>232729</th>\n",
              "      <td>CA</td>\n",
              "      <td>F</td>\n",
              "      <td>2021</td>\n",
              "      <td>Kenia</td>\n",
              "      <td>59</td>\n",
              "    </tr>\n",
              "    <tr>\n",
              "      <th>281058</th>\n",
              "      <td>CA</td>\n",
              "      <td>M</td>\n",
              "      <td>1971</td>\n",
              "      <td>Lonnie</td>\n",
              "      <td>69</td>\n",
              "    </tr>\n",
              "    <tr>\n",
              "      <th>381469</th>\n",
              "      <td>CA</td>\n",
              "      <td>M</td>\n",
              "      <td>2015</td>\n",
              "      <td>Alexandro</td>\n",
              "      <td>29</td>\n",
              "    </tr>\n",
              "  </tbody>\n",
              "</table>\n",
              "</div>\n",
              "      <button class=\"colab-df-convert\" onclick=\"convertToInteractive('df-155880b5-70dd-4b0d-8b4a-fafd0a0578ca')\"\n",
              "              title=\"Convert this dataframe to an interactive table.\"\n",
              "              style=\"display:none;\">\n",
              "        \n",
              "  <svg xmlns=\"http://www.w3.org/2000/svg\" height=\"24px\"viewBox=\"0 0 24 24\"\n",
              "       width=\"24px\">\n",
              "    <path d=\"M0 0h24v24H0V0z\" fill=\"none\"/>\n",
              "    <path d=\"M18.56 5.44l.94 2.06.94-2.06 2.06-.94-2.06-.94-.94-2.06-.94 2.06-2.06.94zm-11 1L8.5 8.5l.94-2.06 2.06-.94-2.06-.94L8.5 2.5l-.94 2.06-2.06.94zm10 10l.94 2.06.94-2.06 2.06-.94-2.06-.94-.94-2.06-.94 2.06-2.06.94z\"/><path d=\"M17.41 7.96l-1.37-1.37c-.4-.4-.92-.59-1.43-.59-.52 0-1.04.2-1.43.59L10.3 9.45l-7.72 7.72c-.78.78-.78 2.05 0 2.83L4 21.41c.39.39.9.59 1.41.59.51 0 1.02-.2 1.41-.59l7.78-7.78 2.81-2.81c.8-.78.8-2.07 0-2.86zM5.41 20L4 18.59l7.72-7.72 1.47 1.35L5.41 20z\"/>\n",
              "  </svg>\n",
              "      </button>\n",
              "      \n",
              "  <style>\n",
              "    .colab-df-container {\n",
              "      display:flex;\n",
              "      flex-wrap:wrap;\n",
              "      gap: 12px;\n",
              "    }\n",
              "\n",
              "    .colab-df-convert {\n",
              "      background-color: #E8F0FE;\n",
              "      border: none;\n",
              "      border-radius: 50%;\n",
              "      cursor: pointer;\n",
              "      display: none;\n",
              "      fill: #1967D2;\n",
              "      height: 32px;\n",
              "      padding: 0 0 0 0;\n",
              "      width: 32px;\n",
              "    }\n",
              "\n",
              "    .colab-df-convert:hover {\n",
              "      background-color: #E2EBFA;\n",
              "      box-shadow: 0px 1px 2px rgba(60, 64, 67, 0.3), 0px 1px 3px 1px rgba(60, 64, 67, 0.15);\n",
              "      fill: #174EA6;\n",
              "    }\n",
              "\n",
              "    [theme=dark] .colab-df-convert {\n",
              "      background-color: #3B4455;\n",
              "      fill: #D2E3FC;\n",
              "    }\n",
              "\n",
              "    [theme=dark] .colab-df-convert:hover {\n",
              "      background-color: #434B5C;\n",
              "      box-shadow: 0px 1px 3px 1px rgba(0, 0, 0, 0.15);\n",
              "      filter: drop-shadow(0px 1px 2px rgba(0, 0, 0, 0.3));\n",
              "      fill: #FFFFFF;\n",
              "    }\n",
              "  </style>\n",
              "\n",
              "      <script>\n",
              "        const buttonEl =\n",
              "          document.querySelector('#df-155880b5-70dd-4b0d-8b4a-fafd0a0578ca button.colab-df-convert');\n",
              "        buttonEl.style.display =\n",
              "          google.colab.kernel.accessAllowed ? 'block' : 'none';\n",
              "\n",
              "        async function convertToInteractive(key) {\n",
              "          const element = document.querySelector('#df-155880b5-70dd-4b0d-8b4a-fafd0a0578ca');\n",
              "          const dataTable =\n",
              "            await google.colab.kernel.invokeFunction('convertToInteractive',\n",
              "                                                     [key], {});\n",
              "          if (!dataTable) return;\n",
              "\n",
              "          const docLinkHtml = 'Like what you see? Visit the ' +\n",
              "            '<a target=\"_blank\" href=https://colab.research.google.com/notebooks/data_table.ipynb>data table notebook</a>'\n",
              "            + ' to learn more about interactive tables.';\n",
              "          element.innerHTML = '';\n",
              "          dataTable['output_type'] = 'display_data';\n",
              "          await google.colab.output.renderOutput(dataTable, element);\n",
              "          const docLink = document.createElement('div');\n",
              "          docLink.innerHTML = docLinkHtml;\n",
              "          element.appendChild(docLink);\n",
              "        }\n",
              "      </script>\n",
              "    </div>\n",
              "  </div>\n",
              "  "
            ]
          },
          "metadata": {},
          "execution_count": 2
        }
      ],
      "source": [
        "import urllib.request\n",
        "import os.path\n",
        "import zipfile\n",
        "\n",
        "data_url = \"https://www.ssa.gov/oact/babynames/state/namesbystate.zip\"\n",
        "local_filename = \"babynamesbystate.zip\"\n",
        "if not os.path.exists(local_filename): # if the data exists don't download again\n",
        "    with urllib.request.urlopen(data_url) as resp, open(local_filename, 'wb') as f:\n",
        "        f.write(resp.read())\n",
        "\n",
        "zf = zipfile.ZipFile(local_filename, 'r')\n",
        "\n",
        "ca_name = 'CA.TXT'\n",
        "field_names = ['State', 'Sex', 'Year', 'Name', 'Count']\n",
        "with zf.open(ca_name) as fh:\n",
        "    babynames = pd.read_csv(fh, header=None, names=field_names)\n",
        "\n",
        "babynames.sample(5)"
      ]
    },
    {
      "cell_type": "code",
      "source": [
        "!ls"
      ],
      "metadata": {
        "id": "_W3sUubIendW",
        "outputId": "a9b59e48-f31d-4659-d6f7-410d7f16b9d2",
        "colab": {
          "base_uri": "https://localhost:8080/"
        }
      },
      "execution_count": 3,
      "outputs": [
        {
          "output_type": "stream",
          "name": "stdout",
          "text": [
            "babynamesbystate.zip  sample_data\n"
          ]
        }
      ]
    },
    {
      "cell_type": "code",
      "execution_count": 4,
      "metadata": {
        "id": "bkEHFV0xeUGT",
        "outputId": "cac50e0f-3664-46d6-9a3e-0b20e9625f4b",
        "colab": {
          "base_uri": "https://localhost:8080/",
          "height": 419
        }
      },
      "outputs": [
        {
          "output_type": "execute_result",
          "data": {
            "text/plain": [
              "       State Sex  Year        Name  Count\n",
              "395116    CA   M  2020        Noah   2625\n",
              "395117    CA   M  2020        Liam   2420\n",
              "395118    CA   M  2020       Mateo   2073\n",
              "395119    CA   M  2020   Sebastian   1994\n",
              "395120    CA   M  2020      Julian   1687\n",
              "...      ...  ..   ...         ...    ...\n",
              "397667    CA   M  2020      Gannon      5\n",
              "397666    CA   M  2020       Galen      5\n",
              "397665    CA   M  2020  Fitzgerald      5\n",
              "397664    CA   M  2020      Fermin      5\n",
              "397908    CA   M  2020       Zymir      5\n",
              "\n",
              "[2793 rows x 5 columns]"
            ],
            "text/html": [
              "\n",
              "  <div id=\"df-c9488175-2822-405c-84ed-cd4c44d2256b\">\n",
              "    <div class=\"colab-df-container\">\n",
              "      <div>\n",
              "<style scoped>\n",
              "    .dataframe tbody tr th:only-of-type {\n",
              "        vertical-align: middle;\n",
              "    }\n",
              "\n",
              "    .dataframe tbody tr th {\n",
              "        vertical-align: top;\n",
              "    }\n",
              "\n",
              "    .dataframe thead th {\n",
              "        text-align: right;\n",
              "    }\n",
              "</style>\n",
              "<table border=\"1\" class=\"dataframe\">\n",
              "  <thead>\n",
              "    <tr style=\"text-align: right;\">\n",
              "      <th></th>\n",
              "      <th>State</th>\n",
              "      <th>Sex</th>\n",
              "      <th>Year</th>\n",
              "      <th>Name</th>\n",
              "      <th>Count</th>\n",
              "    </tr>\n",
              "  </thead>\n",
              "  <tbody>\n",
              "    <tr>\n",
              "      <th>395116</th>\n",
              "      <td>CA</td>\n",
              "      <td>M</td>\n",
              "      <td>2020</td>\n",
              "      <td>Noah</td>\n",
              "      <td>2625</td>\n",
              "    </tr>\n",
              "    <tr>\n",
              "      <th>395117</th>\n",
              "      <td>CA</td>\n",
              "      <td>M</td>\n",
              "      <td>2020</td>\n",
              "      <td>Liam</td>\n",
              "      <td>2420</td>\n",
              "    </tr>\n",
              "    <tr>\n",
              "      <th>395118</th>\n",
              "      <td>CA</td>\n",
              "      <td>M</td>\n",
              "      <td>2020</td>\n",
              "      <td>Mateo</td>\n",
              "      <td>2073</td>\n",
              "    </tr>\n",
              "    <tr>\n",
              "      <th>395119</th>\n",
              "      <td>CA</td>\n",
              "      <td>M</td>\n",
              "      <td>2020</td>\n",
              "      <td>Sebastian</td>\n",
              "      <td>1994</td>\n",
              "    </tr>\n",
              "    <tr>\n",
              "      <th>395120</th>\n",
              "      <td>CA</td>\n",
              "      <td>M</td>\n",
              "      <td>2020</td>\n",
              "      <td>Julian</td>\n",
              "      <td>1687</td>\n",
              "    </tr>\n",
              "    <tr>\n",
              "      <th>...</th>\n",
              "      <td>...</td>\n",
              "      <td>...</td>\n",
              "      <td>...</td>\n",
              "      <td>...</td>\n",
              "      <td>...</td>\n",
              "    </tr>\n",
              "    <tr>\n",
              "      <th>397667</th>\n",
              "      <td>CA</td>\n",
              "      <td>M</td>\n",
              "      <td>2020</td>\n",
              "      <td>Gannon</td>\n",
              "      <td>5</td>\n",
              "    </tr>\n",
              "    <tr>\n",
              "      <th>397666</th>\n",
              "      <td>CA</td>\n",
              "      <td>M</td>\n",
              "      <td>2020</td>\n",
              "      <td>Galen</td>\n",
              "      <td>5</td>\n",
              "    </tr>\n",
              "    <tr>\n",
              "      <th>397665</th>\n",
              "      <td>CA</td>\n",
              "      <td>M</td>\n",
              "      <td>2020</td>\n",
              "      <td>Fitzgerald</td>\n",
              "      <td>5</td>\n",
              "    </tr>\n",
              "    <tr>\n",
              "      <th>397664</th>\n",
              "      <td>CA</td>\n",
              "      <td>M</td>\n",
              "      <td>2020</td>\n",
              "      <td>Fermin</td>\n",
              "      <td>5</td>\n",
              "    </tr>\n",
              "    <tr>\n",
              "      <th>397908</th>\n",
              "      <td>CA</td>\n",
              "      <td>M</td>\n",
              "      <td>2020</td>\n",
              "      <td>Zymir</td>\n",
              "      <td>5</td>\n",
              "    </tr>\n",
              "  </tbody>\n",
              "</table>\n",
              "<p>2793 rows × 5 columns</p>\n",
              "</div>\n",
              "      <button class=\"colab-df-convert\" onclick=\"convertToInteractive('df-c9488175-2822-405c-84ed-cd4c44d2256b')\"\n",
              "              title=\"Convert this dataframe to an interactive table.\"\n",
              "              style=\"display:none;\">\n",
              "        \n",
              "  <svg xmlns=\"http://www.w3.org/2000/svg\" height=\"24px\"viewBox=\"0 0 24 24\"\n",
              "       width=\"24px\">\n",
              "    <path d=\"M0 0h24v24H0V0z\" fill=\"none\"/>\n",
              "    <path d=\"M18.56 5.44l.94 2.06.94-2.06 2.06-.94-2.06-.94-.94-2.06-.94 2.06-2.06.94zm-11 1L8.5 8.5l.94-2.06 2.06-.94-2.06-.94L8.5 2.5l-.94 2.06-2.06.94zm10 10l.94 2.06.94-2.06 2.06-.94-2.06-.94-.94-2.06-.94 2.06-2.06.94z\"/><path d=\"M17.41 7.96l-1.37-1.37c-.4-.4-.92-.59-1.43-.59-.52 0-1.04.2-1.43.59L10.3 9.45l-7.72 7.72c-.78.78-.78 2.05 0 2.83L4 21.41c.39.39.9.59 1.41.59.51 0 1.02-.2 1.41-.59l7.78-7.78 2.81-2.81c.8-.78.8-2.07 0-2.86zM5.41 20L4 18.59l7.72-7.72 1.47 1.35L5.41 20z\"/>\n",
              "  </svg>\n",
              "      </button>\n",
              "      \n",
              "  <style>\n",
              "    .colab-df-container {\n",
              "      display:flex;\n",
              "      flex-wrap:wrap;\n",
              "      gap: 12px;\n",
              "    }\n",
              "\n",
              "    .colab-df-convert {\n",
              "      background-color: #E8F0FE;\n",
              "      border: none;\n",
              "      border-radius: 50%;\n",
              "      cursor: pointer;\n",
              "      display: none;\n",
              "      fill: #1967D2;\n",
              "      height: 32px;\n",
              "      padding: 0 0 0 0;\n",
              "      width: 32px;\n",
              "    }\n",
              "\n",
              "    .colab-df-convert:hover {\n",
              "      background-color: #E2EBFA;\n",
              "      box-shadow: 0px 1px 2px rgba(60, 64, 67, 0.3), 0px 1px 3px 1px rgba(60, 64, 67, 0.15);\n",
              "      fill: #174EA6;\n",
              "    }\n",
              "\n",
              "    [theme=dark] .colab-df-convert {\n",
              "      background-color: #3B4455;\n",
              "      fill: #D2E3FC;\n",
              "    }\n",
              "\n",
              "    [theme=dark] .colab-df-convert:hover {\n",
              "      background-color: #434B5C;\n",
              "      box-shadow: 0px 1px 3px 1px rgba(0, 0, 0, 0.15);\n",
              "      filter: drop-shadow(0px 1px 2px rgba(0, 0, 0, 0.3));\n",
              "      fill: #FFFFFF;\n",
              "    }\n",
              "  </style>\n",
              "\n",
              "      <script>\n",
              "        const buttonEl =\n",
              "          document.querySelector('#df-c9488175-2822-405c-84ed-cd4c44d2256b button.colab-df-convert');\n",
              "        buttonEl.style.display =\n",
              "          google.colab.kernel.accessAllowed ? 'block' : 'none';\n",
              "\n",
              "        async function convertToInteractive(key) {\n",
              "          const element = document.querySelector('#df-c9488175-2822-405c-84ed-cd4c44d2256b');\n",
              "          const dataTable =\n",
              "            await google.colab.kernel.invokeFunction('convertToInteractive',\n",
              "                                                     [key], {});\n",
              "          if (!dataTable) return;\n",
              "\n",
              "          const docLinkHtml = 'Like what you see? Visit the ' +\n",
              "            '<a target=\"_blank\" href=https://colab.research.google.com/notebooks/data_table.ipynb>data table notebook</a>'\n",
              "            + ' to learn more about interactive tables.';\n",
              "          element.innerHTML = '';\n",
              "          dataTable['output_type'] = 'display_data';\n",
              "          await google.colab.output.renderOutput(dataTable, element);\n",
              "          const docLink = document.createElement('div');\n",
              "          docLink.innerHTML = docLinkHtml;\n",
              "          element.appendChild(docLink);\n",
              "        }\n",
              "      </script>\n",
              "    </div>\n",
              "  </div>\n",
              "  "
            ]
          },
          "metadata": {},
          "execution_count": 4
        }
      ],
      "source": [
        "(\n",
        "    babynames.query('Sex == \"M\" and Year == 2020')\n",
        ".sort_values(\"Count\", ascending = False)\n",
        ")"
      ]
    },
    {
      "cell_type": "code",
      "source": [
        "babynames.query('Sex == \"M\" and Year == 2020').sort_values(\"Count\", ascending = False)\n"
      ],
      "metadata": {
        "id": "d-bnyxXhe3lt",
        "outputId": "a143205b-053b-4abf-d9dd-04cb188be810",
        "colab": {
          "base_uri": "https://localhost:8080/",
          "height": 419
        }
      },
      "execution_count": 7,
      "outputs": [
        {
          "output_type": "execute_result",
          "data": {
            "text/plain": [
              "       State Sex  Year        Name  Count\n",
              "395116    CA   M  2020        Noah   2625\n",
              "395117    CA   M  2020        Liam   2420\n",
              "395118    CA   M  2020       Mateo   2073\n",
              "395119    CA   M  2020   Sebastian   1994\n",
              "395120    CA   M  2020      Julian   1687\n",
              "...      ...  ..   ...         ...    ...\n",
              "397667    CA   M  2020      Gannon      5\n",
              "397666    CA   M  2020       Galen      5\n",
              "397665    CA   M  2020  Fitzgerald      5\n",
              "397664    CA   M  2020      Fermin      5\n",
              "397908    CA   M  2020       Zymir      5\n",
              "\n",
              "[2793 rows x 5 columns]"
            ],
            "text/html": [
              "\n",
              "  <div id=\"df-46c8c565-693b-4ade-b12f-656a02f2f6e6\">\n",
              "    <div class=\"colab-df-container\">\n",
              "      <div>\n",
              "<style scoped>\n",
              "    .dataframe tbody tr th:only-of-type {\n",
              "        vertical-align: middle;\n",
              "    }\n",
              "\n",
              "    .dataframe tbody tr th {\n",
              "        vertical-align: top;\n",
              "    }\n",
              "\n",
              "    .dataframe thead th {\n",
              "        text-align: right;\n",
              "    }\n",
              "</style>\n",
              "<table border=\"1\" class=\"dataframe\">\n",
              "  <thead>\n",
              "    <tr style=\"text-align: right;\">\n",
              "      <th></th>\n",
              "      <th>State</th>\n",
              "      <th>Sex</th>\n",
              "      <th>Year</th>\n",
              "      <th>Name</th>\n",
              "      <th>Count</th>\n",
              "    </tr>\n",
              "  </thead>\n",
              "  <tbody>\n",
              "    <tr>\n",
              "      <th>395116</th>\n",
              "      <td>CA</td>\n",
              "      <td>M</td>\n",
              "      <td>2020</td>\n",
              "      <td>Noah</td>\n",
              "      <td>2625</td>\n",
              "    </tr>\n",
              "    <tr>\n",
              "      <th>395117</th>\n",
              "      <td>CA</td>\n",
              "      <td>M</td>\n",
              "      <td>2020</td>\n",
              "      <td>Liam</td>\n",
              "      <td>2420</td>\n",
              "    </tr>\n",
              "    <tr>\n",
              "      <th>395118</th>\n",
              "      <td>CA</td>\n",
              "      <td>M</td>\n",
              "      <td>2020</td>\n",
              "      <td>Mateo</td>\n",
              "      <td>2073</td>\n",
              "    </tr>\n",
              "    <tr>\n",
              "      <th>395119</th>\n",
              "      <td>CA</td>\n",
              "      <td>M</td>\n",
              "      <td>2020</td>\n",
              "      <td>Sebastian</td>\n",
              "      <td>1994</td>\n",
              "    </tr>\n",
              "    <tr>\n",
              "      <th>395120</th>\n",
              "      <td>CA</td>\n",
              "      <td>M</td>\n",
              "      <td>2020</td>\n",
              "      <td>Julian</td>\n",
              "      <td>1687</td>\n",
              "    </tr>\n",
              "    <tr>\n",
              "      <th>...</th>\n",
              "      <td>...</td>\n",
              "      <td>...</td>\n",
              "      <td>...</td>\n",
              "      <td>...</td>\n",
              "      <td>...</td>\n",
              "    </tr>\n",
              "    <tr>\n",
              "      <th>397667</th>\n",
              "      <td>CA</td>\n",
              "      <td>M</td>\n",
              "      <td>2020</td>\n",
              "      <td>Gannon</td>\n",
              "      <td>5</td>\n",
              "    </tr>\n",
              "    <tr>\n",
              "      <th>397666</th>\n",
              "      <td>CA</td>\n",
              "      <td>M</td>\n",
              "      <td>2020</td>\n",
              "      <td>Galen</td>\n",
              "      <td>5</td>\n",
              "    </tr>\n",
              "    <tr>\n",
              "      <th>397665</th>\n",
              "      <td>CA</td>\n",
              "      <td>M</td>\n",
              "      <td>2020</td>\n",
              "      <td>Fitzgerald</td>\n",
              "      <td>5</td>\n",
              "    </tr>\n",
              "    <tr>\n",
              "      <th>397664</th>\n",
              "      <td>CA</td>\n",
              "      <td>M</td>\n",
              "      <td>2020</td>\n",
              "      <td>Fermin</td>\n",
              "      <td>5</td>\n",
              "    </tr>\n",
              "    <tr>\n",
              "      <th>397908</th>\n",
              "      <td>CA</td>\n",
              "      <td>M</td>\n",
              "      <td>2020</td>\n",
              "      <td>Zymir</td>\n",
              "      <td>5</td>\n",
              "    </tr>\n",
              "  </tbody>\n",
              "</table>\n",
              "<p>2793 rows × 5 columns</p>\n",
              "</div>\n",
              "      <button class=\"colab-df-convert\" onclick=\"convertToInteractive('df-46c8c565-693b-4ade-b12f-656a02f2f6e6')\"\n",
              "              title=\"Convert this dataframe to an interactive table.\"\n",
              "              style=\"display:none;\">\n",
              "        \n",
              "  <svg xmlns=\"http://www.w3.org/2000/svg\" height=\"24px\"viewBox=\"0 0 24 24\"\n",
              "       width=\"24px\">\n",
              "    <path d=\"M0 0h24v24H0V0z\" fill=\"none\"/>\n",
              "    <path d=\"M18.56 5.44l.94 2.06.94-2.06 2.06-.94-2.06-.94-.94-2.06-.94 2.06-2.06.94zm-11 1L8.5 8.5l.94-2.06 2.06-.94-2.06-.94L8.5 2.5l-.94 2.06-2.06.94zm10 10l.94 2.06.94-2.06 2.06-.94-2.06-.94-.94-2.06-.94 2.06-2.06.94z\"/><path d=\"M17.41 7.96l-1.37-1.37c-.4-.4-.92-.59-1.43-.59-.52 0-1.04.2-1.43.59L10.3 9.45l-7.72 7.72c-.78.78-.78 2.05 0 2.83L4 21.41c.39.39.9.59 1.41.59.51 0 1.02-.2 1.41-.59l7.78-7.78 2.81-2.81c.8-.78.8-2.07 0-2.86zM5.41 20L4 18.59l7.72-7.72 1.47 1.35L5.41 20z\"/>\n",
              "  </svg>\n",
              "      </button>\n",
              "      \n",
              "  <style>\n",
              "    .colab-df-container {\n",
              "      display:flex;\n",
              "      flex-wrap:wrap;\n",
              "      gap: 12px;\n",
              "    }\n",
              "\n",
              "    .colab-df-convert {\n",
              "      background-color: #E8F0FE;\n",
              "      border: none;\n",
              "      border-radius: 50%;\n",
              "      cursor: pointer;\n",
              "      display: none;\n",
              "      fill: #1967D2;\n",
              "      height: 32px;\n",
              "      padding: 0 0 0 0;\n",
              "      width: 32px;\n",
              "    }\n",
              "\n",
              "    .colab-df-convert:hover {\n",
              "      background-color: #E2EBFA;\n",
              "      box-shadow: 0px 1px 2px rgba(60, 64, 67, 0.3), 0px 1px 3px 1px rgba(60, 64, 67, 0.15);\n",
              "      fill: #174EA6;\n",
              "    }\n",
              "\n",
              "    [theme=dark] .colab-df-convert {\n",
              "      background-color: #3B4455;\n",
              "      fill: #D2E3FC;\n",
              "    }\n",
              "\n",
              "    [theme=dark] .colab-df-convert:hover {\n",
              "      background-color: #434B5C;\n",
              "      box-shadow: 0px 1px 3px 1px rgba(0, 0, 0, 0.15);\n",
              "      filter: drop-shadow(0px 1px 2px rgba(0, 0, 0, 0.3));\n",
              "      fill: #FFFFFF;\n",
              "    }\n",
              "  </style>\n",
              "\n",
              "      <script>\n",
              "        const buttonEl =\n",
              "          document.querySelector('#df-46c8c565-693b-4ade-b12f-656a02f2f6e6 button.colab-df-convert');\n",
              "        buttonEl.style.display =\n",
              "          google.colab.kernel.accessAllowed ? 'block' : 'none';\n",
              "\n",
              "        async function convertToInteractive(key) {\n",
              "          const element = document.querySelector('#df-46c8c565-693b-4ade-b12f-656a02f2f6e6');\n",
              "          const dataTable =\n",
              "            await google.colab.kernel.invokeFunction('convertToInteractive',\n",
              "                                                     [key], {});\n",
              "          if (!dataTable) return;\n",
              "\n",
              "          const docLinkHtml = 'Like what you see? Visit the ' +\n",
              "            '<a target=\"_blank\" href=https://colab.research.google.com/notebooks/data_table.ipynb>data table notebook</a>'\n",
              "            + ' to learn more about interactive tables.';\n",
              "          element.innerHTML = '';\n",
              "          dataTable['output_type'] = 'display_data';\n",
              "          await google.colab.output.renderOutput(dataTable, element);\n",
              "          const docLink = document.createElement('div');\n",
              "          docLink.innerHTML = docLinkHtml;\n",
              "          element.appendChild(docLink);\n",
              "        }\n",
              "      </script>\n",
              "    </div>\n",
              "  </div>\n",
              "  "
            ]
          },
          "metadata": {},
          "execution_count": 7
        }
      ]
    },
    {
      "cell_type": "code",
      "source": [
        "#Guess we need the parathesis for chaining commands together???\n",
        "(babynames.query('Sex == \"M\" and Year == 2020')\n",
        ".sort_values(\"Count\", ascending = False)\n",
        ")"
      ],
      "metadata": {
        "id": "1MQ8fvmLe-pJ",
        "outputId": "cf6b18a9-e92c-4224-d175-8b6f906b5ecc",
        "colab": {
          "base_uri": "https://localhost:8080/",
          "height": 419
        }
      },
      "execution_count": 8,
      "outputs": [
        {
          "output_type": "execute_result",
          "data": {
            "text/plain": [
              "       State Sex  Year        Name  Count\n",
              "395116    CA   M  2020        Noah   2625\n",
              "395117    CA   M  2020        Liam   2420\n",
              "395118    CA   M  2020       Mateo   2073\n",
              "395119    CA   M  2020   Sebastian   1994\n",
              "395120    CA   M  2020      Julian   1687\n",
              "...      ...  ..   ...         ...    ...\n",
              "397667    CA   M  2020      Gannon      5\n",
              "397666    CA   M  2020       Galen      5\n",
              "397665    CA   M  2020  Fitzgerald      5\n",
              "397664    CA   M  2020      Fermin      5\n",
              "397908    CA   M  2020       Zymir      5\n",
              "\n",
              "[2793 rows x 5 columns]"
            ],
            "text/html": [
              "\n",
              "  <div id=\"df-2dea0b41-ae8c-4553-b248-f7e56bab36ab\">\n",
              "    <div class=\"colab-df-container\">\n",
              "      <div>\n",
              "<style scoped>\n",
              "    .dataframe tbody tr th:only-of-type {\n",
              "        vertical-align: middle;\n",
              "    }\n",
              "\n",
              "    .dataframe tbody tr th {\n",
              "        vertical-align: top;\n",
              "    }\n",
              "\n",
              "    .dataframe thead th {\n",
              "        text-align: right;\n",
              "    }\n",
              "</style>\n",
              "<table border=\"1\" class=\"dataframe\">\n",
              "  <thead>\n",
              "    <tr style=\"text-align: right;\">\n",
              "      <th></th>\n",
              "      <th>State</th>\n",
              "      <th>Sex</th>\n",
              "      <th>Year</th>\n",
              "      <th>Name</th>\n",
              "      <th>Count</th>\n",
              "    </tr>\n",
              "  </thead>\n",
              "  <tbody>\n",
              "    <tr>\n",
              "      <th>395116</th>\n",
              "      <td>CA</td>\n",
              "      <td>M</td>\n",
              "      <td>2020</td>\n",
              "      <td>Noah</td>\n",
              "      <td>2625</td>\n",
              "    </tr>\n",
              "    <tr>\n",
              "      <th>395117</th>\n",
              "      <td>CA</td>\n",
              "      <td>M</td>\n",
              "      <td>2020</td>\n",
              "      <td>Liam</td>\n",
              "      <td>2420</td>\n",
              "    </tr>\n",
              "    <tr>\n",
              "      <th>395118</th>\n",
              "      <td>CA</td>\n",
              "      <td>M</td>\n",
              "      <td>2020</td>\n",
              "      <td>Mateo</td>\n",
              "      <td>2073</td>\n",
              "    </tr>\n",
              "    <tr>\n",
              "      <th>395119</th>\n",
              "      <td>CA</td>\n",
              "      <td>M</td>\n",
              "      <td>2020</td>\n",
              "      <td>Sebastian</td>\n",
              "      <td>1994</td>\n",
              "    </tr>\n",
              "    <tr>\n",
              "      <th>395120</th>\n",
              "      <td>CA</td>\n",
              "      <td>M</td>\n",
              "      <td>2020</td>\n",
              "      <td>Julian</td>\n",
              "      <td>1687</td>\n",
              "    </tr>\n",
              "    <tr>\n",
              "      <th>...</th>\n",
              "      <td>...</td>\n",
              "      <td>...</td>\n",
              "      <td>...</td>\n",
              "      <td>...</td>\n",
              "      <td>...</td>\n",
              "    </tr>\n",
              "    <tr>\n",
              "      <th>397667</th>\n",
              "      <td>CA</td>\n",
              "      <td>M</td>\n",
              "      <td>2020</td>\n",
              "      <td>Gannon</td>\n",
              "      <td>5</td>\n",
              "    </tr>\n",
              "    <tr>\n",
              "      <th>397666</th>\n",
              "      <td>CA</td>\n",
              "      <td>M</td>\n",
              "      <td>2020</td>\n",
              "      <td>Galen</td>\n",
              "      <td>5</td>\n",
              "    </tr>\n",
              "    <tr>\n",
              "      <th>397665</th>\n",
              "      <td>CA</td>\n",
              "      <td>M</td>\n",
              "      <td>2020</td>\n",
              "      <td>Fitzgerald</td>\n",
              "      <td>5</td>\n",
              "    </tr>\n",
              "    <tr>\n",
              "      <th>397664</th>\n",
              "      <td>CA</td>\n",
              "      <td>M</td>\n",
              "      <td>2020</td>\n",
              "      <td>Fermin</td>\n",
              "      <td>5</td>\n",
              "    </tr>\n",
              "    <tr>\n",
              "      <th>397908</th>\n",
              "      <td>CA</td>\n",
              "      <td>M</td>\n",
              "      <td>2020</td>\n",
              "      <td>Zymir</td>\n",
              "      <td>5</td>\n",
              "    </tr>\n",
              "  </tbody>\n",
              "</table>\n",
              "<p>2793 rows × 5 columns</p>\n",
              "</div>\n",
              "      <button class=\"colab-df-convert\" onclick=\"convertToInteractive('df-2dea0b41-ae8c-4553-b248-f7e56bab36ab')\"\n",
              "              title=\"Convert this dataframe to an interactive table.\"\n",
              "              style=\"display:none;\">\n",
              "        \n",
              "  <svg xmlns=\"http://www.w3.org/2000/svg\" height=\"24px\"viewBox=\"0 0 24 24\"\n",
              "       width=\"24px\">\n",
              "    <path d=\"M0 0h24v24H0V0z\" fill=\"none\"/>\n",
              "    <path d=\"M18.56 5.44l.94 2.06.94-2.06 2.06-.94-2.06-.94-.94-2.06-.94 2.06-2.06.94zm-11 1L8.5 8.5l.94-2.06 2.06-.94-2.06-.94L8.5 2.5l-.94 2.06-2.06.94zm10 10l.94 2.06.94-2.06 2.06-.94-2.06-.94-.94-2.06-.94 2.06-2.06.94z\"/><path d=\"M17.41 7.96l-1.37-1.37c-.4-.4-.92-.59-1.43-.59-.52 0-1.04.2-1.43.59L10.3 9.45l-7.72 7.72c-.78.78-.78 2.05 0 2.83L4 21.41c.39.39.9.59 1.41.59.51 0 1.02-.2 1.41-.59l7.78-7.78 2.81-2.81c.8-.78.8-2.07 0-2.86zM5.41 20L4 18.59l7.72-7.72 1.47 1.35L5.41 20z\"/>\n",
              "  </svg>\n",
              "      </button>\n",
              "      \n",
              "  <style>\n",
              "    .colab-df-container {\n",
              "      display:flex;\n",
              "      flex-wrap:wrap;\n",
              "      gap: 12px;\n",
              "    }\n",
              "\n",
              "    .colab-df-convert {\n",
              "      background-color: #E8F0FE;\n",
              "      border: none;\n",
              "      border-radius: 50%;\n",
              "      cursor: pointer;\n",
              "      display: none;\n",
              "      fill: #1967D2;\n",
              "      height: 32px;\n",
              "      padding: 0 0 0 0;\n",
              "      width: 32px;\n",
              "    }\n",
              "\n",
              "    .colab-df-convert:hover {\n",
              "      background-color: #E2EBFA;\n",
              "      box-shadow: 0px 1px 2px rgba(60, 64, 67, 0.3), 0px 1px 3px 1px rgba(60, 64, 67, 0.15);\n",
              "      fill: #174EA6;\n",
              "    }\n",
              "\n",
              "    [theme=dark] .colab-df-convert {\n",
              "      background-color: #3B4455;\n",
              "      fill: #D2E3FC;\n",
              "    }\n",
              "\n",
              "    [theme=dark] .colab-df-convert:hover {\n",
              "      background-color: #434B5C;\n",
              "      box-shadow: 0px 1px 3px 1px rgba(0, 0, 0, 0.15);\n",
              "      filter: drop-shadow(0px 1px 2px rgba(0, 0, 0, 0.3));\n",
              "      fill: #FFFFFF;\n",
              "    }\n",
              "  </style>\n",
              "\n",
              "      <script>\n",
              "        const buttonEl =\n",
              "          document.querySelector('#df-2dea0b41-ae8c-4553-b248-f7e56bab36ab button.colab-df-convert');\n",
              "        buttonEl.style.display =\n",
              "          google.colab.kernel.accessAllowed ? 'block' : 'none';\n",
              "\n",
              "        async function convertToInteractive(key) {\n",
              "          const element = document.querySelector('#df-2dea0b41-ae8c-4553-b248-f7e56bab36ab');\n",
              "          const dataTable =\n",
              "            await google.colab.kernel.invokeFunction('convertToInteractive',\n",
              "                                                     [key], {});\n",
              "          if (!dataTable) return;\n",
              "\n",
              "          const docLinkHtml = 'Like what you see? Visit the ' +\n",
              "            '<a target=\"_blank\" href=https://colab.research.google.com/notebooks/data_table.ipynb>data table notebook</a>'\n",
              "            + ' to learn more about interactive tables.';\n",
              "          element.innerHTML = '';\n",
              "          dataTable['output_type'] = 'display_data';\n",
              "          await google.colab.output.renderOutput(dataTable, element);\n",
              "          const docLink = document.createElement('div');\n",
              "          docLink.innerHTML = docLinkHtml;\n",
              "          element.appendChild(docLink);\n",
              "        }\n",
              "      </script>\n",
              "    </div>\n",
              "  </div>\n",
              "  "
            ]
          },
          "metadata": {},
          "execution_count": 8
        }
      ]
    },
    {
      "cell_type": "code",
      "execution_count": 5,
      "metadata": {
        "id": "86avVuEheUGU",
        "outputId": "08e8b5d1-60dd-41fa-e9b5-5f76568b5465",
        "colab": {
          "base_uri": "https://localhost:8080/",
          "height": 419
        }
      },
      "outputs": [
        {
          "output_type": "execute_result",
          "data": {
            "text/plain": [
              "       State Sex  Year     Name  Count\n",
              "396944    CA   M  2020     Zyon      9\n",
              "397908    CA   M  2020    Zymir      5\n",
              "397074    CA   M  2020     Zyan      8\n",
              "395829    CA   M  2020   Zyaire     37\n",
              "396553    CA   M  2020    Zyair     13\n",
              "...      ...  ..   ...      ...    ...\n",
              "396824    CA   M  2020    Aamir      9\n",
              "397550    CA   M  2020    Aalam      5\n",
              "397076    CA   M  2020  Aaditya      7\n",
              "397075    CA   M  2020     Aadi      7\n",
              "396712    CA   M  2020    Aaden     10\n",
              "\n",
              "[2793 rows x 5 columns]"
            ],
            "text/html": [
              "\n",
              "  <div id=\"df-441f3052-9c00-491f-a6ee-18324d4c49cc\">\n",
              "    <div class=\"colab-df-container\">\n",
              "      <div>\n",
              "<style scoped>\n",
              "    .dataframe tbody tr th:only-of-type {\n",
              "        vertical-align: middle;\n",
              "    }\n",
              "\n",
              "    .dataframe tbody tr th {\n",
              "        vertical-align: top;\n",
              "    }\n",
              "\n",
              "    .dataframe thead th {\n",
              "        text-align: right;\n",
              "    }\n",
              "</style>\n",
              "<table border=\"1\" class=\"dataframe\">\n",
              "  <thead>\n",
              "    <tr style=\"text-align: right;\">\n",
              "      <th></th>\n",
              "      <th>State</th>\n",
              "      <th>Sex</th>\n",
              "      <th>Year</th>\n",
              "      <th>Name</th>\n",
              "      <th>Count</th>\n",
              "    </tr>\n",
              "  </thead>\n",
              "  <tbody>\n",
              "    <tr>\n",
              "      <th>396944</th>\n",
              "      <td>CA</td>\n",
              "      <td>M</td>\n",
              "      <td>2020</td>\n",
              "      <td>Zyon</td>\n",
              "      <td>9</td>\n",
              "    </tr>\n",
              "    <tr>\n",
              "      <th>397908</th>\n",
              "      <td>CA</td>\n",
              "      <td>M</td>\n",
              "      <td>2020</td>\n",
              "      <td>Zymir</td>\n",
              "      <td>5</td>\n",
              "    </tr>\n",
              "    <tr>\n",
              "      <th>397074</th>\n",
              "      <td>CA</td>\n",
              "      <td>M</td>\n",
              "      <td>2020</td>\n",
              "      <td>Zyan</td>\n",
              "      <td>8</td>\n",
              "    </tr>\n",
              "    <tr>\n",
              "      <th>395829</th>\n",
              "      <td>CA</td>\n",
              "      <td>M</td>\n",
              "      <td>2020</td>\n",
              "      <td>Zyaire</td>\n",
              "      <td>37</td>\n",
              "    </tr>\n",
              "    <tr>\n",
              "      <th>396553</th>\n",
              "      <td>CA</td>\n",
              "      <td>M</td>\n",
              "      <td>2020</td>\n",
              "      <td>Zyair</td>\n",
              "      <td>13</td>\n",
              "    </tr>\n",
              "    <tr>\n",
              "      <th>...</th>\n",
              "      <td>...</td>\n",
              "      <td>...</td>\n",
              "      <td>...</td>\n",
              "      <td>...</td>\n",
              "      <td>...</td>\n",
              "    </tr>\n",
              "    <tr>\n",
              "      <th>396824</th>\n",
              "      <td>CA</td>\n",
              "      <td>M</td>\n",
              "      <td>2020</td>\n",
              "      <td>Aamir</td>\n",
              "      <td>9</td>\n",
              "    </tr>\n",
              "    <tr>\n",
              "      <th>397550</th>\n",
              "      <td>CA</td>\n",
              "      <td>M</td>\n",
              "      <td>2020</td>\n",
              "      <td>Aalam</td>\n",
              "      <td>5</td>\n",
              "    </tr>\n",
              "    <tr>\n",
              "      <th>397076</th>\n",
              "      <td>CA</td>\n",
              "      <td>M</td>\n",
              "      <td>2020</td>\n",
              "      <td>Aaditya</td>\n",
              "      <td>7</td>\n",
              "    </tr>\n",
              "    <tr>\n",
              "      <th>397075</th>\n",
              "      <td>CA</td>\n",
              "      <td>M</td>\n",
              "      <td>2020</td>\n",
              "      <td>Aadi</td>\n",
              "      <td>7</td>\n",
              "    </tr>\n",
              "    <tr>\n",
              "      <th>396712</th>\n",
              "      <td>CA</td>\n",
              "      <td>M</td>\n",
              "      <td>2020</td>\n",
              "      <td>Aaden</td>\n",
              "      <td>10</td>\n",
              "    </tr>\n",
              "  </tbody>\n",
              "</table>\n",
              "<p>2793 rows × 5 columns</p>\n",
              "</div>\n",
              "      <button class=\"colab-df-convert\" onclick=\"convertToInteractive('df-441f3052-9c00-491f-a6ee-18324d4c49cc')\"\n",
              "              title=\"Convert this dataframe to an interactive table.\"\n",
              "              style=\"display:none;\">\n",
              "        \n",
              "  <svg xmlns=\"http://www.w3.org/2000/svg\" height=\"24px\"viewBox=\"0 0 24 24\"\n",
              "       width=\"24px\">\n",
              "    <path d=\"M0 0h24v24H0V0z\" fill=\"none\"/>\n",
              "    <path d=\"M18.56 5.44l.94 2.06.94-2.06 2.06-.94-2.06-.94-.94-2.06-.94 2.06-2.06.94zm-11 1L8.5 8.5l.94-2.06 2.06-.94-2.06-.94L8.5 2.5l-.94 2.06-2.06.94zm10 10l.94 2.06.94-2.06 2.06-.94-2.06-.94-.94-2.06-.94 2.06-2.06.94z\"/><path d=\"M17.41 7.96l-1.37-1.37c-.4-.4-.92-.59-1.43-.59-.52 0-1.04.2-1.43.59L10.3 9.45l-7.72 7.72c-.78.78-.78 2.05 0 2.83L4 21.41c.39.39.9.59 1.41.59.51 0 1.02-.2 1.41-.59l7.78-7.78 2.81-2.81c.8-.78.8-2.07 0-2.86zM5.41 20L4 18.59l7.72-7.72 1.47 1.35L5.41 20z\"/>\n",
              "  </svg>\n",
              "      </button>\n",
              "      \n",
              "  <style>\n",
              "    .colab-df-container {\n",
              "      display:flex;\n",
              "      flex-wrap:wrap;\n",
              "      gap: 12px;\n",
              "    }\n",
              "\n",
              "    .colab-df-convert {\n",
              "      background-color: #E8F0FE;\n",
              "      border: none;\n",
              "      border-radius: 50%;\n",
              "      cursor: pointer;\n",
              "      display: none;\n",
              "      fill: #1967D2;\n",
              "      height: 32px;\n",
              "      padding: 0 0 0 0;\n",
              "      width: 32px;\n",
              "    }\n",
              "\n",
              "    .colab-df-convert:hover {\n",
              "      background-color: #E2EBFA;\n",
              "      box-shadow: 0px 1px 2px rgba(60, 64, 67, 0.3), 0px 1px 3px 1px rgba(60, 64, 67, 0.15);\n",
              "      fill: #174EA6;\n",
              "    }\n",
              "\n",
              "    [theme=dark] .colab-df-convert {\n",
              "      background-color: #3B4455;\n",
              "      fill: #D2E3FC;\n",
              "    }\n",
              "\n",
              "    [theme=dark] .colab-df-convert:hover {\n",
              "      background-color: #434B5C;\n",
              "      box-shadow: 0px 1px 3px 1px rgba(0, 0, 0, 0.15);\n",
              "      filter: drop-shadow(0px 1px 2px rgba(0, 0, 0, 0.3));\n",
              "      fill: #FFFFFF;\n",
              "    }\n",
              "  </style>\n",
              "\n",
              "      <script>\n",
              "        const buttonEl =\n",
              "          document.querySelector('#df-441f3052-9c00-491f-a6ee-18324d4c49cc button.colab-df-convert');\n",
              "        buttonEl.style.display =\n",
              "          google.colab.kernel.accessAllowed ? 'block' : 'none';\n",
              "\n",
              "        async function convertToInteractive(key) {\n",
              "          const element = document.querySelector('#df-441f3052-9c00-491f-a6ee-18324d4c49cc');\n",
              "          const dataTable =\n",
              "            await google.colab.kernel.invokeFunction('convertToInteractive',\n",
              "                                                     [key], {});\n",
              "          if (!dataTable) return;\n",
              "\n",
              "          const docLinkHtml = 'Like what you see? Visit the ' +\n",
              "            '<a target=\"_blank\" href=https://colab.research.google.com/notebooks/data_table.ipynb>data table notebook</a>'\n",
              "            + ' to learn more about interactive tables.';\n",
              "          element.innerHTML = '';\n",
              "          dataTable['output_type'] = 'display_data';\n",
              "          await google.colab.output.renderOutput(dataTable, element);\n",
              "          const docLink = document.createElement('div');\n",
              "          docLink.innerHTML = docLinkHtml;\n",
              "          element.appendChild(docLink);\n",
              "        }\n",
              "      </script>\n",
              "    </div>\n",
              "  </div>\n",
              "  "
            ]
          },
          "metadata": {},
          "execution_count": 5
        }
      ],
      "source": [
        "(babynames.query('Sex == \"M\" and Year == 2020').sort_values(\"Name\", ascending = False)\n",
        ")"
      ]
    },
    {
      "cell_type": "code",
      "execution_count": 9,
      "metadata": {
        "id": "kUZj73wueUGU",
        "outputId": "c1af021f-ee4b-426d-f2ca-862dec67e5b8",
        "colab": {
          "base_uri": "https://localhost:8080/",
          "height": 375
        }
      },
      "outputs": [
        {
          "output_type": "error",
          "ename": "TypeError",
          "evalue": "ignored",
          "traceback": [
            "\u001b[0;31m---------------------------------------------------------------------------\u001b[0m",
            "\u001b[0;31mTypeError\u001b[0m                                 Traceback (most recent call last)",
            "\u001b[0;32m<ipython-input-9-66a8894fbd78>\u001b[0m in \u001b[0;36m<module>\u001b[0;34m\u001b[0m\n\u001b[1;32m      1\u001b[0m (\n\u001b[0;32m----> 2\u001b[0;31m \u001b[0mbabynames\u001b[0m\u001b[0;34m.\u001b[0m\u001b[0mquery\u001b[0m\u001b[0;34m(\u001b[0m\u001b[0;34m'Sex == \"M\" and Year == 2020'\u001b[0m\u001b[0;34m)\u001b[0m\u001b[0;34m\u001b[0m\u001b[0;34m\u001b[0m\u001b[0m\n\u001b[0m\u001b[1;32m      3\u001b[0m          .sort_values(\"Name\", key = lambda x: len(x),#str.len(),\n\u001b[1;32m      4\u001b[0m                       ascending = False)\n\u001b[1;32m      5\u001b[0m )\n",
            "\u001b[0;32m/usr/local/lib/python3.8/dist-packages/pandas/util/_decorators.py\u001b[0m in \u001b[0;36mwrapper\u001b[0;34m(*args, **kwargs)\u001b[0m\n\u001b[1;32m    309\u001b[0m                     \u001b[0mstacklevel\u001b[0m\u001b[0;34m=\u001b[0m\u001b[0mstacklevel\u001b[0m\u001b[0;34m,\u001b[0m\u001b[0;34m\u001b[0m\u001b[0;34m\u001b[0m\u001b[0m\n\u001b[1;32m    310\u001b[0m                 )\n\u001b[0;32m--> 311\u001b[0;31m             \u001b[0;32mreturn\u001b[0m \u001b[0mfunc\u001b[0m\u001b[0;34m(\u001b[0m\u001b[0;34m*\u001b[0m\u001b[0margs\u001b[0m\u001b[0;34m,\u001b[0m \u001b[0;34m**\u001b[0m\u001b[0mkwargs\u001b[0m\u001b[0;34m)\u001b[0m\u001b[0;34m\u001b[0m\u001b[0;34m\u001b[0m\u001b[0m\n\u001b[0m\u001b[1;32m    312\u001b[0m \u001b[0;34m\u001b[0m\u001b[0m\n\u001b[1;32m    313\u001b[0m         \u001b[0;32mreturn\u001b[0m \u001b[0mwrapper\u001b[0m\u001b[0;34m\u001b[0m\u001b[0;34m\u001b[0m\u001b[0m\n",
            "\u001b[0;32m/usr/local/lib/python3.8/dist-packages/pandas/core/frame.py\u001b[0m in \u001b[0;36msort_values\u001b[0;34m(self, by, axis, ascending, inplace, kind, na_position, ignore_index, key)\u001b[0m\n\u001b[1;32m   6268\u001b[0m                 \u001b[0mascending\u001b[0m \u001b[0;34m=\u001b[0m \u001b[0mascending\u001b[0m\u001b[0;34m[\u001b[0m\u001b[0;36m0\u001b[0m\u001b[0;34m]\u001b[0m\u001b[0;34m\u001b[0m\u001b[0;34m\u001b[0m\u001b[0m\n\u001b[1;32m   6269\u001b[0m \u001b[0;34m\u001b[0m\u001b[0m\n\u001b[0;32m-> 6270\u001b[0;31m             indexer = nargsort(\n\u001b[0m\u001b[1;32m   6271\u001b[0m                 \u001b[0mk\u001b[0m\u001b[0;34m,\u001b[0m \u001b[0mkind\u001b[0m\u001b[0;34m=\u001b[0m\u001b[0mkind\u001b[0m\u001b[0;34m,\u001b[0m \u001b[0mascending\u001b[0m\u001b[0;34m=\u001b[0m\u001b[0mascending\u001b[0m\u001b[0;34m,\u001b[0m \u001b[0mna_position\u001b[0m\u001b[0;34m=\u001b[0m\u001b[0mna_position\u001b[0m\u001b[0;34m,\u001b[0m \u001b[0mkey\u001b[0m\u001b[0;34m=\u001b[0m\u001b[0mkey\u001b[0m\u001b[0;34m\u001b[0m\u001b[0;34m\u001b[0m\u001b[0m\n\u001b[1;32m   6272\u001b[0m             )\n",
            "\u001b[0;32m/usr/local/lib/python3.8/dist-packages/pandas/core/sorting.py\u001b[0m in \u001b[0;36mnargsort\u001b[0;34m(items, kind, ascending, na_position, key, mask)\u001b[0m\n\u001b[1;32m    371\u001b[0m \u001b[0;34m\u001b[0m\u001b[0m\n\u001b[1;32m    372\u001b[0m     \u001b[0;32mif\u001b[0m \u001b[0mkey\u001b[0m \u001b[0;32mis\u001b[0m \u001b[0;32mnot\u001b[0m \u001b[0;32mNone\u001b[0m\u001b[0;34m:\u001b[0m\u001b[0;34m\u001b[0m\u001b[0;34m\u001b[0m\u001b[0m\n\u001b[0;32m--> 373\u001b[0;31m         \u001b[0mitems\u001b[0m \u001b[0;34m=\u001b[0m \u001b[0mensure_key_mapped\u001b[0m\u001b[0;34m(\u001b[0m\u001b[0mitems\u001b[0m\u001b[0;34m,\u001b[0m \u001b[0mkey\u001b[0m\u001b[0;34m)\u001b[0m\u001b[0;34m\u001b[0m\u001b[0;34m\u001b[0m\u001b[0m\n\u001b[0m\u001b[1;32m    374\u001b[0m         return nargsort(\n\u001b[1;32m    375\u001b[0m             \u001b[0mitems\u001b[0m\u001b[0;34m,\u001b[0m\u001b[0;34m\u001b[0m\u001b[0;34m\u001b[0m\u001b[0m\n",
            "\u001b[0;32m/usr/local/lib/python3.8/dist-packages/pandas/core/sorting.py\u001b[0m in \u001b[0;36mensure_key_mapped\u001b[0;34m(values, key, levels)\u001b[0m\n\u001b[1;32m    530\u001b[0m \u001b[0;34m\u001b[0m\u001b[0m\n\u001b[1;32m    531\u001b[0m     \u001b[0mresult\u001b[0m \u001b[0;34m=\u001b[0m \u001b[0mkey\u001b[0m\u001b[0;34m(\u001b[0m\u001b[0mvalues\u001b[0m\u001b[0;34m.\u001b[0m\u001b[0mcopy\u001b[0m\u001b[0;34m(\u001b[0m\u001b[0;34m)\u001b[0m\u001b[0;34m)\u001b[0m\u001b[0;34m\u001b[0m\u001b[0;34m\u001b[0m\u001b[0m\n\u001b[0;32m--> 532\u001b[0;31m     \u001b[0;32mif\u001b[0m \u001b[0mlen\u001b[0m\u001b[0;34m(\u001b[0m\u001b[0mresult\u001b[0m\u001b[0;34m)\u001b[0m \u001b[0;34m!=\u001b[0m \u001b[0mlen\u001b[0m\u001b[0;34m(\u001b[0m\u001b[0mvalues\u001b[0m\u001b[0;34m)\u001b[0m\u001b[0;34m:\u001b[0m\u001b[0;34m\u001b[0m\u001b[0;34m\u001b[0m\u001b[0m\n\u001b[0m\u001b[1;32m    533\u001b[0m         raise ValueError(\n\u001b[1;32m    534\u001b[0m             \u001b[0;34m\"User-provided `key` function must not change the shape of the array.\"\u001b[0m\u001b[0;34m\u001b[0m\u001b[0;34m\u001b[0m\u001b[0m\n",
            "\u001b[0;31mTypeError\u001b[0m: object of type 'int' has no len()"
          ]
        }
      ],
      "source": [
        "## using len(x) doesn't work here, perhaps because it's treating x as the whole series and returning the len of the whole series?\n",
        "(\n",
        "babynames.query('Sex == \"M\" and Year == 2020')\n",
        "         .sort_values(\"Name\", key = lambda x: len(x),#str.len(),\n",
        "                      ascending = False)\n",
        ")"
      ]
    },
    {
      "cell_type": "markdown",
      "metadata": {
        "id": "7a7t2aYfeUGV"
      },
      "source": [
        "---"
      ]
    },
    {
      "cell_type": "code",
      "source": [
        "# using a Series method (.str.len()) works\n",
        "(\n",
        "babynames.query('Sex == \"M\" and Year == 2020')\n",
        "         .sort_values(\"Name\", key = lambda x: x.str.len(),\n",
        "                      ascending = False)\n",
        ")"
      ],
      "metadata": {
        "id": "0x6mOE5afgx6",
        "outputId": "7f2ee856-18cf-4053-e6f3-de95ef7c1b2b",
        "colab": {
          "base_uri": "https://localhost:8080/",
          "height": 419
        }
      },
      "execution_count": 11,
      "outputs": [
        {
          "output_type": "execute_result",
          "data": {
            "text/plain": [
              "       State Sex  Year           Name  Count\n",
              "397199    CA   M  2020  Michaelangelo      7\n",
              "396683    CA   M  2020   Michelangelo     11\n",
              "396682    CA   M  2020   Maximilliano     11\n",
              "396623    CA   M  2020    Abdulrahman     11\n",
              "395166    CA   M  2020    Christopher    758\n",
              "...      ...  ..   ...            ...    ...\n",
              "397745    CA   M  2020             Ky      5\n",
              "397121    CA   M  2020             Cj      7\n",
              "396001    CA   M  2020             Ty     25\n",
              "397401    CA   M  2020             Jj      6\n",
              "397713    CA   M  2020             Jr      5\n",
              "\n",
              "[2793 rows x 5 columns]"
            ],
            "text/html": [
              "\n",
              "  <div id=\"df-664f5e52-734f-48f2-99b2-2f318402c9d4\">\n",
              "    <div class=\"colab-df-container\">\n",
              "      <div>\n",
              "<style scoped>\n",
              "    .dataframe tbody tr th:only-of-type {\n",
              "        vertical-align: middle;\n",
              "    }\n",
              "\n",
              "    .dataframe tbody tr th {\n",
              "        vertical-align: top;\n",
              "    }\n",
              "\n",
              "    .dataframe thead th {\n",
              "        text-align: right;\n",
              "    }\n",
              "</style>\n",
              "<table border=\"1\" class=\"dataframe\">\n",
              "  <thead>\n",
              "    <tr style=\"text-align: right;\">\n",
              "      <th></th>\n",
              "      <th>State</th>\n",
              "      <th>Sex</th>\n",
              "      <th>Year</th>\n",
              "      <th>Name</th>\n",
              "      <th>Count</th>\n",
              "    </tr>\n",
              "  </thead>\n",
              "  <tbody>\n",
              "    <tr>\n",
              "      <th>397199</th>\n",
              "      <td>CA</td>\n",
              "      <td>M</td>\n",
              "      <td>2020</td>\n",
              "      <td>Michaelangelo</td>\n",
              "      <td>7</td>\n",
              "    </tr>\n",
              "    <tr>\n",
              "      <th>396683</th>\n",
              "      <td>CA</td>\n",
              "      <td>M</td>\n",
              "      <td>2020</td>\n",
              "      <td>Michelangelo</td>\n",
              "      <td>11</td>\n",
              "    </tr>\n",
              "    <tr>\n",
              "      <th>396682</th>\n",
              "      <td>CA</td>\n",
              "      <td>M</td>\n",
              "      <td>2020</td>\n",
              "      <td>Maximilliano</td>\n",
              "      <td>11</td>\n",
              "    </tr>\n",
              "    <tr>\n",
              "      <th>396623</th>\n",
              "      <td>CA</td>\n",
              "      <td>M</td>\n",
              "      <td>2020</td>\n",
              "      <td>Abdulrahman</td>\n",
              "      <td>11</td>\n",
              "    </tr>\n",
              "    <tr>\n",
              "      <th>395166</th>\n",
              "      <td>CA</td>\n",
              "      <td>M</td>\n",
              "      <td>2020</td>\n",
              "      <td>Christopher</td>\n",
              "      <td>758</td>\n",
              "    </tr>\n",
              "    <tr>\n",
              "      <th>...</th>\n",
              "      <td>...</td>\n",
              "      <td>...</td>\n",
              "      <td>...</td>\n",
              "      <td>...</td>\n",
              "      <td>...</td>\n",
              "    </tr>\n",
              "    <tr>\n",
              "      <th>397745</th>\n",
              "      <td>CA</td>\n",
              "      <td>M</td>\n",
              "      <td>2020</td>\n",
              "      <td>Ky</td>\n",
              "      <td>5</td>\n",
              "    </tr>\n",
              "    <tr>\n",
              "      <th>397121</th>\n",
              "      <td>CA</td>\n",
              "      <td>M</td>\n",
              "      <td>2020</td>\n",
              "      <td>Cj</td>\n",
              "      <td>7</td>\n",
              "    </tr>\n",
              "    <tr>\n",
              "      <th>396001</th>\n",
              "      <td>CA</td>\n",
              "      <td>M</td>\n",
              "      <td>2020</td>\n",
              "      <td>Ty</td>\n",
              "      <td>25</td>\n",
              "    </tr>\n",
              "    <tr>\n",
              "      <th>397401</th>\n",
              "      <td>CA</td>\n",
              "      <td>M</td>\n",
              "      <td>2020</td>\n",
              "      <td>Jj</td>\n",
              "      <td>6</td>\n",
              "    </tr>\n",
              "    <tr>\n",
              "      <th>397713</th>\n",
              "      <td>CA</td>\n",
              "      <td>M</td>\n",
              "      <td>2020</td>\n",
              "      <td>Jr</td>\n",
              "      <td>5</td>\n",
              "    </tr>\n",
              "  </tbody>\n",
              "</table>\n",
              "<p>2793 rows × 5 columns</p>\n",
              "</div>\n",
              "      <button class=\"colab-df-convert\" onclick=\"convertToInteractive('df-664f5e52-734f-48f2-99b2-2f318402c9d4')\"\n",
              "              title=\"Convert this dataframe to an interactive table.\"\n",
              "              style=\"display:none;\">\n",
              "        \n",
              "  <svg xmlns=\"http://www.w3.org/2000/svg\" height=\"24px\"viewBox=\"0 0 24 24\"\n",
              "       width=\"24px\">\n",
              "    <path d=\"M0 0h24v24H0V0z\" fill=\"none\"/>\n",
              "    <path d=\"M18.56 5.44l.94 2.06.94-2.06 2.06-.94-2.06-.94-.94-2.06-.94 2.06-2.06.94zm-11 1L8.5 8.5l.94-2.06 2.06-.94-2.06-.94L8.5 2.5l-.94 2.06-2.06.94zm10 10l.94 2.06.94-2.06 2.06-.94-2.06-.94-.94-2.06-.94 2.06-2.06.94z\"/><path d=\"M17.41 7.96l-1.37-1.37c-.4-.4-.92-.59-1.43-.59-.52 0-1.04.2-1.43.59L10.3 9.45l-7.72 7.72c-.78.78-.78 2.05 0 2.83L4 21.41c.39.39.9.59 1.41.59.51 0 1.02-.2 1.41-.59l7.78-7.78 2.81-2.81c.8-.78.8-2.07 0-2.86zM5.41 20L4 18.59l7.72-7.72 1.47 1.35L5.41 20z\"/>\n",
              "  </svg>\n",
              "      </button>\n",
              "      \n",
              "  <style>\n",
              "    .colab-df-container {\n",
              "      display:flex;\n",
              "      flex-wrap:wrap;\n",
              "      gap: 12px;\n",
              "    }\n",
              "\n",
              "    .colab-df-convert {\n",
              "      background-color: #E8F0FE;\n",
              "      border: none;\n",
              "      border-radius: 50%;\n",
              "      cursor: pointer;\n",
              "      display: none;\n",
              "      fill: #1967D2;\n",
              "      height: 32px;\n",
              "      padding: 0 0 0 0;\n",
              "      width: 32px;\n",
              "    }\n",
              "\n",
              "    .colab-df-convert:hover {\n",
              "      background-color: #E2EBFA;\n",
              "      box-shadow: 0px 1px 2px rgba(60, 64, 67, 0.3), 0px 1px 3px 1px rgba(60, 64, 67, 0.15);\n",
              "      fill: #174EA6;\n",
              "    }\n",
              "\n",
              "    [theme=dark] .colab-df-convert {\n",
              "      background-color: #3B4455;\n",
              "      fill: #D2E3FC;\n",
              "    }\n",
              "\n",
              "    [theme=dark] .colab-df-convert:hover {\n",
              "      background-color: #434B5C;\n",
              "      box-shadow: 0px 1px 3px 1px rgba(0, 0, 0, 0.15);\n",
              "      filter: drop-shadow(0px 1px 2px rgba(0, 0, 0, 0.3));\n",
              "      fill: #FFFFFF;\n",
              "    }\n",
              "  </style>\n",
              "\n",
              "      <script>\n",
              "        const buttonEl =\n",
              "          document.querySelector('#df-664f5e52-734f-48f2-99b2-2f318402c9d4 button.colab-df-convert');\n",
              "        buttonEl.style.display =\n",
              "          google.colab.kernel.accessAllowed ? 'block' : 'none';\n",
              "\n",
              "        async function convertToInteractive(key) {\n",
              "          const element = document.querySelector('#df-664f5e52-734f-48f2-99b2-2f318402c9d4');\n",
              "          const dataTable =\n",
              "            await google.colab.kernel.invokeFunction('convertToInteractive',\n",
              "                                                     [key], {});\n",
              "          if (!dataTable) return;\n",
              "\n",
              "          const docLinkHtml = 'Like what you see? Visit the ' +\n",
              "            '<a target=\"_blank\" href=https://colab.research.google.com/notebooks/data_table.ipynb>data table notebook</a>'\n",
              "            + ' to learn more about interactive tables.';\n",
              "          element.innerHTML = '';\n",
              "          dataTable['output_type'] = 'display_data';\n",
              "          await google.colab.output.renderOutput(dataTable, element);\n",
              "          const docLink = document.createElement('div');\n",
              "          docLink.innerHTML = docLinkHtml;\n",
              "          element.appendChild(docLink);\n",
              "        }\n",
              "      </script>\n",
              "    </div>\n",
              "  </div>\n",
              "  "
            ]
          },
          "metadata": {},
          "execution_count": 11
        }
      ]
    },
    {
      "cell_type": "markdown",
      "metadata": {
        "id": "Tdscu0n1eUGV"
      },
      "source": [
        "An alternate approach is to create a temporary column corresponding to the length"
      ]
    },
    {
      "cell_type": "code",
      "execution_count": 12,
      "metadata": {
        "id": "KKIpmDCheUGW",
        "outputId": "47bfda0f-2115-4ce9-d52e-61da044a38bc",
        "colab": {
          "base_uri": "https://localhost:8080/",
          "height": 204
        }
      },
      "outputs": [
        {
          "output_type": "execute_result",
          "data": {
            "text/plain": [
              "  State Sex  Year      Name  Count  name_lengths\n",
              "0    CA   F  1910      Mary    295             4\n",
              "1    CA   F  1910     Helen    239             5\n",
              "2    CA   F  1910   Dorothy    220             7\n",
              "3    CA   F  1910  Margaret    163             8\n",
              "4    CA   F  1910   Frances    134             7"
            ],
            "text/html": [
              "\n",
              "  <div id=\"df-b1f29e2e-e950-43a2-ae38-27c9b60c6818\">\n",
              "    <div class=\"colab-df-container\">\n",
              "      <div>\n",
              "<style scoped>\n",
              "    .dataframe tbody tr th:only-of-type {\n",
              "        vertical-align: middle;\n",
              "    }\n",
              "\n",
              "    .dataframe tbody tr th {\n",
              "        vertical-align: top;\n",
              "    }\n",
              "\n",
              "    .dataframe thead th {\n",
              "        text-align: right;\n",
              "    }\n",
              "</style>\n",
              "<table border=\"1\" class=\"dataframe\">\n",
              "  <thead>\n",
              "    <tr style=\"text-align: right;\">\n",
              "      <th></th>\n",
              "      <th>State</th>\n",
              "      <th>Sex</th>\n",
              "      <th>Year</th>\n",
              "      <th>Name</th>\n",
              "      <th>Count</th>\n",
              "      <th>name_lengths</th>\n",
              "    </tr>\n",
              "  </thead>\n",
              "  <tbody>\n",
              "    <tr>\n",
              "      <th>0</th>\n",
              "      <td>CA</td>\n",
              "      <td>F</td>\n",
              "      <td>1910</td>\n",
              "      <td>Mary</td>\n",
              "      <td>295</td>\n",
              "      <td>4</td>\n",
              "    </tr>\n",
              "    <tr>\n",
              "      <th>1</th>\n",
              "      <td>CA</td>\n",
              "      <td>F</td>\n",
              "      <td>1910</td>\n",
              "      <td>Helen</td>\n",
              "      <td>239</td>\n",
              "      <td>5</td>\n",
              "    </tr>\n",
              "    <tr>\n",
              "      <th>2</th>\n",
              "      <td>CA</td>\n",
              "      <td>F</td>\n",
              "      <td>1910</td>\n",
              "      <td>Dorothy</td>\n",
              "      <td>220</td>\n",
              "      <td>7</td>\n",
              "    </tr>\n",
              "    <tr>\n",
              "      <th>3</th>\n",
              "      <td>CA</td>\n",
              "      <td>F</td>\n",
              "      <td>1910</td>\n",
              "      <td>Margaret</td>\n",
              "      <td>163</td>\n",
              "      <td>8</td>\n",
              "    </tr>\n",
              "    <tr>\n",
              "      <th>4</th>\n",
              "      <td>CA</td>\n",
              "      <td>F</td>\n",
              "      <td>1910</td>\n",
              "      <td>Frances</td>\n",
              "      <td>134</td>\n",
              "      <td>7</td>\n",
              "    </tr>\n",
              "  </tbody>\n",
              "</table>\n",
              "</div>\n",
              "      <button class=\"colab-df-convert\" onclick=\"convertToInteractive('df-b1f29e2e-e950-43a2-ae38-27c9b60c6818')\"\n",
              "              title=\"Convert this dataframe to an interactive table.\"\n",
              "              style=\"display:none;\">\n",
              "        \n",
              "  <svg xmlns=\"http://www.w3.org/2000/svg\" height=\"24px\"viewBox=\"0 0 24 24\"\n",
              "       width=\"24px\">\n",
              "    <path d=\"M0 0h24v24H0V0z\" fill=\"none\"/>\n",
              "    <path d=\"M18.56 5.44l.94 2.06.94-2.06 2.06-.94-2.06-.94-.94-2.06-.94 2.06-2.06.94zm-11 1L8.5 8.5l.94-2.06 2.06-.94-2.06-.94L8.5 2.5l-.94 2.06-2.06.94zm10 10l.94 2.06.94-2.06 2.06-.94-2.06-.94-.94-2.06-.94 2.06-2.06.94z\"/><path d=\"M17.41 7.96l-1.37-1.37c-.4-.4-.92-.59-1.43-.59-.52 0-1.04.2-1.43.59L10.3 9.45l-7.72 7.72c-.78.78-.78 2.05 0 2.83L4 21.41c.39.39.9.59 1.41.59.51 0 1.02-.2 1.41-.59l7.78-7.78 2.81-2.81c.8-.78.8-2.07 0-2.86zM5.41 20L4 18.59l7.72-7.72 1.47 1.35L5.41 20z\"/>\n",
              "  </svg>\n",
              "      </button>\n",
              "      \n",
              "  <style>\n",
              "    .colab-df-container {\n",
              "      display:flex;\n",
              "      flex-wrap:wrap;\n",
              "      gap: 12px;\n",
              "    }\n",
              "\n",
              "    .colab-df-convert {\n",
              "      background-color: #E8F0FE;\n",
              "      border: none;\n",
              "      border-radius: 50%;\n",
              "      cursor: pointer;\n",
              "      display: none;\n",
              "      fill: #1967D2;\n",
              "      height: 32px;\n",
              "      padding: 0 0 0 0;\n",
              "      width: 32px;\n",
              "    }\n",
              "\n",
              "    .colab-df-convert:hover {\n",
              "      background-color: #E2EBFA;\n",
              "      box-shadow: 0px 1px 2px rgba(60, 64, 67, 0.3), 0px 1px 3px 1px rgba(60, 64, 67, 0.15);\n",
              "      fill: #174EA6;\n",
              "    }\n",
              "\n",
              "    [theme=dark] .colab-df-convert {\n",
              "      background-color: #3B4455;\n",
              "      fill: #D2E3FC;\n",
              "    }\n",
              "\n",
              "    [theme=dark] .colab-df-convert:hover {\n",
              "      background-color: #434B5C;\n",
              "      box-shadow: 0px 1px 3px 1px rgba(0, 0, 0, 0.15);\n",
              "      filter: drop-shadow(0px 1px 2px rgba(0, 0, 0, 0.3));\n",
              "      fill: #FFFFFF;\n",
              "    }\n",
              "  </style>\n",
              "\n",
              "      <script>\n",
              "        const buttonEl =\n",
              "          document.querySelector('#df-b1f29e2e-e950-43a2-ae38-27c9b60c6818 button.colab-df-convert');\n",
              "        buttonEl.style.display =\n",
              "          google.colab.kernel.accessAllowed ? 'block' : 'none';\n",
              "\n",
              "        async function convertToInteractive(key) {\n",
              "          const element = document.querySelector('#df-b1f29e2e-e950-43a2-ae38-27c9b60c6818');\n",
              "          const dataTable =\n",
              "            await google.colab.kernel.invokeFunction('convertToInteractive',\n",
              "                                                     [key], {});\n",
              "          if (!dataTable) return;\n",
              "\n",
              "          const docLinkHtml = 'Like what you see? Visit the ' +\n",
              "            '<a target=\"_blank\" href=https://colab.research.google.com/notebooks/data_table.ipynb>data table notebook</a>'\n",
              "            + ' to learn more about interactive tables.';\n",
              "          element.innerHTML = '';\n",
              "          dataTable['output_type'] = 'display_data';\n",
              "          await google.colab.output.renderOutput(dataTable, element);\n",
              "          const docLink = document.createElement('div');\n",
              "          docLink.innerHTML = docLinkHtml;\n",
              "          element.appendChild(docLink);\n",
              "        }\n",
              "      </script>\n",
              "    </div>\n",
              "  </div>\n",
              "  "
            ]
          },
          "metadata": {},
          "execution_count": 12
        }
      ],
      "source": [
        "#create a new series of only the lengths\n",
        "babyname_lengths = babynames[\"Name\"].str.len()\n",
        "\n",
        "#add that series to the dataframe as a column\n",
        "babynames[\"name_lengths\"] = babyname_lengths\n",
        "babynames.head(5)"
      ]
    },
    {
      "cell_type": "code",
      "source": [
        "## or do the above with one line\n",
        "\n",
        "babynames[\"nl\"] = babynames[\"Name\"].str.len()\n",
        "babynames.head()"
      ],
      "metadata": {
        "id": "3qmhDdmafv0h",
        "outputId": "108834e5-e716-4f0c-f4b9-b2ca9fc58336",
        "colab": {
          "base_uri": "https://localhost:8080/",
          "height": 204
        }
      },
      "execution_count": 13,
      "outputs": [
        {
          "output_type": "execute_result",
          "data": {
            "text/plain": [
              "  State Sex  Year      Name  Count  name_lengths  nl\n",
              "0    CA   F  1910      Mary    295             4   4\n",
              "1    CA   F  1910     Helen    239             5   5\n",
              "2    CA   F  1910   Dorothy    220             7   7\n",
              "3    CA   F  1910  Margaret    163             8   8\n",
              "4    CA   F  1910   Frances    134             7   7"
            ],
            "text/html": [
              "\n",
              "  <div id=\"df-e6f84968-03e6-41bf-b702-61e4aacdfeec\">\n",
              "    <div class=\"colab-df-container\">\n",
              "      <div>\n",
              "<style scoped>\n",
              "    .dataframe tbody tr th:only-of-type {\n",
              "        vertical-align: middle;\n",
              "    }\n",
              "\n",
              "    .dataframe tbody tr th {\n",
              "        vertical-align: top;\n",
              "    }\n",
              "\n",
              "    .dataframe thead th {\n",
              "        text-align: right;\n",
              "    }\n",
              "</style>\n",
              "<table border=\"1\" class=\"dataframe\">\n",
              "  <thead>\n",
              "    <tr style=\"text-align: right;\">\n",
              "      <th></th>\n",
              "      <th>State</th>\n",
              "      <th>Sex</th>\n",
              "      <th>Year</th>\n",
              "      <th>Name</th>\n",
              "      <th>Count</th>\n",
              "      <th>name_lengths</th>\n",
              "      <th>nl</th>\n",
              "    </tr>\n",
              "  </thead>\n",
              "  <tbody>\n",
              "    <tr>\n",
              "      <th>0</th>\n",
              "      <td>CA</td>\n",
              "      <td>F</td>\n",
              "      <td>1910</td>\n",
              "      <td>Mary</td>\n",
              "      <td>295</td>\n",
              "      <td>4</td>\n",
              "      <td>4</td>\n",
              "    </tr>\n",
              "    <tr>\n",
              "      <th>1</th>\n",
              "      <td>CA</td>\n",
              "      <td>F</td>\n",
              "      <td>1910</td>\n",
              "      <td>Helen</td>\n",
              "      <td>239</td>\n",
              "      <td>5</td>\n",
              "      <td>5</td>\n",
              "    </tr>\n",
              "    <tr>\n",
              "      <th>2</th>\n",
              "      <td>CA</td>\n",
              "      <td>F</td>\n",
              "      <td>1910</td>\n",
              "      <td>Dorothy</td>\n",
              "      <td>220</td>\n",
              "      <td>7</td>\n",
              "      <td>7</td>\n",
              "    </tr>\n",
              "    <tr>\n",
              "      <th>3</th>\n",
              "      <td>CA</td>\n",
              "      <td>F</td>\n",
              "      <td>1910</td>\n",
              "      <td>Margaret</td>\n",
              "      <td>163</td>\n",
              "      <td>8</td>\n",
              "      <td>8</td>\n",
              "    </tr>\n",
              "    <tr>\n",
              "      <th>4</th>\n",
              "      <td>CA</td>\n",
              "      <td>F</td>\n",
              "      <td>1910</td>\n",
              "      <td>Frances</td>\n",
              "      <td>134</td>\n",
              "      <td>7</td>\n",
              "      <td>7</td>\n",
              "    </tr>\n",
              "  </tbody>\n",
              "</table>\n",
              "</div>\n",
              "      <button class=\"colab-df-convert\" onclick=\"convertToInteractive('df-e6f84968-03e6-41bf-b702-61e4aacdfeec')\"\n",
              "              title=\"Convert this dataframe to an interactive table.\"\n",
              "              style=\"display:none;\">\n",
              "        \n",
              "  <svg xmlns=\"http://www.w3.org/2000/svg\" height=\"24px\"viewBox=\"0 0 24 24\"\n",
              "       width=\"24px\">\n",
              "    <path d=\"M0 0h24v24H0V0z\" fill=\"none\"/>\n",
              "    <path d=\"M18.56 5.44l.94 2.06.94-2.06 2.06-.94-2.06-.94-.94-2.06-.94 2.06-2.06.94zm-11 1L8.5 8.5l.94-2.06 2.06-.94-2.06-.94L8.5 2.5l-.94 2.06-2.06.94zm10 10l.94 2.06.94-2.06 2.06-.94-2.06-.94-.94-2.06-.94 2.06-2.06.94z\"/><path d=\"M17.41 7.96l-1.37-1.37c-.4-.4-.92-.59-1.43-.59-.52 0-1.04.2-1.43.59L10.3 9.45l-7.72 7.72c-.78.78-.78 2.05 0 2.83L4 21.41c.39.39.9.59 1.41.59.51 0 1.02-.2 1.41-.59l7.78-7.78 2.81-2.81c.8-.78.8-2.07 0-2.86zM5.41 20L4 18.59l7.72-7.72 1.47 1.35L5.41 20z\"/>\n",
              "  </svg>\n",
              "      </button>\n",
              "      \n",
              "  <style>\n",
              "    .colab-df-container {\n",
              "      display:flex;\n",
              "      flex-wrap:wrap;\n",
              "      gap: 12px;\n",
              "    }\n",
              "\n",
              "    .colab-df-convert {\n",
              "      background-color: #E8F0FE;\n",
              "      border: none;\n",
              "      border-radius: 50%;\n",
              "      cursor: pointer;\n",
              "      display: none;\n",
              "      fill: #1967D2;\n",
              "      height: 32px;\n",
              "      padding: 0 0 0 0;\n",
              "      width: 32px;\n",
              "    }\n",
              "\n",
              "    .colab-df-convert:hover {\n",
              "      background-color: #E2EBFA;\n",
              "      box-shadow: 0px 1px 2px rgba(60, 64, 67, 0.3), 0px 1px 3px 1px rgba(60, 64, 67, 0.15);\n",
              "      fill: #174EA6;\n",
              "    }\n",
              "\n",
              "    [theme=dark] .colab-df-convert {\n",
              "      background-color: #3B4455;\n",
              "      fill: #D2E3FC;\n",
              "    }\n",
              "\n",
              "    [theme=dark] .colab-df-convert:hover {\n",
              "      background-color: #434B5C;\n",
              "      box-shadow: 0px 1px 3px 1px rgba(0, 0, 0, 0.15);\n",
              "      filter: drop-shadow(0px 1px 2px rgba(0, 0, 0, 0.3));\n",
              "      fill: #FFFFFF;\n",
              "    }\n",
              "  </style>\n",
              "\n",
              "      <script>\n",
              "        const buttonEl =\n",
              "          document.querySelector('#df-e6f84968-03e6-41bf-b702-61e4aacdfeec button.colab-df-convert');\n",
              "        buttonEl.style.display =\n",
              "          google.colab.kernel.accessAllowed ? 'block' : 'none';\n",
              "\n",
              "        async function convertToInteractive(key) {\n",
              "          const element = document.querySelector('#df-e6f84968-03e6-41bf-b702-61e4aacdfeec');\n",
              "          const dataTable =\n",
              "            await google.colab.kernel.invokeFunction('convertToInteractive',\n",
              "                                                     [key], {});\n",
              "          if (!dataTable) return;\n",
              "\n",
              "          const docLinkHtml = 'Like what you see? Visit the ' +\n",
              "            '<a target=\"_blank\" href=https://colab.research.google.com/notebooks/data_table.ipynb>data table notebook</a>'\n",
              "            + ' to learn more about interactive tables.';\n",
              "          element.innerHTML = '';\n",
              "          dataTable['output_type'] = 'display_data';\n",
              "          await google.colab.output.renderOutput(dataTable, element);\n",
              "          const docLink = document.createElement('div');\n",
              "          docLink.innerHTML = docLinkHtml;\n",
              "          element.appendChild(docLink);\n",
              "        }\n",
              "      </script>\n",
              "    </div>\n",
              "  </div>\n",
              "  "
            ]
          },
          "metadata": {},
          "execution_count": 13
        }
      ]
    },
    {
      "cell_type": "code",
      "execution_count": 14,
      "metadata": {
        "id": "FDSo2I33eUGW",
        "outputId": "728057cd-a88e-4cec-b90e-fa64664d608b",
        "colab": {
          "base_uri": "https://localhost:8080/",
          "height": 824
        }
      },
      "outputs": [
        {
          "output_type": "execute_result",
          "data": {
            "text/plain": [
              "       State Sex  Year             Name  Count  name_lengths  nl\n",
              "313143    CA   M  1989  Franciscojavier      6            15  15\n",
              "333732    CA   M  1997  Ryanchristopher      5            15  15\n",
              "330421    CA   M  1996  Franciscojavier      8            15  15\n",
              "323615    CA   M  1993  Johnchristopher      5            15  15\n",
              "310235    CA   M  1988  Franciscojavier     10            15  15\n",
              "323728    CA   M  1993  Ryanchristopher      5            15  15\n",
              "308802    CA   M  1987  Franciscojavier      5            15  15\n",
              "340695    CA   M  2000  Franciscojavier      6            15  15\n",
              "102498    CA   F  1986  Mariadelosangel      5            15  15\n",
              "318170    CA   M  1991  Franciscojavier      6            15  15\n",
              "333556    CA   M  1997  Franciscojavier      5            15  15\n",
              "318049    CA   M  1991  Ryanchristopher      7            15  15\n",
              "335727    CA   M  1998  Franciscojavier      6            15  15\n",
              "102102    CA   F  1986   Mariadelourdes      6            14  14\n",
              "308284    CA   M  1987   Michaelanthony      8            14  14\n",
              "154989    CA   F  2001   Mariaguadalupe     10            14  14\n",
              "103867    CA   F  1987   Mariaguadalupe     18            14  14\n",
              "159136    CA   F  2002   Mariadelcarmen      8            14  14\n",
              "148448    CA   F  1999   Mariadelcarmen      6            14  14\n",
              "170036    CA   F  2005   Mariaguadalupe     16            14  14\n",
              "119899    CA   F  1991   Mariadelcarmen      5            14  14\n",
              "119913    CA   F  1991   Meganelizabeth      5            14  14\n",
              "183258    CA   F  2008   Mariaguadalupe     11            14  14\n",
              "104221    CA   F  1987   Mariadelcarmen     12            14  14\n",
              "117819    CA   F  1991   Mariaguadalupe     17            14  14"
            ],
            "text/html": [
              "\n",
              "  <div id=\"df-2b7fca71-eee5-4161-9c3f-cb9bbb1b655c\">\n",
              "    <div class=\"colab-df-container\">\n",
              "      <div>\n",
              "<style scoped>\n",
              "    .dataframe tbody tr th:only-of-type {\n",
              "        vertical-align: middle;\n",
              "    }\n",
              "\n",
              "    .dataframe tbody tr th {\n",
              "        vertical-align: top;\n",
              "    }\n",
              "\n",
              "    .dataframe thead th {\n",
              "        text-align: right;\n",
              "    }\n",
              "</style>\n",
              "<table border=\"1\" class=\"dataframe\">\n",
              "  <thead>\n",
              "    <tr style=\"text-align: right;\">\n",
              "      <th></th>\n",
              "      <th>State</th>\n",
              "      <th>Sex</th>\n",
              "      <th>Year</th>\n",
              "      <th>Name</th>\n",
              "      <th>Count</th>\n",
              "      <th>name_lengths</th>\n",
              "      <th>nl</th>\n",
              "    </tr>\n",
              "  </thead>\n",
              "  <tbody>\n",
              "    <tr>\n",
              "      <th>313143</th>\n",
              "      <td>CA</td>\n",
              "      <td>M</td>\n",
              "      <td>1989</td>\n",
              "      <td>Franciscojavier</td>\n",
              "      <td>6</td>\n",
              "      <td>15</td>\n",
              "      <td>15</td>\n",
              "    </tr>\n",
              "    <tr>\n",
              "      <th>333732</th>\n",
              "      <td>CA</td>\n",
              "      <td>M</td>\n",
              "      <td>1997</td>\n",
              "      <td>Ryanchristopher</td>\n",
              "      <td>5</td>\n",
              "      <td>15</td>\n",
              "      <td>15</td>\n",
              "    </tr>\n",
              "    <tr>\n",
              "      <th>330421</th>\n",
              "      <td>CA</td>\n",
              "      <td>M</td>\n",
              "      <td>1996</td>\n",
              "      <td>Franciscojavier</td>\n",
              "      <td>8</td>\n",
              "      <td>15</td>\n",
              "      <td>15</td>\n",
              "    </tr>\n",
              "    <tr>\n",
              "      <th>323615</th>\n",
              "      <td>CA</td>\n",
              "      <td>M</td>\n",
              "      <td>1993</td>\n",
              "      <td>Johnchristopher</td>\n",
              "      <td>5</td>\n",
              "      <td>15</td>\n",
              "      <td>15</td>\n",
              "    </tr>\n",
              "    <tr>\n",
              "      <th>310235</th>\n",
              "      <td>CA</td>\n",
              "      <td>M</td>\n",
              "      <td>1988</td>\n",
              "      <td>Franciscojavier</td>\n",
              "      <td>10</td>\n",
              "      <td>15</td>\n",
              "      <td>15</td>\n",
              "    </tr>\n",
              "    <tr>\n",
              "      <th>323728</th>\n",
              "      <td>CA</td>\n",
              "      <td>M</td>\n",
              "      <td>1993</td>\n",
              "      <td>Ryanchristopher</td>\n",
              "      <td>5</td>\n",
              "      <td>15</td>\n",
              "      <td>15</td>\n",
              "    </tr>\n",
              "    <tr>\n",
              "      <th>308802</th>\n",
              "      <td>CA</td>\n",
              "      <td>M</td>\n",
              "      <td>1987</td>\n",
              "      <td>Franciscojavier</td>\n",
              "      <td>5</td>\n",
              "      <td>15</td>\n",
              "      <td>15</td>\n",
              "    </tr>\n",
              "    <tr>\n",
              "      <th>340695</th>\n",
              "      <td>CA</td>\n",
              "      <td>M</td>\n",
              "      <td>2000</td>\n",
              "      <td>Franciscojavier</td>\n",
              "      <td>6</td>\n",
              "      <td>15</td>\n",
              "      <td>15</td>\n",
              "    </tr>\n",
              "    <tr>\n",
              "      <th>102498</th>\n",
              "      <td>CA</td>\n",
              "      <td>F</td>\n",
              "      <td>1986</td>\n",
              "      <td>Mariadelosangel</td>\n",
              "      <td>5</td>\n",
              "      <td>15</td>\n",
              "      <td>15</td>\n",
              "    </tr>\n",
              "    <tr>\n",
              "      <th>318170</th>\n",
              "      <td>CA</td>\n",
              "      <td>M</td>\n",
              "      <td>1991</td>\n",
              "      <td>Franciscojavier</td>\n",
              "      <td>6</td>\n",
              "      <td>15</td>\n",
              "      <td>15</td>\n",
              "    </tr>\n",
              "    <tr>\n",
              "      <th>333556</th>\n",
              "      <td>CA</td>\n",
              "      <td>M</td>\n",
              "      <td>1997</td>\n",
              "      <td>Franciscojavier</td>\n",
              "      <td>5</td>\n",
              "      <td>15</td>\n",
              "      <td>15</td>\n",
              "    </tr>\n",
              "    <tr>\n",
              "      <th>318049</th>\n",
              "      <td>CA</td>\n",
              "      <td>M</td>\n",
              "      <td>1991</td>\n",
              "      <td>Ryanchristopher</td>\n",
              "      <td>7</td>\n",
              "      <td>15</td>\n",
              "      <td>15</td>\n",
              "    </tr>\n",
              "    <tr>\n",
              "      <th>335727</th>\n",
              "      <td>CA</td>\n",
              "      <td>M</td>\n",
              "      <td>1998</td>\n",
              "      <td>Franciscojavier</td>\n",
              "      <td>6</td>\n",
              "      <td>15</td>\n",
              "      <td>15</td>\n",
              "    </tr>\n",
              "    <tr>\n",
              "      <th>102102</th>\n",
              "      <td>CA</td>\n",
              "      <td>F</td>\n",
              "      <td>1986</td>\n",
              "      <td>Mariadelourdes</td>\n",
              "      <td>6</td>\n",
              "      <td>14</td>\n",
              "      <td>14</td>\n",
              "    </tr>\n",
              "    <tr>\n",
              "      <th>308284</th>\n",
              "      <td>CA</td>\n",
              "      <td>M</td>\n",
              "      <td>1987</td>\n",
              "      <td>Michaelanthony</td>\n",
              "      <td>8</td>\n",
              "      <td>14</td>\n",
              "      <td>14</td>\n",
              "    </tr>\n",
              "    <tr>\n",
              "      <th>154989</th>\n",
              "      <td>CA</td>\n",
              "      <td>F</td>\n",
              "      <td>2001</td>\n",
              "      <td>Mariaguadalupe</td>\n",
              "      <td>10</td>\n",
              "      <td>14</td>\n",
              "      <td>14</td>\n",
              "    </tr>\n",
              "    <tr>\n",
              "      <th>103867</th>\n",
              "      <td>CA</td>\n",
              "      <td>F</td>\n",
              "      <td>1987</td>\n",
              "      <td>Mariaguadalupe</td>\n",
              "      <td>18</td>\n",
              "      <td>14</td>\n",
              "      <td>14</td>\n",
              "    </tr>\n",
              "    <tr>\n",
              "      <th>159136</th>\n",
              "      <td>CA</td>\n",
              "      <td>F</td>\n",
              "      <td>2002</td>\n",
              "      <td>Mariadelcarmen</td>\n",
              "      <td>8</td>\n",
              "      <td>14</td>\n",
              "      <td>14</td>\n",
              "    </tr>\n",
              "    <tr>\n",
              "      <th>148448</th>\n",
              "      <td>CA</td>\n",
              "      <td>F</td>\n",
              "      <td>1999</td>\n",
              "      <td>Mariadelcarmen</td>\n",
              "      <td>6</td>\n",
              "      <td>14</td>\n",
              "      <td>14</td>\n",
              "    </tr>\n",
              "    <tr>\n",
              "      <th>170036</th>\n",
              "      <td>CA</td>\n",
              "      <td>F</td>\n",
              "      <td>2005</td>\n",
              "      <td>Mariaguadalupe</td>\n",
              "      <td>16</td>\n",
              "      <td>14</td>\n",
              "      <td>14</td>\n",
              "    </tr>\n",
              "    <tr>\n",
              "      <th>119899</th>\n",
              "      <td>CA</td>\n",
              "      <td>F</td>\n",
              "      <td>1991</td>\n",
              "      <td>Mariadelcarmen</td>\n",
              "      <td>5</td>\n",
              "      <td>14</td>\n",
              "      <td>14</td>\n",
              "    </tr>\n",
              "    <tr>\n",
              "      <th>119913</th>\n",
              "      <td>CA</td>\n",
              "      <td>F</td>\n",
              "      <td>1991</td>\n",
              "      <td>Meganelizabeth</td>\n",
              "      <td>5</td>\n",
              "      <td>14</td>\n",
              "      <td>14</td>\n",
              "    </tr>\n",
              "    <tr>\n",
              "      <th>183258</th>\n",
              "      <td>CA</td>\n",
              "      <td>F</td>\n",
              "      <td>2008</td>\n",
              "      <td>Mariaguadalupe</td>\n",
              "      <td>11</td>\n",
              "      <td>14</td>\n",
              "      <td>14</td>\n",
              "    </tr>\n",
              "    <tr>\n",
              "      <th>104221</th>\n",
              "      <td>CA</td>\n",
              "      <td>F</td>\n",
              "      <td>1987</td>\n",
              "      <td>Mariadelcarmen</td>\n",
              "      <td>12</td>\n",
              "      <td>14</td>\n",
              "      <td>14</td>\n",
              "    </tr>\n",
              "    <tr>\n",
              "      <th>117819</th>\n",
              "      <td>CA</td>\n",
              "      <td>F</td>\n",
              "      <td>1991</td>\n",
              "      <td>Mariaguadalupe</td>\n",
              "      <td>17</td>\n",
              "      <td>14</td>\n",
              "      <td>14</td>\n",
              "    </tr>\n",
              "  </tbody>\n",
              "</table>\n",
              "</div>\n",
              "      <button class=\"colab-df-convert\" onclick=\"convertToInteractive('df-2b7fca71-eee5-4161-9c3f-cb9bbb1b655c')\"\n",
              "              title=\"Convert this dataframe to an interactive table.\"\n",
              "              style=\"display:none;\">\n",
              "        \n",
              "  <svg xmlns=\"http://www.w3.org/2000/svg\" height=\"24px\"viewBox=\"0 0 24 24\"\n",
              "       width=\"24px\">\n",
              "    <path d=\"M0 0h24v24H0V0z\" fill=\"none\"/>\n",
              "    <path d=\"M18.56 5.44l.94 2.06.94-2.06 2.06-.94-2.06-.94-.94-2.06-.94 2.06-2.06.94zm-11 1L8.5 8.5l.94-2.06 2.06-.94-2.06-.94L8.5 2.5l-.94 2.06-2.06.94zm10 10l.94 2.06.94-2.06 2.06-.94-2.06-.94-.94-2.06-.94 2.06-2.06.94z\"/><path d=\"M17.41 7.96l-1.37-1.37c-.4-.4-.92-.59-1.43-.59-.52 0-1.04.2-1.43.59L10.3 9.45l-7.72 7.72c-.78.78-.78 2.05 0 2.83L4 21.41c.39.39.9.59 1.41.59.51 0 1.02-.2 1.41-.59l7.78-7.78 2.81-2.81c.8-.78.8-2.07 0-2.86zM5.41 20L4 18.59l7.72-7.72 1.47 1.35L5.41 20z\"/>\n",
              "  </svg>\n",
              "      </button>\n",
              "      \n",
              "  <style>\n",
              "    .colab-df-container {\n",
              "      display:flex;\n",
              "      flex-wrap:wrap;\n",
              "      gap: 12px;\n",
              "    }\n",
              "\n",
              "    .colab-df-convert {\n",
              "      background-color: #E8F0FE;\n",
              "      border: none;\n",
              "      border-radius: 50%;\n",
              "      cursor: pointer;\n",
              "      display: none;\n",
              "      fill: #1967D2;\n",
              "      height: 32px;\n",
              "      padding: 0 0 0 0;\n",
              "      width: 32px;\n",
              "    }\n",
              "\n",
              "    .colab-df-convert:hover {\n",
              "      background-color: #E2EBFA;\n",
              "      box-shadow: 0px 1px 2px rgba(60, 64, 67, 0.3), 0px 1px 3px 1px rgba(60, 64, 67, 0.15);\n",
              "      fill: #174EA6;\n",
              "    }\n",
              "\n",
              "    [theme=dark] .colab-df-convert {\n",
              "      background-color: #3B4455;\n",
              "      fill: #D2E3FC;\n",
              "    }\n",
              "\n",
              "    [theme=dark] .colab-df-convert:hover {\n",
              "      background-color: #434B5C;\n",
              "      box-shadow: 0px 1px 3px 1px rgba(0, 0, 0, 0.15);\n",
              "      filter: drop-shadow(0px 1px 2px rgba(0, 0, 0, 0.3));\n",
              "      fill: #FFFFFF;\n",
              "    }\n",
              "  </style>\n",
              "\n",
              "      <script>\n",
              "        const buttonEl =\n",
              "          document.querySelector('#df-2b7fca71-eee5-4161-9c3f-cb9bbb1b655c button.colab-df-convert');\n",
              "        buttonEl.style.display =\n",
              "          google.colab.kernel.accessAllowed ? 'block' : 'none';\n",
              "\n",
              "        async function convertToInteractive(key) {\n",
              "          const element = document.querySelector('#df-2b7fca71-eee5-4161-9c3f-cb9bbb1b655c');\n",
              "          const dataTable =\n",
              "            await google.colab.kernel.invokeFunction('convertToInteractive',\n",
              "                                                     [key], {});\n",
              "          if (!dataTable) return;\n",
              "\n",
              "          const docLinkHtml = 'Like what you see? Visit the ' +\n",
              "            '<a target=\"_blank\" href=https://colab.research.google.com/notebooks/data_table.ipynb>data table notebook</a>'\n",
              "            + ' to learn more about interactive tables.';\n",
              "          element.innerHTML = '';\n",
              "          dataTable['output_type'] = 'display_data';\n",
              "          await google.colab.output.renderOutput(dataTable, element);\n",
              "          const docLink = document.createElement('div');\n",
              "          docLink.innerHTML = docLinkHtml;\n",
              "          element.appendChild(docLink);\n",
              "        }\n",
              "      </script>\n",
              "    </div>\n",
              "  </div>\n",
              "  "
            ]
          },
          "metadata": {},
          "execution_count": 14
        }
      ],
      "source": [
        "#sort by the temporary column\n",
        "babynames = babynames.sort_values(by = \"name_lengths\", ascending=False)\n",
        "babynames.head(25)"
      ]
    },
    {
      "cell_type": "code",
      "source": [
        "#with just 2020 boy names\n",
        "\n",
        "babynames.query('Sex == \"M\" and Year == 2020').sort_values(by = \"nl\", ascending=False)"
      ],
      "metadata": {
        "id": "YDV-o3bngvWa",
        "outputId": "c99abcee-679b-4421-caa2-1055dbda0872",
        "colab": {
          "base_uri": "https://localhost:8080/",
          "height": 419
        }
      },
      "execution_count": 22,
      "outputs": [
        {
          "output_type": "execute_result",
          "data": {
            "text/plain": [
              "       State Sex  Year           Name  Count  nl\n",
              "397199    CA   M  2020  Michaelangelo      7  13\n",
              "396683    CA   M  2020   Michelangelo     11  12\n",
              "396682    CA   M  2020   Maximilliano     11  12\n",
              "397776    CA   M  2020    Maxemiliano      5  11\n",
              "396106    CA   M  2020    Miguelangel     21  11\n",
              "...      ...  ..   ...            ...    ...  ..\n",
              "397121    CA   M  2020             Cj      7   2\n",
              "396828    CA   M  2020             Aj      9   2\n",
              "397282    CA   M  2020             An      6   2\n",
              "396465    CA   M  2020             Om     14   2\n",
              "397472    CA   M  2020             Oz      6   2\n",
              "\n",
              "[2793 rows x 6 columns]"
            ],
            "text/html": [
              "\n",
              "  <div id=\"df-7e043168-1a16-40d9-bb3d-678b5de83f12\">\n",
              "    <div class=\"colab-df-container\">\n",
              "      <div>\n",
              "<style scoped>\n",
              "    .dataframe tbody tr th:only-of-type {\n",
              "        vertical-align: middle;\n",
              "    }\n",
              "\n",
              "    .dataframe tbody tr th {\n",
              "        vertical-align: top;\n",
              "    }\n",
              "\n",
              "    .dataframe thead th {\n",
              "        text-align: right;\n",
              "    }\n",
              "</style>\n",
              "<table border=\"1\" class=\"dataframe\">\n",
              "  <thead>\n",
              "    <tr style=\"text-align: right;\">\n",
              "      <th></th>\n",
              "      <th>State</th>\n",
              "      <th>Sex</th>\n",
              "      <th>Year</th>\n",
              "      <th>Name</th>\n",
              "      <th>Count</th>\n",
              "      <th>nl</th>\n",
              "    </tr>\n",
              "  </thead>\n",
              "  <tbody>\n",
              "    <tr>\n",
              "      <th>397199</th>\n",
              "      <td>CA</td>\n",
              "      <td>M</td>\n",
              "      <td>2020</td>\n",
              "      <td>Michaelangelo</td>\n",
              "      <td>7</td>\n",
              "      <td>13</td>\n",
              "    </tr>\n",
              "    <tr>\n",
              "      <th>396683</th>\n",
              "      <td>CA</td>\n",
              "      <td>M</td>\n",
              "      <td>2020</td>\n",
              "      <td>Michelangelo</td>\n",
              "      <td>11</td>\n",
              "      <td>12</td>\n",
              "    </tr>\n",
              "    <tr>\n",
              "      <th>396682</th>\n",
              "      <td>CA</td>\n",
              "      <td>M</td>\n",
              "      <td>2020</td>\n",
              "      <td>Maximilliano</td>\n",
              "      <td>11</td>\n",
              "      <td>12</td>\n",
              "    </tr>\n",
              "    <tr>\n",
              "      <th>397776</th>\n",
              "      <td>CA</td>\n",
              "      <td>M</td>\n",
              "      <td>2020</td>\n",
              "      <td>Maxemiliano</td>\n",
              "      <td>5</td>\n",
              "      <td>11</td>\n",
              "    </tr>\n",
              "    <tr>\n",
              "      <th>396106</th>\n",
              "      <td>CA</td>\n",
              "      <td>M</td>\n",
              "      <td>2020</td>\n",
              "      <td>Miguelangel</td>\n",
              "      <td>21</td>\n",
              "      <td>11</td>\n",
              "    </tr>\n",
              "    <tr>\n",
              "      <th>...</th>\n",
              "      <td>...</td>\n",
              "      <td>...</td>\n",
              "      <td>...</td>\n",
              "      <td>...</td>\n",
              "      <td>...</td>\n",
              "      <td>...</td>\n",
              "    </tr>\n",
              "    <tr>\n",
              "      <th>397121</th>\n",
              "      <td>CA</td>\n",
              "      <td>M</td>\n",
              "      <td>2020</td>\n",
              "      <td>Cj</td>\n",
              "      <td>7</td>\n",
              "      <td>2</td>\n",
              "    </tr>\n",
              "    <tr>\n",
              "      <th>396828</th>\n",
              "      <td>CA</td>\n",
              "      <td>M</td>\n",
              "      <td>2020</td>\n",
              "      <td>Aj</td>\n",
              "      <td>9</td>\n",
              "      <td>2</td>\n",
              "    </tr>\n",
              "    <tr>\n",
              "      <th>397282</th>\n",
              "      <td>CA</td>\n",
              "      <td>M</td>\n",
              "      <td>2020</td>\n",
              "      <td>An</td>\n",
              "      <td>6</td>\n",
              "      <td>2</td>\n",
              "    </tr>\n",
              "    <tr>\n",
              "      <th>396465</th>\n",
              "      <td>CA</td>\n",
              "      <td>M</td>\n",
              "      <td>2020</td>\n",
              "      <td>Om</td>\n",
              "      <td>14</td>\n",
              "      <td>2</td>\n",
              "    </tr>\n",
              "    <tr>\n",
              "      <th>397472</th>\n",
              "      <td>CA</td>\n",
              "      <td>M</td>\n",
              "      <td>2020</td>\n",
              "      <td>Oz</td>\n",
              "      <td>6</td>\n",
              "      <td>2</td>\n",
              "    </tr>\n",
              "  </tbody>\n",
              "</table>\n",
              "<p>2793 rows × 6 columns</p>\n",
              "</div>\n",
              "      <button class=\"colab-df-convert\" onclick=\"convertToInteractive('df-7e043168-1a16-40d9-bb3d-678b5de83f12')\"\n",
              "              title=\"Convert this dataframe to an interactive table.\"\n",
              "              style=\"display:none;\">\n",
              "        \n",
              "  <svg xmlns=\"http://www.w3.org/2000/svg\" height=\"24px\"viewBox=\"0 0 24 24\"\n",
              "       width=\"24px\">\n",
              "    <path d=\"M0 0h24v24H0V0z\" fill=\"none\"/>\n",
              "    <path d=\"M18.56 5.44l.94 2.06.94-2.06 2.06-.94-2.06-.94-.94-2.06-.94 2.06-2.06.94zm-11 1L8.5 8.5l.94-2.06 2.06-.94-2.06-.94L8.5 2.5l-.94 2.06-2.06.94zm10 10l.94 2.06.94-2.06 2.06-.94-2.06-.94-.94-2.06-.94 2.06-2.06.94z\"/><path d=\"M17.41 7.96l-1.37-1.37c-.4-.4-.92-.59-1.43-.59-.52 0-1.04.2-1.43.59L10.3 9.45l-7.72 7.72c-.78.78-.78 2.05 0 2.83L4 21.41c.39.39.9.59 1.41.59.51 0 1.02-.2 1.41-.59l7.78-7.78 2.81-2.81c.8-.78.8-2.07 0-2.86zM5.41 20L4 18.59l7.72-7.72 1.47 1.35L5.41 20z\"/>\n",
              "  </svg>\n",
              "      </button>\n",
              "      \n",
              "  <style>\n",
              "    .colab-df-container {\n",
              "      display:flex;\n",
              "      flex-wrap:wrap;\n",
              "      gap: 12px;\n",
              "    }\n",
              "\n",
              "    .colab-df-convert {\n",
              "      background-color: #E8F0FE;\n",
              "      border: none;\n",
              "      border-radius: 50%;\n",
              "      cursor: pointer;\n",
              "      display: none;\n",
              "      fill: #1967D2;\n",
              "      height: 32px;\n",
              "      padding: 0 0 0 0;\n",
              "      width: 32px;\n",
              "    }\n",
              "\n",
              "    .colab-df-convert:hover {\n",
              "      background-color: #E2EBFA;\n",
              "      box-shadow: 0px 1px 2px rgba(60, 64, 67, 0.3), 0px 1px 3px 1px rgba(60, 64, 67, 0.15);\n",
              "      fill: #174EA6;\n",
              "    }\n",
              "\n",
              "    [theme=dark] .colab-df-convert {\n",
              "      background-color: #3B4455;\n",
              "      fill: #D2E3FC;\n",
              "    }\n",
              "\n",
              "    [theme=dark] .colab-df-convert:hover {\n",
              "      background-color: #434B5C;\n",
              "      box-shadow: 0px 1px 3px 1px rgba(0, 0, 0, 0.15);\n",
              "      filter: drop-shadow(0px 1px 2px rgba(0, 0, 0, 0.3));\n",
              "      fill: #FFFFFF;\n",
              "    }\n",
              "  </style>\n",
              "\n",
              "      <script>\n",
              "        const buttonEl =\n",
              "          document.querySelector('#df-7e043168-1a16-40d9-bb3d-678b5de83f12 button.colab-df-convert');\n",
              "        buttonEl.style.display =\n",
              "          google.colab.kernel.accessAllowed ? 'block' : 'none';\n",
              "\n",
              "        async function convertToInteractive(key) {\n",
              "          const element = document.querySelector('#df-7e043168-1a16-40d9-bb3d-678b5de83f12');\n",
              "          const dataTable =\n",
              "            await google.colab.kernel.invokeFunction('convertToInteractive',\n",
              "                                                     [key], {});\n",
              "          if (!dataTable) return;\n",
              "\n",
              "          const docLinkHtml = 'Like what you see? Visit the ' +\n",
              "            '<a target=\"_blank\" href=https://colab.research.google.com/notebooks/data_table.ipynb>data table notebook</a>'\n",
              "            + ' to learn more about interactive tables.';\n",
              "          element.innerHTML = '';\n",
              "          dataTable['output_type'] = 'display_data';\n",
              "          await google.colab.output.renderOutput(dataTable, element);\n",
              "          const docLink = document.createElement('div');\n",
              "          docLink.innerHTML = docLinkHtml;\n",
              "          element.appendChild(docLink);\n",
              "        }\n",
              "      </script>\n",
              "    </div>\n",
              "  </div>\n",
              "  "
            ]
          },
          "metadata": {},
          "execution_count": 22
        }
      ]
    },
    {
      "cell_type": "code",
      "execution_count": 15,
      "metadata": {
        "tags": [],
        "id": "Hi_3J6baeUGX",
        "outputId": "7b99598b-1197-4abe-a4f6-e3bae6ca0f5d",
        "colab": {
          "base_uri": "https://localhost:8080/",
          "height": 204
        }
      },
      "outputs": [
        {
          "output_type": "execute_result",
          "data": {
            "text/plain": [
              "       State Sex  Year             Name  Count  nl\n",
              "313143    CA   M  1989  Franciscojavier      6  15\n",
              "333732    CA   M  1997  Ryanchristopher      5  15\n",
              "330421    CA   M  1996  Franciscojavier      8  15\n",
              "323615    CA   M  1993  Johnchristopher      5  15\n",
              "310235    CA   M  1988  Franciscojavier     10  15"
            ],
            "text/html": [
              "\n",
              "  <div id=\"df-4c1531e5-571b-4bfa-84e9-f1012d6f7c19\">\n",
              "    <div class=\"colab-df-container\">\n",
              "      <div>\n",
              "<style scoped>\n",
              "    .dataframe tbody tr th:only-of-type {\n",
              "        vertical-align: middle;\n",
              "    }\n",
              "\n",
              "    .dataframe tbody tr th {\n",
              "        vertical-align: top;\n",
              "    }\n",
              "\n",
              "    .dataframe thead th {\n",
              "        text-align: right;\n",
              "    }\n",
              "</style>\n",
              "<table border=\"1\" class=\"dataframe\">\n",
              "  <thead>\n",
              "    <tr style=\"text-align: right;\">\n",
              "      <th></th>\n",
              "      <th>State</th>\n",
              "      <th>Sex</th>\n",
              "      <th>Year</th>\n",
              "      <th>Name</th>\n",
              "      <th>Count</th>\n",
              "      <th>nl</th>\n",
              "    </tr>\n",
              "  </thead>\n",
              "  <tbody>\n",
              "    <tr>\n",
              "      <th>313143</th>\n",
              "      <td>CA</td>\n",
              "      <td>M</td>\n",
              "      <td>1989</td>\n",
              "      <td>Franciscojavier</td>\n",
              "      <td>6</td>\n",
              "      <td>15</td>\n",
              "    </tr>\n",
              "    <tr>\n",
              "      <th>333732</th>\n",
              "      <td>CA</td>\n",
              "      <td>M</td>\n",
              "      <td>1997</td>\n",
              "      <td>Ryanchristopher</td>\n",
              "      <td>5</td>\n",
              "      <td>15</td>\n",
              "    </tr>\n",
              "    <tr>\n",
              "      <th>330421</th>\n",
              "      <td>CA</td>\n",
              "      <td>M</td>\n",
              "      <td>1996</td>\n",
              "      <td>Franciscojavier</td>\n",
              "      <td>8</td>\n",
              "      <td>15</td>\n",
              "    </tr>\n",
              "    <tr>\n",
              "      <th>323615</th>\n",
              "      <td>CA</td>\n",
              "      <td>M</td>\n",
              "      <td>1993</td>\n",
              "      <td>Johnchristopher</td>\n",
              "      <td>5</td>\n",
              "      <td>15</td>\n",
              "    </tr>\n",
              "    <tr>\n",
              "      <th>310235</th>\n",
              "      <td>CA</td>\n",
              "      <td>M</td>\n",
              "      <td>1988</td>\n",
              "      <td>Franciscojavier</td>\n",
              "      <td>10</td>\n",
              "      <td>15</td>\n",
              "    </tr>\n",
              "  </tbody>\n",
              "</table>\n",
              "</div>\n",
              "      <button class=\"colab-df-convert\" onclick=\"convertToInteractive('df-4c1531e5-571b-4bfa-84e9-f1012d6f7c19')\"\n",
              "              title=\"Convert this dataframe to an interactive table.\"\n",
              "              style=\"display:none;\">\n",
              "        \n",
              "  <svg xmlns=\"http://www.w3.org/2000/svg\" height=\"24px\"viewBox=\"0 0 24 24\"\n",
              "       width=\"24px\">\n",
              "    <path d=\"M0 0h24v24H0V0z\" fill=\"none\"/>\n",
              "    <path d=\"M18.56 5.44l.94 2.06.94-2.06 2.06-.94-2.06-.94-.94-2.06-.94 2.06-2.06.94zm-11 1L8.5 8.5l.94-2.06 2.06-.94-2.06-.94L8.5 2.5l-.94 2.06-2.06.94zm10 10l.94 2.06.94-2.06 2.06-.94-2.06-.94-.94-2.06-.94 2.06-2.06.94z\"/><path d=\"M17.41 7.96l-1.37-1.37c-.4-.4-.92-.59-1.43-.59-.52 0-1.04.2-1.43.59L10.3 9.45l-7.72 7.72c-.78.78-.78 2.05 0 2.83L4 21.41c.39.39.9.59 1.41.59.51 0 1.02-.2 1.41-.59l7.78-7.78 2.81-2.81c.8-.78.8-2.07 0-2.86zM5.41 20L4 18.59l7.72-7.72 1.47 1.35L5.41 20z\"/>\n",
              "  </svg>\n",
              "      </button>\n",
              "      \n",
              "  <style>\n",
              "    .colab-df-container {\n",
              "      display:flex;\n",
              "      flex-wrap:wrap;\n",
              "      gap: 12px;\n",
              "    }\n",
              "\n",
              "    .colab-df-convert {\n",
              "      background-color: #E8F0FE;\n",
              "      border: none;\n",
              "      border-radius: 50%;\n",
              "      cursor: pointer;\n",
              "      display: none;\n",
              "      fill: #1967D2;\n",
              "      height: 32px;\n",
              "      padding: 0 0 0 0;\n",
              "      width: 32px;\n",
              "    }\n",
              "\n",
              "    .colab-df-convert:hover {\n",
              "      background-color: #E2EBFA;\n",
              "      box-shadow: 0px 1px 2px rgba(60, 64, 67, 0.3), 0px 1px 3px 1px rgba(60, 64, 67, 0.15);\n",
              "      fill: #174EA6;\n",
              "    }\n",
              "\n",
              "    [theme=dark] .colab-df-convert {\n",
              "      background-color: #3B4455;\n",
              "      fill: #D2E3FC;\n",
              "    }\n",
              "\n",
              "    [theme=dark] .colab-df-convert:hover {\n",
              "      background-color: #434B5C;\n",
              "      box-shadow: 0px 1px 3px 1px rgba(0, 0, 0, 0.15);\n",
              "      filter: drop-shadow(0px 1px 2px rgba(0, 0, 0, 0.3));\n",
              "      fill: #FFFFFF;\n",
              "    }\n",
              "  </style>\n",
              "\n",
              "      <script>\n",
              "        const buttonEl =\n",
              "          document.querySelector('#df-4c1531e5-571b-4bfa-84e9-f1012d6f7c19 button.colab-df-convert');\n",
              "        buttonEl.style.display =\n",
              "          google.colab.kernel.accessAllowed ? 'block' : 'none';\n",
              "\n",
              "        async function convertToInteractive(key) {\n",
              "          const element = document.querySelector('#df-4c1531e5-571b-4bfa-84e9-f1012d6f7c19');\n",
              "          const dataTable =\n",
              "            await google.colab.kernel.invokeFunction('convertToInteractive',\n",
              "                                                     [key], {});\n",
              "          if (!dataTable) return;\n",
              "\n",
              "          const docLinkHtml = 'Like what you see? Visit the ' +\n",
              "            '<a target=\"_blank\" href=https://colab.research.google.com/notebooks/data_table.ipynb>data table notebook</a>'\n",
              "            + ' to learn more about interactive tables.';\n",
              "          element.innerHTML = '';\n",
              "          dataTable['output_type'] = 'display_data';\n",
              "          await google.colab.output.renderOutput(dataTable, element);\n",
              "          const docLink = document.createElement('div');\n",
              "          docLink.innerHTML = docLinkHtml;\n",
              "          element.appendChild(docLink);\n",
              "        }\n",
              "      </script>\n",
              "    </div>\n",
              "  </div>\n",
              "  "
            ]
          },
          "metadata": {},
          "execution_count": 15
        }
      ],
      "source": [
        "#drop the temporary column\n",
        "babynames = babynames.drop(\"name_lengths\", axis = 'columns')  # must specify \"columns\" (or 1) here b/c defaults to \"row\" (or 0)\n",
        "babynames.head(5)"
      ]
    },
    {
      "cell_type": "markdown",
      "metadata": {
        "id": "1Omxe_TreUGX"
      },
      "source": [
        "We can also use the Python map function if we want to use an arbitrarily defined function. Suppose we want to sort by the number of occurrences of \"dr\" plus the number of occurences of \"ea\"."
      ]
    },
    {
      "cell_type": "code",
      "execution_count": 23,
      "metadata": {
        "scrolled": false,
        "id": "uAcZBTbQeUGY",
        "outputId": "84580a6f-f13f-4e50-9e87-46da52b352d1",
        "colab": {
          "base_uri": "https://localhost:8080/",
          "height": 204
        }
      },
      "outputs": [
        {
          "output_type": "execute_result",
          "data": {
            "text/plain": [
              "       State Sex  Year      Name  Count  nl  dr_ea_count\n",
              "101969    CA   F  1986  Deandrea      6   8            3\n",
              "304390    CA   M  1985  Deandrea      6   8            3\n",
              "131022    CA   F  1994  Leandrea      5   8            3\n",
              "115950    CA   F  1990  Deandrea      5   8            3\n",
              "108723    CA   F  1988  Deandrea      5   8            3"
            ],
            "text/html": [
              "\n",
              "  <div id=\"df-59bff0a5-9a6e-4030-9cef-e4732431c260\">\n",
              "    <div class=\"colab-df-container\">\n",
              "      <div>\n",
              "<style scoped>\n",
              "    .dataframe tbody tr th:only-of-type {\n",
              "        vertical-align: middle;\n",
              "    }\n",
              "\n",
              "    .dataframe tbody tr th {\n",
              "        vertical-align: top;\n",
              "    }\n",
              "\n",
              "    .dataframe thead th {\n",
              "        text-align: right;\n",
              "    }\n",
              "</style>\n",
              "<table border=\"1\" class=\"dataframe\">\n",
              "  <thead>\n",
              "    <tr style=\"text-align: right;\">\n",
              "      <th></th>\n",
              "      <th>State</th>\n",
              "      <th>Sex</th>\n",
              "      <th>Year</th>\n",
              "      <th>Name</th>\n",
              "      <th>Count</th>\n",
              "      <th>nl</th>\n",
              "      <th>dr_ea_count</th>\n",
              "    </tr>\n",
              "  </thead>\n",
              "  <tbody>\n",
              "    <tr>\n",
              "      <th>101969</th>\n",
              "      <td>CA</td>\n",
              "      <td>F</td>\n",
              "      <td>1986</td>\n",
              "      <td>Deandrea</td>\n",
              "      <td>6</td>\n",
              "      <td>8</td>\n",
              "      <td>3</td>\n",
              "    </tr>\n",
              "    <tr>\n",
              "      <th>304390</th>\n",
              "      <td>CA</td>\n",
              "      <td>M</td>\n",
              "      <td>1985</td>\n",
              "      <td>Deandrea</td>\n",
              "      <td>6</td>\n",
              "      <td>8</td>\n",
              "      <td>3</td>\n",
              "    </tr>\n",
              "    <tr>\n",
              "      <th>131022</th>\n",
              "      <td>CA</td>\n",
              "      <td>F</td>\n",
              "      <td>1994</td>\n",
              "      <td>Leandrea</td>\n",
              "      <td>5</td>\n",
              "      <td>8</td>\n",
              "      <td>3</td>\n",
              "    </tr>\n",
              "    <tr>\n",
              "      <th>115950</th>\n",
              "      <td>CA</td>\n",
              "      <td>F</td>\n",
              "      <td>1990</td>\n",
              "      <td>Deandrea</td>\n",
              "      <td>5</td>\n",
              "      <td>8</td>\n",
              "      <td>3</td>\n",
              "    </tr>\n",
              "    <tr>\n",
              "      <th>108723</th>\n",
              "      <td>CA</td>\n",
              "      <td>F</td>\n",
              "      <td>1988</td>\n",
              "      <td>Deandrea</td>\n",
              "      <td>5</td>\n",
              "      <td>8</td>\n",
              "      <td>3</td>\n",
              "    </tr>\n",
              "  </tbody>\n",
              "</table>\n",
              "</div>\n",
              "      <button class=\"colab-df-convert\" onclick=\"convertToInteractive('df-59bff0a5-9a6e-4030-9cef-e4732431c260')\"\n",
              "              title=\"Convert this dataframe to an interactive table.\"\n",
              "              style=\"display:none;\">\n",
              "        \n",
              "  <svg xmlns=\"http://www.w3.org/2000/svg\" height=\"24px\"viewBox=\"0 0 24 24\"\n",
              "       width=\"24px\">\n",
              "    <path d=\"M0 0h24v24H0V0z\" fill=\"none\"/>\n",
              "    <path d=\"M18.56 5.44l.94 2.06.94-2.06 2.06-.94-2.06-.94-.94-2.06-.94 2.06-2.06.94zm-11 1L8.5 8.5l.94-2.06 2.06-.94-2.06-.94L8.5 2.5l-.94 2.06-2.06.94zm10 10l.94 2.06.94-2.06 2.06-.94-2.06-.94-.94-2.06-.94 2.06-2.06.94z\"/><path d=\"M17.41 7.96l-1.37-1.37c-.4-.4-.92-.59-1.43-.59-.52 0-1.04.2-1.43.59L10.3 9.45l-7.72 7.72c-.78.78-.78 2.05 0 2.83L4 21.41c.39.39.9.59 1.41.59.51 0 1.02-.2 1.41-.59l7.78-7.78 2.81-2.81c.8-.78.8-2.07 0-2.86zM5.41 20L4 18.59l7.72-7.72 1.47 1.35L5.41 20z\"/>\n",
              "  </svg>\n",
              "      </button>\n",
              "      \n",
              "  <style>\n",
              "    .colab-df-container {\n",
              "      display:flex;\n",
              "      flex-wrap:wrap;\n",
              "      gap: 12px;\n",
              "    }\n",
              "\n",
              "    .colab-df-convert {\n",
              "      background-color: #E8F0FE;\n",
              "      border: none;\n",
              "      border-radius: 50%;\n",
              "      cursor: pointer;\n",
              "      display: none;\n",
              "      fill: #1967D2;\n",
              "      height: 32px;\n",
              "      padding: 0 0 0 0;\n",
              "      width: 32px;\n",
              "    }\n",
              "\n",
              "    .colab-df-convert:hover {\n",
              "      background-color: #E2EBFA;\n",
              "      box-shadow: 0px 1px 2px rgba(60, 64, 67, 0.3), 0px 1px 3px 1px rgba(60, 64, 67, 0.15);\n",
              "      fill: #174EA6;\n",
              "    }\n",
              "\n",
              "    [theme=dark] .colab-df-convert {\n",
              "      background-color: #3B4455;\n",
              "      fill: #D2E3FC;\n",
              "    }\n",
              "\n",
              "    [theme=dark] .colab-df-convert:hover {\n",
              "      background-color: #434B5C;\n",
              "      box-shadow: 0px 1px 3px 1px rgba(0, 0, 0, 0.15);\n",
              "      filter: drop-shadow(0px 1px 2px rgba(0, 0, 0, 0.3));\n",
              "      fill: #FFFFFF;\n",
              "    }\n",
              "  </style>\n",
              "\n",
              "      <script>\n",
              "        const buttonEl =\n",
              "          document.querySelector('#df-59bff0a5-9a6e-4030-9cef-e4732431c260 button.colab-df-convert');\n",
              "        buttonEl.style.display =\n",
              "          google.colab.kernel.accessAllowed ? 'block' : 'none';\n",
              "\n",
              "        async function convertToInteractive(key) {\n",
              "          const element = document.querySelector('#df-59bff0a5-9a6e-4030-9cef-e4732431c260');\n",
              "          const dataTable =\n",
              "            await google.colab.kernel.invokeFunction('convertToInteractive',\n",
              "                                                     [key], {});\n",
              "          if (!dataTable) return;\n",
              "\n",
              "          const docLinkHtml = 'Like what you see? Visit the ' +\n",
              "            '<a target=\"_blank\" href=https://colab.research.google.com/notebooks/data_table.ipynb>data table notebook</a>'\n",
              "            + ' to learn more about interactive tables.';\n",
              "          element.innerHTML = '';\n",
              "          dataTable['output_type'] = 'display_data';\n",
              "          await google.colab.output.renderOutput(dataTable, element);\n",
              "          const docLink = document.createElement('div');\n",
              "          docLink.innerHTML = docLinkHtml;\n",
              "          element.appendChild(docLink);\n",
              "        }\n",
              "      </script>\n",
              "    </div>\n",
              "  </div>\n",
              "  "
            ]
          },
          "metadata": {},
          "execution_count": 23
        }
      ],
      "source": [
        "def dr_ea_count(string):\n",
        "    return string.count('dr') + string.count('ea')\n",
        "\n",
        "#create the temporary column\n",
        "babynames[\"dr_ea_count\"] = babynames[\"Name\"].map(dr_ea_count)\n",
        "\n",
        "#sort by the temporary column\n",
        "babynames = babynames.sort_values(by = \"dr_ea_count\", ascending=False)\n",
        "babynames.head()"
      ]
    },
    {
      "cell_type": "code",
      "execution_count": 24,
      "metadata": {
        "id": "_TIVuE9AeUGY"
      },
      "outputs": [],
      "source": [
        "def dr_ea_count(string):\n",
        "    return string.count('dr') + string.count('ea')\n",
        "\n",
        "babynames[\"dr_ea_count\"] = babynames[\"Name\"].map(dr_ea_count)\n",
        "babynames = babynames.sort_values(by = \"dr_ea_count\", ascending=False)"
      ]
    },
    {
      "cell_type": "code",
      "execution_count": 25,
      "metadata": {
        "id": "r-zYP-QYeUGZ",
        "outputId": "171a8806-8272-472c-fb5e-a117e7714050",
        "colab": {
          "base_uri": "https://localhost:8080/",
          "height": 204
        }
      },
      "outputs": [
        {
          "output_type": "execute_result",
          "data": {
            "text/plain": [
              "       State Sex  Year      Name  Count  nl\n",
              "101969    CA   F  1986  Deandrea      6   8\n",
              "131022    CA   F  1994  Leandrea      5   8\n",
              "115950    CA   F  1990  Deandrea      5   8\n",
              "108723    CA   F  1988  Deandrea      5   8\n",
              "304390    CA   M  1985  Deandrea      6   8"
            ],
            "text/html": [
              "\n",
              "  <div id=\"df-53c2f270-4360-466e-a7ac-c6560499c9bb\">\n",
              "    <div class=\"colab-df-container\">\n",
              "      <div>\n",
              "<style scoped>\n",
              "    .dataframe tbody tr th:only-of-type {\n",
              "        vertical-align: middle;\n",
              "    }\n",
              "\n",
              "    .dataframe tbody tr th {\n",
              "        vertical-align: top;\n",
              "    }\n",
              "\n",
              "    .dataframe thead th {\n",
              "        text-align: right;\n",
              "    }\n",
              "</style>\n",
              "<table border=\"1\" class=\"dataframe\">\n",
              "  <thead>\n",
              "    <tr style=\"text-align: right;\">\n",
              "      <th></th>\n",
              "      <th>State</th>\n",
              "      <th>Sex</th>\n",
              "      <th>Year</th>\n",
              "      <th>Name</th>\n",
              "      <th>Count</th>\n",
              "      <th>nl</th>\n",
              "    </tr>\n",
              "  </thead>\n",
              "  <tbody>\n",
              "    <tr>\n",
              "      <th>101969</th>\n",
              "      <td>CA</td>\n",
              "      <td>F</td>\n",
              "      <td>1986</td>\n",
              "      <td>Deandrea</td>\n",
              "      <td>6</td>\n",
              "      <td>8</td>\n",
              "    </tr>\n",
              "    <tr>\n",
              "      <th>131022</th>\n",
              "      <td>CA</td>\n",
              "      <td>F</td>\n",
              "      <td>1994</td>\n",
              "      <td>Leandrea</td>\n",
              "      <td>5</td>\n",
              "      <td>8</td>\n",
              "    </tr>\n",
              "    <tr>\n",
              "      <th>115950</th>\n",
              "      <td>CA</td>\n",
              "      <td>F</td>\n",
              "      <td>1990</td>\n",
              "      <td>Deandrea</td>\n",
              "      <td>5</td>\n",
              "      <td>8</td>\n",
              "    </tr>\n",
              "    <tr>\n",
              "      <th>108723</th>\n",
              "      <td>CA</td>\n",
              "      <td>F</td>\n",
              "      <td>1988</td>\n",
              "      <td>Deandrea</td>\n",
              "      <td>5</td>\n",
              "      <td>8</td>\n",
              "    </tr>\n",
              "    <tr>\n",
              "      <th>304390</th>\n",
              "      <td>CA</td>\n",
              "      <td>M</td>\n",
              "      <td>1985</td>\n",
              "      <td>Deandrea</td>\n",
              "      <td>6</td>\n",
              "      <td>8</td>\n",
              "    </tr>\n",
              "  </tbody>\n",
              "</table>\n",
              "</div>\n",
              "      <button class=\"colab-df-convert\" onclick=\"convertToInteractive('df-53c2f270-4360-466e-a7ac-c6560499c9bb')\"\n",
              "              title=\"Convert this dataframe to an interactive table.\"\n",
              "              style=\"display:none;\">\n",
              "        \n",
              "  <svg xmlns=\"http://www.w3.org/2000/svg\" height=\"24px\"viewBox=\"0 0 24 24\"\n",
              "       width=\"24px\">\n",
              "    <path d=\"M0 0h24v24H0V0z\" fill=\"none\"/>\n",
              "    <path d=\"M18.56 5.44l.94 2.06.94-2.06 2.06-.94-2.06-.94-.94-2.06-.94 2.06-2.06.94zm-11 1L8.5 8.5l.94-2.06 2.06-.94-2.06-.94L8.5 2.5l-.94 2.06-2.06.94zm10 10l.94 2.06.94-2.06 2.06-.94-2.06-.94-.94-2.06-.94 2.06-2.06.94z\"/><path d=\"M17.41 7.96l-1.37-1.37c-.4-.4-.92-.59-1.43-.59-.52 0-1.04.2-1.43.59L10.3 9.45l-7.72 7.72c-.78.78-.78 2.05 0 2.83L4 21.41c.39.39.9.59 1.41.59.51 0 1.02-.2 1.41-.59l7.78-7.78 2.81-2.81c.8-.78.8-2.07 0-2.86zM5.41 20L4 18.59l7.72-7.72 1.47 1.35L5.41 20z\"/>\n",
              "  </svg>\n",
              "      </button>\n",
              "      \n",
              "  <style>\n",
              "    .colab-df-container {\n",
              "      display:flex;\n",
              "      flex-wrap:wrap;\n",
              "      gap: 12px;\n",
              "    }\n",
              "\n",
              "    .colab-df-convert {\n",
              "      background-color: #E8F0FE;\n",
              "      border: none;\n",
              "      border-radius: 50%;\n",
              "      cursor: pointer;\n",
              "      display: none;\n",
              "      fill: #1967D2;\n",
              "      height: 32px;\n",
              "      padding: 0 0 0 0;\n",
              "      width: 32px;\n",
              "    }\n",
              "\n",
              "    .colab-df-convert:hover {\n",
              "      background-color: #E2EBFA;\n",
              "      box-shadow: 0px 1px 2px rgba(60, 64, 67, 0.3), 0px 1px 3px 1px rgba(60, 64, 67, 0.15);\n",
              "      fill: #174EA6;\n",
              "    }\n",
              "\n",
              "    [theme=dark] .colab-df-convert {\n",
              "      background-color: #3B4455;\n",
              "      fill: #D2E3FC;\n",
              "    }\n",
              "\n",
              "    [theme=dark] .colab-df-convert:hover {\n",
              "      background-color: #434B5C;\n",
              "      box-shadow: 0px 1px 3px 1px rgba(0, 0, 0, 0.15);\n",
              "      filter: drop-shadow(0px 1px 2px rgba(0, 0, 0, 0.3));\n",
              "      fill: #FFFFFF;\n",
              "    }\n",
              "  </style>\n",
              "\n",
              "      <script>\n",
              "        const buttonEl =\n",
              "          document.querySelector('#df-53c2f270-4360-466e-a7ac-c6560499c9bb button.colab-df-convert');\n",
              "        buttonEl.style.display =\n",
              "          google.colab.kernel.accessAllowed ? 'block' : 'none';\n",
              "\n",
              "        async function convertToInteractive(key) {\n",
              "          const element = document.querySelector('#df-53c2f270-4360-466e-a7ac-c6560499c9bb');\n",
              "          const dataTable =\n",
              "            await google.colab.kernel.invokeFunction('convertToInteractive',\n",
              "                                                     [key], {});\n",
              "          if (!dataTable) return;\n",
              "\n",
              "          const docLinkHtml = 'Like what you see? Visit the ' +\n",
              "            '<a target=\"_blank\" href=https://colab.research.google.com/notebooks/data_table.ipynb>data table notebook</a>'\n",
              "            + ' to learn more about interactive tables.';\n",
              "          element.innerHTML = '';\n",
              "          dataTable['output_type'] = 'display_data';\n",
              "          await google.colab.output.renderOutput(dataTable, element);\n",
              "          const docLink = document.createElement('div');\n",
              "          docLink.innerHTML = docLinkHtml;\n",
              "          element.appendChild(docLink);\n",
              "        }\n",
              "      </script>\n",
              "    </div>\n",
              "  </div>\n",
              "  "
            ]
          },
          "metadata": {},
          "execution_count": 25
        }
      ],
      "source": [
        "#drop that column\n",
        "babynames = babynames.drop(\"dr_ea_count\", axis = 'columns')\n",
        "babynames.head(5)"
      ]
    },
    {
      "cell_type": "markdown",
      "metadata": {
        "id": "4RiptrnceUGa"
      },
      "source": [
        "---"
      ]
    },
    {
      "cell_type": "markdown",
      "metadata": {
        "id": "D5evtBGbeUGa"
      },
      "source": [
        "###Female Name whose popularity has dropped the most."
      ]
    },
    {
      "cell_type": "markdown",
      "metadata": {
        "id": "hlK6YcNMeUGb"
      },
      "source": [
        "In this exercise, let's find the female name whose popularity has dropped the most since its peak. As an example of a name that has fallen into disfavor, consider \"Jennifer\", visualized below.\n",
        "\n",
        "Note: We won't cover plotly in lecture until week 4 after Lisa covers EDA and Regex."
      ]
    },
    {
      "cell_type": "code",
      "execution_count": 30,
      "metadata": {
        "id": "C0R9mUBueUGc",
        "outputId": "9d74cb7a-617a-4aca-9c44-5712ddc983bc",
        "colab": {
          "base_uri": "https://localhost:8080/",
          "height": 542
        }
      },
      "outputs": [
        {
          "output_type": "display_data",
          "data": {
            "text/html": [
              "<html>\n",
              "<head><meta charset=\"utf-8\" /></head>\n",
              "<body>\n",
              "    <div>            <script src=\"https://cdnjs.cloudflare.com/ajax/libs/mathjax/2.7.5/MathJax.js?config=TeX-AMS-MML_SVG\"></script><script type=\"text/javascript\">if (window.MathJax) {MathJax.Hub.Config({SVG: {font: \"STIX-Web\"}});}</script>                <script type=\"text/javascript\">window.PlotlyConfig = {MathJaxConfig: 'local'};</script>\n",
              "        <script src=\"https://cdn.plot.ly/plotly-2.8.3.min.js\"></script>                <div id=\"72d5fdae-9fca-47cd-b0e0-236ebc58a004\" class=\"plotly-graph-div\" style=\"height:525px; width:100%;\"></div>            <script type=\"text/javascript\">                                    window.PLOTLYENV=window.PLOTLYENV || {};                                    if (document.getElementById(\"72d5fdae-9fca-47cd-b0e0-236ebc58a004\")) {                    Plotly.newPlot(                        \"72d5fdae-9fca-47cd-b0e0-236ebc58a004\",                        [{\"hovertemplate\":\"Year=%{x}<br>Count=%{y}<extra></extra>\",\"legendgroup\":\"\",\"line\":{\"color\":\"#636efa\",\"dash\":\"solid\"},\"marker\":{\"symbol\":\"circle\"},\"mode\":\"lines\",\"name\":\"\",\"orientation\":\"v\",\"showlegend\":false,\"x\":[1934,1938,1939,1940,1941,1942,1943,1944,1945,1946,1947,1948,1949,1950,1951,1952,1953,1954,1955,1956,1957,1958,1959,1960,1961,1962,1963,1964,1965,1966,1967,1968,1969,1970,1971,1972,1973,1974,1975,1976,1977,1978,1979,1980,1981,1982,1983,1984,1985,1986,1987,1988,1989,1990,1991,1992,1993,1994,1995,1996,1997,1998,1999,2000,2001,2002,2003,2004,2005,2006,2007,2008,2009,2010,2011,2012,2013,2014,2015,2016,2017,2018,2019,2020,2021],\"xaxis\":\"x\",\"y\":[5,5,6,13,24,22,30,80,99,147,163,159,233,247,284,350,384,412,440,509,634,738,709,869,1174,1257,1386,1516,1649,1918,1902,2907,3477,4695,5456,6065,5649,5673,5323,5570,5543,5295,5462,5612,5629,5813,5830,5519,4966,4306,4285,3875,3526,3612,3579,3382,3004,2940,2696,2529,2817,2560,2675,2264,2027,1987,1699,1484,1297,1144,1035,808,641,515,474,421,354,286,242,239,226,167,145,141,91],\"yaxis\":\"y\",\"type\":\"scatter\"}],                        {\"template\":{\"data\":{\"bar\":[{\"error_x\":{\"color\":\"#2a3f5f\"},\"error_y\":{\"color\":\"#2a3f5f\"},\"marker\":{\"line\":{\"color\":\"#E5ECF6\",\"width\":0.5},\"pattern\":{\"fillmode\":\"overlay\",\"size\":10,\"solidity\":0.2}},\"type\":\"bar\"}],\"barpolar\":[{\"marker\":{\"line\":{\"color\":\"#E5ECF6\",\"width\":0.5},\"pattern\":{\"fillmode\":\"overlay\",\"size\":10,\"solidity\":0.2}},\"type\":\"barpolar\"}],\"carpet\":[{\"aaxis\":{\"endlinecolor\":\"#2a3f5f\",\"gridcolor\":\"white\",\"linecolor\":\"white\",\"minorgridcolor\":\"white\",\"startlinecolor\":\"#2a3f5f\"},\"baxis\":{\"endlinecolor\":\"#2a3f5f\",\"gridcolor\":\"white\",\"linecolor\":\"white\",\"minorgridcolor\":\"white\",\"startlinecolor\":\"#2a3f5f\"},\"type\":\"carpet\"}],\"choropleth\":[{\"colorbar\":{\"outlinewidth\":0,\"ticks\":\"\"},\"type\":\"choropleth\"}],\"contour\":[{\"colorbar\":{\"outlinewidth\":0,\"ticks\":\"\"},\"colorscale\":[[0.0,\"#0d0887\"],[0.1111111111111111,\"#46039f\"],[0.2222222222222222,\"#7201a8\"],[0.3333333333333333,\"#9c179e\"],[0.4444444444444444,\"#bd3786\"],[0.5555555555555556,\"#d8576b\"],[0.6666666666666666,\"#ed7953\"],[0.7777777777777778,\"#fb9f3a\"],[0.8888888888888888,\"#fdca26\"],[1.0,\"#f0f921\"]],\"type\":\"contour\"}],\"contourcarpet\":[{\"colorbar\":{\"outlinewidth\":0,\"ticks\":\"\"},\"type\":\"contourcarpet\"}],\"heatmap\":[{\"colorbar\":{\"outlinewidth\":0,\"ticks\":\"\"},\"colorscale\":[[0.0,\"#0d0887\"],[0.1111111111111111,\"#46039f\"],[0.2222222222222222,\"#7201a8\"],[0.3333333333333333,\"#9c179e\"],[0.4444444444444444,\"#bd3786\"],[0.5555555555555556,\"#d8576b\"],[0.6666666666666666,\"#ed7953\"],[0.7777777777777778,\"#fb9f3a\"],[0.8888888888888888,\"#fdca26\"],[1.0,\"#f0f921\"]],\"type\":\"heatmap\"}],\"heatmapgl\":[{\"colorbar\":{\"outlinewidth\":0,\"ticks\":\"\"},\"colorscale\":[[0.0,\"#0d0887\"],[0.1111111111111111,\"#46039f\"],[0.2222222222222222,\"#7201a8\"],[0.3333333333333333,\"#9c179e\"],[0.4444444444444444,\"#bd3786\"],[0.5555555555555556,\"#d8576b\"],[0.6666666666666666,\"#ed7953\"],[0.7777777777777778,\"#fb9f3a\"],[0.8888888888888888,\"#fdca26\"],[1.0,\"#f0f921\"]],\"type\":\"heatmapgl\"}],\"histogram\":[{\"marker\":{\"pattern\":{\"fillmode\":\"overlay\",\"size\":10,\"solidity\":0.2}},\"type\":\"histogram\"}],\"histogram2d\":[{\"colorbar\":{\"outlinewidth\":0,\"ticks\":\"\"},\"colorscale\":[[0.0,\"#0d0887\"],[0.1111111111111111,\"#46039f\"],[0.2222222222222222,\"#7201a8\"],[0.3333333333333333,\"#9c179e\"],[0.4444444444444444,\"#bd3786\"],[0.5555555555555556,\"#d8576b\"],[0.6666666666666666,\"#ed7953\"],[0.7777777777777778,\"#fb9f3a\"],[0.8888888888888888,\"#fdca26\"],[1.0,\"#f0f921\"]],\"type\":\"histogram2d\"}],\"histogram2dcontour\":[{\"colorbar\":{\"outlinewidth\":0,\"ticks\":\"\"},\"colorscale\":[[0.0,\"#0d0887\"],[0.1111111111111111,\"#46039f\"],[0.2222222222222222,\"#7201a8\"],[0.3333333333333333,\"#9c179e\"],[0.4444444444444444,\"#bd3786\"],[0.5555555555555556,\"#d8576b\"],[0.6666666666666666,\"#ed7953\"],[0.7777777777777778,\"#fb9f3a\"],[0.8888888888888888,\"#fdca26\"],[1.0,\"#f0f921\"]],\"type\":\"histogram2dcontour\"}],\"mesh3d\":[{\"colorbar\":{\"outlinewidth\":0,\"ticks\":\"\"},\"type\":\"mesh3d\"}],\"parcoords\":[{\"line\":{\"colorbar\":{\"outlinewidth\":0,\"ticks\":\"\"}},\"type\":\"parcoords\"}],\"pie\":[{\"automargin\":true,\"type\":\"pie\"}],\"scatter\":[{\"marker\":{\"colorbar\":{\"outlinewidth\":0,\"ticks\":\"\"}},\"type\":\"scatter\"}],\"scatter3d\":[{\"line\":{\"colorbar\":{\"outlinewidth\":0,\"ticks\":\"\"}},\"marker\":{\"colorbar\":{\"outlinewidth\":0,\"ticks\":\"\"}},\"type\":\"scatter3d\"}],\"scattercarpet\":[{\"marker\":{\"colorbar\":{\"outlinewidth\":0,\"ticks\":\"\"}},\"type\":\"scattercarpet\"}],\"scattergeo\":[{\"marker\":{\"colorbar\":{\"outlinewidth\":0,\"ticks\":\"\"}},\"type\":\"scattergeo\"}],\"scattergl\":[{\"marker\":{\"colorbar\":{\"outlinewidth\":0,\"ticks\":\"\"}},\"type\":\"scattergl\"}],\"scattermapbox\":[{\"marker\":{\"colorbar\":{\"outlinewidth\":0,\"ticks\":\"\"}},\"type\":\"scattermapbox\"}],\"scatterpolar\":[{\"marker\":{\"colorbar\":{\"outlinewidth\":0,\"ticks\":\"\"}},\"type\":\"scatterpolar\"}],\"scatterpolargl\":[{\"marker\":{\"colorbar\":{\"outlinewidth\":0,\"ticks\":\"\"}},\"type\":\"scatterpolargl\"}],\"scatterternary\":[{\"marker\":{\"colorbar\":{\"outlinewidth\":0,\"ticks\":\"\"}},\"type\":\"scatterternary\"}],\"surface\":[{\"colorbar\":{\"outlinewidth\":0,\"ticks\":\"\"},\"colorscale\":[[0.0,\"#0d0887\"],[0.1111111111111111,\"#46039f\"],[0.2222222222222222,\"#7201a8\"],[0.3333333333333333,\"#9c179e\"],[0.4444444444444444,\"#bd3786\"],[0.5555555555555556,\"#d8576b\"],[0.6666666666666666,\"#ed7953\"],[0.7777777777777778,\"#fb9f3a\"],[0.8888888888888888,\"#fdca26\"],[1.0,\"#f0f921\"]],\"type\":\"surface\"}],\"table\":[{\"cells\":{\"fill\":{\"color\":\"#EBF0F8\"},\"line\":{\"color\":\"white\"}},\"header\":{\"fill\":{\"color\":\"#C8D4E3\"},\"line\":{\"color\":\"white\"}},\"type\":\"table\"}]},\"layout\":{\"annotationdefaults\":{\"arrowcolor\":\"#2a3f5f\",\"arrowhead\":0,\"arrowwidth\":1},\"autotypenumbers\":\"strict\",\"coloraxis\":{\"colorbar\":{\"outlinewidth\":0,\"ticks\":\"\"}},\"colorscale\":{\"diverging\":[[0,\"#8e0152\"],[0.1,\"#c51b7d\"],[0.2,\"#de77ae\"],[0.3,\"#f1b6da\"],[0.4,\"#fde0ef\"],[0.5,\"#f7f7f7\"],[0.6,\"#e6f5d0\"],[0.7,\"#b8e186\"],[0.8,\"#7fbc41\"],[0.9,\"#4d9221\"],[1,\"#276419\"]],\"sequential\":[[0.0,\"#0d0887\"],[0.1111111111111111,\"#46039f\"],[0.2222222222222222,\"#7201a8\"],[0.3333333333333333,\"#9c179e\"],[0.4444444444444444,\"#bd3786\"],[0.5555555555555556,\"#d8576b\"],[0.6666666666666666,\"#ed7953\"],[0.7777777777777778,\"#fb9f3a\"],[0.8888888888888888,\"#fdca26\"],[1.0,\"#f0f921\"]],\"sequentialminus\":[[0.0,\"#0d0887\"],[0.1111111111111111,\"#46039f\"],[0.2222222222222222,\"#7201a8\"],[0.3333333333333333,\"#9c179e\"],[0.4444444444444444,\"#bd3786\"],[0.5555555555555556,\"#d8576b\"],[0.6666666666666666,\"#ed7953\"],[0.7777777777777778,\"#fb9f3a\"],[0.8888888888888888,\"#fdca26\"],[1.0,\"#f0f921\"]]},\"colorway\":[\"#636efa\",\"#EF553B\",\"#00cc96\",\"#ab63fa\",\"#FFA15A\",\"#19d3f3\",\"#FF6692\",\"#B6E880\",\"#FF97FF\",\"#FECB52\"],\"font\":{\"color\":\"#2a3f5f\"},\"geo\":{\"bgcolor\":\"white\",\"lakecolor\":\"white\",\"landcolor\":\"#E5ECF6\",\"showlakes\":true,\"showland\":true,\"subunitcolor\":\"white\"},\"hoverlabel\":{\"align\":\"left\"},\"hovermode\":\"closest\",\"mapbox\":{\"style\":\"light\"},\"paper_bgcolor\":\"white\",\"plot_bgcolor\":\"#E5ECF6\",\"polar\":{\"angularaxis\":{\"gridcolor\":\"white\",\"linecolor\":\"white\",\"ticks\":\"\"},\"bgcolor\":\"#E5ECF6\",\"radialaxis\":{\"gridcolor\":\"white\",\"linecolor\":\"white\",\"ticks\":\"\"}},\"scene\":{\"xaxis\":{\"backgroundcolor\":\"#E5ECF6\",\"gridcolor\":\"white\",\"gridwidth\":2,\"linecolor\":\"white\",\"showbackground\":true,\"ticks\":\"\",\"zerolinecolor\":\"white\"},\"yaxis\":{\"backgroundcolor\":\"#E5ECF6\",\"gridcolor\":\"white\",\"gridwidth\":2,\"linecolor\":\"white\",\"showbackground\":true,\"ticks\":\"\",\"zerolinecolor\":\"white\"},\"zaxis\":{\"backgroundcolor\":\"#E5ECF6\",\"gridcolor\":\"white\",\"gridwidth\":2,\"linecolor\":\"white\",\"showbackground\":true,\"ticks\":\"\",\"zerolinecolor\":\"white\"}},\"shapedefaults\":{\"line\":{\"color\":\"#2a3f5f\"}},\"ternary\":{\"aaxis\":{\"gridcolor\":\"white\",\"linecolor\":\"white\",\"ticks\":\"\"},\"baxis\":{\"gridcolor\":\"white\",\"linecolor\":\"white\",\"ticks\":\"\"},\"bgcolor\":\"#E5ECF6\",\"caxis\":{\"gridcolor\":\"white\",\"linecolor\":\"white\",\"ticks\":\"\"}},\"title\":{\"x\":0.05},\"xaxis\":{\"automargin\":true,\"gridcolor\":\"white\",\"linecolor\":\"white\",\"ticks\":\"\",\"title\":{\"standoff\":15},\"zerolinecolor\":\"white\",\"zerolinewidth\":2},\"yaxis\":{\"automargin\":true,\"gridcolor\":\"white\",\"linecolor\":\"white\",\"ticks\":\"\",\"title\":{\"standoff\":15},\"zerolinecolor\":\"white\",\"zerolinewidth\":2}}},\"xaxis\":{\"anchor\":\"y\",\"domain\":[0.0,1.0],\"title\":{\"text\":\"Year\"}},\"yaxis\":{\"anchor\":\"x\",\"domain\":[0.0,1.0],\"title\":{\"text\":\"Count\"}},\"legend\":{\"tracegroupgap\":0},\"margin\":{\"t\":60},\"font\":{\"size\":18}},                        {\"responsive\": true}                    ).then(function(){\n",
              "                            \n",
              "var gd = document.getElementById('72d5fdae-9fca-47cd-b0e0-236ebc58a004');\n",
              "var x = new MutationObserver(function (mutations, observer) {{\n",
              "        var display = window.getComputedStyle(gd).display;\n",
              "        if (!display || display === 'none') {{\n",
              "            console.log([gd, 'removed!']);\n",
              "            Plotly.purge(gd);\n",
              "            observer.disconnect();\n",
              "        }}\n",
              "}});\n",
              "\n",
              "// Listen for the removal of the full notebook cells\n",
              "var notebookContainer = gd.closest('#notebook-container');\n",
              "if (notebookContainer) {{\n",
              "    x.observe(notebookContainer, {childList: true});\n",
              "}}\n",
              "\n",
              "// Listen for the clearing of the current output cell\n",
              "var outputEl = gd.closest('.output');\n",
              "if (outputEl) {{\n",
              "    x.observe(outputEl, {childList: true});\n",
              "}}\n",
              "\n",
              "                        })                };                            </script>        </div>\n",
              "</body>\n",
              "</html>"
            ]
          },
          "metadata": {}
        }
      ],
      "source": [
        "import plotly.express as px\n",
        "\n",
        "#must resort the dataframe by Year\n",
        "babynames = babynames.sort_values(by = \"Year\")\n",
        "\n",
        "fig = px.line(babynames.query(\"Name == 'Jennifer' and Sex == 'F'\"), x = \"Year\", y = \"Count\")\n",
        "fig.update_layout(font_size = 18)"
      ]
    },
    {
      "cell_type": "markdown",
      "metadata": {
        "id": "EqaqmSm2eUGc"
      },
      "source": [
        "To answer this question, we'll need a mathematical definition for the change in popularity of a name.\n",
        "\n",
        "For the purposes of lecture, let’s use the RTP or ratio_to_peak. This is the current count of the name divded by its maximum ever count."
      ]
    },
    {
      "cell_type": "markdown",
      "metadata": {
        "id": "ezrymIoceUGd"
      },
      "source": [
        "Getting the max Jennifer is easy enough."
      ]
    },
    {
      "cell_type": "code",
      "execution_count": 31,
      "metadata": {
        "id": "lp9aWUPweUGd",
        "outputId": "5ca75d99-7f19-4f38-ccc3-6f280985e63b",
        "colab": {
          "base_uri": "https://localhost:8080/"
        }
      },
      "outputs": [
        {
          "output_type": "execute_result",
          "data": {
            "text/plain": [
              "6065"
            ]
          },
          "metadata": {},
          "execution_count": 31
        }
      ],
      "source": [
        "max_jennifers = max(babynames.query(\"Name == 'Jennifer' and Sex == 'F'\")[\"Count\"])\n",
        "max_jennifers"
      ]
    },
    {
      "cell_type": "markdown",
      "metadata": {
        "id": "Di29ne4-eUGd"
      },
      "source": [
        "And we can get the most recent Jennifer count with `iloc[-1]` (TODO: Maybe make this an exercise)"
      ]
    },
    {
      "cell_type": "code",
      "execution_count": 38,
      "metadata": {
        "tags": [],
        "id": "Vn-bonfxeUGe",
        "outputId": "51e35b09-7067-468d-be43-a826b2b75979",
        "colab": {
          "base_uri": "https://localhost:8080/"
        }
      },
      "outputs": [
        {
          "output_type": "execute_result",
          "data": {
            "text/plain": [
              "91"
            ]
          },
          "metadata": {},
          "execution_count": 38
        }
      ],
      "source": [
        "current_jennifers = babynames.query(\"Name == 'Jennifer' and Sex == 'F'\")[\"Count\"].iloc[-1]\n",
        "current_jennifers"
      ]
    },
    {
      "cell_type": "code",
      "source": [
        "#most recent Year is 2021 -- it's 2020 in the lecture\n",
        "\n",
        "babynames.tail()"
      ],
      "metadata": {
        "id": "2CH9bK_ymWq1",
        "outputId": "b06e855d-0a56-419e-aa2d-8624a9ec9c2c",
        "colab": {
          "base_uri": "https://localhost:8080/",
          "height": 204
        }
      },
      "execution_count": 33,
      "outputs": [
        {
          "output_type": "execute_result",
          "data": {
            "text/plain": [
              "       State Sex  Year     Name  Count  nl\n",
              "398107    CA   M  2021    Chase    210   5\n",
              "399957    CA   M  2021    Emmet      7   5\n",
              "234932    CA   F  2021  Scotlyn      7   7\n",
              "398358    CA   M  2021  Alfonso     73   7\n",
              "400761    CA   M  2021    Zyrus      5   5"
            ],
            "text/html": [
              "\n",
              "  <div id=\"df-1de70eb6-b80f-40cc-9823-0101d6929fdd\">\n",
              "    <div class=\"colab-df-container\">\n",
              "      <div>\n",
              "<style scoped>\n",
              "    .dataframe tbody tr th:only-of-type {\n",
              "        vertical-align: middle;\n",
              "    }\n",
              "\n",
              "    .dataframe tbody tr th {\n",
              "        vertical-align: top;\n",
              "    }\n",
              "\n",
              "    .dataframe thead th {\n",
              "        text-align: right;\n",
              "    }\n",
              "</style>\n",
              "<table border=\"1\" class=\"dataframe\">\n",
              "  <thead>\n",
              "    <tr style=\"text-align: right;\">\n",
              "      <th></th>\n",
              "      <th>State</th>\n",
              "      <th>Sex</th>\n",
              "      <th>Year</th>\n",
              "      <th>Name</th>\n",
              "      <th>Count</th>\n",
              "      <th>nl</th>\n",
              "    </tr>\n",
              "  </thead>\n",
              "  <tbody>\n",
              "    <tr>\n",
              "      <th>398107</th>\n",
              "      <td>CA</td>\n",
              "      <td>M</td>\n",
              "      <td>2021</td>\n",
              "      <td>Chase</td>\n",
              "      <td>210</td>\n",
              "      <td>5</td>\n",
              "    </tr>\n",
              "    <tr>\n",
              "      <th>399957</th>\n",
              "      <td>CA</td>\n",
              "      <td>M</td>\n",
              "      <td>2021</td>\n",
              "      <td>Emmet</td>\n",
              "      <td>7</td>\n",
              "      <td>5</td>\n",
              "    </tr>\n",
              "    <tr>\n",
              "      <th>234932</th>\n",
              "      <td>CA</td>\n",
              "      <td>F</td>\n",
              "      <td>2021</td>\n",
              "      <td>Scotlyn</td>\n",
              "      <td>7</td>\n",
              "      <td>7</td>\n",
              "    </tr>\n",
              "    <tr>\n",
              "      <th>398358</th>\n",
              "      <td>CA</td>\n",
              "      <td>M</td>\n",
              "      <td>2021</td>\n",
              "      <td>Alfonso</td>\n",
              "      <td>73</td>\n",
              "      <td>7</td>\n",
              "    </tr>\n",
              "    <tr>\n",
              "      <th>400761</th>\n",
              "      <td>CA</td>\n",
              "      <td>M</td>\n",
              "      <td>2021</td>\n",
              "      <td>Zyrus</td>\n",
              "      <td>5</td>\n",
              "      <td>5</td>\n",
              "    </tr>\n",
              "  </tbody>\n",
              "</table>\n",
              "</div>\n",
              "      <button class=\"colab-df-convert\" onclick=\"convertToInteractive('df-1de70eb6-b80f-40cc-9823-0101d6929fdd')\"\n",
              "              title=\"Convert this dataframe to an interactive table.\"\n",
              "              style=\"display:none;\">\n",
              "        \n",
              "  <svg xmlns=\"http://www.w3.org/2000/svg\" height=\"24px\"viewBox=\"0 0 24 24\"\n",
              "       width=\"24px\">\n",
              "    <path d=\"M0 0h24v24H0V0z\" fill=\"none\"/>\n",
              "    <path d=\"M18.56 5.44l.94 2.06.94-2.06 2.06-.94-2.06-.94-.94-2.06-.94 2.06-2.06.94zm-11 1L8.5 8.5l.94-2.06 2.06-.94-2.06-.94L8.5 2.5l-.94 2.06-2.06.94zm10 10l.94 2.06.94-2.06 2.06-.94-2.06-.94-.94-2.06-.94 2.06-2.06.94z\"/><path d=\"M17.41 7.96l-1.37-1.37c-.4-.4-.92-.59-1.43-.59-.52 0-1.04.2-1.43.59L10.3 9.45l-7.72 7.72c-.78.78-.78 2.05 0 2.83L4 21.41c.39.39.9.59 1.41.59.51 0 1.02-.2 1.41-.59l7.78-7.78 2.81-2.81c.8-.78.8-2.07 0-2.86zM5.41 20L4 18.59l7.72-7.72 1.47 1.35L5.41 20z\"/>\n",
              "  </svg>\n",
              "      </button>\n",
              "      \n",
              "  <style>\n",
              "    .colab-df-container {\n",
              "      display:flex;\n",
              "      flex-wrap:wrap;\n",
              "      gap: 12px;\n",
              "    }\n",
              "\n",
              "    .colab-df-convert {\n",
              "      background-color: #E8F0FE;\n",
              "      border: none;\n",
              "      border-radius: 50%;\n",
              "      cursor: pointer;\n",
              "      display: none;\n",
              "      fill: #1967D2;\n",
              "      height: 32px;\n",
              "      padding: 0 0 0 0;\n",
              "      width: 32px;\n",
              "    }\n",
              "\n",
              "    .colab-df-convert:hover {\n",
              "      background-color: #E2EBFA;\n",
              "      box-shadow: 0px 1px 2px rgba(60, 64, 67, 0.3), 0px 1px 3px 1px rgba(60, 64, 67, 0.15);\n",
              "      fill: #174EA6;\n",
              "    }\n",
              "\n",
              "    [theme=dark] .colab-df-convert {\n",
              "      background-color: #3B4455;\n",
              "      fill: #D2E3FC;\n",
              "    }\n",
              "\n",
              "    [theme=dark] .colab-df-convert:hover {\n",
              "      background-color: #434B5C;\n",
              "      box-shadow: 0px 1px 3px 1px rgba(0, 0, 0, 0.15);\n",
              "      filter: drop-shadow(0px 1px 2px rgba(0, 0, 0, 0.3));\n",
              "      fill: #FFFFFF;\n",
              "    }\n",
              "  </style>\n",
              "\n",
              "      <script>\n",
              "        const buttonEl =\n",
              "          document.querySelector('#df-1de70eb6-b80f-40cc-9823-0101d6929fdd button.colab-df-convert');\n",
              "        buttonEl.style.display =\n",
              "          google.colab.kernel.accessAllowed ? 'block' : 'none';\n",
              "\n",
              "        async function convertToInteractive(key) {\n",
              "          const element = document.querySelector('#df-1de70eb6-b80f-40cc-9823-0101d6929fdd');\n",
              "          const dataTable =\n",
              "            await google.colab.kernel.invokeFunction('convertToInteractive',\n",
              "                                                     [key], {});\n",
              "          if (!dataTable) return;\n",
              "\n",
              "          const docLinkHtml = 'Like what you see? Visit the ' +\n",
              "            '<a target=\"_blank\" href=https://colab.research.google.com/notebooks/data_table.ipynb>data table notebook</a>'\n",
              "            + ' to learn more about interactive tables.';\n",
              "          element.innerHTML = '';\n",
              "          dataTable['output_type'] = 'display_data';\n",
              "          await google.colab.output.renderOutput(dataTable, element);\n",
              "          const docLink = document.createElement('div');\n",
              "          docLink.innerHTML = docLinkHtml;\n",
              "          element.appendChild(docLink);\n",
              "        }\n",
              "      </script>\n",
              "    </div>\n",
              "  </div>\n",
              "  "
            ]
          },
          "metadata": {},
          "execution_count": 33
        }
      ]
    },
    {
      "cell_type": "code",
      "source": [
        "#using 2020 to follow the lecture\n",
        "\n",
        "current_jennifers = babynames.query(\"Name == 'Jennifer' and Sex == 'F' and Year == 2020\")[\"Count\"]\n",
        "current_jennifers\n",
        "\n",
        "##returns a Series object, but need an integer...he uses iloc, but there's got to be another way!\n",
        "\n",
        "babynames.query(\"Name == 'Jennifer' and Sex == 'F'\")\n",
        "current_jennifers = babynames.query(\"Name == 'Jennifer' and Sex == 'F'\")[\"Count\"].iloc[-2]\n",
        "current_jennifers"
      ],
      "metadata": {
        "id": "Gu0YfsjlmjYk",
        "outputId": "892ff7ad-68dc-4c4a-952a-ef3b9a2f5729",
        "colab": {
          "base_uri": "https://localhost:8080/"
        }
      },
      "execution_count": 62,
      "outputs": [
        {
          "output_type": "execute_result",
          "data": {
            "text/plain": [
              "141"
            ]
          },
          "metadata": {},
          "execution_count": 62
        }
      ]
    },
    {
      "cell_type": "code",
      "source": [
        "##another option for pulling out an integer (or one value) vice a Series\n",
        "\n",
        "babynames.query(\"Name == 'Jennifer' and Sex == 'F' and Year == 2020\")[\"Count\"]  #this gives a Series of just the one number\n",
        "babynames.query(\"Name == 'Jennifer' and Sex == 'F' and Year == 2020\")[\"Count\"].values[0]  #this pulls out the number"
      ],
      "metadata": {
        "id": "YD7ONpvvuMmd",
        "outputId": "40fe0e50-f00e-460b-e843-d0882b1684c4",
        "colab": {
          "base_uri": "https://localhost:8080/"
        }
      },
      "execution_count": 63,
      "outputs": [
        {
          "output_type": "execute_result",
          "data": {
            "text/plain": [
              "141"
            ]
          },
          "metadata": {},
          "execution_count": 63
        }
      ]
    },
    {
      "cell_type": "code",
      "execution_count": 64,
      "metadata": {
        "tags": [],
        "id": "RS2P3qWTeUGe",
        "outputId": "2eddd182-2bdf-4368-c98b-4fe459d26256",
        "colab": {
          "base_uri": "https://localhost:8080/"
        }
      },
      "outputs": [
        {
          "output_type": "execute_result",
          "data": {
            "text/plain": [
              "0.023248145094806265"
            ]
          },
          "metadata": {},
          "execution_count": 64
        }
      ],
      "source": [
        "current_jennifers / max_jennifers"
      ]
    },
    {
      "cell_type": "markdown",
      "metadata": {
        "id": "WOX6BJ3NeUGf"
      },
      "source": [
        "We can also write a function that produces the ratio_to_peak for a given series."
      ]
    },
    {
      "cell_type": "markdown",
      "metadata": {
        "id": "oLUMSSZBeUGg"
      },
      "source": [
        "Here for clarity, let's regenerate the `jennifer_counts` Series, but let's do so on a DataFrame where the index is the year."
      ]
    },
    {
      "cell_type": "code",
      "execution_count": 65,
      "metadata": {
        "id": "H4LTvpyheUGg"
      },
      "outputs": [],
      "source": [
        "# I don't like this function -- maybe use max year to filter??\n",
        "\n",
        "def ratio_to_peak(series):\n",
        "    return series.iloc[-1] / max(series)"
      ]
    },
    {
      "cell_type": "code",
      "execution_count": 66,
      "metadata": {
        "id": "mELOnajOeUGh",
        "outputId": "a6e6844e-0499-447f-fc2d-0067456b9e39",
        "colab": {
          "base_uri": "https://localhost:8080/"
        }
      },
      "outputs": [
        {
          "output_type": "execute_result",
          "data": {
            "text/plain": [
              "0.015004122011541632"
            ]
          },
          "metadata": {},
          "execution_count": 66
        }
      ],
      "source": [
        "jennifer_counts_series = babynames.query(\"Name == 'Jennifer' and Sex == 'F'\")[\"Count\"]\n",
        "ratio_to_peak(jennifer_counts_series)"
      ]
    },
    {
      "cell_type": "markdown",
      "metadata": {
        "id": "0SUcWNAFeUGh"
      },
      "source": [
        "We can try out various names below: "
      ]
    },
    {
      "cell_type": "code",
      "execution_count": 67,
      "metadata": {
        "id": "Qlw9FK0TeUGi",
        "outputId": "3fc0a138-6a38-4f7c-a484-39612b0238da",
        "colab": {
          "base_uri": "https://localhost:8080/"
        }
      },
      "outputs": [
        {
          "output_type": "execute_result",
          "data": {
            "text/plain": [
              "0.01524741081703107"
            ]
          },
          "metadata": {},
          "execution_count": 67
        }
      ],
      "source": [
        "ratio_to_peak(babynames.query(\"Name == 'Jessica' and Sex == 'F'\")[\"Count\"])"
      ]
    },
    {
      "cell_type": "markdown",
      "metadata": {
        "id": "gKSuSi4veUGk"
      },
      "source": [
        "Since we're only working with female names, let's create a DataFrame with only female names to simplify our later code."
      ]
    },
    {
      "cell_type": "code",
      "execution_count": null,
      "metadata": {
        "id": "01XKVMTKeUGl"
      },
      "outputs": [],
      "source": [
        "female_babynames = babynames[babynames[\"Sex\"] == \"F\"] #could have also used query but I want to use various types of syntax to increase your exposure to other ways of writing code"
      ]
    },
    {
      "cell_type": "markdown",
      "metadata": {
        "id": "aj5CcHCxeUGn"
      },
      "source": [
        "### Approach 1: Naive For Loop"
      ]
    },
    {
      "cell_type": "markdown",
      "metadata": {
        "id": "eKfNBzFieUGo"
      },
      "source": [
        "As a first approach, we can try to use a for loop."
      ]
    },
    {
      "cell_type": "code",
      "execution_count": null,
      "metadata": {
        "id": "KbzSFlDueUGp"
      },
      "outputs": [],
      "source": [
        "#build dictionary where each entry is the rtp for a given name\n",
        "#e.g. rtps[\"jennifer\"] should be 0.0231\n",
        "#rtps = {}\n",
        "#for name in ??:\n",
        "#    counts_of_current_name = female_babynames[??][\"Count\"]\n",
        "#    rtps[name] = ratio_to_peak(counts_of_current_name)\n",
        "    \n",
        "#convert to series\n",
        "#rtps = pd.Series(rtps) \n",
        "#rtps"
      ]
    },
    {
      "cell_type": "markdown",
      "metadata": {
        "id": "8byBWGeceUGq"
      },
      "source": [
        "Answer below. Note that we only used the first 100 names because otherwise the code takes ages to complete running."
      ]
    },
    {
      "cell_type": "code",
      "execution_count": null,
      "metadata": {
        "id": "23trdqO_eUGr",
        "outputId": "d149d28e-9b97-41f8-9460-8839e5df3ef9"
      },
      "outputs": [
        {
          "data": {
            "text/html": [
              "<div>\n",
              "<style scoped>\n",
              "    .dataframe tbody tr th:only-of-type {\n",
              "        vertical-align: middle;\n",
              "    }\n",
              "\n",
              "    .dataframe tbody tr th {\n",
              "        vertical-align: top;\n",
              "    }\n",
              "\n",
              "    .dataframe thead th {\n",
              "        text-align: right;\n",
              "    }\n",
              "</style>\n",
              "<table border=\"1\" class=\"dataframe\">\n",
              "  <thead>\n",
              "    <tr style=\"text-align: right;\">\n",
              "      <th></th>\n",
              "      <th>B</th>\n",
              "      <th>C</th>\n",
              "    </tr>\n",
              "    <tr>\n",
              "      <th>A</th>\n",
              "      <th></th>\n",
              "      <th></th>\n",
              "    </tr>\n",
              "  </thead>\n",
              "  <tbody>\n",
              "    <tr>\n",
              "      <th>1</th>\n",
              "      <td>1</td>\n",
              "      <td>0.227877</td>\n",
              "    </tr>\n",
              "    <tr>\n",
              "      <th>2</th>\n",
              "      <td>3</td>\n",
              "      <td>-0.562860</td>\n",
              "    </tr>\n",
              "  </tbody>\n",
              "</table>\n",
              "</div>"
            ],
            "text/plain": [
              "   B         C\n",
              "A             \n",
              "1  1  0.227877\n",
              "2  3 -0.562860"
            ]
          },
          "execution_count": 39,
          "metadata": {},
          "output_type": "execute_result"
        }
      ],
      "source": [
        "df = pd.DataFrame(\n",
        "    {\n",
        "        \"A\": [1, 1, 2, 2],\n",
        "        \"B\": [1, 2, 3, 4],\n",
        "        \"C\": [0.362838, 0.227877, 1.267767, -0.562860],\n",
        "    }\n",
        ")\n",
        "df.groupby('A').agg('min')"
      ]
    },
    {
      "cell_type": "code",
      "execution_count": null,
      "metadata": {
        "id": "OkLXdmeBeUGs",
        "outputId": "da460e4a-9232-48c5-ce54-2839c84b0f30"
      },
      "outputs": [
        {
          "ename": "IndexError",
          "evalue": "single positional indexer is out-of-bounds",
          "output_type": "error",
          "traceback": [
            "\u001b[0;31m---------------------------------------------------------------------------\u001b[0m",
            "\u001b[0;31mIndexError\u001b[0m                                Traceback (most recent call last)",
            "Input \u001b[0;32mIn [38]\u001b[0m, in \u001b[0;36m<module>\u001b[0;34m\u001b[0m\n\u001b[1;32m      4\u001b[0m \u001b[38;5;28;01mfor\u001b[39;00m name \u001b[38;5;129;01min\u001b[39;00m babynames[\u001b[38;5;124m\"\u001b[39m\u001b[38;5;124mName\u001b[39m\u001b[38;5;124m\"\u001b[39m]\u001b[38;5;241m.\u001b[39munique()[\u001b[38;5;241m0\u001b[39m:\u001b[38;5;241m100\u001b[39m]:\n\u001b[1;32m      5\u001b[0m     counts_of_current_name \u001b[38;5;241m=\u001b[39m female_babynames[female_babynames[\u001b[38;5;124m\"\u001b[39m\u001b[38;5;124mName\u001b[39m\u001b[38;5;124m\"\u001b[39m] \u001b[38;5;241m==\u001b[39m name][\u001b[38;5;124m\"\u001b[39m\u001b[38;5;124mCount\u001b[39m\u001b[38;5;124m\"\u001b[39m]\n\u001b[0;32m----> 6\u001b[0m     rtps[name] \u001b[38;5;241m=\u001b[39m \u001b[43mratio_to_peak\u001b[49m\u001b[43m(\u001b[49m\u001b[43mcounts_of_current_name\u001b[49m\u001b[43m)\u001b[49m\n\u001b[1;32m      8\u001b[0m \u001b[38;5;66;03m#convert to series\u001b[39;00m\n\u001b[1;32m      9\u001b[0m rtps \u001b[38;5;241m=\u001b[39m pd\u001b[38;5;241m.\u001b[39mSeries(rtps) \n",
            "Input \u001b[0;32mIn [31]\u001b[0m, in \u001b[0;36mratio_to_peak\u001b[0;34m(series)\u001b[0m\n\u001b[1;32m      1\u001b[0m \u001b[38;5;28;01mdef\u001b[39;00m \u001b[38;5;21mratio_to_peak\u001b[39m(series):\n\u001b[0;32m----> 2\u001b[0m     \u001b[38;5;28;01mreturn\u001b[39;00m \u001b[43mseries\u001b[49m\u001b[38;5;241;43m.\u001b[39;49m\u001b[43miloc\u001b[49m\u001b[43m[\u001b[49m\u001b[38;5;241;43m-\u001b[39;49m\u001b[38;5;241;43m1\u001b[39;49m\u001b[43m]\u001b[49m \u001b[38;5;241m/\u001b[39m \u001b[38;5;28mmax\u001b[39m(series)\n",
            "File \u001b[0;32m/opt/conda/lib/python3.9/site-packages/pandas/core/indexing.py:931\u001b[0m, in \u001b[0;36m_LocationIndexer.__getitem__\u001b[0;34m(self, key)\u001b[0m\n\u001b[1;32m    928\u001b[0m axis \u001b[38;5;241m=\u001b[39m \u001b[38;5;28mself\u001b[39m\u001b[38;5;241m.\u001b[39maxis \u001b[38;5;129;01mor\u001b[39;00m \u001b[38;5;241m0\u001b[39m\n\u001b[1;32m    930\u001b[0m maybe_callable \u001b[38;5;241m=\u001b[39m com\u001b[38;5;241m.\u001b[39mapply_if_callable(key, \u001b[38;5;28mself\u001b[39m\u001b[38;5;241m.\u001b[39mobj)\n\u001b[0;32m--> 931\u001b[0m \u001b[38;5;28;01mreturn\u001b[39;00m \u001b[38;5;28;43mself\u001b[39;49m\u001b[38;5;241;43m.\u001b[39;49m\u001b[43m_getitem_axis\u001b[49m\u001b[43m(\u001b[49m\u001b[43mmaybe_callable\u001b[49m\u001b[43m,\u001b[49m\u001b[43m \u001b[49m\u001b[43maxis\u001b[49m\u001b[38;5;241;43m=\u001b[39;49m\u001b[43maxis\u001b[49m\u001b[43m)\u001b[49m\n",
            "File \u001b[0;32m/opt/conda/lib/python3.9/site-packages/pandas/core/indexing.py:1566\u001b[0m, in \u001b[0;36m_iLocIndexer._getitem_axis\u001b[0;34m(self, key, axis)\u001b[0m\n\u001b[1;32m   1563\u001b[0m     \u001b[38;5;28;01mraise\u001b[39;00m \u001b[38;5;167;01mTypeError\u001b[39;00m(\u001b[38;5;124m\"\u001b[39m\u001b[38;5;124mCannot index by location index with a non-integer key\u001b[39m\u001b[38;5;124m\"\u001b[39m)\n\u001b[1;32m   1565\u001b[0m \u001b[38;5;66;03m# validate the location\u001b[39;00m\n\u001b[0;32m-> 1566\u001b[0m \u001b[38;5;28;43mself\u001b[39;49m\u001b[38;5;241;43m.\u001b[39;49m\u001b[43m_validate_integer\u001b[49m\u001b[43m(\u001b[49m\u001b[43mkey\u001b[49m\u001b[43m,\u001b[49m\u001b[43m \u001b[49m\u001b[43maxis\u001b[49m\u001b[43m)\u001b[49m\n\u001b[1;32m   1568\u001b[0m \u001b[38;5;28;01mreturn\u001b[39;00m \u001b[38;5;28mself\u001b[39m\u001b[38;5;241m.\u001b[39mobj\u001b[38;5;241m.\u001b[39m_ixs(key, axis\u001b[38;5;241m=\u001b[39maxis)\n",
            "File \u001b[0;32m/opt/conda/lib/python3.9/site-packages/pandas/core/indexing.py:1500\u001b[0m, in \u001b[0;36m_iLocIndexer._validate_integer\u001b[0;34m(self, key, axis)\u001b[0m\n\u001b[1;32m   1498\u001b[0m len_axis \u001b[38;5;241m=\u001b[39m \u001b[38;5;28mlen\u001b[39m(\u001b[38;5;28mself\u001b[39m\u001b[38;5;241m.\u001b[39mobj\u001b[38;5;241m.\u001b[39m_get_axis(axis))\n\u001b[1;32m   1499\u001b[0m \u001b[38;5;28;01mif\u001b[39;00m key \u001b[38;5;241m>\u001b[39m\u001b[38;5;241m=\u001b[39m len_axis \u001b[38;5;129;01mor\u001b[39;00m key \u001b[38;5;241m<\u001b[39m \u001b[38;5;241m-\u001b[39mlen_axis:\n\u001b[0;32m-> 1500\u001b[0m     \u001b[38;5;28;01mraise\u001b[39;00m \u001b[38;5;167;01mIndexError\u001b[39;00m(\u001b[38;5;124m\"\u001b[39m\u001b[38;5;124msingle positional indexer is out-of-bounds\u001b[39m\u001b[38;5;124m\"\u001b[39m)\n",
            "\u001b[0;31mIndexError\u001b[0m: single positional indexer is out-of-bounds"
          ]
        }
      ],
      "source": [
        "#build dictionary where entry i is the ammd for the given name\n",
        "#e.g. rtps[\"jennifer\"] should be 0.0231\n",
        "rtps = {}\n",
        "for name in babynames[\"Name\"].unique()[0:100]:\n",
        "    counts_of_current_name = female_babynames[female_babynames[\"Name\"] == name][\"Count\"]\n",
        "    rtps[name] = ratio_to_peak(counts_of_current_name)\n",
        "    \n",
        "#convert to series\n",
        "rtps = pd.Series(rtps) \n",
        "rtps"
      ]
    },
    {
      "cell_type": "code",
      "execution_count": null,
      "metadata": {
        "id": "m52Ru4SweUGs"
      },
      "outputs": [],
      "source": [
        "rtps.sort_values()"
      ]
    },
    {
      "cell_type": "markdown",
      "metadata": {
        "id": "hYJkHlfqeUGt"
      },
      "source": [
        "### Approach 2: Use groupby.agg"
      ]
    },
    {
      "cell_type": "markdown",
      "metadata": {
        "id": "nX83qPOgeUGv"
      },
      "source": [
        "Instead, we can use the very powerful groupby.agg operation, which allows us to simply and efficiently compute what we want."
      ]
    },
    {
      "cell_type": "code",
      "execution_count": null,
      "metadata": {
        "id": "gCO8S8yTeUGv",
        "outputId": "6a69c674-6dac-4e67-c6f8-e2b19a9d1a95"
      },
      "outputs": [
        {
          "data": {
            "text/html": [
              "<div>\n",
              "<style scoped>\n",
              "    .dataframe tbody tr th:only-of-type {\n",
              "        vertical-align: middle;\n",
              "    }\n",
              "\n",
              "    .dataframe tbody tr th {\n",
              "        vertical-align: top;\n",
              "    }\n",
              "\n",
              "    .dataframe thead th {\n",
              "        text-align: right;\n",
              "    }\n",
              "</style>\n",
              "<table border=\"1\" class=\"dataframe\">\n",
              "  <thead>\n",
              "    <tr style=\"text-align: right;\">\n",
              "      <th></th>\n",
              "      <th>State</th>\n",
              "      <th>Sex</th>\n",
              "      <th>Year</th>\n",
              "      <th>Name</th>\n",
              "      <th>Count</th>\n",
              "    </tr>\n",
              "  </thead>\n",
              "  <tbody>\n",
              "    <tr>\n",
              "      <th>131013</th>\n",
              "      <td>CA</td>\n",
              "      <td>F</td>\n",
              "      <td>1994</td>\n",
              "      <td>Leandrea</td>\n",
              "      <td>5</td>\n",
              "    </tr>\n",
              "    <tr>\n",
              "      <th>115942</th>\n",
              "      <td>CA</td>\n",
              "      <td>F</td>\n",
              "      <td>1990</td>\n",
              "      <td>Deandrea</td>\n",
              "      <td>5</td>\n",
              "    </tr>\n",
              "    <tr>\n",
              "      <th>108715</th>\n",
              "      <td>CA</td>\n",
              "      <td>F</td>\n",
              "      <td>1988</td>\n",
              "      <td>Deandrea</td>\n",
              "      <td>5</td>\n",
              "    </tr>\n",
              "    <tr>\n",
              "      <th>101962</th>\n",
              "      <td>CA</td>\n",
              "      <td>F</td>\n",
              "      <td>1986</td>\n",
              "      <td>Deandrea</td>\n",
              "      <td>6</td>\n",
              "    </tr>\n",
              "    <tr>\n",
              "      <th>212474</th>\n",
              "      <td>CA</td>\n",
              "      <td>F</td>\n",
              "      <td>2015</td>\n",
              "      <td>Leandra</td>\n",
              "      <td>7</td>\n",
              "    </tr>\n",
              "  </tbody>\n",
              "</table>\n",
              "</div>"
            ],
            "text/plain": [
              "       State Sex  Year      Name  Count\n",
              "131013    CA   F  1994  Leandrea      5\n",
              "115942    CA   F  1990  Deandrea      5\n",
              "108715    CA   F  1988  Deandrea      5\n",
              "101962    CA   F  1986  Deandrea      6\n",
              "212474    CA   F  2015   Leandra      7"
            ]
          },
          "execution_count": 40,
          "metadata": {},
          "output_type": "execute_result"
        }
      ],
      "source": [
        "female_babynames.head()"
      ]
    },
    {
      "cell_type": "code",
      "execution_count": null,
      "metadata": {
        "id": "FhnVSqW0eUGw",
        "outputId": "adfc91fd-ef9f-4380-8067-d4c530bc9e2f"
      },
      "outputs": [
        {
          "data": {
            "text/html": [
              "<div>\n",
              "<style scoped>\n",
              "    .dataframe tbody tr th:only-of-type {\n",
              "        vertical-align: middle;\n",
              "    }\n",
              "\n",
              "    .dataframe tbody tr th {\n",
              "        vertical-align: top;\n",
              "    }\n",
              "\n",
              "    .dataframe thead th {\n",
              "        text-align: right;\n",
              "    }\n",
              "</style>\n",
              "<table border=\"1\" class=\"dataframe\">\n",
              "  <thead>\n",
              "    <tr style=\"text-align: right;\">\n",
              "      <th></th>\n",
              "      <th>State</th>\n",
              "      <th>Sex</th>\n",
              "      <th>Year</th>\n",
              "      <th>Name</th>\n",
              "      <th>Count</th>\n",
              "    </tr>\n",
              "  </thead>\n",
              "  <tbody>\n",
              "    <tr>\n",
              "      <th>131013</th>\n",
              "      <td>CA</td>\n",
              "      <td>F</td>\n",
              "      <td>1994</td>\n",
              "      <td>Leandrea</td>\n",
              "      <td>5</td>\n",
              "    </tr>\n",
              "    <tr>\n",
              "      <th>115942</th>\n",
              "      <td>CA</td>\n",
              "      <td>F</td>\n",
              "      <td>1990</td>\n",
              "      <td>Deandrea</td>\n",
              "      <td>5</td>\n",
              "    </tr>\n",
              "    <tr>\n",
              "      <th>108715</th>\n",
              "      <td>CA</td>\n",
              "      <td>F</td>\n",
              "      <td>1988</td>\n",
              "      <td>Deandrea</td>\n",
              "      <td>5</td>\n",
              "    </tr>\n",
              "    <tr>\n",
              "      <th>101962</th>\n",
              "      <td>CA</td>\n",
              "      <td>F</td>\n",
              "      <td>1986</td>\n",
              "      <td>Deandrea</td>\n",
              "      <td>6</td>\n",
              "    </tr>\n",
              "    <tr>\n",
              "      <th>212474</th>\n",
              "      <td>CA</td>\n",
              "      <td>F</td>\n",
              "      <td>2015</td>\n",
              "      <td>Leandra</td>\n",
              "      <td>7</td>\n",
              "    </tr>\n",
              "    <tr>\n",
              "      <th>...</th>\n",
              "      <td>...</td>\n",
              "      <td>...</td>\n",
              "      <td>...</td>\n",
              "      <td>...</td>\n",
              "      <td>...</td>\n",
              "    </tr>\n",
              "    <tr>\n",
              "      <th>79750</th>\n",
              "      <td>CA</td>\n",
              "      <td>F</td>\n",
              "      <td>1978</td>\n",
              "      <td>Kia</td>\n",
              "      <td>9</td>\n",
              "    </tr>\n",
              "    <tr>\n",
              "      <th>165624</th>\n",
              "      <td>CA</td>\n",
              "      <td>F</td>\n",
              "      <td>2004</td>\n",
              "      <td>Kai</td>\n",
              "      <td>23</td>\n",
              "    </tr>\n",
              "    <tr>\n",
              "      <th>59532</th>\n",
              "      <td>CA</td>\n",
              "      <td>F</td>\n",
              "      <td>1969</td>\n",
              "      <td>Lia</td>\n",
              "      <td>25</td>\n",
              "    </tr>\n",
              "    <tr>\n",
              "      <th>59529</th>\n",
              "      <td>CA</td>\n",
              "      <td>F</td>\n",
              "      <td>1969</td>\n",
              "      <td>Kay</td>\n",
              "      <td>25</td>\n",
              "    </tr>\n",
              "    <tr>\n",
              "      <th>44283</th>\n",
              "      <td>CA</td>\n",
              "      <td>F</td>\n",
              "      <td>1961</td>\n",
              "      <td>Dee</td>\n",
              "      <td>70</td>\n",
              "    </tr>\n",
              "  </tbody>\n",
              "</table>\n",
              "<p>232102 rows × 5 columns</p>\n",
              "</div>"
            ],
            "text/plain": [
              "       State Sex  Year      Name  Count\n",
              "131013    CA   F  1994  Leandrea      5\n",
              "115942    CA   F  1990  Deandrea      5\n",
              "108715    CA   F  1988  Deandrea      5\n",
              "101962    CA   F  1986  Deandrea      6\n",
              "212474    CA   F  2015   Leandra      7\n",
              "...      ...  ..   ...       ...    ...\n",
              "79750     CA   F  1978       Kia      9\n",
              "165624    CA   F  2004       Kai     23\n",
              "59532     CA   F  1969       Lia     25\n",
              "59529     CA   F  1969       Kay     25\n",
              "44283     CA   F  1961       Dee     70\n",
              "\n",
              "[232102 rows x 5 columns]"
            ]
          },
          "execution_count": 41,
          "metadata": {},
          "output_type": "execute_result"
        }
      ],
      "source": [
        "female_babynames"
      ]
    },
    {
      "cell_type": "code",
      "execution_count": null,
      "metadata": {
        "scrolled": true,
        "id": "gMf9w8gleUGw",
        "outputId": "0738bee5-237e-4b5d-f500-2b0c04ad9322"
      },
      "outputs": [
        {
          "data": {
            "text/plain": [
              "Name\n",
              "Aadhira    2018\n",
              "Aadhira    2017\n",
              "Aadhira    2020\n",
              "Name: Year, dtype: int64"
            ]
          },
          "execution_count": 54,
          "metadata": {},
          "output_type": "execute_result"
        }
      ],
      "source": [
        "rtp_table = female_babynames.groupby(\"Name\").agg('count')\n",
        "female_babynames.set_index('Name').loc['Aadhira', :]['Year']\n",
        "\n",
        "#Note: If this cell crashes, comment out the code and use the female_babynames.groupby(\"Name\")[[\"Count\"]].agg(ratio_to_peak) instead"
      ]
    },
    {
      "cell_type": "markdown",
      "metadata": {
        "id": "OFnccf_5eUGw"
      },
      "source": [
        "This is simply the equivalent of [http://data8.org/datascience/_autosummary/datascience.tables.Table.group.html](http://data8.org/datascience/_autosummary/datascience.tables.Table.group.html) from Data8, e.g. if babynames were using `Table`, our code would read:\n",
        "\n",
        "`female_babynames.group(\"Name\", ratio_to_peak)`\n",
        "\n",
        "For a visual review of groupby, see this [lecture slide](https://docs.google.com/presentation/d/1FC-cs5MTGSkDzI_7R_ZENgwoHQ4aVamxFOpJuWT0fo0/edit#slide=id.g477ed0f02e_0_390)."
      ]
    },
    {
      "cell_type": "markdown",
      "metadata": {
        "id": "eDeUYl-leUGx"
      },
      "source": [
        "If you're using an early enough version of pandas, the code above will not crash, and will automatically drop columns for which `ratio_to_peak` fails, e.g. the Sex column. \n",
        "\n",
        "However, according to a warning message that is generated as of January 2022, at some point this code will no longer be considered valid Pandas code, and the code will crash on columns for which the aggregation function is undefined. \n",
        "\n",
        "Whether we're trying to avoid a crash, or just want a clean DataFrame, let's explicitly select only the Count column. The idea here is that we don't really care about the meaningless Year column, so we may as well exclude it when we compute our `ratio_to_peak` values. "
      ]
    },
    {
      "cell_type": "code",
      "execution_count": null,
      "metadata": {
        "id": "0MfZc-ZTeUGx",
        "outputId": "5cbaa632-af1b-4b8f-874d-6a8f22e90c79"
      },
      "outputs": [
        {
          "data": {
            "text/html": [
              "<div>\n",
              "<style scoped>\n",
              "    .dataframe tbody tr th:only-of-type {\n",
              "        vertical-align: middle;\n",
              "    }\n",
              "\n",
              "    .dataframe tbody tr th {\n",
              "        vertical-align: top;\n",
              "    }\n",
              "\n",
              "    .dataframe thead th {\n",
              "        text-align: right;\n",
              "    }\n",
              "</style>\n",
              "<table border=\"1\" class=\"dataframe\">\n",
              "  <thead>\n",
              "    <tr style=\"text-align: right;\">\n",
              "      <th></th>\n",
              "      <th>Count</th>\n",
              "    </tr>\n",
              "    <tr>\n",
              "      <th>Name</th>\n",
              "      <th></th>\n",
              "    </tr>\n",
              "  </thead>\n",
              "  <tbody>\n",
              "    <tr>\n",
              "      <th>Aadhira</th>\n",
              "      <td>0.600000</td>\n",
              "    </tr>\n",
              "    <tr>\n",
              "      <th>Aadhya</th>\n",
              "      <td>0.900000</td>\n",
              "    </tr>\n",
              "    <tr>\n",
              "      <th>Aadya</th>\n",
              "      <td>0.896552</td>\n",
              "    </tr>\n",
              "    <tr>\n",
              "      <th>Aahana</th>\n",
              "      <td>0.307692</td>\n",
              "    </tr>\n",
              "    <tr>\n",
              "      <th>Aahna</th>\n",
              "      <td>1.000000</td>\n",
              "    </tr>\n",
              "    <tr>\n",
              "      <th>...</th>\n",
              "      <td>...</td>\n",
              "    </tr>\n",
              "    <tr>\n",
              "      <th>Zyanya</th>\n",
              "      <td>0.357143</td>\n",
              "    </tr>\n",
              "    <tr>\n",
              "      <th>Zyla</th>\n",
              "      <td>0.375000</td>\n",
              "    </tr>\n",
              "    <tr>\n",
              "      <th>Zylah</th>\n",
              "      <td>0.785714</td>\n",
              "    </tr>\n",
              "    <tr>\n",
              "      <th>Zyra</th>\n",
              "      <td>0.400000</td>\n",
              "    </tr>\n",
              "    <tr>\n",
              "      <th>Zyrah</th>\n",
              "      <td>0.833333</td>\n",
              "    </tr>\n",
              "  </tbody>\n",
              "</table>\n",
              "<p>13525 rows × 1 columns</p>\n",
              "</div>"
            ],
            "text/plain": [
              "            Count\n",
              "Name             \n",
              "Aadhira  0.600000\n",
              "Aadhya   0.900000\n",
              "Aadya    0.896552\n",
              "Aahana   0.307692\n",
              "Aahna    1.000000\n",
              "...           ...\n",
              "Zyanya   0.357143\n",
              "Zyla     0.375000\n",
              "Zylah    0.785714\n",
              "Zyra     0.400000\n",
              "Zyrah    0.833333\n",
              "\n",
              "[13525 rows x 1 columns]"
            ]
          },
          "execution_count": 43,
          "metadata": {},
          "output_type": "execute_result"
        }
      ],
      "source": [
        "rtp_table = female_babynames.groupby(\"Name\")[[\"Count\"]].agg(ratio_to_peak)\n",
        "rtp_table"
      ]
    },
    {
      "cell_type": "code",
      "execution_count": null,
      "metadata": {
        "id": "NfRBnifheUGx",
        "outputId": "ec1ab2f5-09a4-4368-a3f2-da62b859be9b"
      },
      "outputs": [
        {
          "data": {
            "text/html": [
              "<div>\n",
              "<style scoped>\n",
              "    .dataframe tbody tr th:only-of-type {\n",
              "        vertical-align: middle;\n",
              "    }\n",
              "\n",
              "    .dataframe tbody tr th {\n",
              "        vertical-align: top;\n",
              "    }\n",
              "\n",
              "    .dataframe thead th {\n",
              "        text-align: right;\n",
              "    }\n",
              "</style>\n",
              "<table border=\"1\" class=\"dataframe\">\n",
              "  <thead>\n",
              "    <tr style=\"text-align: right;\">\n",
              "      <th></th>\n",
              "      <th>Count RTP</th>\n",
              "    </tr>\n",
              "    <tr>\n",
              "      <th>Name</th>\n",
              "      <th></th>\n",
              "    </tr>\n",
              "  </thead>\n",
              "  <tbody>\n",
              "    <tr>\n",
              "      <th>Aadhira</th>\n",
              "      <td>0.600000</td>\n",
              "    </tr>\n",
              "    <tr>\n",
              "      <th>Aadhya</th>\n",
              "      <td>0.900000</td>\n",
              "    </tr>\n",
              "    <tr>\n",
              "      <th>Aadya</th>\n",
              "      <td>0.896552</td>\n",
              "    </tr>\n",
              "    <tr>\n",
              "      <th>Aahana</th>\n",
              "      <td>0.307692</td>\n",
              "    </tr>\n",
              "    <tr>\n",
              "      <th>Aahna</th>\n",
              "      <td>1.000000</td>\n",
              "    </tr>\n",
              "    <tr>\n",
              "      <th>...</th>\n",
              "      <td>...</td>\n",
              "    </tr>\n",
              "    <tr>\n",
              "      <th>Zyanya</th>\n",
              "      <td>0.357143</td>\n",
              "    </tr>\n",
              "    <tr>\n",
              "      <th>Zyla</th>\n",
              "      <td>0.375000</td>\n",
              "    </tr>\n",
              "    <tr>\n",
              "      <th>Zylah</th>\n",
              "      <td>0.785714</td>\n",
              "    </tr>\n",
              "    <tr>\n",
              "      <th>Zyra</th>\n",
              "      <td>0.400000</td>\n",
              "    </tr>\n",
              "    <tr>\n",
              "      <th>Zyrah</th>\n",
              "      <td>0.833333</td>\n",
              "    </tr>\n",
              "  </tbody>\n",
              "</table>\n",
              "<p>13525 rows × 1 columns</p>\n",
              "</div>"
            ],
            "text/plain": [
              "         Count RTP\n",
              "Name              \n",
              "Aadhira   0.600000\n",
              "Aadhya    0.900000\n",
              "Aadya     0.896552\n",
              "Aahana    0.307692\n",
              "Aahna     1.000000\n",
              "...            ...\n",
              "Zyanya    0.357143\n",
              "Zyla      0.375000\n",
              "Zylah     0.785714\n",
              "Zyra      0.400000\n",
              "Zyrah     0.833333\n",
              "\n",
              "[13525 rows x 1 columns]"
            ]
          },
          "execution_count": 44,
          "metadata": {},
          "output_type": "execute_result"
        }
      ],
      "source": [
        "# this code renames the Count column to RTP. You'll see this syntax in lab\n",
        "rtp_table = rtp_table.rename(columns = {\"Count\": \"Count RTP\"})\n",
        "rtp_table"
      ]
    },
    {
      "cell_type": "code",
      "execution_count": null,
      "metadata": {
        "id": "OpXQkSHpeUGy",
        "outputId": "8d935b97-8ce5-4529-b344-104d6daaf04e"
      },
      "outputs": [
        {
          "data": {
            "text/html": [
              "<div>\n",
              "<style scoped>\n",
              "    .dataframe tbody tr th:only-of-type {\n",
              "        vertical-align: middle;\n",
              "    }\n",
              "\n",
              "    .dataframe tbody tr th {\n",
              "        vertical-align: top;\n",
              "    }\n",
              "\n",
              "    .dataframe thead th {\n",
              "        text-align: right;\n",
              "    }\n",
              "</style>\n",
              "<table border=\"1\" class=\"dataframe\">\n",
              "  <thead>\n",
              "    <tr style=\"text-align: right;\">\n",
              "      <th></th>\n",
              "      <th>Count RTP</th>\n",
              "    </tr>\n",
              "    <tr>\n",
              "      <th>Name</th>\n",
              "      <th></th>\n",
              "    </tr>\n",
              "  </thead>\n",
              "  <tbody>\n",
              "    <tr>\n",
              "      <th>Sofia</th>\n",
              "      <td>0.002844</td>\n",
              "    </tr>\n",
              "    <tr>\n",
              "      <th>Alexa</th>\n",
              "      <td>0.003475</td>\n",
              "    </tr>\n",
              "    <tr>\n",
              "      <th>Megan</th>\n",
              "      <td>0.003986</td>\n",
              "    </tr>\n",
              "    <tr>\n",
              "      <th>Luna</th>\n",
              "      <td>0.003997</td>\n",
              "    </tr>\n",
              "    <tr>\n",
              "      <th>Veronica</th>\n",
              "      <td>0.004295</td>\n",
              "    </tr>\n",
              "    <tr>\n",
              "      <th>...</th>\n",
              "      <td>...</td>\n",
              "    </tr>\n",
              "    <tr>\n",
              "      <th>Lenya</th>\n",
              "      <td>1.000000</td>\n",
              "    </tr>\n",
              "    <tr>\n",
              "      <th>Nisa</th>\n",
              "      <td>1.000000</td>\n",
              "    </tr>\n",
              "    <tr>\n",
              "      <th>Nirvi</th>\n",
              "      <td>1.000000</td>\n",
              "    </tr>\n",
              "    <tr>\n",
              "      <th>Nirel</th>\n",
              "      <td>1.000000</td>\n",
              "    </tr>\n",
              "    <tr>\n",
              "      <th>Dariya</th>\n",
              "      <td>1.000000</td>\n",
              "    </tr>\n",
              "  </tbody>\n",
              "</table>\n",
              "<p>13525 rows × 1 columns</p>\n",
              "</div>"
            ],
            "text/plain": [
              "          Count RTP\n",
              "Name               \n",
              "Sofia      0.002844\n",
              "Alexa      0.003475\n",
              "Megan      0.003986\n",
              "Luna       0.003997\n",
              "Veronica   0.004295\n",
              "...             ...\n",
              "Lenya      1.000000\n",
              "Nisa       1.000000\n",
              "Nirvi      1.000000\n",
              "Nirel      1.000000\n",
              "Dariya     1.000000\n",
              "\n",
              "[13525 rows x 1 columns]"
            ]
          },
          "execution_count": 46,
          "metadata": {},
          "output_type": "execute_result"
        }
      ],
      "source": [
        "rtp_table.sort_values(\"Count RTP\")"
      ]
    },
    {
      "cell_type": "code",
      "execution_count": null,
      "metadata": {
        "id": "pvGtucJEeUGz",
        "outputId": "6b5ca0c0-d1ec-4df0-fa1d-8716a7e3cd34"
      },
      "outputs": [
        {
          "data": {
            "application/vnd.plotly.v1+json": {
              "config": {
                "plotlyServerURL": "https://plot.ly"
              },
              "data": [
                {
                  "hovertemplate": "Year=%{x}<br>Count=%{y}<extra></extra>",
                  "legendgroup": "",
                  "line": {
                    "color": "#636efa",
                    "dash": "solid"
                  },
                  "marker": {
                    "symbol": "circle"
                  },
                  "mode": "lines",
                  "name": "",
                  "orientation": "v",
                  "showlegend": false,
                  "type": "scatter",
                  "x": [
                    1940,
                    1942,
                    1943,
                    1944,
                    1945,
                    1946,
                    1947,
                    1948,
                    1949,
                    1950,
                    1951,
                    1952,
                    1953,
                    1954,
                    1955,
                    1956,
                    1957,
                    1958,
                    1959,
                    1960,
                    1961,
                    1962,
                    1963,
                    1964,
                    1965,
                    1966,
                    1967,
                    1968,
                    1969,
                    1970,
                    1971,
                    1972,
                    1973,
                    1974,
                    1975,
                    1976,
                    1977,
                    1978,
                    1979,
                    1980,
                    1981,
                    1982,
                    1983,
                    1984,
                    1985,
                    1986,
                    1987,
                    1988,
                    1989,
                    1990,
                    1991,
                    1992,
                    1993,
                    1994,
                    1995,
                    1996,
                    1997,
                    1998,
                    1999,
                    2000,
                    2001,
                    2002,
                    2003,
                    2004,
                    2005,
                    2006,
                    2007,
                    2008,
                    2009,
                    2012,
                    2013,
                    2016
                  ],
                  "xaxis": "x",
                  "y": [
                    7,
                    7,
                    8,
                    15,
                    19,
                    20,
                    56,
                    92,
                    199,
                    601,
                    1510,
                    2351,
                    3295,
                    3784,
                    3969,
                    3754,
                    3322,
                    2659,
                    2290,
                    2015,
                    1646,
                    1591,
                    1430,
                    1287,
                    1154,
                    958,
                    819,
                    748,
                    647,
                    547,
                    463,
                    318,
                    242,
                    236,
                    159,
                    151,
                    151,
                    164,
                    130,
                    141,
                    97,
                    114,
                    97,
                    95,
                    93,
                    64,
                    78,
                    69,
                    71,
                    51,
                    62,
                    41,
                    34,
                    28,
                    28,
                    12,
                    14,
                    16,
                    10,
                    13,
                    14,
                    10,
                    7,
                    12,
                    13,
                    12,
                    13,
                    6,
                    7,
                    5,
                    8,
                    5
                  ],
                  "yaxis": "y"
                }
              ],
              "layout": {
                "autosize": true,
                "font": {
                  "size": 16
                },
                "legend": {
                  "tracegroupgap": 0
                },
                "margin": {
                  "t": 60
                },
                "template": {
                  "data": {
                    "bar": [
                      {
                        "error_x": {
                          "color": "#2a3f5f"
                        },
                        "error_y": {
                          "color": "#2a3f5f"
                        },
                        "marker": {
                          "line": {
                            "color": "#E5ECF6",
                            "width": 0.5
                          },
                          "pattern": {
                            "fillmode": "overlay",
                            "size": 10,
                            "solidity": 0.2
                          }
                        },
                        "type": "bar"
                      }
                    ],
                    "barpolar": [
                      {
                        "marker": {
                          "line": {
                            "color": "#E5ECF6",
                            "width": 0.5
                          },
                          "pattern": {
                            "fillmode": "overlay",
                            "size": 10,
                            "solidity": 0.2
                          }
                        },
                        "type": "barpolar"
                      }
                    ],
                    "carpet": [
                      {
                        "aaxis": {
                          "endlinecolor": "#2a3f5f",
                          "gridcolor": "white",
                          "linecolor": "white",
                          "minorgridcolor": "white",
                          "startlinecolor": "#2a3f5f"
                        },
                        "baxis": {
                          "endlinecolor": "#2a3f5f",
                          "gridcolor": "white",
                          "linecolor": "white",
                          "minorgridcolor": "white",
                          "startlinecolor": "#2a3f5f"
                        },
                        "type": "carpet"
                      }
                    ],
                    "choropleth": [
                      {
                        "colorbar": {
                          "outlinewidth": 0,
                          "ticks": ""
                        },
                        "type": "choropleth"
                      }
                    ],
                    "contour": [
                      {
                        "colorbar": {
                          "outlinewidth": 0,
                          "ticks": ""
                        },
                        "colorscale": [
                          [
                            0,
                            "#0d0887"
                          ],
                          [
                            0.1111111111111111,
                            "#46039f"
                          ],
                          [
                            0.2222222222222222,
                            "#7201a8"
                          ],
                          [
                            0.3333333333333333,
                            "#9c179e"
                          ],
                          [
                            0.4444444444444444,
                            "#bd3786"
                          ],
                          [
                            0.5555555555555556,
                            "#d8576b"
                          ],
                          [
                            0.6666666666666666,
                            "#ed7953"
                          ],
                          [
                            0.7777777777777778,
                            "#fb9f3a"
                          ],
                          [
                            0.8888888888888888,
                            "#fdca26"
                          ],
                          [
                            1,
                            "#f0f921"
                          ]
                        ],
                        "type": "contour"
                      }
                    ],
                    "contourcarpet": [
                      {
                        "colorbar": {
                          "outlinewidth": 0,
                          "ticks": ""
                        },
                        "type": "contourcarpet"
                      }
                    ],
                    "heatmap": [
                      {
                        "colorbar": {
                          "outlinewidth": 0,
                          "ticks": ""
                        },
                        "colorscale": [
                          [
                            0,
                            "#0d0887"
                          ],
                          [
                            0.1111111111111111,
                            "#46039f"
                          ],
                          [
                            0.2222222222222222,
                            "#7201a8"
                          ],
                          [
                            0.3333333333333333,
                            "#9c179e"
                          ],
                          [
                            0.4444444444444444,
                            "#bd3786"
                          ],
                          [
                            0.5555555555555556,
                            "#d8576b"
                          ],
                          [
                            0.6666666666666666,
                            "#ed7953"
                          ],
                          [
                            0.7777777777777778,
                            "#fb9f3a"
                          ],
                          [
                            0.8888888888888888,
                            "#fdca26"
                          ],
                          [
                            1,
                            "#f0f921"
                          ]
                        ],
                        "type": "heatmap"
                      }
                    ],
                    "heatmapgl": [
                      {
                        "colorbar": {
                          "outlinewidth": 0,
                          "ticks": ""
                        },
                        "colorscale": [
                          [
                            0,
                            "#0d0887"
                          ],
                          [
                            0.1111111111111111,
                            "#46039f"
                          ],
                          [
                            0.2222222222222222,
                            "#7201a8"
                          ],
                          [
                            0.3333333333333333,
                            "#9c179e"
                          ],
                          [
                            0.4444444444444444,
                            "#bd3786"
                          ],
                          [
                            0.5555555555555556,
                            "#d8576b"
                          ],
                          [
                            0.6666666666666666,
                            "#ed7953"
                          ],
                          [
                            0.7777777777777778,
                            "#fb9f3a"
                          ],
                          [
                            0.8888888888888888,
                            "#fdca26"
                          ],
                          [
                            1,
                            "#f0f921"
                          ]
                        ],
                        "type": "heatmapgl"
                      }
                    ],
                    "histogram": [
                      {
                        "marker": {
                          "pattern": {
                            "fillmode": "overlay",
                            "size": 10,
                            "solidity": 0.2
                          }
                        },
                        "type": "histogram"
                      }
                    ],
                    "histogram2d": [
                      {
                        "colorbar": {
                          "outlinewidth": 0,
                          "ticks": ""
                        },
                        "colorscale": [
                          [
                            0,
                            "#0d0887"
                          ],
                          [
                            0.1111111111111111,
                            "#46039f"
                          ],
                          [
                            0.2222222222222222,
                            "#7201a8"
                          ],
                          [
                            0.3333333333333333,
                            "#9c179e"
                          ],
                          [
                            0.4444444444444444,
                            "#bd3786"
                          ],
                          [
                            0.5555555555555556,
                            "#d8576b"
                          ],
                          [
                            0.6666666666666666,
                            "#ed7953"
                          ],
                          [
                            0.7777777777777778,
                            "#fb9f3a"
                          ],
                          [
                            0.8888888888888888,
                            "#fdca26"
                          ],
                          [
                            1,
                            "#f0f921"
                          ]
                        ],
                        "type": "histogram2d"
                      }
                    ],
                    "histogram2dcontour": [
                      {
                        "colorbar": {
                          "outlinewidth": 0,
                          "ticks": ""
                        },
                        "colorscale": [
                          [
                            0,
                            "#0d0887"
                          ],
                          [
                            0.1111111111111111,
                            "#46039f"
                          ],
                          [
                            0.2222222222222222,
                            "#7201a8"
                          ],
                          [
                            0.3333333333333333,
                            "#9c179e"
                          ],
                          [
                            0.4444444444444444,
                            "#bd3786"
                          ],
                          [
                            0.5555555555555556,
                            "#d8576b"
                          ],
                          [
                            0.6666666666666666,
                            "#ed7953"
                          ],
                          [
                            0.7777777777777778,
                            "#fb9f3a"
                          ],
                          [
                            0.8888888888888888,
                            "#fdca26"
                          ],
                          [
                            1,
                            "#f0f921"
                          ]
                        ],
                        "type": "histogram2dcontour"
                      }
                    ],
                    "mesh3d": [
                      {
                        "colorbar": {
                          "outlinewidth": 0,
                          "ticks": ""
                        },
                        "type": "mesh3d"
                      }
                    ],
                    "parcoords": [
                      {
                        "line": {
                          "colorbar": {
                            "outlinewidth": 0,
                            "ticks": ""
                          }
                        },
                        "type": "parcoords"
                      }
                    ],
                    "pie": [
                      {
                        "automargin": true,
                        "type": "pie"
                      }
                    ],
                    "scatter": [
                      {
                        "marker": {
                          "colorbar": {
                            "outlinewidth": 0,
                            "ticks": ""
                          }
                        },
                        "type": "scatter"
                      }
                    ],
                    "scatter3d": [
                      {
                        "line": {
                          "colorbar": {
                            "outlinewidth": 0,
                            "ticks": ""
                          }
                        },
                        "marker": {
                          "colorbar": {
                            "outlinewidth": 0,
                            "ticks": ""
                          }
                        },
                        "type": "scatter3d"
                      }
                    ],
                    "scattercarpet": [
                      {
                        "marker": {
                          "colorbar": {
                            "outlinewidth": 0,
                            "ticks": ""
                          }
                        },
                        "type": "scattercarpet"
                      }
                    ],
                    "scattergeo": [
                      {
                        "marker": {
                          "colorbar": {
                            "outlinewidth": 0,
                            "ticks": ""
                          }
                        },
                        "type": "scattergeo"
                      }
                    ],
                    "scattergl": [
                      {
                        "marker": {
                          "colorbar": {
                            "outlinewidth": 0,
                            "ticks": ""
                          }
                        },
                        "type": "scattergl"
                      }
                    ],
                    "scattermapbox": [
                      {
                        "marker": {
                          "colorbar": {
                            "outlinewidth": 0,
                            "ticks": ""
                          }
                        },
                        "type": "scattermapbox"
                      }
                    ],
                    "scatterpolar": [
                      {
                        "marker": {
                          "colorbar": {
                            "outlinewidth": 0,
                            "ticks": ""
                          }
                        },
                        "type": "scatterpolar"
                      }
                    ],
                    "scatterpolargl": [
                      {
                        "marker": {
                          "colorbar": {
                            "outlinewidth": 0,
                            "ticks": ""
                          }
                        },
                        "type": "scatterpolargl"
                      }
                    ],
                    "scatterternary": [
                      {
                        "marker": {
                          "colorbar": {
                            "outlinewidth": 0,
                            "ticks": ""
                          }
                        },
                        "type": "scatterternary"
                      }
                    ],
                    "surface": [
                      {
                        "colorbar": {
                          "outlinewidth": 0,
                          "ticks": ""
                        },
                        "colorscale": [
                          [
                            0,
                            "#0d0887"
                          ],
                          [
                            0.1111111111111111,
                            "#46039f"
                          ],
                          [
                            0.2222222222222222,
                            "#7201a8"
                          ],
                          [
                            0.3333333333333333,
                            "#9c179e"
                          ],
                          [
                            0.4444444444444444,
                            "#bd3786"
                          ],
                          [
                            0.5555555555555556,
                            "#d8576b"
                          ],
                          [
                            0.6666666666666666,
                            "#ed7953"
                          ],
                          [
                            0.7777777777777778,
                            "#fb9f3a"
                          ],
                          [
                            0.8888888888888888,
                            "#fdca26"
                          ],
                          [
                            1,
                            "#f0f921"
                          ]
                        ],
                        "type": "surface"
                      }
                    ],
                    "table": [
                      {
                        "cells": {
                          "fill": {
                            "color": "#EBF0F8"
                          },
                          "line": {
                            "color": "white"
                          }
                        },
                        "header": {
                          "fill": {
                            "color": "#C8D4E3"
                          },
                          "line": {
                            "color": "white"
                          }
                        },
                        "type": "table"
                      }
                    ]
                  },
                  "layout": {
                    "annotationdefaults": {
                      "arrowcolor": "#2a3f5f",
                      "arrowhead": 0,
                      "arrowwidth": 1
                    },
                    "autotypenumbers": "strict",
                    "coloraxis": {
                      "colorbar": {
                        "outlinewidth": 0,
                        "ticks": ""
                      }
                    },
                    "colorscale": {
                      "diverging": [
                        [
                          0,
                          "#8e0152"
                        ],
                        [
                          0.1,
                          "#c51b7d"
                        ],
                        [
                          0.2,
                          "#de77ae"
                        ],
                        [
                          0.3,
                          "#f1b6da"
                        ],
                        [
                          0.4,
                          "#fde0ef"
                        ],
                        [
                          0.5,
                          "#f7f7f7"
                        ],
                        [
                          0.6,
                          "#e6f5d0"
                        ],
                        [
                          0.7,
                          "#b8e186"
                        ],
                        [
                          0.8,
                          "#7fbc41"
                        ],
                        [
                          0.9,
                          "#4d9221"
                        ],
                        [
                          1,
                          "#276419"
                        ]
                      ],
                      "sequential": [
                        [
                          0,
                          "#0d0887"
                        ],
                        [
                          0.1111111111111111,
                          "#46039f"
                        ],
                        [
                          0.2222222222222222,
                          "#7201a8"
                        ],
                        [
                          0.3333333333333333,
                          "#9c179e"
                        ],
                        [
                          0.4444444444444444,
                          "#bd3786"
                        ],
                        [
                          0.5555555555555556,
                          "#d8576b"
                        ],
                        [
                          0.6666666666666666,
                          "#ed7953"
                        ],
                        [
                          0.7777777777777778,
                          "#fb9f3a"
                        ],
                        [
                          0.8888888888888888,
                          "#fdca26"
                        ],
                        [
                          1,
                          "#f0f921"
                        ]
                      ],
                      "sequentialminus": [
                        [
                          0,
                          "#0d0887"
                        ],
                        [
                          0.1111111111111111,
                          "#46039f"
                        ],
                        [
                          0.2222222222222222,
                          "#7201a8"
                        ],
                        [
                          0.3333333333333333,
                          "#9c179e"
                        ],
                        [
                          0.4444444444444444,
                          "#bd3786"
                        ],
                        [
                          0.5555555555555556,
                          "#d8576b"
                        ],
                        [
                          0.6666666666666666,
                          "#ed7953"
                        ],
                        [
                          0.7777777777777778,
                          "#fb9f3a"
                        ],
                        [
                          0.8888888888888888,
                          "#fdca26"
                        ],
                        [
                          1,
                          "#f0f921"
                        ]
                      ]
                    },
                    "colorway": [
                      "#636efa",
                      "#EF553B",
                      "#00cc96",
                      "#ab63fa",
                      "#FFA15A",
                      "#19d3f3",
                      "#FF6692",
                      "#B6E880",
                      "#FF97FF",
                      "#FECB52"
                    ],
                    "font": {
                      "color": "#2a3f5f"
                    },
                    "geo": {
                      "bgcolor": "white",
                      "lakecolor": "white",
                      "landcolor": "#E5ECF6",
                      "showlakes": true,
                      "showland": true,
                      "subunitcolor": "white"
                    },
                    "hoverlabel": {
                      "align": "left"
                    },
                    "hovermode": "closest",
                    "mapbox": {
                      "style": "light"
                    },
                    "paper_bgcolor": "white",
                    "plot_bgcolor": "#E5ECF6",
                    "polar": {
                      "angularaxis": {
                        "gridcolor": "white",
                        "linecolor": "white",
                        "ticks": ""
                      },
                      "bgcolor": "#E5ECF6",
                      "radialaxis": {
                        "gridcolor": "white",
                        "linecolor": "white",
                        "ticks": ""
                      }
                    },
                    "scene": {
                      "xaxis": {
                        "backgroundcolor": "#E5ECF6",
                        "gridcolor": "white",
                        "gridwidth": 2,
                        "linecolor": "white",
                        "showbackground": true,
                        "ticks": "",
                        "zerolinecolor": "white"
                      },
                      "yaxis": {
                        "backgroundcolor": "#E5ECF6",
                        "gridcolor": "white",
                        "gridwidth": 2,
                        "linecolor": "white",
                        "showbackground": true,
                        "ticks": "",
                        "zerolinecolor": "white"
                      },
                      "zaxis": {
                        "backgroundcolor": "#E5ECF6",
                        "gridcolor": "white",
                        "gridwidth": 2,
                        "linecolor": "white",
                        "showbackground": true,
                        "ticks": "",
                        "zerolinecolor": "white"
                      }
                    },
                    "shapedefaults": {
                      "line": {
                        "color": "#2a3f5f"
                      }
                    },
                    "ternary": {
                      "aaxis": {
                        "gridcolor": "white",
                        "linecolor": "white",
                        "ticks": ""
                      },
                      "baxis": {
                        "gridcolor": "white",
                        "linecolor": "white",
                        "ticks": ""
                      },
                      "bgcolor": "#E5ECF6",
                      "caxis": {
                        "gridcolor": "white",
                        "linecolor": "white",
                        "ticks": ""
                      }
                    },
                    "title": {
                      "x": 0.05
                    },
                    "xaxis": {
                      "automargin": true,
                      "gridcolor": "white",
                      "linecolor": "white",
                      "ticks": "",
                      "title": {
                        "standoff": 15
                      },
                      "zerolinecolor": "white",
                      "zerolinewidth": 2
                    },
                    "yaxis": {
                      "automargin": true,
                      "gridcolor": "white",
                      "linecolor": "white",
                      "ticks": "",
                      "title": {
                        "standoff": 15
                      },
                      "zerolinecolor": "white",
                      "zerolinewidth": 2
                    }
                  }
                },
                "xaxis": {
                  "anchor": "y",
                  "autorange": true,
                  "domain": [
                    0,
                    1
                  ],
                  "range": [
                    1940,
                    2016
                  ],
                  "title": {
                    "text": "Year"
                  },
                  "type": "linear"
                },
                "yaxis": {
                  "anchor": "x",
                  "autorange": true,
                  "domain": [
                    0,
                    1
                  ],
                  "range": [
                    -215.22222222222223,
                    4189.222222222223
                  ],
                  "title": {
                    "text": "Count"
                  },
                  "type": "linear"
                }
              }
            },
            "image/png": "[encoded data removed]",
            "text/html": [
              "<div>                            <div id=\"399128ac-f02d-4d35-8783-9e35f11f07bd\" class=\"plotly-graph-div\" style=\"height:525px; width:100%;\"></div>            <script type=\"text/javascript\">                require([\"plotly\"], function(Plotly) {                    window.PLOTLYENV=window.PLOTLYENV || {};                                    if (document.getElementById(\"399128ac-f02d-4d35-8783-9e35f11f07bd\")) {                    Plotly.newPlot(                        \"399128ac-f02d-4d35-8783-9e35f11f07bd\",                        [{\"hovertemplate\":\"Year=%{x}<br>Count=%{y}<extra></extra>\",\"legendgroup\":\"\",\"line\":{\"color\":\"#636efa\",\"dash\":\"solid\"},\"marker\":{\"symbol\":\"circle\"},\"mode\":\"lines\",\"name\":\"\",\"orientation\":\"v\",\"showlegend\":false,\"type\":\"scatter\",\"x\":[1940,1942,1943,1944,1945,1946,1947,1948,1949,1950,1951,1952,1953,1954,1955,1956,1957,1958,1959,1960,1961,1962,1963,1964,1965,1966,1967,1968,1969,1970,1971,1972,1973,1974,1975,1976,1977,1978,1979,1980,1981,1982,1983,1984,1985,1986,1987,1988,1989,1990,1991,1992,1993,1994,1995,1996,1997,1998,1999,2000,2001,2002,2003,2004,2005,2006,2007,2008,2009,2012,2013,2016],\"xaxis\":\"x\",\"y\":[7,7,8,15,19,20,56,92,199,601,1510,2351,3295,3784,3969,3754,3322,2659,2290,2015,1646,1591,1430,1287,1154,958,819,748,647,547,463,318,242,236,159,151,151,164,130,141,97,114,97,95,93,64,78,69,71,51,62,41,34,28,28,12,14,16,10,13,14,10,7,12,13,12,13,6,7,5,8,5],\"yaxis\":\"y\"}],                        {\"font\":{\"size\":16},\"legend\":{\"tracegroupgap\":0},\"margin\":{\"t\":60},\"template\":{\"data\":{\"bar\":[{\"error_x\":{\"color\":\"#2a3f5f\"},\"error_y\":{\"color\":\"#2a3f5f\"},\"marker\":{\"line\":{\"color\":\"#E5ECF6\",\"width\":0.5},\"pattern\":{\"fillmode\":\"overlay\",\"size\":10,\"solidity\":0.2}},\"type\":\"bar\"}],\"barpolar\":[{\"marker\":{\"line\":{\"color\":\"#E5ECF6\",\"width\":0.5},\"pattern\":{\"fillmode\":\"overlay\",\"size\":10,\"solidity\":0.2}},\"type\":\"barpolar\"}],\"carpet\":[{\"aaxis\":{\"endlinecolor\":\"#2a3f5f\",\"gridcolor\":\"white\",\"linecolor\":\"white\",\"minorgridcolor\":\"white\",\"startlinecolor\":\"#2a3f5f\"},\"baxis\":{\"endlinecolor\":\"#2a3f5f\",\"gridcolor\":\"white\",\"linecolor\":\"white\",\"minorgridcolor\":\"white\",\"startlinecolor\":\"#2a3f5f\"},\"type\":\"carpet\"}],\"choropleth\":[{\"colorbar\":{\"outlinewidth\":0,\"ticks\":\"\"},\"type\":\"choropleth\"}],\"contour\":[{\"colorbar\":{\"outlinewidth\":0,\"ticks\":\"\"},\"colorscale\":[[0.0,\"#0d0887\"],[0.1111111111111111,\"#46039f\"],[0.2222222222222222,\"#7201a8\"],[0.3333333333333333,\"#9c179e\"],[0.4444444444444444,\"#bd3786\"],[0.5555555555555556,\"#d8576b\"],[0.6666666666666666,\"#ed7953\"],[0.7777777777777778,\"#fb9f3a\"],[0.8888888888888888,\"#fdca26\"],[1.0,\"#f0f921\"]],\"type\":\"contour\"}],\"contourcarpet\":[{\"colorbar\":{\"outlinewidth\":0,\"ticks\":\"\"},\"type\":\"contourcarpet\"}],\"heatmap\":[{\"colorbar\":{\"outlinewidth\":0,\"ticks\":\"\"},\"colorscale\":[[0.0,\"#0d0887\"],[0.1111111111111111,\"#46039f\"],[0.2222222222222222,\"#7201a8\"],[0.3333333333333333,\"#9c179e\"],[0.4444444444444444,\"#bd3786\"],[0.5555555555555556,\"#d8576b\"],[0.6666666666666666,\"#ed7953\"],[0.7777777777777778,\"#fb9f3a\"],[0.8888888888888888,\"#fdca26\"],[1.0,\"#f0f921\"]],\"type\":\"heatmap\"}],\"heatmapgl\":[{\"colorbar\":{\"outlinewidth\":0,\"ticks\":\"\"},\"colorscale\":[[0.0,\"#0d0887\"],[0.1111111111111111,\"#46039f\"],[0.2222222222222222,\"#7201a8\"],[0.3333333333333333,\"#9c179e\"],[0.4444444444444444,\"#bd3786\"],[0.5555555555555556,\"#d8576b\"],[0.6666666666666666,\"#ed7953\"],[0.7777777777777778,\"#fb9f3a\"],[0.8888888888888888,\"#fdca26\"],[1.0,\"#f0f921\"]],\"type\":\"heatmapgl\"}],\"histogram\":[{\"marker\":{\"pattern\":{\"fillmode\":\"overlay\",\"size\":10,\"solidity\":0.2}},\"type\":\"histogram\"}],\"histogram2d\":[{\"colorbar\":{\"outlinewidth\":0,\"ticks\":\"\"},\"colorscale\":[[0.0,\"#0d0887\"],[0.1111111111111111,\"#46039f\"],[0.2222222222222222,\"#7201a8\"],[0.3333333333333333,\"#9c179e\"],[0.4444444444444444,\"#bd3786\"],[0.5555555555555556,\"#d8576b\"],[0.6666666666666666,\"#ed7953\"],[0.7777777777777778,\"#fb9f3a\"],[0.8888888888888888,\"#fdca26\"],[1.0,\"#f0f921\"]],\"type\":\"histogram2d\"}],\"histogram2dcontour\":[{\"colorbar\":{\"outlinewidth\":0,\"ticks\":\"\"},\"colorscale\":[[0.0,\"#0d0887\"],[0.1111111111111111,\"#46039f\"],[0.2222222222222222,\"#7201a8\"],[0.3333333333333333,\"#9c179e\"],[0.4444444444444444,\"#bd3786\"],[0.5555555555555556,\"#d8576b\"],[0.6666666666666666,\"#ed7953\"],[0.7777777777777778,\"#fb9f3a\"],[0.8888888888888888,\"#fdca26\"],[1.0,\"#f0f921\"]],\"type\":\"histogram2dcontour\"}],\"mesh3d\":[{\"colorbar\":{\"outlinewidth\":0,\"ticks\":\"\"},\"type\":\"mesh3d\"}],\"parcoords\":[{\"line\":{\"colorbar\":{\"outlinewidth\":0,\"ticks\":\"\"}},\"type\":\"parcoords\"}],\"pie\":[{\"automargin\":true,\"type\":\"pie\"}],\"scatter\":[{\"marker\":{\"colorbar\":{\"outlinewidth\":0,\"ticks\":\"\"}},\"type\":\"scatter\"}],\"scatter3d\":[{\"line\":{\"colorbar\":{\"outlinewidth\":0,\"ticks\":\"\"}},\"marker\":{\"colorbar\":{\"outlinewidth\":0,\"ticks\":\"\"}},\"type\":\"scatter3d\"}],\"scattercarpet\":[{\"marker\":{\"colorbar\":{\"outlinewidth\":0,\"ticks\":\"\"}},\"type\":\"scattercarpet\"}],\"scattergeo\":[{\"marker\":{\"colorbar\":{\"outlinewidth\":0,\"ticks\":\"\"}},\"type\":\"scattergeo\"}],\"scattergl\":[{\"marker\":{\"colorbar\":{\"outlinewidth\":0,\"ticks\":\"\"}},\"type\":\"scattergl\"}],\"scattermapbox\":[{\"marker\":{\"colorbar\":{\"outlinewidth\":0,\"ticks\":\"\"}},\"type\":\"scattermapbox\"}],\"scatterpolar\":[{\"marker\":{\"colorbar\":{\"outlinewidth\":0,\"ticks\":\"\"}},\"type\":\"scatterpolar\"}],\"scatterpolargl\":[{\"marker\":{\"colorbar\":{\"outlinewidth\":0,\"ticks\":\"\"}},\"type\":\"scatterpolargl\"}],\"scatterternary\":[{\"marker\":{\"colorbar\":{\"outlinewidth\":0,\"ticks\":\"\"}},\"type\":\"scatterternary\"}],\"surface\":[{\"colorbar\":{\"outlinewidth\":0,\"ticks\":\"\"},\"colorscale\":[[0.0,\"#0d0887\"],[0.1111111111111111,\"#46039f\"],[0.2222222222222222,\"#7201a8\"],[0.3333333333333333,\"#9c179e\"],[0.4444444444444444,\"#bd3786\"],[0.5555555555555556,\"#d8576b\"],[0.6666666666666666,\"#ed7953\"],[0.7777777777777778,\"#fb9f3a\"],[0.8888888888888888,\"#fdca26\"],[1.0,\"#f0f921\"]],\"type\":\"surface\"}],\"table\":[{\"cells\":{\"fill\":{\"color\":\"#EBF0F8\"},\"line\":{\"color\":\"white\"}},\"header\":{\"fill\":{\"color\":\"#C8D4E3\"},\"line\":{\"color\":\"white\"}},\"type\":\"table\"}]},\"layout\":{\"annotationdefaults\":{\"arrowcolor\":\"#2a3f5f\",\"arrowhead\":0,\"arrowwidth\":1},\"autotypenumbers\":\"strict\",\"coloraxis\":{\"colorbar\":{\"outlinewidth\":0,\"ticks\":\"\"}},\"colorscale\":{\"diverging\":[[0,\"#8e0152\"],[0.1,\"#c51b7d\"],[0.2,\"#de77ae\"],[0.3,\"#f1b6da\"],[0.4,\"#fde0ef\"],[0.5,\"#f7f7f7\"],[0.6,\"#e6f5d0\"],[0.7,\"#b8e186\"],[0.8,\"#7fbc41\"],[0.9,\"#4d9221\"],[1,\"#276419\"]],\"sequential\":[[0.0,\"#0d0887\"],[0.1111111111111111,\"#46039f\"],[0.2222222222222222,\"#7201a8\"],[0.3333333333333333,\"#9c179e\"],[0.4444444444444444,\"#bd3786\"],[0.5555555555555556,\"#d8576b\"],[0.6666666666666666,\"#ed7953\"],[0.7777777777777778,\"#fb9f3a\"],[0.8888888888888888,\"#fdca26\"],[1.0,\"#f0f921\"]],\"sequentialminus\":[[0.0,\"#0d0887\"],[0.1111111111111111,\"#46039f\"],[0.2222222222222222,\"#7201a8\"],[0.3333333333333333,\"#9c179e\"],[0.4444444444444444,\"#bd3786\"],[0.5555555555555556,\"#d8576b\"],[0.6666666666666666,\"#ed7953\"],[0.7777777777777778,\"#fb9f3a\"],[0.8888888888888888,\"#fdca26\"],[1.0,\"#f0f921\"]]},\"colorway\":[\"#636efa\",\"#EF553B\",\"#00cc96\",\"#ab63fa\",\"#FFA15A\",\"#19d3f3\",\"#FF6692\",\"#B6E880\",\"#FF97FF\",\"#FECB52\"],\"font\":{\"color\":\"#2a3f5f\"},\"geo\":{\"bgcolor\":\"white\",\"lakecolor\":\"white\",\"landcolor\":\"#E5ECF6\",\"showlakes\":true,\"showland\":true,\"subunitcolor\":\"white\"},\"hoverlabel\":{\"align\":\"left\"},\"hovermode\":\"closest\",\"mapbox\":{\"style\":\"light\"},\"paper_bgcolor\":\"white\",\"plot_bgcolor\":\"#E5ECF6\",\"polar\":{\"angularaxis\":{\"gridcolor\":\"white\",\"linecolor\":\"white\",\"ticks\":\"\"},\"bgcolor\":\"#E5ECF6\",\"radialaxis\":{\"gridcolor\":\"white\",\"linecolor\":\"white\",\"ticks\":\"\"}},\"scene\":{\"xaxis\":{\"backgroundcolor\":\"#E5ECF6\",\"gridcolor\":\"white\",\"gridwidth\":2,\"linecolor\":\"white\",\"showbackground\":true,\"ticks\":\"\",\"zerolinecolor\":\"white\"},\"yaxis\":{\"backgroundcolor\":\"#E5ECF6\",\"gridcolor\":\"white\",\"gridwidth\":2,\"linecolor\":\"white\",\"showbackground\":true,\"ticks\":\"\",\"zerolinecolor\":\"white\"},\"zaxis\":{\"backgroundcolor\":\"#E5ECF6\",\"gridcolor\":\"white\",\"gridwidth\":2,\"linecolor\":\"white\",\"showbackground\":true,\"ticks\":\"\",\"zerolinecolor\":\"white\"}},\"shapedefaults\":{\"line\":{\"color\":\"#2a3f5f\"}},\"ternary\":{\"aaxis\":{\"gridcolor\":\"white\",\"linecolor\":\"white\",\"ticks\":\"\"},\"baxis\":{\"gridcolor\":\"white\",\"linecolor\":\"white\",\"ticks\":\"\"},\"bgcolor\":\"#E5ECF6\",\"caxis\":{\"gridcolor\":\"white\",\"linecolor\":\"white\",\"ticks\":\"\"}},\"title\":{\"x\":0.05},\"xaxis\":{\"automargin\":true,\"gridcolor\":\"white\",\"linecolor\":\"white\",\"ticks\":\"\",\"title\":{\"standoff\":15},\"zerolinecolor\":\"white\",\"zerolinewidth\":2},\"yaxis\":{\"automargin\":true,\"gridcolor\":\"white\",\"linecolor\":\"white\",\"ticks\":\"\",\"title\":{\"standoff\":15},\"zerolinecolor\":\"white\",\"zerolinewidth\":2}}},\"xaxis\":{\"anchor\":\"y\",\"domain\":[0.0,1.0],\"title\":{\"text\":\"Year\"}},\"yaxis\":{\"anchor\":\"x\",\"domain\":[0.0,1.0],\"title\":{\"text\":\"Count\"}}},                        {\"responsive\": true}                    ).then(function(){\n",
              "                            \n",
              "var gd = document.getElementById('399128ac-f02d-4d35-8783-9e35f11f07bd');\n",
              "var x = new MutationObserver(function (mutations, observer) {{\n",
              "        var display = window.getComputedStyle(gd).display;\n",
              "        if (!display || display === 'none') {{\n",
              "            console.log([gd, 'removed!']);\n",
              "            Plotly.purge(gd);\n",
              "            observer.disconnect();\n",
              "        }}\n",
              "}});\n",
              "\n",
              "// Listen for the removal of the full notebook cells\n",
              "var notebookContainer = gd.closest('#notebook-container');\n",
              "if (notebookContainer) {{\n",
              "    x.observe(notebookContainer, {childList: true});\n",
              "}}\n",
              "\n",
              "// Listen for the clearing of the current output cell\n",
              "var outputEl = gd.closest('.output');\n",
              "if (outputEl) {{\n",
              "    x.observe(outputEl, {childList: true});\n",
              "}}\n",
              "\n",
              "                        })                };                });            </script>        </div>"
            ]
          },
          "metadata": {},
          "output_type": "display_data"
        }
      ],
      "source": [
        "fig = px.line(babynames.query(\"Name == 'Debra' and Sex == 'F'\"), x = \"Year\", y = \"Count\")\n",
        "fig.update_layout(font_size = 16)"
      ]
    },
    {
      "cell_type": "code",
      "execution_count": null,
      "metadata": {
        "id": "xQwR_gVCeUGz",
        "outputId": "c3692e43-b91f-4fce-d88e-f05e0c0d56c9"
      },
      "outputs": [
        {
          "data": {
            "text/plain": [
              "Index(['Debra', 'Debbie', 'Susan', 'Kim', 'Tammy', 'Terri', 'Shannon',\n",
              "       'Cheryl', 'Lisa', 'Patricia'],\n",
              "      dtype='object', name='Name')"
            ]
          },
          "execution_count": 24,
          "metadata": {},
          "output_type": "execute_result"
        }
      ],
      "source": [
        "top10 = rtp_table.sort_values(\"Count RTP\").head(10).index\n",
        "top10"
      ]
    },
    {
      "cell_type": "code",
      "execution_count": null,
      "metadata": {
        "id": "iigsDtB3eUG0",
        "outputId": "ff6b97ee-8f70-4e28-c946-1eb82504cfce"
      },
      "outputs": [
        {
          "data": {
            "application/vnd.plotly.v1+json": {
              "config": {
                "plotlyServerURL": "https://plot.ly"
              },
              "data": [
                {
                  "hovertemplate": "Name=Patricia<br>Year=%{x}<br>Count=%{y}<extra></extra>",
                  "legendgroup": "Patricia",
                  "line": {
                    "color": "#636efa",
                    "dash": "solid"
                  },
                  "marker": {
                    "symbol": "circle"
                  },
                  "mode": "lines",
                  "name": "Patricia",
                  "orientation": "v",
                  "showlegend": true,
                  "type": "scatter",
                  "x": [
                    1910,
                    1911,
                    1912,
                    1913,
                    1914,
                    1915,
                    1916,
                    1917,
                    1918,
                    1919,
                    1920,
                    1921,
                    1922,
                    1923,
                    1924,
                    1925,
                    1926,
                    1927,
                    1928,
                    1929,
                    1930,
                    1931,
                    1932,
                    1933,
                    1934,
                    1935,
                    1936,
                    1937,
                    1938,
                    1939,
                    1940,
                    1941,
                    1942,
                    1943,
                    1944,
                    1945,
                    1946,
                    1947,
                    1948,
                    1949,
                    1950,
                    1951,
                    1952,
                    1953,
                    1954,
                    1955,
                    1956,
                    1957,
                    1958,
                    1959,
                    1960,
                    1961,
                    1962,
                    1963,
                    1964,
                    1965,
                    1966,
                    1967,
                    1968,
                    1969,
                    1970,
                    1971,
                    1972,
                    1973,
                    1974,
                    1975,
                    1976,
                    1977,
                    1978,
                    1979,
                    1980,
                    1981,
                    1982,
                    1983,
                    1984,
                    1985,
                    1986,
                    1987,
                    1988,
                    1989,
                    1990,
                    1991,
                    1992,
                    1993,
                    1994,
                    1995,
                    1996,
                    1997,
                    1998,
                    1999,
                    2000,
                    2001,
                    2002,
                    2003,
                    2004,
                    2005,
                    2006,
                    2007,
                    2008,
                    2009,
                    2010,
                    2011,
                    2012,
                    2013,
                    2014,
                    2015,
                    2016,
                    2017,
                    2018,
                    2019,
                    2020
                  ],
                  "xaxis": "x",
                  "y": [
                    22,
                    21,
                    35,
                    41,
                    55,
                    94,
                    105,
                    137,
                    165,
                    185,
                    238,
                    295,
                    361,
                    488,
                    655,
                    727,
                    718,
                    802,
                    829,
                    857,
                    865,
                    928,
                    1009,
                    962,
                    1018,
                    1116,
                    1132,
                    1252,
                    1425,
                    1509,
                    1676,
                    1823,
                    2155,
                    2431,
                    2338,
                    2314,
                    2877,
                    3145,
                    2882,
                    2925,
                    3049,
                    3546,
                    3482,
                    3325,
                    3303,
                    3043,
                    3005,
                    2538,
                    2624,
                    2529,
                    2319,
                    2146,
                    1994,
                    2035,
                    2137,
                    2020,
                    1705,
                    1616,
                    1498,
                    1523,
                    1329,
                    1188,
                    1025,
                    911,
                    998,
                    1028,
                    853,
                    858,
                    855,
                    888,
                    853,
                    812,
                    850,
                    854,
                    741,
                    743,
                    774,
                    730,
                    681,
                    712,
                    721,
                    700,
                    634,
                    563,
                    492,
                    470,
                    397,
                    355,
                    352,
                    271,
                    240,
                    206,
                    185,
                    193,
                    177,
                    146,
                    116,
                    123,
                    99,
                    98,
                    75,
                    65,
                    72,
                    62,
                    58,
                    39,
                    55,
                    49,
                    40,
                    48,
                    20
                  ],
                  "yaxis": "y"
                },
                {
                  "hovertemplate": "Name=Susan<br>Year=%{x}<br>Count=%{y}<extra></extra>",
                  "legendgroup": "Susan",
                  "line": {
                    "color": "#EF553B",
                    "dash": "solid"
                  },
                  "marker": {
                    "symbol": "circle"
                  },
                  "mode": "lines",
                  "name": "Susan",
                  "orientation": "v",
                  "showlegend": true,
                  "type": "scatter",
                  "x": [
                    1911,
                    1912,
                    1913,
                    1914,
                    1915,
                    1916,
                    1917,
                    1918,
                    1919,
                    1920,
                    1921,
                    1922,
                    1923,
                    1924,
                    1925,
                    1926,
                    1927,
                    1928,
                    1929,
                    1930,
                    1931,
                    1932,
                    1933,
                    1934,
                    1935,
                    1936,
                    1937,
                    1938,
                    1939,
                    1940,
                    1941,
                    1942,
                    1943,
                    1944,
                    1945,
                    1946,
                    1947,
                    1948,
                    1949,
                    1950,
                    1951,
                    1952,
                    1953,
                    1954,
                    1955,
                    1956,
                    1957,
                    1958,
                    1959,
                    1960,
                    1961,
                    1962,
                    1963,
                    1964,
                    1965,
                    1966,
                    1967,
                    1968,
                    1969,
                    1970,
                    1971,
                    1972,
                    1973,
                    1974,
                    1975,
                    1976,
                    1977,
                    1978,
                    1979,
                    1980,
                    1981,
                    1982,
                    1983,
                    1984,
                    1985,
                    1986,
                    1987,
                    1988,
                    1989,
                    1990,
                    1991,
                    1992,
                    1993,
                    1994,
                    1995,
                    1996,
                    1997,
                    1998,
                    1999,
                    2000,
                    2001,
                    2002,
                    2003,
                    2004,
                    2005,
                    2006,
                    2007,
                    2008,
                    2009,
                    2010,
                    2011,
                    2012,
                    2013,
                    2014,
                    2015,
                    2016,
                    2017,
                    2018,
                    2019,
                    2020
                  ],
                  "xaxis": "x",
                  "y": [
                    6,
                    8,
                    8,
                    10,
                    16,
                    17,
                    15,
                    20,
                    22,
                    21,
                    19,
                    15,
                    22,
                    26,
                    32,
                    29,
                    43,
                    25,
                    37,
                    63,
                    47,
                    63,
                    74,
                    101,
                    118,
                    138,
                    183,
                    271,
                    433,
                    630,
                    795,
                    1058,
                    1380,
                    1596,
                    1991,
                    2689,
                    2831,
                    3338,
                    3180,
                    3260,
                    3346,
                    3424,
                    3753,
                    3935,
                    3901,
                    3769,
                    3632,
                    3504,
                    3122,
                    3145,
                    3134,
                    2952,
                    2838,
                    2535,
                    2009,
                    1825,
                    1644,
                    1367,
                    1232,
                    1070,
                    861,
                    650,
                    530,
                    552,
                    496,
                    456,
                    437,
                    424,
                    409,
                    420,
                    361,
                    391,
                    352,
                    338,
                    273,
                    280,
                    272,
                    286,
                    267,
                    272,
                    259,
                    196,
                    202,
                    172,
                    152,
                    152,
                    114,
                    116,
                    103,
                    100,
                    104,
                    85,
                    76,
                    70,
                    71,
                    74,
                    53,
                    56,
                    41,
                    39,
                    43,
                    28,
                    44,
                    26,
                    45,
                    22,
                    26,
                    22,
                    19,
                    17
                  ],
                  "yaxis": "y"
                },
                {
                  "hovertemplate": "Name=Cheryl<br>Year=%{x}<br>Count=%{y}<extra></extra>",
                  "legendgroup": "Cheryl",
                  "line": {
                    "color": "#00cc96",
                    "dash": "solid"
                  },
                  "marker": {
                    "symbol": "circle"
                  },
                  "mode": "lines",
                  "name": "Cheryl",
                  "orientation": "v",
                  "showlegend": true,
                  "type": "scatter",
                  "x": [
                    1930,
                    1934,
                    1935,
                    1936,
                    1937,
                    1938,
                    1939,
                    1940,
                    1941,
                    1942,
                    1943,
                    1944,
                    1945,
                    1946,
                    1947,
                    1948,
                    1949,
                    1950,
                    1951,
                    1952,
                    1953,
                    1954,
                    1955,
                    1956,
                    1957,
                    1958,
                    1959,
                    1960,
                    1961,
                    1962,
                    1963,
                    1964,
                    1965,
                    1966,
                    1967,
                    1968,
                    1969,
                    1970,
                    1971,
                    1972,
                    1973,
                    1974,
                    1975,
                    1976,
                    1977,
                    1978,
                    1979,
                    1980,
                    1981,
                    1982,
                    1983,
                    1984,
                    1985,
                    1986,
                    1987,
                    1988,
                    1989,
                    1990,
                    1991,
                    1992,
                    1993,
                    1994,
                    1995,
                    1996,
                    1997,
                    1998,
                    1999,
                    2000,
                    2001,
                    2002,
                    2003,
                    2004,
                    2005,
                    2006,
                    2007,
                    2008,
                    2011,
                    2012,
                    2013,
                    2014,
                    2015,
                    2016,
                    2017,
                    2018,
                    2019
                  ],
                  "xaxis": "x",
                  "y": [
                    6,
                    8,
                    12,
                    10,
                    16,
                    76,
                    49,
                    42,
                    48,
                    87,
                    377,
                    759,
                    801,
                    1063,
                    1093,
                    1021,
                    916,
                    903,
                    993,
                    955,
                    1058,
                    1465,
                    1639,
                    1715,
                    1833,
                    1832,
                    1639,
                    1621,
                    1565,
                    1421,
                    1295,
                    1207,
                    1051,
                    950,
                    899,
                    751,
                    635,
                    550,
                    428,
                    371,
                    293,
                    271,
                    236,
                    199,
                    178,
                    303,
                    298,
                    272,
                    204,
                    229,
                    164,
                    135,
                    129,
                    130,
                    98,
                    106,
                    88,
                    90,
                    65,
                    55,
                    39,
                    47,
                    38,
                    30,
                    30,
                    19,
                    22,
                    24,
                    14,
                    11,
                    16,
                    17,
                    16,
                    13,
                    21,
                    14,
                    11,
                    15,
                    12,
                    10,
                    12,
                    15,
                    8,
                    10,
                    9
                  ],
                  "yaxis": "y"
                },
                {
                  "hovertemplate": "Name=Kim<br>Year=%{x}<br>Count=%{y}<extra></extra>",
                  "legendgroup": "Kim",
                  "line": {
                    "color": "#ab63fa",
                    "dash": "solid"
                  },
                  "marker": {
                    "symbol": "circle"
                  },
                  "mode": "lines",
                  "name": "Kim",
                  "orientation": "v",
                  "showlegend": true,
                  "type": "scatter",
                  "x": [
                    1931,
                    1937,
                    1938,
                    1939,
                    1941,
                    1942,
                    1943,
                    1944,
                    1945,
                    1946,
                    1947,
                    1948,
                    1949,
                    1950,
                    1951,
                    1952,
                    1953,
                    1954,
                    1955,
                    1956,
                    1957,
                    1958,
                    1959,
                    1960,
                    1961,
                    1962,
                    1963,
                    1964,
                    1965,
                    1966,
                    1967,
                    1968,
                    1969,
                    1970,
                    1971,
                    1972,
                    1973,
                    1974,
                    1975,
                    1976,
                    1977,
                    1978,
                    1979,
                    1980,
                    1981,
                    1982,
                    1983,
                    1984,
                    1985,
                    1986,
                    1987,
                    1988,
                    1989,
                    1990,
                    1991,
                    1992,
                    1993,
                    1994,
                    1995,
                    1996,
                    1997,
                    1998,
                    1999,
                    2000,
                    2001,
                    2002,
                    2003,
                    2004,
                    2005,
                    2006,
                    2007,
                    2008,
                    2009,
                    2010,
                    2011,
                    2012,
                    2013,
                    2014,
                    2015,
                    2016,
                    2017,
                    2018,
                    2019,
                    2020
                  ],
                  "xaxis": "x",
                  "y": [
                    6,
                    5,
                    5,
                    6,
                    7,
                    9,
                    8,
                    14,
                    26,
                    42,
                    50,
                    39,
                    48,
                    59,
                    73,
                    191,
                    236,
                    365,
                    576,
                    902,
                    1081,
                    1005,
                    1082,
                    1135,
                    1081,
                    1114,
                    1020,
                    907,
                    922,
                    757,
                    626,
                    508,
                    464,
                    350,
                    256,
                    173,
                    136,
                    132,
                    83,
                    82,
                    69,
                    60,
                    61,
                    49,
                    58,
                    73,
                    64,
                    70,
                    65,
                    48,
                    60,
                    54,
                    64,
                    49,
                    54,
                    38,
                    41,
                    35,
                    25,
                    28,
                    26,
                    17,
                    25,
                    31,
                    19,
                    21,
                    17,
                    15,
                    12,
                    18,
                    26,
                    18,
                    7,
                    10,
                    13,
                    20,
                    14,
                    16,
                    13,
                    12,
                    9,
                    5,
                    15,
                    5
                  ],
                  "yaxis": "y"
                },
                {
                  "hovertemplate": "Name=Lisa<br>Year=%{x}<br>Count=%{y}<extra></extra>",
                  "legendgroup": "Lisa",
                  "line": {
                    "color": "#FFA15A",
                    "dash": "solid"
                  },
                  "marker": {
                    "symbol": "circle"
                  },
                  "mode": "lines",
                  "name": "Lisa",
                  "orientation": "v",
                  "showlegend": true,
                  "type": "scatter",
                  "x": [
                    1932,
                    1936,
                    1939,
                    1940,
                    1941,
                    1942,
                    1943,
                    1944,
                    1945,
                    1946,
                    1947,
                    1948,
                    1949,
                    1950,
                    1951,
                    1952,
                    1953,
                    1954,
                    1955,
                    1956,
                    1957,
                    1958,
                    1959,
                    1960,
                    1961,
                    1962,
                    1963,
                    1964,
                    1965,
                    1966,
                    1967,
                    1968,
                    1969,
                    1970,
                    1971,
                    1972,
                    1973,
                    1974,
                    1975,
                    1976,
                    1977,
                    1978,
                    1979,
                    1980,
                    1981,
                    1982,
                    1983,
                    1984,
                    1985,
                    1986,
                    1987,
                    1988,
                    1989,
                    1990,
                    1991,
                    1992,
                    1993,
                    1994,
                    1995,
                    1996,
                    1997,
                    1998,
                    1999,
                    2000,
                    2001,
                    2002,
                    2003,
                    2004,
                    2005,
                    2006,
                    2007,
                    2008,
                    2009,
                    2010,
                    2011,
                    2012,
                    2013,
                    2014,
                    2015,
                    2016,
                    2017,
                    2018,
                    2019,
                    2020
                  ],
                  "xaxis": "x",
                  "y": [
                    5,
                    8,
                    5,
                    7,
                    7,
                    7,
                    12,
                    23,
                    40,
                    41,
                    51,
                    66,
                    87,
                    164,
                    262,
                    411,
                    501,
                    796,
                    1037,
                    1441,
                    1680,
                    2313,
                    2680,
                    3117,
                    3767,
                    3972,
                    4939,
                    4806,
                    4925,
                    4928,
                    4623,
                    4498,
                    4171,
                    3704,
                    2938,
                    2430,
                    2082,
                    1838,
                    1636,
                    1729,
                    1735,
                    1747,
                    1750,
                    1615,
                    1534,
                    1337,
                    1275,
                    1189,
                    1038,
                    917,
                    961,
                    988,
                    901,
                    768,
                    655,
                    541,
                    478,
                    395,
                    366,
                    288,
                    263,
                    234,
                    180,
                    175,
                    133,
                    132,
                    118,
                    102,
                    92,
                    110,
                    80,
                    73,
                    62,
                    67,
                    57,
                    64,
                    57,
                    68,
                    65,
                    56,
                    62,
                    52,
                    56,
                    26
                  ],
                  "yaxis": "y"
                },
                {
                  "hovertemplate": "Name=Debbie<br>Year=%{x}<br>Count=%{y}<extra></extra>",
                  "legendgroup": "Debbie",
                  "line": {
                    "color": "#19d3f3",
                    "dash": "solid"
                  },
                  "marker": {
                    "symbol": "circle"
                  },
                  "mode": "lines",
                  "name": "Debbie",
                  "orientation": "v",
                  "showlegend": true,
                  "type": "scatter",
                  "x": [
                    1936,
                    1941,
                    1942,
                    1943,
                    1944,
                    1945,
                    1946,
                    1947,
                    1948,
                    1949,
                    1950,
                    1951,
                    1952,
                    1953,
                    1954,
                    1955,
                    1956,
                    1957,
                    1958,
                    1959,
                    1960,
                    1961,
                    1962,
                    1963,
                    1964,
                    1965,
                    1966,
                    1967,
                    1968,
                    1969,
                    1970,
                    1971,
                    1972,
                    1973,
                    1974,
                    1975,
                    1976,
                    1977,
                    1978,
                    1979,
                    1980,
                    1981,
                    1982,
                    1983,
                    1984,
                    1985,
                    1986,
                    1987,
                    1988,
                    1989,
                    1990,
                    1991,
                    1992,
                    1993,
                    1994,
                    1995,
                    1996,
                    1997,
                    1998,
                    1999,
                    2000,
                    2001,
                    2002,
                    2003,
                    2004,
                    2005,
                    2006,
                    2007,
                    2008,
                    2009,
                    2010,
                    2011,
                    2014,
                    2015,
                    2016,
                    2017
                  ],
                  "xaxis": "x",
                  "y": [
                    5,
                    9,
                    9,
                    10,
                    16,
                    11,
                    32,
                    74,
                    91,
                    115,
                    120,
                    191,
                    233,
                    300,
                    427,
                    697,
                    904,
                    1311,
                    1656,
                    1775,
                    1675,
                    1547,
                    1458,
                    1215,
                    1004,
                    648,
                    504,
                    415,
                    338,
                    279,
                    243,
                    192,
                    145,
                    108,
                    108,
                    92,
                    72,
                    64,
                    87,
                    91,
                    81,
                    65,
                    79,
                    67,
                    74,
                    64,
                    56,
                    71,
                    78,
                    93,
                    85,
                    78,
                    50,
                    61,
                    70,
                    53,
                    46,
                    39,
                    22,
                    28,
                    19,
                    11,
                    16,
                    14,
                    13,
                    8,
                    21,
                    10,
                    11,
                    10,
                    12,
                    8,
                    9,
                    6,
                    5,
                    5
                  ],
                  "yaxis": "y"
                },
                {
                  "hovertemplate": "Name=Shannon<br>Year=%{x}<br>Count=%{y}<extra></extra>",
                  "legendgroup": "Shannon",
                  "line": {
                    "color": "#FF6692",
                    "dash": "solid"
                  },
                  "marker": {
                    "symbol": "circle"
                  },
                  "mode": "lines",
                  "name": "Shannon",
                  "orientation": "v",
                  "showlegend": true,
                  "type": "scatter",
                  "x": [
                    1938,
                    1939,
                    1940,
                    1942,
                    1943,
                    1944,
                    1945,
                    1946,
                    1947,
                    1948,
                    1949,
                    1950,
                    1951,
                    1952,
                    1953,
                    1954,
                    1955,
                    1956,
                    1957,
                    1958,
                    1959,
                    1960,
                    1961,
                    1962,
                    1963,
                    1964,
                    1965,
                    1966,
                    1967,
                    1968,
                    1969,
                    1970,
                    1971,
                    1972,
                    1973,
                    1974,
                    1975,
                    1976,
                    1977,
                    1978,
                    1979,
                    1980,
                    1981,
                    1982,
                    1983,
                    1984,
                    1985,
                    1986,
                    1987,
                    1988,
                    1989,
                    1990,
                    1991,
                    1992,
                    1993,
                    1994,
                    1995,
                    1996,
                    1997,
                    1998,
                    1999,
                    2000,
                    2001,
                    2002,
                    2003,
                    2004,
                    2005,
                    2006,
                    2007,
                    2008,
                    2009,
                    2010,
                    2011,
                    2012,
                    2013,
                    2014,
                    2015,
                    2016,
                    2017,
                    2018,
                    2019,
                    2020
                  ],
                  "xaxis": "x",
                  "y": [
                    6,
                    9,
                    6,
                    10,
                    14,
                    19,
                    25,
                    16,
                    34,
                    23,
                    34,
                    43,
                    51,
                    59,
                    73,
                    83,
                    111,
                    106,
                    126,
                    129,
                    161,
                    145,
                    206,
                    216,
                    305,
                    409,
                    441,
                    516,
                    586,
                    932,
                    1419,
                    1650,
                    1436,
                    1198,
                    1090,
                    1127,
                    982,
                    1218,
                    1136,
                    1052,
                    991,
                    923,
                    968,
                    969,
                    971,
                    945,
                    871,
                    804,
                    699,
                    642,
                    597,
                    527,
                    493,
                    594,
                    615,
                    531,
                    438,
                    428,
                    366,
                    303,
                    217,
                    199,
                    200,
                    165,
                    133,
                    133,
                    110,
                    90,
                    88,
                    63,
                    42,
                    43,
                    37,
                    41,
                    32,
                    19,
                    31,
                    22,
                    17,
                    14,
                    21,
                    8
                  ],
                  "yaxis": "y"
                },
                {
                  "hovertemplate": "Name=Terri<br>Year=%{x}<br>Count=%{y}<extra></extra>",
                  "legendgroup": "Terri",
                  "line": {
                    "color": "#B6E880",
                    "dash": "solid"
                  },
                  "marker": {
                    "symbol": "circle"
                  },
                  "mode": "lines",
                  "name": "Terri",
                  "orientation": "v",
                  "showlegend": true,
                  "type": "scatter",
                  "x": [
                    1938,
                    1940,
                    1941,
                    1942,
                    1943,
                    1944,
                    1945,
                    1946,
                    1947,
                    1948,
                    1949,
                    1950,
                    1951,
                    1952,
                    1953,
                    1954,
                    1955,
                    1956,
                    1957,
                    1958,
                    1959,
                    1960,
                    1961,
                    1962,
                    1963,
                    1964,
                    1965,
                    1966,
                    1967,
                    1968,
                    1969,
                    1970,
                    1971,
                    1972,
                    1973,
                    1974,
                    1975,
                    1976,
                    1977,
                    1978,
                    1979,
                    1980,
                    1981,
                    1982,
                    1983,
                    1984,
                    1985,
                    1986,
                    1987,
                    1988,
                    1989,
                    1990,
                    1991,
                    1992,
                    1993,
                    1994,
                    1995,
                    1996,
                    1997,
                    1998,
                    1999,
                    2000,
                    2001,
                    2002,
                    2004,
                    2005,
                    2006,
                    2016
                  ],
                  "xaxis": "x",
                  "y": [
                    6,
                    8,
                    12,
                    26,
                    32,
                    38,
                    65,
                    99,
                    130,
                    132,
                    168,
                    154,
                    236,
                    306,
                    379,
                    542,
                    604,
                    686,
                    838,
                    875,
                    1051,
                    964,
                    937,
                    903,
                    826,
                    737,
                    486,
                    448,
                    398,
                    323,
                    312,
                    262,
                    191,
                    153,
                    120,
                    106,
                    81,
                    59,
                    84,
                    57,
                    44,
                    49,
                    47,
                    53,
                    44,
                    37,
                    37,
                    35,
                    32,
                    34,
                    20,
                    26,
                    29,
                    15,
                    19,
                    22,
                    11,
                    15,
                    12,
                    13,
                    11,
                    14,
                    9,
                    7,
                    6,
                    7,
                    5,
                    5
                  ],
                  "yaxis": "y"
                },
                {
                  "hovertemplate": "Name=Debra<br>Year=%{x}<br>Count=%{y}<extra></extra>",
                  "legendgroup": "Debra",
                  "line": {
                    "color": "#FF97FF",
                    "dash": "solid"
                  },
                  "marker": {
                    "symbol": "circle"
                  },
                  "mode": "lines",
                  "name": "Debra",
                  "orientation": "v",
                  "showlegend": true,
                  "type": "scatter",
                  "x": [
                    1940,
                    1942,
                    1943,
                    1944,
                    1945,
                    1946,
                    1947,
                    1948,
                    1949,
                    1950,
                    1951,
                    1952,
                    1953,
                    1954,
                    1955,
                    1956,
                    1957,
                    1958,
                    1959,
                    1960,
                    1961,
                    1962,
                    1963,
                    1964,
                    1965,
                    1966,
                    1967,
                    1968,
                    1969,
                    1970,
                    1971,
                    1972,
                    1973,
                    1974,
                    1975,
                    1976,
                    1977,
                    1978,
                    1979,
                    1980,
                    1981,
                    1982,
                    1983,
                    1984,
                    1985,
                    1986,
                    1987,
                    1988,
                    1989,
                    1990,
                    1991,
                    1992,
                    1993,
                    1994,
                    1995,
                    1996,
                    1997,
                    1998,
                    1999,
                    2000,
                    2001,
                    2002,
                    2003,
                    2004,
                    2005,
                    2006,
                    2007,
                    2008,
                    2009,
                    2012,
                    2013,
                    2016
                  ],
                  "xaxis": "x",
                  "y": [
                    7,
                    7,
                    8,
                    15,
                    19,
                    20,
                    56,
                    92,
                    199,
                    601,
                    1510,
                    2351,
                    3295,
                    3784,
                    3969,
                    3754,
                    3322,
                    2659,
                    2290,
                    2015,
                    1646,
                    1591,
                    1430,
                    1287,
                    1154,
                    958,
                    819,
                    748,
                    647,
                    547,
                    463,
                    318,
                    242,
                    236,
                    159,
                    151,
                    151,
                    164,
                    130,
                    141,
                    97,
                    114,
                    97,
                    95,
                    93,
                    64,
                    78,
                    69,
                    71,
                    51,
                    62,
                    41,
                    34,
                    28,
                    28,
                    12,
                    14,
                    16,
                    10,
                    13,
                    14,
                    10,
                    7,
                    12,
                    13,
                    12,
                    13,
                    6,
                    7,
                    5,
                    8,
                    5
                  ],
                  "yaxis": "y"
                },
                {
                  "hovertemplate": "Name=Tammy<br>Year=%{x}<br>Count=%{y}<extra></extra>",
                  "legendgroup": "Tammy",
                  "line": {
                    "color": "#FECB52",
                    "dash": "solid"
                  },
                  "marker": {
                    "symbol": "circle"
                  },
                  "mode": "lines",
                  "name": "Tammy",
                  "orientation": "v",
                  "showlegend": true,
                  "type": "scatter",
                  "x": [
                    1943,
                    1944,
                    1945,
                    1946,
                    1947,
                    1948,
                    1949,
                    1950,
                    1951,
                    1952,
                    1953,
                    1954,
                    1955,
                    1956,
                    1957,
                    1958,
                    1959,
                    1960,
                    1961,
                    1962,
                    1963,
                    1964,
                    1965,
                    1966,
                    1967,
                    1968,
                    1969,
                    1970,
                    1971,
                    1972,
                    1973,
                    1974,
                    1975,
                    1976,
                    1977,
                    1978,
                    1979,
                    1980,
                    1981,
                    1982,
                    1983,
                    1984,
                    1985,
                    1986,
                    1987,
                    1988,
                    1989,
                    1990,
                    1991,
                    1992,
                    1993,
                    1994,
                    1995,
                    1996,
                    1997,
                    1998,
                    1999,
                    2000,
                    2001,
                    2002,
                    2003,
                    2004,
                    2005,
                    2006,
                    2007,
                    2008,
                    2009,
                    2010,
                    2011,
                    2012,
                    2013,
                    2014,
                    2015,
                    2016,
                    2017,
                    2019
                  ],
                  "xaxis": "x",
                  "y": [
                    7,
                    5,
                    10,
                    9,
                    12,
                    13,
                    10,
                    9,
                    9,
                    13,
                    28,
                    14,
                    26,
                    37,
                    368,
                    746,
                    991,
                    1038,
                    1136,
                    1223,
                    1538,
                    1273,
                    1218,
                    1169,
                    1143,
                    1099,
                    977,
                    1013,
                    859,
                    704,
                    544,
                    421,
                    392,
                    328,
                    275,
                    229,
                    227,
                    181,
                    168,
                    157,
                    96,
                    120,
                    102,
                    85,
                    120,
                    88,
                    85,
                    94,
                    77,
                    82,
                    74,
                    61,
                    49,
                    45,
                    45,
                    54,
                    50,
                    47,
                    49,
                    45,
                    44,
                    36,
                    30,
                    24,
                    29,
                    14,
                    16,
                    12,
                    11,
                    9,
                    5,
                    13,
                    9,
                    15,
                    11,
                    7
                  ],
                  "yaxis": "y"
                }
              ],
              "layout": {
                "autosize": true,
                "font": {
                  "size": 13
                },
                "legend": {
                  "title": {
                    "text": "Name"
                  },
                  "tracegroupgap": 0
                },
                "margin": {
                  "t": 60
                },
                "template": {
                  "data": {
                    "bar": [
                      {
                        "error_x": {
                          "color": "#2a3f5f"
                        },
                        "error_y": {
                          "color": "#2a3f5f"
                        },
                        "marker": {
                          "line": {
                            "color": "#E5ECF6",
                            "width": 0.5
                          },
                          "pattern": {
                            "fillmode": "overlay",
                            "size": 10,
                            "solidity": 0.2
                          }
                        },
                        "type": "bar"
                      }
                    ],
                    "barpolar": [
                      {
                        "marker": {
                          "line": {
                            "color": "#E5ECF6",
                            "width": 0.5
                          },
                          "pattern": {
                            "fillmode": "overlay",
                            "size": 10,
                            "solidity": 0.2
                          }
                        },
                        "type": "barpolar"
                      }
                    ],
                    "carpet": [
                      {
                        "aaxis": {
                          "endlinecolor": "#2a3f5f",
                          "gridcolor": "white",
                          "linecolor": "white",
                          "minorgridcolor": "white",
                          "startlinecolor": "#2a3f5f"
                        },
                        "baxis": {
                          "endlinecolor": "#2a3f5f",
                          "gridcolor": "white",
                          "linecolor": "white",
                          "minorgridcolor": "white",
                          "startlinecolor": "#2a3f5f"
                        },
                        "type": "carpet"
                      }
                    ],
                    "choropleth": [
                      {
                        "colorbar": {
                          "outlinewidth": 0,
                          "ticks": ""
                        },
                        "type": "choropleth"
                      }
                    ],
                    "contour": [
                      {
                        "colorbar": {
                          "outlinewidth": 0,
                          "ticks": ""
                        },
                        "colorscale": [
                          [
                            0,
                            "#0d0887"
                          ],
                          [
                            0.1111111111111111,
                            "#46039f"
                          ],
                          [
                            0.2222222222222222,
                            "#7201a8"
                          ],
                          [
                            0.3333333333333333,
                            "#9c179e"
                          ],
                          [
                            0.4444444444444444,
                            "#bd3786"
                          ],
                          [
                            0.5555555555555556,
                            "#d8576b"
                          ],
                          [
                            0.6666666666666666,
                            "#ed7953"
                          ],
                          [
                            0.7777777777777778,
                            "#fb9f3a"
                          ],
                          [
                            0.8888888888888888,
                            "#fdca26"
                          ],
                          [
                            1,
                            "#f0f921"
                          ]
                        ],
                        "type": "contour"
                      }
                    ],
                    "contourcarpet": [
                      {
                        "colorbar": {
                          "outlinewidth": 0,
                          "ticks": ""
                        },
                        "type": "contourcarpet"
                      }
                    ],
                    "heatmap": [
                      {
                        "colorbar": {
                          "outlinewidth": 0,
                          "ticks": ""
                        },
                        "colorscale": [
                          [
                            0,
                            "#0d0887"
                          ],
                          [
                            0.1111111111111111,
                            "#46039f"
                          ],
                          [
                            0.2222222222222222,
                            "#7201a8"
                          ],
                          [
                            0.3333333333333333,
                            "#9c179e"
                          ],
                          [
                            0.4444444444444444,
                            "#bd3786"
                          ],
                          [
                            0.5555555555555556,
                            "#d8576b"
                          ],
                          [
                            0.6666666666666666,
                            "#ed7953"
                          ],
                          [
                            0.7777777777777778,
                            "#fb9f3a"
                          ],
                          [
                            0.8888888888888888,
                            "#fdca26"
                          ],
                          [
                            1,
                            "#f0f921"
                          ]
                        ],
                        "type": "heatmap"
                      }
                    ],
                    "heatmapgl": [
                      {
                        "colorbar": {
                          "outlinewidth": 0,
                          "ticks": ""
                        },
                        "colorscale": [
                          [
                            0,
                            "#0d0887"
                          ],
                          [
                            0.1111111111111111,
                            "#46039f"
                          ],
                          [
                            0.2222222222222222,
                            "#7201a8"
                          ],
                          [
                            0.3333333333333333,
                            "#9c179e"
                          ],
                          [
                            0.4444444444444444,
                            "#bd3786"
                          ],
                          [
                            0.5555555555555556,
                            "#d8576b"
                          ],
                          [
                            0.6666666666666666,
                            "#ed7953"
                          ],
                          [
                            0.7777777777777778,
                            "#fb9f3a"
                          ],
                          [
                            0.8888888888888888,
                            "#fdca26"
                          ],
                          [
                            1,
                            "#f0f921"
                          ]
                        ],
                        "type": "heatmapgl"
                      }
                    ],
                    "histogram": [
                      {
                        "marker": {
                          "pattern": {
                            "fillmode": "overlay",
                            "size": 10,
                            "solidity": 0.2
                          }
                        },
                        "type": "histogram"
                      }
                    ],
                    "histogram2d": [
                      {
                        "colorbar": {
                          "outlinewidth": 0,
                          "ticks": ""
                        },
                        "colorscale": [
                          [
                            0,
                            "#0d0887"
                          ],
                          [
                            0.1111111111111111,
                            "#46039f"
                          ],
                          [
                            0.2222222222222222,
                            "#7201a8"
                          ],
                          [
                            0.3333333333333333,
                            "#9c179e"
                          ],
                          [
                            0.4444444444444444,
                            "#bd3786"
                          ],
                          [
                            0.5555555555555556,
                            "#d8576b"
                          ],
                          [
                            0.6666666666666666,
                            "#ed7953"
                          ],
                          [
                            0.7777777777777778,
                            "#fb9f3a"
                          ],
                          [
                            0.8888888888888888,
                            "#fdca26"
                          ],
                          [
                            1,
                            "#f0f921"
                          ]
                        ],
                        "type": "histogram2d"
                      }
                    ],
                    "histogram2dcontour": [
                      {
                        "colorbar": {
                          "outlinewidth": 0,
                          "ticks": ""
                        },
                        "colorscale": [
                          [
                            0,
                            "#0d0887"
                          ],
                          [
                            0.1111111111111111,
                            "#46039f"
                          ],
                          [
                            0.2222222222222222,
                            "#7201a8"
                          ],
                          [
                            0.3333333333333333,
                            "#9c179e"
                          ],
                          [
                            0.4444444444444444,
                            "#bd3786"
                          ],
                          [
                            0.5555555555555556,
                            "#d8576b"
                          ],
                          [
                            0.6666666666666666,
                            "#ed7953"
                          ],
                          [
                            0.7777777777777778,
                            "#fb9f3a"
                          ],
                          [
                            0.8888888888888888,
                            "#fdca26"
                          ],
                          [
                            1,
                            "#f0f921"
                          ]
                        ],
                        "type": "histogram2dcontour"
                      }
                    ],
                    "mesh3d": [
                      {
                        "colorbar": {
                          "outlinewidth": 0,
                          "ticks": ""
                        },
                        "type": "mesh3d"
                      }
                    ],
                    "parcoords": [
                      {
                        "line": {
                          "colorbar": {
                            "outlinewidth": 0,
                            "ticks": ""
                          }
                        },
                        "type": "parcoords"
                      }
                    ],
                    "pie": [
                      {
                        "automargin": true,
                        "type": "pie"
                      }
                    ],
                    "scatter": [
                      {
                        "marker": {
                          "colorbar": {
                            "outlinewidth": 0,
                            "ticks": ""
                          }
                        },
                        "type": "scatter"
                      }
                    ],
                    "scatter3d": [
                      {
                        "line": {
                          "colorbar": {
                            "outlinewidth": 0,
                            "ticks": ""
                          }
                        },
                        "marker": {
                          "colorbar": {
                            "outlinewidth": 0,
                            "ticks": ""
                          }
                        },
                        "type": "scatter3d"
                      }
                    ],
                    "scattercarpet": [
                      {
                        "marker": {
                          "colorbar": {
                            "outlinewidth": 0,
                            "ticks": ""
                          }
                        },
                        "type": "scattercarpet"
                      }
                    ],
                    "scattergeo": [
                      {
                        "marker": {
                          "colorbar": {
                            "outlinewidth": 0,
                            "ticks": ""
                          }
                        },
                        "type": "scattergeo"
                      }
                    ],
                    "scattergl": [
                      {
                        "marker": {
                          "colorbar": {
                            "outlinewidth": 0,
                            "ticks": ""
                          }
                        },
                        "type": "scattergl"
                      }
                    ],
                    "scattermapbox": [
                      {
                        "marker": {
                          "colorbar": {
                            "outlinewidth": 0,
                            "ticks": ""
                          }
                        },
                        "type": "scattermapbox"
                      }
                    ],
                    "scatterpolar": [
                      {
                        "marker": {
                          "colorbar": {
                            "outlinewidth": 0,
                            "ticks": ""
                          }
                        },
                        "type": "scatterpolar"
                      }
                    ],
                    "scatterpolargl": [
                      {
                        "marker": {
                          "colorbar": {
                            "outlinewidth": 0,
                            "ticks": ""
                          }
                        },
                        "type": "scatterpolargl"
                      }
                    ],
                    "scatterternary": [
                      {
                        "marker": {
                          "colorbar": {
                            "outlinewidth": 0,
                            "ticks": ""
                          }
                        },
                        "type": "scatterternary"
                      }
                    ],
                    "surface": [
                      {
                        "colorbar": {
                          "outlinewidth": 0,
                          "ticks": ""
                        },
                        "colorscale": [
                          [
                            0,
                            "#0d0887"
                          ],
                          [
                            0.1111111111111111,
                            "#46039f"
                          ],
                          [
                            0.2222222222222222,
                            "#7201a8"
                          ],
                          [
                            0.3333333333333333,
                            "#9c179e"
                          ],
                          [
                            0.4444444444444444,
                            "#bd3786"
                          ],
                          [
                            0.5555555555555556,
                            "#d8576b"
                          ],
                          [
                            0.6666666666666666,
                            "#ed7953"
                          ],
                          [
                            0.7777777777777778,
                            "#fb9f3a"
                          ],
                          [
                            0.8888888888888888,
                            "#fdca26"
                          ],
                          [
                            1,
                            "#f0f921"
                          ]
                        ],
                        "type": "surface"
                      }
                    ],
                    "table": [
                      {
                        "cells": {
                          "fill": {
                            "color": "#EBF0F8"
                          },
                          "line": {
                            "color": "white"
                          }
                        },
                        "header": {
                          "fill": {
                            "color": "#C8D4E3"
                          },
                          "line": {
                            "color": "white"
                          }
                        },
                        "type": "table"
                      }
                    ]
                  },
                  "layout": {
                    "annotationdefaults": {
                      "arrowcolor": "#2a3f5f",
                      "arrowhead": 0,
                      "arrowwidth": 1
                    },
                    "autotypenumbers": "strict",
                    "coloraxis": {
                      "colorbar": {
                        "outlinewidth": 0,
                        "ticks": ""
                      }
                    },
                    "colorscale": {
                      "diverging": [
                        [
                          0,
                          "#8e0152"
                        ],
                        [
                          0.1,
                          "#c51b7d"
                        ],
                        [
                          0.2,
                          "#de77ae"
                        ],
                        [
                          0.3,
                          "#f1b6da"
                        ],
                        [
                          0.4,
                          "#fde0ef"
                        ],
                        [
                          0.5,
                          "#f7f7f7"
                        ],
                        [
                          0.6,
                          "#e6f5d0"
                        ],
                        [
                          0.7,
                          "#b8e186"
                        ],
                        [
                          0.8,
                          "#7fbc41"
                        ],
                        [
                          0.9,
                          "#4d9221"
                        ],
                        [
                          1,
                          "#276419"
                        ]
                      ],
                      "sequential": [
                        [
                          0,
                          "#0d0887"
                        ],
                        [
                          0.1111111111111111,
                          "#46039f"
                        ],
                        [
                          0.2222222222222222,
                          "#7201a8"
                        ],
                        [
                          0.3333333333333333,
                          "#9c179e"
                        ],
                        [
                          0.4444444444444444,
                          "#bd3786"
                        ],
                        [
                          0.5555555555555556,
                          "#d8576b"
                        ],
                        [
                          0.6666666666666666,
                          "#ed7953"
                        ],
                        [
                          0.7777777777777778,
                          "#fb9f3a"
                        ],
                        [
                          0.8888888888888888,
                          "#fdca26"
                        ],
                        [
                          1,
                          "#f0f921"
                        ]
                      ],
                      "sequentialminus": [
                        [
                          0,
                          "#0d0887"
                        ],
                        [
                          0.1111111111111111,
                          "#46039f"
                        ],
                        [
                          0.2222222222222222,
                          "#7201a8"
                        ],
                        [
                          0.3333333333333333,
                          "#9c179e"
                        ],
                        [
                          0.4444444444444444,
                          "#bd3786"
                        ],
                        [
                          0.5555555555555556,
                          "#d8576b"
                        ],
                        [
                          0.6666666666666666,
                          "#ed7953"
                        ],
                        [
                          0.7777777777777778,
                          "#fb9f3a"
                        ],
                        [
                          0.8888888888888888,
                          "#fdca26"
                        ],
                        [
                          1,
                          "#f0f921"
                        ]
                      ]
                    },
                    "colorway": [
                      "#636efa",
                      "#EF553B",
                      "#00cc96",
                      "#ab63fa",
                      "#FFA15A",
                      "#19d3f3",
                      "#FF6692",
                      "#B6E880",
                      "#FF97FF",
                      "#FECB52"
                    ],
                    "font": {
                      "color": "#2a3f5f"
                    },
                    "geo": {
                      "bgcolor": "white",
                      "lakecolor": "white",
                      "landcolor": "#E5ECF6",
                      "showlakes": true,
                      "showland": true,
                      "subunitcolor": "white"
                    },
                    "hoverlabel": {
                      "align": "left"
                    },
                    "hovermode": "closest",
                    "mapbox": {
                      "style": "light"
                    },
                    "paper_bgcolor": "white",
                    "plot_bgcolor": "#E5ECF6",
                    "polar": {
                      "angularaxis": {
                        "gridcolor": "white",
                        "linecolor": "white",
                        "ticks": ""
                      },
                      "bgcolor": "#E5ECF6",
                      "radialaxis": {
                        "gridcolor": "white",
                        "linecolor": "white",
                        "ticks": ""
                      }
                    },
                    "scene": {
                      "xaxis": {
                        "backgroundcolor": "#E5ECF6",
                        "gridcolor": "white",
                        "gridwidth": 2,
                        "linecolor": "white",
                        "showbackground": true,
                        "ticks": "",
                        "zerolinecolor": "white"
                      },
                      "yaxis": {
                        "backgroundcolor": "#E5ECF6",
                        "gridcolor": "white",
                        "gridwidth": 2,
                        "linecolor": "white",
                        "showbackground": true,
                        "ticks": "",
                        "zerolinecolor": "white"
                      },
                      "zaxis": {
                        "backgroundcolor": "#E5ECF6",
                        "gridcolor": "white",
                        "gridwidth": 2,
                        "linecolor": "white",
                        "showbackground": true,
                        "ticks": "",
                        "zerolinecolor": "white"
                      }
                    },
                    "shapedefaults": {
                      "line": {
                        "color": "#2a3f5f"
                      }
                    },
                    "ternary": {
                      "aaxis": {
                        "gridcolor": "white",
                        "linecolor": "white",
                        "ticks": ""
                      },
                      "baxis": {
                        "gridcolor": "white",
                        "linecolor": "white",
                        "ticks": ""
                      },
                      "bgcolor": "#E5ECF6",
                      "caxis": {
                        "gridcolor": "white",
                        "linecolor": "white",
                        "ticks": ""
                      }
                    },
                    "title": {
                      "x": 0.05
                    },
                    "xaxis": {
                      "automargin": true,
                      "gridcolor": "white",
                      "linecolor": "white",
                      "ticks": "",
                      "title": {
                        "standoff": 15
                      },
                      "zerolinecolor": "white",
                      "zerolinewidth": 2
                    },
                    "yaxis": {
                      "automargin": true,
                      "gridcolor": "white",
                      "linecolor": "white",
                      "ticks": "",
                      "title": {
                        "standoff": 15
                      },
                      "zerolinecolor": "white",
                      "zerolinewidth": 2
                    }
                  }
                },
                "xaxis": {
                  "anchor": "y",
                  "autorange": true,
                  "domain": [
                    0,
                    1
                  ],
                  "range": [
                    1910,
                    2020
                  ],
                  "title": {
                    "text": "Year"
                  },
                  "type": "linear"
                },
                "yaxis": {
                  "anchor": "x",
                  "autorange": true,
                  "domain": [
                    0,
                    1
                  ],
                  "range": [
                    -269.11111111111114,
                    5213.111111111111
                  ],
                  "title": {
                    "text": "Count"
                  },
                  "type": "linear"
                }
              }
            },
            "image/png": "[encoded data removed]",
            "text/html": [
              "<div>                            <div id=\"92df3c33-0b47-475e-b3e1-0ca9e6fab804\" class=\"plotly-graph-div\" style=\"height:525px; width:100%;\"></div>            <script type=\"text/javascript\">                require([\"plotly\"], function(Plotly) {                    window.PLOTLYENV=window.PLOTLYENV || {};                                    if (document.getElementById(\"92df3c33-0b47-475e-b3e1-0ca9e6fab804\")) {                    Plotly.newPlot(                        \"92df3c33-0b47-475e-b3e1-0ca9e6fab804\",                        [{\"hovertemplate\":\"Name=Patricia<br>Year=%{x}<br>Count=%{y}<extra></extra>\",\"legendgroup\":\"Patricia\",\"line\":{\"color\":\"#636efa\",\"dash\":\"solid\"},\"marker\":{\"symbol\":\"circle\"},\"mode\":\"lines\",\"name\":\"Patricia\",\"orientation\":\"v\",\"showlegend\":true,\"type\":\"scatter\",\"x\":[1910,1911,1912,1913,1914,1915,1916,1917,1918,1919,1920,1921,1922,1923,1924,1925,1926,1927,1928,1929,1930,1931,1932,1933,1934,1935,1936,1937,1938,1939,1940,1941,1942,1943,1944,1945,1946,1947,1948,1949,1950,1951,1952,1953,1954,1955,1956,1957,1958,1959,1960,1961,1962,1963,1964,1965,1966,1967,1968,1969,1970,1971,1972,1973,1974,1975,1976,1977,1978,1979,1980,1981,1982,1983,1984,1985,1986,1987,1988,1989,1990,1991,1992,1993,1994,1995,1996,1997,1998,1999,2000,2001,2002,2003,2004,2005,2006,2007,2008,2009,2010,2011,2012,2013,2014,2015,2016,2017,2018,2019,2020],\"xaxis\":\"x\",\"y\":[22,21,35,41,55,94,105,137,165,185,238,295,361,488,655,727,718,802,829,857,865,928,1009,962,1018,1116,1132,1252,1425,1509,1676,1823,2155,2431,2338,2314,2877,3145,2882,2925,3049,3546,3482,3325,3303,3043,3005,2538,2624,2529,2319,2146,1994,2035,2137,2020,1705,1616,1498,1523,1329,1188,1025,911,998,1028,853,858,855,888,853,812,850,854,741,743,774,730,681,712,721,700,634,563,492,470,397,355,352,271,240,206,185,193,177,146,116,123,99,98,75,65,72,62,58,39,55,49,40,48,20],\"yaxis\":\"y\"},{\"hovertemplate\":\"Name=Susan<br>Year=%{x}<br>Count=%{y}<extra></extra>\",\"legendgroup\":\"Susan\",\"line\":{\"color\":\"#EF553B\",\"dash\":\"solid\"},\"marker\":{\"symbol\":\"circle\"},\"mode\":\"lines\",\"name\":\"Susan\",\"orientation\":\"v\",\"showlegend\":true,\"type\":\"scatter\",\"x\":[1911,1912,1913,1914,1915,1916,1917,1918,1919,1920,1921,1922,1923,1924,1925,1926,1927,1928,1929,1930,1931,1932,1933,1934,1935,1936,1937,1938,1939,1940,1941,1942,1943,1944,1945,1946,1947,1948,1949,1950,1951,1952,1953,1954,1955,1956,1957,1958,1959,1960,1961,1962,1963,1964,1965,1966,1967,1968,1969,1970,1971,1972,1973,1974,1975,1976,1977,1978,1979,1980,1981,1982,1983,1984,1985,1986,1987,1988,1989,1990,1991,1992,1993,1994,1995,1996,1997,1998,1999,2000,2001,2002,2003,2004,2005,2006,2007,2008,2009,2010,2011,2012,2013,2014,2015,2016,2017,2018,2019,2020],\"xaxis\":\"x\",\"y\":[6,8,8,10,16,17,15,20,22,21,19,15,22,26,32,29,43,25,37,63,47,63,74,101,118,138,183,271,433,630,795,1058,1380,1596,1991,2689,2831,3338,3180,3260,3346,3424,3753,3935,3901,3769,3632,3504,3122,3145,3134,2952,2838,2535,2009,1825,1644,1367,1232,1070,861,650,530,552,496,456,437,424,409,420,361,391,352,338,273,280,272,286,267,272,259,196,202,172,152,152,114,116,103,100,104,85,76,70,71,74,53,56,41,39,43,28,44,26,45,22,26,22,19,17],\"yaxis\":\"y\"},{\"hovertemplate\":\"Name=Cheryl<br>Year=%{x}<br>Count=%{y}<extra></extra>\",\"legendgroup\":\"Cheryl\",\"line\":{\"color\":\"#00cc96\",\"dash\":\"solid\"},\"marker\":{\"symbol\":\"circle\"},\"mode\":\"lines\",\"name\":\"Cheryl\",\"orientation\":\"v\",\"showlegend\":true,\"type\":\"scatter\",\"x\":[1930,1934,1935,1936,1937,1938,1939,1940,1941,1942,1943,1944,1945,1946,1947,1948,1949,1950,1951,1952,1953,1954,1955,1956,1957,1958,1959,1960,1961,1962,1963,1964,1965,1966,1967,1968,1969,1970,1971,1972,1973,1974,1975,1976,1977,1978,1979,1980,1981,1982,1983,1984,1985,1986,1987,1988,1989,1990,1991,1992,1993,1994,1995,1996,1997,1998,1999,2000,2001,2002,2003,2004,2005,2006,2007,2008,2011,2012,2013,2014,2015,2016,2017,2018,2019],\"xaxis\":\"x\",\"y\":[6,8,12,10,16,76,49,42,48,87,377,759,801,1063,1093,1021,916,903,993,955,1058,1465,1639,1715,1833,1832,1639,1621,1565,1421,1295,1207,1051,950,899,751,635,550,428,371,293,271,236,199,178,303,298,272,204,229,164,135,129,130,98,106,88,90,65,55,39,47,38,30,30,19,22,24,14,11,16,17,16,13,21,14,11,15,12,10,12,15,8,10,9],\"yaxis\":\"y\"},{\"hovertemplate\":\"Name=Kim<br>Year=%{x}<br>Count=%{y}<extra></extra>\",\"legendgroup\":\"Kim\",\"line\":{\"color\":\"#ab63fa\",\"dash\":\"solid\"},\"marker\":{\"symbol\":\"circle\"},\"mode\":\"lines\",\"name\":\"Kim\",\"orientation\":\"v\",\"showlegend\":true,\"type\":\"scatter\",\"x\":[1931,1937,1938,1939,1941,1942,1943,1944,1945,1946,1947,1948,1949,1950,1951,1952,1953,1954,1955,1956,1957,1958,1959,1960,1961,1962,1963,1964,1965,1966,1967,1968,1969,1970,1971,1972,1973,1974,1975,1976,1977,1978,1979,1980,1981,1982,1983,1984,1985,1986,1987,1988,1989,1990,1991,1992,1993,1994,1995,1996,1997,1998,1999,2000,2001,2002,2003,2004,2005,2006,2007,2008,2009,2010,2011,2012,2013,2014,2015,2016,2017,2018,2019,2020],\"xaxis\":\"x\",\"y\":[6,5,5,6,7,9,8,14,26,42,50,39,48,59,73,191,236,365,576,902,1081,1005,1082,1135,1081,1114,1020,907,922,757,626,508,464,350,256,173,136,132,83,82,69,60,61,49,58,73,64,70,65,48,60,54,64,49,54,38,41,35,25,28,26,17,25,31,19,21,17,15,12,18,26,18,7,10,13,20,14,16,13,12,9,5,15,5],\"yaxis\":\"y\"},{\"hovertemplate\":\"Name=Lisa<br>Year=%{x}<br>Count=%{y}<extra></extra>\",\"legendgroup\":\"Lisa\",\"line\":{\"color\":\"#FFA15A\",\"dash\":\"solid\"},\"marker\":{\"symbol\":\"circle\"},\"mode\":\"lines\",\"name\":\"Lisa\",\"orientation\":\"v\",\"showlegend\":true,\"type\":\"scatter\",\"x\":[1932,1936,1939,1940,1941,1942,1943,1944,1945,1946,1947,1948,1949,1950,1951,1952,1953,1954,1955,1956,1957,1958,1959,1960,1961,1962,1963,1964,1965,1966,1967,1968,1969,1970,1971,1972,1973,1974,1975,1976,1977,1978,1979,1980,1981,1982,1983,1984,1985,1986,1987,1988,1989,1990,1991,1992,1993,1994,1995,1996,1997,1998,1999,2000,2001,2002,2003,2004,2005,2006,2007,2008,2009,2010,2011,2012,2013,2014,2015,2016,2017,2018,2019,2020],\"xaxis\":\"x\",\"y\":[5,8,5,7,7,7,12,23,40,41,51,66,87,164,262,411,501,796,1037,1441,1680,2313,2680,3117,3767,3972,4939,4806,4925,4928,4623,4498,4171,3704,2938,2430,2082,1838,1636,1729,1735,1747,1750,1615,1534,1337,1275,1189,1038,917,961,988,901,768,655,541,478,395,366,288,263,234,180,175,133,132,118,102,92,110,80,73,62,67,57,64,57,68,65,56,62,52,56,26],\"yaxis\":\"y\"},{\"hovertemplate\":\"Name=Debbie<br>Year=%{x}<br>Count=%{y}<extra></extra>\",\"legendgroup\":\"Debbie\",\"line\":{\"color\":\"#19d3f3\",\"dash\":\"solid\"},\"marker\":{\"symbol\":\"circle\"},\"mode\":\"lines\",\"name\":\"Debbie\",\"orientation\":\"v\",\"showlegend\":true,\"type\":\"scatter\",\"x\":[1936,1941,1942,1943,1944,1945,1946,1947,1948,1949,1950,1951,1952,1953,1954,1955,1956,1957,1958,1959,1960,1961,1962,1963,1964,1965,1966,1967,1968,1969,1970,1971,1972,1973,1974,1975,1976,1977,1978,1979,1980,1981,1982,1983,1984,1985,1986,1987,1988,1989,1990,1991,1992,1993,1994,1995,1996,1997,1998,1999,2000,2001,2002,2003,2004,2005,2006,2007,2008,2009,2010,2011,2014,2015,2016,2017],\"xaxis\":\"x\",\"y\":[5,9,9,10,16,11,32,74,91,115,120,191,233,300,427,697,904,1311,1656,1775,1675,1547,1458,1215,1004,648,504,415,338,279,243,192,145,108,108,92,72,64,87,91,81,65,79,67,74,64,56,71,78,93,85,78,50,61,70,53,46,39,22,28,19,11,16,14,13,8,21,10,11,10,12,8,9,6,5,5],\"yaxis\":\"y\"},{\"hovertemplate\":\"Name=Shannon<br>Year=%{x}<br>Count=%{y}<extra></extra>\",\"legendgroup\":\"Shannon\",\"line\":{\"color\":\"#FF6692\",\"dash\":\"solid\"},\"marker\":{\"symbol\":\"circle\"},\"mode\":\"lines\",\"name\":\"Shannon\",\"orientation\":\"v\",\"showlegend\":true,\"type\":\"scatter\",\"x\":[1938,1939,1940,1942,1943,1944,1945,1946,1947,1948,1949,1950,1951,1952,1953,1954,1955,1956,1957,1958,1959,1960,1961,1962,1963,1964,1965,1966,1967,1968,1969,1970,1971,1972,1973,1974,1975,1976,1977,1978,1979,1980,1981,1982,1983,1984,1985,1986,1987,1988,1989,1990,1991,1992,1993,1994,1995,1996,1997,1998,1999,2000,2001,2002,2003,2004,2005,2006,2007,2008,2009,2010,2011,2012,2013,2014,2015,2016,2017,2018,2019,2020],\"xaxis\":\"x\",\"y\":[6,9,6,10,14,19,25,16,34,23,34,43,51,59,73,83,111,106,126,129,161,145,206,216,305,409,441,516,586,932,1419,1650,1436,1198,1090,1127,982,1218,1136,1052,991,923,968,969,971,945,871,804,699,642,597,527,493,594,615,531,438,428,366,303,217,199,200,165,133,133,110,90,88,63,42,43,37,41,32,19,31,22,17,14,21,8],\"yaxis\":\"y\"},{\"hovertemplate\":\"Name=Terri<br>Year=%{x}<br>Count=%{y}<extra></extra>\",\"legendgroup\":\"Terri\",\"line\":{\"color\":\"#B6E880\",\"dash\":\"solid\"},\"marker\":{\"symbol\":\"circle\"},\"mode\":\"lines\",\"name\":\"Terri\",\"orientation\":\"v\",\"showlegend\":true,\"type\":\"scatter\",\"x\":[1938,1940,1941,1942,1943,1944,1945,1946,1947,1948,1949,1950,1951,1952,1953,1954,1955,1956,1957,1958,1959,1960,1961,1962,1963,1964,1965,1966,1967,1968,1969,1970,1971,1972,1973,1974,1975,1976,1977,1978,1979,1980,1981,1982,1983,1984,1985,1986,1987,1988,1989,1990,1991,1992,1993,1994,1995,1996,1997,1998,1999,2000,2001,2002,2004,2005,2006,2016],\"xaxis\":\"x\",\"y\":[6,8,12,26,32,38,65,99,130,132,168,154,236,306,379,542,604,686,838,875,1051,964,937,903,826,737,486,448,398,323,312,262,191,153,120,106,81,59,84,57,44,49,47,53,44,37,37,35,32,34,20,26,29,15,19,22,11,15,12,13,11,14,9,7,6,7,5,5],\"yaxis\":\"y\"},{\"hovertemplate\":\"Name=Debra<br>Year=%{x}<br>Count=%{y}<extra></extra>\",\"legendgroup\":\"Debra\",\"line\":{\"color\":\"#FF97FF\",\"dash\":\"solid\"},\"marker\":{\"symbol\":\"circle\"},\"mode\":\"lines\",\"name\":\"Debra\",\"orientation\":\"v\",\"showlegend\":true,\"type\":\"scatter\",\"x\":[1940,1942,1943,1944,1945,1946,1947,1948,1949,1950,1951,1952,1953,1954,1955,1956,1957,1958,1959,1960,1961,1962,1963,1964,1965,1966,1967,1968,1969,1970,1971,1972,1973,1974,1975,1976,1977,1978,1979,1980,1981,1982,1983,1984,1985,1986,1987,1988,1989,1990,1991,1992,1993,1994,1995,1996,1997,1998,1999,2000,2001,2002,2003,2004,2005,2006,2007,2008,2009,2012,2013,2016],\"xaxis\":\"x\",\"y\":[7,7,8,15,19,20,56,92,199,601,1510,2351,3295,3784,3969,3754,3322,2659,2290,2015,1646,1591,1430,1287,1154,958,819,748,647,547,463,318,242,236,159,151,151,164,130,141,97,114,97,95,93,64,78,69,71,51,62,41,34,28,28,12,14,16,10,13,14,10,7,12,13,12,13,6,7,5,8,5],\"yaxis\":\"y\"},{\"hovertemplate\":\"Name=Tammy<br>Year=%{x}<br>Count=%{y}<extra></extra>\",\"legendgroup\":\"Tammy\",\"line\":{\"color\":\"#FECB52\",\"dash\":\"solid\"},\"marker\":{\"symbol\":\"circle\"},\"mode\":\"lines\",\"name\":\"Tammy\",\"orientation\":\"v\",\"showlegend\":true,\"type\":\"scatter\",\"x\":[1943,1944,1945,1946,1947,1948,1949,1950,1951,1952,1953,1954,1955,1956,1957,1958,1959,1960,1961,1962,1963,1964,1965,1966,1967,1968,1969,1970,1971,1972,1973,1974,1975,1976,1977,1978,1979,1980,1981,1982,1983,1984,1985,1986,1987,1988,1989,1990,1991,1992,1993,1994,1995,1996,1997,1998,1999,2000,2001,2002,2003,2004,2005,2006,2007,2008,2009,2010,2011,2012,2013,2014,2015,2016,2017,2019],\"xaxis\":\"x\",\"y\":[7,5,10,9,12,13,10,9,9,13,28,14,26,37,368,746,991,1038,1136,1223,1538,1273,1218,1169,1143,1099,977,1013,859,704,544,421,392,328,275,229,227,181,168,157,96,120,102,85,120,88,85,94,77,82,74,61,49,45,45,54,50,47,49,45,44,36,30,24,29,14,16,12,11,9,5,13,9,15,11,7],\"yaxis\":\"y\"}],                        {\"font\":{\"size\":13},\"legend\":{\"title\":{\"text\":\"Name\"},\"tracegroupgap\":0},\"margin\":{\"t\":60},\"template\":{\"data\":{\"bar\":[{\"error_x\":{\"color\":\"#2a3f5f\"},\"error_y\":{\"color\":\"#2a3f5f\"},\"marker\":{\"line\":{\"color\":\"#E5ECF6\",\"width\":0.5},\"pattern\":{\"fillmode\":\"overlay\",\"size\":10,\"solidity\":0.2}},\"type\":\"bar\"}],\"barpolar\":[{\"marker\":{\"line\":{\"color\":\"#E5ECF6\",\"width\":0.5},\"pattern\":{\"fillmode\":\"overlay\",\"size\":10,\"solidity\":0.2}},\"type\":\"barpolar\"}],\"carpet\":[{\"aaxis\":{\"endlinecolor\":\"#2a3f5f\",\"gridcolor\":\"white\",\"linecolor\":\"white\",\"minorgridcolor\":\"white\",\"startlinecolor\":\"#2a3f5f\"},\"baxis\":{\"endlinecolor\":\"#2a3f5f\",\"gridcolor\":\"white\",\"linecolor\":\"white\",\"minorgridcolor\":\"white\",\"startlinecolor\":\"#2a3f5f\"},\"type\":\"carpet\"}],\"choropleth\":[{\"colorbar\":{\"outlinewidth\":0,\"ticks\":\"\"},\"type\":\"choropleth\"}],\"contour\":[{\"colorbar\":{\"outlinewidth\":0,\"ticks\":\"\"},\"colorscale\":[[0.0,\"#0d0887\"],[0.1111111111111111,\"#46039f\"],[0.2222222222222222,\"#7201a8\"],[0.3333333333333333,\"#9c179e\"],[0.4444444444444444,\"#bd3786\"],[0.5555555555555556,\"#d8576b\"],[0.6666666666666666,\"#ed7953\"],[0.7777777777777778,\"#fb9f3a\"],[0.8888888888888888,\"#fdca26\"],[1.0,\"#f0f921\"]],\"type\":\"contour\"}],\"contourcarpet\":[{\"colorbar\":{\"outlinewidth\":0,\"ticks\":\"\"},\"type\":\"contourcarpet\"}],\"heatmap\":[{\"colorbar\":{\"outlinewidth\":0,\"ticks\":\"\"},\"colorscale\":[[0.0,\"#0d0887\"],[0.1111111111111111,\"#46039f\"],[0.2222222222222222,\"#7201a8\"],[0.3333333333333333,\"#9c179e\"],[0.4444444444444444,\"#bd3786\"],[0.5555555555555556,\"#d8576b\"],[0.6666666666666666,\"#ed7953\"],[0.7777777777777778,\"#fb9f3a\"],[0.8888888888888888,\"#fdca26\"],[1.0,\"#f0f921\"]],\"type\":\"heatmap\"}],\"heatmapgl\":[{\"colorbar\":{\"outlinewidth\":0,\"ticks\":\"\"},\"colorscale\":[[0.0,\"#0d0887\"],[0.1111111111111111,\"#46039f\"],[0.2222222222222222,\"#7201a8\"],[0.3333333333333333,\"#9c179e\"],[0.4444444444444444,\"#bd3786\"],[0.5555555555555556,\"#d8576b\"],[0.6666666666666666,\"#ed7953\"],[0.7777777777777778,\"#fb9f3a\"],[0.8888888888888888,\"#fdca26\"],[1.0,\"#f0f921\"]],\"type\":\"heatmapgl\"}],\"histogram\":[{\"marker\":{\"pattern\":{\"fillmode\":\"overlay\",\"size\":10,\"solidity\":0.2}},\"type\":\"histogram\"}],\"histogram2d\":[{\"colorbar\":{\"outlinewidth\":0,\"ticks\":\"\"},\"colorscale\":[[0.0,\"#0d0887\"],[0.1111111111111111,\"#46039f\"],[0.2222222222222222,\"#7201a8\"],[0.3333333333333333,\"#9c179e\"],[0.4444444444444444,\"#bd3786\"],[0.5555555555555556,\"#d8576b\"],[0.6666666666666666,\"#ed7953\"],[0.7777777777777778,\"#fb9f3a\"],[0.8888888888888888,\"#fdca26\"],[1.0,\"#f0f921\"]],\"type\":\"histogram2d\"}],\"histogram2dcontour\":[{\"colorbar\":{\"outlinewidth\":0,\"ticks\":\"\"},\"colorscale\":[[0.0,\"#0d0887\"],[0.1111111111111111,\"#46039f\"],[0.2222222222222222,\"#7201a8\"],[0.3333333333333333,\"#9c179e\"],[0.4444444444444444,\"#bd3786\"],[0.5555555555555556,\"#d8576b\"],[0.6666666666666666,\"#ed7953\"],[0.7777777777777778,\"#fb9f3a\"],[0.8888888888888888,\"#fdca26\"],[1.0,\"#f0f921\"]],\"type\":\"histogram2dcontour\"}],\"mesh3d\":[{\"colorbar\":{\"outlinewidth\":0,\"ticks\":\"\"},\"type\":\"mesh3d\"}],\"parcoords\":[{\"line\":{\"colorbar\":{\"outlinewidth\":0,\"ticks\":\"\"}},\"type\":\"parcoords\"}],\"pie\":[{\"automargin\":true,\"type\":\"pie\"}],\"scatter\":[{\"marker\":{\"colorbar\":{\"outlinewidth\":0,\"ticks\":\"\"}},\"type\":\"scatter\"}],\"scatter3d\":[{\"line\":{\"colorbar\":{\"outlinewidth\":0,\"ticks\":\"\"}},\"marker\":{\"colorbar\":{\"outlinewidth\":0,\"ticks\":\"\"}},\"type\":\"scatter3d\"}],\"scattercarpet\":[{\"marker\":{\"colorbar\":{\"outlinewidth\":0,\"ticks\":\"\"}},\"type\":\"scattercarpet\"}],\"scattergeo\":[{\"marker\":{\"colorbar\":{\"outlinewidth\":0,\"ticks\":\"\"}},\"type\":\"scattergeo\"}],\"scattergl\":[{\"marker\":{\"colorbar\":{\"outlinewidth\":0,\"ticks\":\"\"}},\"type\":\"scattergl\"}],\"scattermapbox\":[{\"marker\":{\"colorbar\":{\"outlinewidth\":0,\"ticks\":\"\"}},\"type\":\"scattermapbox\"}],\"scatterpolar\":[{\"marker\":{\"colorbar\":{\"outlinewidth\":0,\"ticks\":\"\"}},\"type\":\"scatterpolar\"}],\"scatterpolargl\":[{\"marker\":{\"colorbar\":{\"outlinewidth\":0,\"ticks\":\"\"}},\"type\":\"scatterpolargl\"}],\"scatterternary\":[{\"marker\":{\"colorbar\":{\"outlinewidth\":0,\"ticks\":\"\"}},\"type\":\"scatterternary\"}],\"surface\":[{\"colorbar\":{\"outlinewidth\":0,\"ticks\":\"\"},\"colorscale\":[[0.0,\"#0d0887\"],[0.1111111111111111,\"#46039f\"],[0.2222222222222222,\"#7201a8\"],[0.3333333333333333,\"#9c179e\"],[0.4444444444444444,\"#bd3786\"],[0.5555555555555556,\"#d8576b\"],[0.6666666666666666,\"#ed7953\"],[0.7777777777777778,\"#fb9f3a\"],[0.8888888888888888,\"#fdca26\"],[1.0,\"#f0f921\"]],\"type\":\"surface\"}],\"table\":[{\"cells\":{\"fill\":{\"color\":\"#EBF0F8\"},\"line\":{\"color\":\"white\"}},\"header\":{\"fill\":{\"color\":\"#C8D4E3\"},\"line\":{\"color\":\"white\"}},\"type\":\"table\"}]},\"layout\":{\"annotationdefaults\":{\"arrowcolor\":\"#2a3f5f\",\"arrowhead\":0,\"arrowwidth\":1},\"autotypenumbers\":\"strict\",\"coloraxis\":{\"colorbar\":{\"outlinewidth\":0,\"ticks\":\"\"}},\"colorscale\":{\"diverging\":[[0,\"#8e0152\"],[0.1,\"#c51b7d\"],[0.2,\"#de77ae\"],[0.3,\"#f1b6da\"],[0.4,\"#fde0ef\"],[0.5,\"#f7f7f7\"],[0.6,\"#e6f5d0\"],[0.7,\"#b8e186\"],[0.8,\"#7fbc41\"],[0.9,\"#4d9221\"],[1,\"#276419\"]],\"sequential\":[[0.0,\"#0d0887\"],[0.1111111111111111,\"#46039f\"],[0.2222222222222222,\"#7201a8\"],[0.3333333333333333,\"#9c179e\"],[0.4444444444444444,\"#bd3786\"],[0.5555555555555556,\"#d8576b\"],[0.6666666666666666,\"#ed7953\"],[0.7777777777777778,\"#fb9f3a\"],[0.8888888888888888,\"#fdca26\"],[1.0,\"#f0f921\"]],\"sequentialminus\":[[0.0,\"#0d0887\"],[0.1111111111111111,\"#46039f\"],[0.2222222222222222,\"#7201a8\"],[0.3333333333333333,\"#9c179e\"],[0.4444444444444444,\"#bd3786\"],[0.5555555555555556,\"#d8576b\"],[0.6666666666666666,\"#ed7953\"],[0.7777777777777778,\"#fb9f3a\"],[0.8888888888888888,\"#fdca26\"],[1.0,\"#f0f921\"]]},\"colorway\":[\"#636efa\",\"#EF553B\",\"#00cc96\",\"#ab63fa\",\"#FFA15A\",\"#19d3f3\",\"#FF6692\",\"#B6E880\",\"#FF97FF\",\"#FECB52\"],\"font\":{\"color\":\"#2a3f5f\"},\"geo\":{\"bgcolor\":\"white\",\"lakecolor\":\"white\",\"landcolor\":\"#E5ECF6\",\"showlakes\":true,\"showland\":true,\"subunitcolor\":\"white\"},\"hoverlabel\":{\"align\":\"left\"},\"hovermode\":\"closest\",\"mapbox\":{\"style\":\"light\"},\"paper_bgcolor\":\"white\",\"plot_bgcolor\":\"#E5ECF6\",\"polar\":{\"angularaxis\":{\"gridcolor\":\"white\",\"linecolor\":\"white\",\"ticks\":\"\"},\"bgcolor\":\"#E5ECF6\",\"radialaxis\":{\"gridcolor\":\"white\",\"linecolor\":\"white\",\"ticks\":\"\"}},\"scene\":{\"xaxis\":{\"backgroundcolor\":\"#E5ECF6\",\"gridcolor\":\"white\",\"gridwidth\":2,\"linecolor\":\"white\",\"showbackground\":true,\"ticks\":\"\",\"zerolinecolor\":\"white\"},\"yaxis\":{\"backgroundcolor\":\"#E5ECF6\",\"gridcolor\":\"white\",\"gridwidth\":2,\"linecolor\":\"white\",\"showbackground\":true,\"ticks\":\"\",\"zerolinecolor\":\"white\"},\"zaxis\":{\"backgroundcolor\":\"#E5ECF6\",\"gridcolor\":\"white\",\"gridwidth\":2,\"linecolor\":\"white\",\"showbackground\":true,\"ticks\":\"\",\"zerolinecolor\":\"white\"}},\"shapedefaults\":{\"line\":{\"color\":\"#2a3f5f\"}},\"ternary\":{\"aaxis\":{\"gridcolor\":\"white\",\"linecolor\":\"white\",\"ticks\":\"\"},\"baxis\":{\"gridcolor\":\"white\",\"linecolor\":\"white\",\"ticks\":\"\"},\"bgcolor\":\"#E5ECF6\",\"caxis\":{\"gridcolor\":\"white\",\"linecolor\":\"white\",\"ticks\":\"\"}},\"title\":{\"x\":0.05},\"xaxis\":{\"automargin\":true,\"gridcolor\":\"white\",\"linecolor\":\"white\",\"ticks\":\"\",\"title\":{\"standoff\":15},\"zerolinecolor\":\"white\",\"zerolinewidth\":2},\"yaxis\":{\"automargin\":true,\"gridcolor\":\"white\",\"linecolor\":\"white\",\"ticks\":\"\",\"title\":{\"standoff\":15},\"zerolinecolor\":\"white\",\"zerolinewidth\":2}}},\"xaxis\":{\"anchor\":\"y\",\"domain\":[0.0,1.0],\"title\":{\"text\":\"Year\"}},\"yaxis\":{\"anchor\":\"x\",\"domain\":[0.0,1.0],\"title\":{\"text\":\"Count\"}}},                        {\"responsive\": true}                    ).then(function(){\n",
              "                            \n",
              "var gd = document.getElementById('92df3c33-0b47-475e-b3e1-0ca9e6fab804');\n",
              "var x = new MutationObserver(function (mutations, observer) {{\n",
              "        var display = window.getComputedStyle(gd).display;\n",
              "        if (!display || display === 'none') {{\n",
              "            console.log([gd, 'removed!']);\n",
              "            Plotly.purge(gd);\n",
              "            observer.disconnect();\n",
              "        }}\n",
              "}});\n",
              "\n",
              "// Listen for the removal of the full notebook cells\n",
              "var notebookContainer = gd.closest('#notebook-container');\n",
              "if (notebookContainer) {{\n",
              "    x.observe(notebookContainer, {childList: true});\n",
              "}}\n",
              "\n",
              "// Listen for the clearing of the current output cell\n",
              "var outputEl = gd.closest('.output');\n",
              "if (outputEl) {{\n",
              "    x.observe(outputEl, {childList: true});\n",
              "}}\n",
              "\n",
              "                        })                };                });            </script>        </div>"
            ]
          },
          "metadata": {},
          "output_type": "display_data"
        }
      ],
      "source": [
        "fig = px.line(babynames.query(\"Name in @top10 and Sex == 'F'\"), x = \"Year\", y = \"Count\", color = \"Name\")\n",
        "fig.update_layout(font_size = 13)"
      ]
    },
    {
      "cell_type": "markdown",
      "metadata": {
        "id": "QQ1nsUDKeUG0"
      },
      "source": [
        "---"
      ]
    },
    {
      "cell_type": "markdown",
      "metadata": {
        "id": "jHjJJqYEeUG0"
      },
      "source": [
        "## Some Additional Groupby Puzzles"
      ]
    },
    {
      "cell_type": "markdown",
      "metadata": {
        "id": "o-ioLoGZeUG1"
      },
      "source": [
        "Groupby puzzle #1: Try to create a groupby.agg call that gives the total babies born with each name."
      ]
    },
    {
      "cell_type": "code",
      "execution_count": null,
      "metadata": {
        "id": "uTAm4Kn1eUG1",
        "outputId": "4026a7ac-f8a2-4155-ade1-30f7bad6558b"
      },
      "outputs": [
        {
          "data": {
            "text/html": [
              "<div>\n",
              "<style scoped>\n",
              "    .dataframe tbody tr th:only-of-type {\n",
              "        vertical-align: middle;\n",
              "    }\n",
              "\n",
              "    .dataframe tbody tr th {\n",
              "        vertical-align: top;\n",
              "    }\n",
              "\n",
              "    .dataframe thead th {\n",
              "        text-align: right;\n",
              "    }\n",
              "</style>\n",
              "<table border=\"1\" class=\"dataframe\">\n",
              "  <thead>\n",
              "    <tr style=\"text-align: right;\">\n",
              "      <th></th>\n",
              "      <th>Count</th>\n",
              "    </tr>\n",
              "    <tr>\n",
              "      <th>Name</th>\n",
              "      <th></th>\n",
              "    </tr>\n",
              "  </thead>\n",
              "  <tbody>\n",
              "    <tr>\n",
              "      <th>Aadhira</th>\n",
              "      <td>22</td>\n",
              "    </tr>\n",
              "    <tr>\n",
              "      <th>Aadhya</th>\n",
              "      <td>368</td>\n",
              "    </tr>\n",
              "    <tr>\n",
              "      <th>Aadya</th>\n",
              "      <td>230</td>\n",
              "    </tr>\n",
              "    <tr>\n",
              "      <th>Aahana</th>\n",
              "      <td>129</td>\n",
              "    </tr>\n",
              "    <tr>\n",
              "      <th>Aahna</th>\n",
              "      <td>7</td>\n",
              "    </tr>\n",
              "    <tr>\n",
              "      <th>...</th>\n",
              "      <td>...</td>\n",
              "    </tr>\n",
              "    <tr>\n",
              "      <th>Zyanya</th>\n",
              "      <td>174</td>\n",
              "    </tr>\n",
              "    <tr>\n",
              "      <th>Zyla</th>\n",
              "      <td>107</td>\n",
              "    </tr>\n",
              "    <tr>\n",
              "      <th>Zylah</th>\n",
              "      <td>95</td>\n",
              "    </tr>\n",
              "    <tr>\n",
              "      <th>Zyra</th>\n",
              "      <td>71</td>\n",
              "    </tr>\n",
              "    <tr>\n",
              "      <th>Zyrah</th>\n",
              "      <td>21</td>\n",
              "    </tr>\n",
              "  </tbody>\n",
              "</table>\n",
              "<p>13525 rows × 1 columns</p>\n",
              "</div>"
            ],
            "text/plain": [
              "         Count\n",
              "Name          \n",
              "Aadhira     22\n",
              "Aadhya     368\n",
              "Aadya      230\n",
              "Aahana     129\n",
              "Aahna        7\n",
              "...        ...\n",
              "Zyanya     174\n",
              "Zyla       107\n",
              "Zylah       95\n",
              "Zyra        71\n",
              "Zyrah       21\n",
              "\n",
              "[13525 rows x 1 columns]"
            ]
          },
          "execution_count": 26,
          "metadata": {},
          "output_type": "execute_result"
        }
      ],
      "source": [
        "puzzle1 = female_babynames.groupby(\"Name\")[[\"Count\"]].agg(sum)\n",
        "puzzle1"
      ]
    },
    {
      "cell_type": "markdown",
      "metadata": {
        "id": "eyEaAiWaeUG1"
      },
      "source": [
        "Groupby puzzle #2: Try to create a groupby.agg call that gives total babies born in each year."
      ]
    },
    {
      "cell_type": "code",
      "execution_count": null,
      "metadata": {
        "id": "ArWLhQFheUG1",
        "outputId": "cba8b46a-9d55-4263-d0cd-6212911a4853"
      },
      "outputs": [
        {
          "data": {
            "text/html": [
              "<div>\n",
              "<style scoped>\n",
              "    .dataframe tbody tr th:only-of-type {\n",
              "        vertical-align: middle;\n",
              "    }\n",
              "\n",
              "    .dataframe tbody tr th {\n",
              "        vertical-align: top;\n",
              "    }\n",
              "\n",
              "    .dataframe thead th {\n",
              "        text-align: right;\n",
              "    }\n",
              "</style>\n",
              "<table border=\"1\" class=\"dataframe\">\n",
              "  <thead>\n",
              "    <tr style=\"text-align: right;\">\n",
              "      <th></th>\n",
              "      <th>Count</th>\n",
              "    </tr>\n",
              "    <tr>\n",
              "      <th>Year</th>\n",
              "      <th></th>\n",
              "    </tr>\n",
              "  </thead>\n",
              "  <tbody>\n",
              "    <tr>\n",
              "      <th>1910</th>\n",
              "      <td>5950</td>\n",
              "    </tr>\n",
              "    <tr>\n",
              "      <th>1911</th>\n",
              "      <td>6602</td>\n",
              "    </tr>\n",
              "    <tr>\n",
              "      <th>1912</th>\n",
              "      <td>9804</td>\n",
              "    </tr>\n",
              "    <tr>\n",
              "      <th>1913</th>\n",
              "      <td>11860</td>\n",
              "    </tr>\n",
              "    <tr>\n",
              "      <th>1914</th>\n",
              "      <td>13815</td>\n",
              "    </tr>\n",
              "    <tr>\n",
              "      <th>...</th>\n",
              "      <td>...</td>\n",
              "    </tr>\n",
              "    <tr>\n",
              "      <th>2016</th>\n",
              "      <td>203360</td>\n",
              "    </tr>\n",
              "    <tr>\n",
              "      <th>2017</th>\n",
              "      <td>195352</td>\n",
              "    </tr>\n",
              "    <tr>\n",
              "      <th>2018</th>\n",
              "      <td>188919</td>\n",
              "    </tr>\n",
              "    <tr>\n",
              "      <th>2019</th>\n",
              "      <td>183644</td>\n",
              "    </tr>\n",
              "    <tr>\n",
              "      <th>2020</th>\n",
              "      <td>172003</td>\n",
              "    </tr>\n",
              "  </tbody>\n",
              "</table>\n",
              "<p>111 rows × 1 columns</p>\n",
              "</div>"
            ],
            "text/plain": [
              "       Count\n",
              "Year        \n",
              "1910    5950\n",
              "1911    6602\n",
              "1912    9804\n",
              "1913   11860\n",
              "1914   13815\n",
              "...      ...\n",
              "2016  203360\n",
              "2017  195352\n",
              "2018  188919\n",
              "2019  183644\n",
              "2020  172003\n",
              "\n",
              "[111 rows x 1 columns]"
            ]
          },
          "execution_count": 27,
          "metadata": {},
          "output_type": "execute_result"
        }
      ],
      "source": [
        "puzzle2 = female_babynames.groupby(\"Year\")[[\"Count\"]].agg(sum)\n",
        "puzzle2"
      ]
    },
    {
      "cell_type": "markdown",
      "metadata": {
        "id": "0WciSugSeUG2"
      },
      "source": [
        "We can write this using a groupby shorthand aggregation method. Here, `sum()` is shorthand for `groupby.agg(sum)`."
      ]
    },
    {
      "cell_type": "code",
      "execution_count": null,
      "metadata": {
        "id": "uiE1DcO6eUG2"
      },
      "outputs": [],
      "source": [
        "puzzle2 = female_babynames.groupby(\"Year\")[[\"Count\"]].sum()"
      ]
    },
    {
      "cell_type": "code",
      "execution_count": null,
      "metadata": {
        "id": "bjcV97opeUG2",
        "outputId": "01fa0438-467f-4d90-e0ce-7384c2c7f123"
      },
      "outputs": [
        {
          "data": {
            "application/vnd.plotly.v1+json": {
              "config": {
                "plotlyServerURL": "https://plot.ly"
              },
              "data": [
                {
                  "hovertemplate": "Year=%{x}<br>Count=%{y}<extra></extra>",
                  "legendgroup": "",
                  "line": {
                    "color": "#636efa",
                    "dash": "solid"
                  },
                  "marker": {
                    "symbol": "circle"
                  },
                  "mode": "lines",
                  "name": "",
                  "orientation": "v",
                  "showlegend": false,
                  "type": "scatter",
                  "x": [
                    1910,
                    1911,
                    1912,
                    1913,
                    1914,
                    1915,
                    1916,
                    1917,
                    1918,
                    1919,
                    1920,
                    1921,
                    1922,
                    1923,
                    1924,
                    1925,
                    1926,
                    1927,
                    1928,
                    1929,
                    1930,
                    1931,
                    1932,
                    1933,
                    1934,
                    1935,
                    1936,
                    1937,
                    1938,
                    1939,
                    1940,
                    1941,
                    1942,
                    1943,
                    1944,
                    1945,
                    1946,
                    1947,
                    1948,
                    1949,
                    1950,
                    1951,
                    1952,
                    1953,
                    1954,
                    1955,
                    1956,
                    1957,
                    1958,
                    1959,
                    1960,
                    1961,
                    1962,
                    1963,
                    1964,
                    1965,
                    1966,
                    1967,
                    1968,
                    1969,
                    1970,
                    1971,
                    1972,
                    1973,
                    1974,
                    1975,
                    1976,
                    1977,
                    1978,
                    1979,
                    1980,
                    1981,
                    1982,
                    1983,
                    1984,
                    1985,
                    1986,
                    1987,
                    1988,
                    1989,
                    1990,
                    1991,
                    1992,
                    1993,
                    1994,
                    1995,
                    1996,
                    1997,
                    1998,
                    1999,
                    2000,
                    2001,
                    2002,
                    2003,
                    2004,
                    2005,
                    2006,
                    2007,
                    2008,
                    2009,
                    2010,
                    2011,
                    2012,
                    2013,
                    2014,
                    2015,
                    2016,
                    2017,
                    2018,
                    2019,
                    2020
                  ],
                  "xaxis": "x",
                  "y": [
                    5950,
                    6602,
                    9804,
                    11860,
                    13815,
                    18643,
                    19555,
                    20864,
                    23052,
                    23290,
                    28136,
                    30479,
                    30917,
                    34122,
                    37892,
                    36915,
                    36125,
                    36784,
                    36752,
                    35732,
                    37249,
                    35102,
                    34227,
                    32892,
                    34211,
                    34917,
                    36814,
                    40591,
                    44515,
                    45620,
                    49921,
                    55732,
                    69019,
                    77970,
                    79835,
                    83505,
                    99287,
                    112884,
                    111415,
                    113221,
                    113544,
                    120926,
                    131348,
                    138849,
                    143498,
                    146169,
                    156429,
                    163942,
                    162923,
                    166298,
                    172632,
                    175044,
                    173455,
                    174104,
                    171883,
                    161654,
                    153735,
                    152925,
                    153795,
                    159870,
                    164020,
                    148397,
                    137064,
                    130778,
                    136622,
                    138439,
                    143866,
                    149564,
                    153319,
                    163311,
                    173691,
                    181276,
                    185722,
                    187691,
                    192577,
                    202218,
                    207649,
                    215088,
                    228380,
                    243970,
                    262380,
                    261484,
                    256727,
                    249565,
                    242460,
                    234569,
                    229760,
                    222828,
                    220983,
                    219039,
                    223782,
                    222243,
                    222689,
                    226609,
                    228753,
                    230344,
                    234687,
                    236172,
                    229229,
                    218201,
                    210871,
                    207494,
                    208926,
                    204939,
                    209416,
                    205093,
                    203360,
                    195352,
                    188919,
                    183644,
                    172003
                  ],
                  "yaxis": "y"
                }
              ],
              "layout": {
                "autosize": true,
                "font": {
                  "size": 15
                },
                "legend": {
                  "tracegroupgap": 0
                },
                "margin": {
                  "t": 60
                },
                "template": {
                  "data": {
                    "bar": [
                      {
                        "error_x": {
                          "color": "#2a3f5f"
                        },
                        "error_y": {
                          "color": "#2a3f5f"
                        },
                        "marker": {
                          "line": {
                            "color": "#E5ECF6",
                            "width": 0.5
                          },
                          "pattern": {
                            "fillmode": "overlay",
                            "size": 10,
                            "solidity": 0.2
                          }
                        },
                        "type": "bar"
                      }
                    ],
                    "barpolar": [
                      {
                        "marker": {
                          "line": {
                            "color": "#E5ECF6",
                            "width": 0.5
                          },
                          "pattern": {
                            "fillmode": "overlay",
                            "size": 10,
                            "solidity": 0.2
                          }
                        },
                        "type": "barpolar"
                      }
                    ],
                    "carpet": [
                      {
                        "aaxis": {
                          "endlinecolor": "#2a3f5f",
                          "gridcolor": "white",
                          "linecolor": "white",
                          "minorgridcolor": "white",
                          "startlinecolor": "#2a3f5f"
                        },
                        "baxis": {
                          "endlinecolor": "#2a3f5f",
                          "gridcolor": "white",
                          "linecolor": "white",
                          "minorgridcolor": "white",
                          "startlinecolor": "#2a3f5f"
                        },
                        "type": "carpet"
                      }
                    ],
                    "choropleth": [
                      {
                        "colorbar": {
                          "outlinewidth": 0,
                          "ticks": ""
                        },
                        "type": "choropleth"
                      }
                    ],
                    "contour": [
                      {
                        "colorbar": {
                          "outlinewidth": 0,
                          "ticks": ""
                        },
                        "colorscale": [
                          [
                            0,
                            "#0d0887"
                          ],
                          [
                            0.1111111111111111,
                            "#46039f"
                          ],
                          [
                            0.2222222222222222,
                            "#7201a8"
                          ],
                          [
                            0.3333333333333333,
                            "#9c179e"
                          ],
                          [
                            0.4444444444444444,
                            "#bd3786"
                          ],
                          [
                            0.5555555555555556,
                            "#d8576b"
                          ],
                          [
                            0.6666666666666666,
                            "#ed7953"
                          ],
                          [
                            0.7777777777777778,
                            "#fb9f3a"
                          ],
                          [
                            0.8888888888888888,
                            "#fdca26"
                          ],
                          [
                            1,
                            "#f0f921"
                          ]
                        ],
                        "type": "contour"
                      }
                    ],
                    "contourcarpet": [
                      {
                        "colorbar": {
                          "outlinewidth": 0,
                          "ticks": ""
                        },
                        "type": "contourcarpet"
                      }
                    ],
                    "heatmap": [
                      {
                        "colorbar": {
                          "outlinewidth": 0,
                          "ticks": ""
                        },
                        "colorscale": [
                          [
                            0,
                            "#0d0887"
                          ],
                          [
                            0.1111111111111111,
                            "#46039f"
                          ],
                          [
                            0.2222222222222222,
                            "#7201a8"
                          ],
                          [
                            0.3333333333333333,
                            "#9c179e"
                          ],
                          [
                            0.4444444444444444,
                            "#bd3786"
                          ],
                          [
                            0.5555555555555556,
                            "#d8576b"
                          ],
                          [
                            0.6666666666666666,
                            "#ed7953"
                          ],
                          [
                            0.7777777777777778,
                            "#fb9f3a"
                          ],
                          [
                            0.8888888888888888,
                            "#fdca26"
                          ],
                          [
                            1,
                            "#f0f921"
                          ]
                        ],
                        "type": "heatmap"
                      }
                    ],
                    "heatmapgl": [
                      {
                        "colorbar": {
                          "outlinewidth": 0,
                          "ticks": ""
                        },
                        "colorscale": [
                          [
                            0,
                            "#0d0887"
                          ],
                          [
                            0.1111111111111111,
                            "#46039f"
                          ],
                          [
                            0.2222222222222222,
                            "#7201a8"
                          ],
                          [
                            0.3333333333333333,
                            "#9c179e"
                          ],
                          [
                            0.4444444444444444,
                            "#bd3786"
                          ],
                          [
                            0.5555555555555556,
                            "#d8576b"
                          ],
                          [
                            0.6666666666666666,
                            "#ed7953"
                          ],
                          [
                            0.7777777777777778,
                            "#fb9f3a"
                          ],
                          [
                            0.8888888888888888,
                            "#fdca26"
                          ],
                          [
                            1,
                            "#f0f921"
                          ]
                        ],
                        "type": "heatmapgl"
                      }
                    ],
                    "histogram": [
                      {
                        "marker": {
                          "pattern": {
                            "fillmode": "overlay",
                            "size": 10,
                            "solidity": 0.2
                          }
                        },
                        "type": "histogram"
                      }
                    ],
                    "histogram2d": [
                      {
                        "colorbar": {
                          "outlinewidth": 0,
                          "ticks": ""
                        },
                        "colorscale": [
                          [
                            0,
                            "#0d0887"
                          ],
                          [
                            0.1111111111111111,
                            "#46039f"
                          ],
                          [
                            0.2222222222222222,
                            "#7201a8"
                          ],
                          [
                            0.3333333333333333,
                            "#9c179e"
                          ],
                          [
                            0.4444444444444444,
                            "#bd3786"
                          ],
                          [
                            0.5555555555555556,
                            "#d8576b"
                          ],
                          [
                            0.6666666666666666,
                            "#ed7953"
                          ],
                          [
                            0.7777777777777778,
                            "#fb9f3a"
                          ],
                          [
                            0.8888888888888888,
                            "#fdca26"
                          ],
                          [
                            1,
                            "#f0f921"
                          ]
                        ],
                        "type": "histogram2d"
                      }
                    ],
                    "histogram2dcontour": [
                      {
                        "colorbar": {
                          "outlinewidth": 0,
                          "ticks": ""
                        },
                        "colorscale": [
                          [
                            0,
                            "#0d0887"
                          ],
                          [
                            0.1111111111111111,
                            "#46039f"
                          ],
                          [
                            0.2222222222222222,
                            "#7201a8"
                          ],
                          [
                            0.3333333333333333,
                            "#9c179e"
                          ],
                          [
                            0.4444444444444444,
                            "#bd3786"
                          ],
                          [
                            0.5555555555555556,
                            "#d8576b"
                          ],
                          [
                            0.6666666666666666,
                            "#ed7953"
                          ],
                          [
                            0.7777777777777778,
                            "#fb9f3a"
                          ],
                          [
                            0.8888888888888888,
                            "#fdca26"
                          ],
                          [
                            1,
                            "#f0f921"
                          ]
                        ],
                        "type": "histogram2dcontour"
                      }
                    ],
                    "mesh3d": [
                      {
                        "colorbar": {
                          "outlinewidth": 0,
                          "ticks": ""
                        },
                        "type": "mesh3d"
                      }
                    ],
                    "parcoords": [
                      {
                        "line": {
                          "colorbar": {
                            "outlinewidth": 0,
                            "ticks": ""
                          }
                        },
                        "type": "parcoords"
                      }
                    ],
                    "pie": [
                      {
                        "automargin": true,
                        "type": "pie"
                      }
                    ],
                    "scatter": [
                      {
                        "marker": {
                          "colorbar": {
                            "outlinewidth": 0,
                            "ticks": ""
                          }
                        },
                        "type": "scatter"
                      }
                    ],
                    "scatter3d": [
                      {
                        "line": {
                          "colorbar": {
                            "outlinewidth": 0,
                            "ticks": ""
                          }
                        },
                        "marker": {
                          "colorbar": {
                            "outlinewidth": 0,
                            "ticks": ""
                          }
                        },
                        "type": "scatter3d"
                      }
                    ],
                    "scattercarpet": [
                      {
                        "marker": {
                          "colorbar": {
                            "outlinewidth": 0,
                            "ticks": ""
                          }
                        },
                        "type": "scattercarpet"
                      }
                    ],
                    "scattergeo": [
                      {
                        "marker": {
                          "colorbar": {
                            "outlinewidth": 0,
                            "ticks": ""
                          }
                        },
                        "type": "scattergeo"
                      }
                    ],
                    "scattergl": [
                      {
                        "marker": {
                          "colorbar": {
                            "outlinewidth": 0,
                            "ticks": ""
                          }
                        },
                        "type": "scattergl"
                      }
                    ],
                    "scattermapbox": [
                      {
                        "marker": {
                          "colorbar": {
                            "outlinewidth": 0,
                            "ticks": ""
                          }
                        },
                        "type": "scattermapbox"
                      }
                    ],
                    "scatterpolar": [
                      {
                        "marker": {
                          "colorbar": {
                            "outlinewidth": 0,
                            "ticks": ""
                          }
                        },
                        "type": "scatterpolar"
                      }
                    ],
                    "scatterpolargl": [
                      {
                        "marker": {
                          "colorbar": {
                            "outlinewidth": 0,
                            "ticks": ""
                          }
                        },
                        "type": "scatterpolargl"
                      }
                    ],
                    "scatterternary": [
                      {
                        "marker": {
                          "colorbar": {
                            "outlinewidth": 0,
                            "ticks": ""
                          }
                        },
                        "type": "scatterternary"
                      }
                    ],
                    "surface": [
                      {
                        "colorbar": {
                          "outlinewidth": 0,
                          "ticks": ""
                        },
                        "colorscale": [
                          [
                            0,
                            "#0d0887"
                          ],
                          [
                            0.1111111111111111,
                            "#46039f"
                          ],
                          [
                            0.2222222222222222,
                            "#7201a8"
                          ],
                          [
                            0.3333333333333333,
                            "#9c179e"
                          ],
                          [
                            0.4444444444444444,
                            "#bd3786"
                          ],
                          [
                            0.5555555555555556,
                            "#d8576b"
                          ],
                          [
                            0.6666666666666666,
                            "#ed7953"
                          ],
                          [
                            0.7777777777777778,
                            "#fb9f3a"
                          ],
                          [
                            0.8888888888888888,
                            "#fdca26"
                          ],
                          [
                            1,
                            "#f0f921"
                          ]
                        ],
                        "type": "surface"
                      }
                    ],
                    "table": [
                      {
                        "cells": {
                          "fill": {
                            "color": "#EBF0F8"
                          },
                          "line": {
                            "color": "white"
                          }
                        },
                        "header": {
                          "fill": {
                            "color": "#C8D4E3"
                          },
                          "line": {
                            "color": "white"
                          }
                        },
                        "type": "table"
                      }
                    ]
                  },
                  "layout": {
                    "annotationdefaults": {
                      "arrowcolor": "#2a3f5f",
                      "arrowhead": 0,
                      "arrowwidth": 1
                    },
                    "autotypenumbers": "strict",
                    "coloraxis": {
                      "colorbar": {
                        "outlinewidth": 0,
                        "ticks": ""
                      }
                    },
                    "colorscale": {
                      "diverging": [
                        [
                          0,
                          "#8e0152"
                        ],
                        [
                          0.1,
                          "#c51b7d"
                        ],
                        [
                          0.2,
                          "#de77ae"
                        ],
                        [
                          0.3,
                          "#f1b6da"
                        ],
                        [
                          0.4,
                          "#fde0ef"
                        ],
                        [
                          0.5,
                          "#f7f7f7"
                        ],
                        [
                          0.6,
                          "#e6f5d0"
                        ],
                        [
                          0.7,
                          "#b8e186"
                        ],
                        [
                          0.8,
                          "#7fbc41"
                        ],
                        [
                          0.9,
                          "#4d9221"
                        ],
                        [
                          1,
                          "#276419"
                        ]
                      ],
                      "sequential": [
                        [
                          0,
                          "#0d0887"
                        ],
                        [
                          0.1111111111111111,
                          "#46039f"
                        ],
                        [
                          0.2222222222222222,
                          "#7201a8"
                        ],
                        [
                          0.3333333333333333,
                          "#9c179e"
                        ],
                        [
                          0.4444444444444444,
                          "#bd3786"
                        ],
                        [
                          0.5555555555555556,
                          "#d8576b"
                        ],
                        [
                          0.6666666666666666,
                          "#ed7953"
                        ],
                        [
                          0.7777777777777778,
                          "#fb9f3a"
                        ],
                        [
                          0.8888888888888888,
                          "#fdca26"
                        ],
                        [
                          1,
                          "#f0f921"
                        ]
                      ],
                      "sequentialminus": [
                        [
                          0,
                          "#0d0887"
                        ],
                        [
                          0.1111111111111111,
                          "#46039f"
                        ],
                        [
                          0.2222222222222222,
                          "#7201a8"
                        ],
                        [
                          0.3333333333333333,
                          "#9c179e"
                        ],
                        [
                          0.4444444444444444,
                          "#bd3786"
                        ],
                        [
                          0.5555555555555556,
                          "#d8576b"
                        ],
                        [
                          0.6666666666666666,
                          "#ed7953"
                        ],
                        [
                          0.7777777777777778,
                          "#fb9f3a"
                        ],
                        [
                          0.8888888888888888,
                          "#fdca26"
                        ],
                        [
                          1,
                          "#f0f921"
                        ]
                      ]
                    },
                    "colorway": [
                      "#636efa",
                      "#EF553B",
                      "#00cc96",
                      "#ab63fa",
                      "#FFA15A",
                      "#19d3f3",
                      "#FF6692",
                      "#B6E880",
                      "#FF97FF",
                      "#FECB52"
                    ],
                    "font": {
                      "color": "#2a3f5f"
                    },
                    "geo": {
                      "bgcolor": "white",
                      "lakecolor": "white",
                      "landcolor": "#E5ECF6",
                      "showlakes": true,
                      "showland": true,
                      "subunitcolor": "white"
                    },
                    "hoverlabel": {
                      "align": "left"
                    },
                    "hovermode": "closest",
                    "mapbox": {
                      "style": "light"
                    },
                    "paper_bgcolor": "white",
                    "plot_bgcolor": "#E5ECF6",
                    "polar": {
                      "angularaxis": {
                        "gridcolor": "white",
                        "linecolor": "white",
                        "ticks": ""
                      },
                      "bgcolor": "#E5ECF6",
                      "radialaxis": {
                        "gridcolor": "white",
                        "linecolor": "white",
                        "ticks": ""
                      }
                    },
                    "scene": {
                      "xaxis": {
                        "backgroundcolor": "#E5ECF6",
                        "gridcolor": "white",
                        "gridwidth": 2,
                        "linecolor": "white",
                        "showbackground": true,
                        "ticks": "",
                        "zerolinecolor": "white"
                      },
                      "yaxis": {
                        "backgroundcolor": "#E5ECF6",
                        "gridcolor": "white",
                        "gridwidth": 2,
                        "linecolor": "white",
                        "showbackground": true,
                        "ticks": "",
                        "zerolinecolor": "white"
                      },
                      "zaxis": {
                        "backgroundcolor": "#E5ECF6",
                        "gridcolor": "white",
                        "gridwidth": 2,
                        "linecolor": "white",
                        "showbackground": true,
                        "ticks": "",
                        "zerolinecolor": "white"
                      }
                    },
                    "shapedefaults": {
                      "line": {
                        "color": "#2a3f5f"
                      }
                    },
                    "ternary": {
                      "aaxis": {
                        "gridcolor": "white",
                        "linecolor": "white",
                        "ticks": ""
                      },
                      "baxis": {
                        "gridcolor": "white",
                        "linecolor": "white",
                        "ticks": ""
                      },
                      "bgcolor": "#E5ECF6",
                      "caxis": {
                        "gridcolor": "white",
                        "linecolor": "white",
                        "ticks": ""
                      }
                    },
                    "title": {
                      "x": 0.05
                    },
                    "xaxis": {
                      "automargin": true,
                      "gridcolor": "white",
                      "linecolor": "white",
                      "ticks": "",
                      "title": {
                        "standoff": 15
                      },
                      "zerolinecolor": "white",
                      "zerolinewidth": 2
                    },
                    "yaxis": {
                      "automargin": true,
                      "gridcolor": "white",
                      "linecolor": "white",
                      "ticks": "",
                      "title": {
                        "standoff": 15
                      },
                      "zerolinecolor": "white",
                      "zerolinewidth": 2
                    }
                  }
                },
                "xaxis": {
                  "anchor": "y",
                  "autorange": true,
                  "domain": [
                    0,
                    1
                  ],
                  "range": [
                    1910,
                    2020
                  ],
                  "title": {
                    "text": "Year"
                  },
                  "type": "linear"
                },
                "yaxis": {
                  "anchor": "x",
                  "autorange": true,
                  "domain": [
                    0,
                    1
                  ],
                  "range": [
                    -8296.111111111111,
                    276626.1111111111
                  ],
                  "title": {
                    "text": "Count"
                  },
                  "type": "linear"
                }
              }
            },
            "image/png": "[encoded data removed]",
            "text/html": [
              "<div>                            <div id=\"17276208-9154-4d84-8595-9edb608a09d5\" class=\"plotly-graph-div\" style=\"height:525px; width:100%;\"></div>            <script type=\"text/javascript\">                require([\"plotly\"], function(Plotly) {                    window.PLOTLYENV=window.PLOTLYENV || {};                                    if (document.getElementById(\"17276208-9154-4d84-8595-9edb608a09d5\")) {                    Plotly.newPlot(                        \"17276208-9154-4d84-8595-9edb608a09d5\",                        [{\"hovertemplate\":\"Year=%{x}<br>Count=%{y}<extra></extra>\",\"legendgroup\":\"\",\"line\":{\"color\":\"#636efa\",\"dash\":\"solid\"},\"marker\":{\"symbol\":\"circle\"},\"mode\":\"lines\",\"name\":\"\",\"orientation\":\"v\",\"showlegend\":false,\"type\":\"scatter\",\"x\":[1910,1911,1912,1913,1914,1915,1916,1917,1918,1919,1920,1921,1922,1923,1924,1925,1926,1927,1928,1929,1930,1931,1932,1933,1934,1935,1936,1937,1938,1939,1940,1941,1942,1943,1944,1945,1946,1947,1948,1949,1950,1951,1952,1953,1954,1955,1956,1957,1958,1959,1960,1961,1962,1963,1964,1965,1966,1967,1968,1969,1970,1971,1972,1973,1974,1975,1976,1977,1978,1979,1980,1981,1982,1983,1984,1985,1986,1987,1988,1989,1990,1991,1992,1993,1994,1995,1996,1997,1998,1999,2000,2001,2002,2003,2004,2005,2006,2007,2008,2009,2010,2011,2012,2013,2014,2015,2016,2017,2018,2019,2020],\"xaxis\":\"x\",\"y\":[5950,6602,9804,11860,13815,18643,19555,20864,23052,23290,28136,30479,30917,34122,37892,36915,36125,36784,36752,35732,37249,35102,34227,32892,34211,34917,36814,40591,44515,45620,49921,55732,69019,77970,79835,83505,99287,112884,111415,113221,113544,120926,131348,138849,143498,146169,156429,163942,162923,166298,172632,175044,173455,174104,171883,161654,153735,152925,153795,159870,164020,148397,137064,130778,136622,138439,143866,149564,153319,163311,173691,181276,185722,187691,192577,202218,207649,215088,228380,243970,262380,261484,256727,249565,242460,234569,229760,222828,220983,219039,223782,222243,222689,226609,228753,230344,234687,236172,229229,218201,210871,207494,208926,204939,209416,205093,203360,195352,188919,183644,172003],\"yaxis\":\"y\"}],                        {\"font\":{\"size\":15},\"legend\":{\"tracegroupgap\":0},\"margin\":{\"t\":60},\"template\":{\"data\":{\"bar\":[{\"error_x\":{\"color\":\"#2a3f5f\"},\"error_y\":{\"color\":\"#2a3f5f\"},\"marker\":{\"line\":{\"color\":\"#E5ECF6\",\"width\":0.5},\"pattern\":{\"fillmode\":\"overlay\",\"size\":10,\"solidity\":0.2}},\"type\":\"bar\"}],\"barpolar\":[{\"marker\":{\"line\":{\"color\":\"#E5ECF6\",\"width\":0.5},\"pattern\":{\"fillmode\":\"overlay\",\"size\":10,\"solidity\":0.2}},\"type\":\"barpolar\"}],\"carpet\":[{\"aaxis\":{\"endlinecolor\":\"#2a3f5f\",\"gridcolor\":\"white\",\"linecolor\":\"white\",\"minorgridcolor\":\"white\",\"startlinecolor\":\"#2a3f5f\"},\"baxis\":{\"endlinecolor\":\"#2a3f5f\",\"gridcolor\":\"white\",\"linecolor\":\"white\",\"minorgridcolor\":\"white\",\"startlinecolor\":\"#2a3f5f\"},\"type\":\"carpet\"}],\"choropleth\":[{\"colorbar\":{\"outlinewidth\":0,\"ticks\":\"\"},\"type\":\"choropleth\"}],\"contour\":[{\"colorbar\":{\"outlinewidth\":0,\"ticks\":\"\"},\"colorscale\":[[0.0,\"#0d0887\"],[0.1111111111111111,\"#46039f\"],[0.2222222222222222,\"#7201a8\"],[0.3333333333333333,\"#9c179e\"],[0.4444444444444444,\"#bd3786\"],[0.5555555555555556,\"#d8576b\"],[0.6666666666666666,\"#ed7953\"],[0.7777777777777778,\"#fb9f3a\"],[0.8888888888888888,\"#fdca26\"],[1.0,\"#f0f921\"]],\"type\":\"contour\"}],\"contourcarpet\":[{\"colorbar\":{\"outlinewidth\":0,\"ticks\":\"\"},\"type\":\"contourcarpet\"}],\"heatmap\":[{\"colorbar\":{\"outlinewidth\":0,\"ticks\":\"\"},\"colorscale\":[[0.0,\"#0d0887\"],[0.1111111111111111,\"#46039f\"],[0.2222222222222222,\"#7201a8\"],[0.3333333333333333,\"#9c179e\"],[0.4444444444444444,\"#bd3786\"],[0.5555555555555556,\"#d8576b\"],[0.6666666666666666,\"#ed7953\"],[0.7777777777777778,\"#fb9f3a\"],[0.8888888888888888,\"#fdca26\"],[1.0,\"#f0f921\"]],\"type\":\"heatmap\"}],\"heatmapgl\":[{\"colorbar\":{\"outlinewidth\":0,\"ticks\":\"\"},\"colorscale\":[[0.0,\"#0d0887\"],[0.1111111111111111,\"#46039f\"],[0.2222222222222222,\"#7201a8\"],[0.3333333333333333,\"#9c179e\"],[0.4444444444444444,\"#bd3786\"],[0.5555555555555556,\"#d8576b\"],[0.6666666666666666,\"#ed7953\"],[0.7777777777777778,\"#fb9f3a\"],[0.8888888888888888,\"#fdca26\"],[1.0,\"#f0f921\"]],\"type\":\"heatmapgl\"}],\"histogram\":[{\"marker\":{\"pattern\":{\"fillmode\":\"overlay\",\"size\":10,\"solidity\":0.2}},\"type\":\"histogram\"}],\"histogram2d\":[{\"colorbar\":{\"outlinewidth\":0,\"ticks\":\"\"},\"colorscale\":[[0.0,\"#0d0887\"],[0.1111111111111111,\"#46039f\"],[0.2222222222222222,\"#7201a8\"],[0.3333333333333333,\"#9c179e\"],[0.4444444444444444,\"#bd3786\"],[0.5555555555555556,\"#d8576b\"],[0.6666666666666666,\"#ed7953\"],[0.7777777777777778,\"#fb9f3a\"],[0.8888888888888888,\"#fdca26\"],[1.0,\"#f0f921\"]],\"type\":\"histogram2d\"}],\"histogram2dcontour\":[{\"colorbar\":{\"outlinewidth\":0,\"ticks\":\"\"},\"colorscale\":[[0.0,\"#0d0887\"],[0.1111111111111111,\"#46039f\"],[0.2222222222222222,\"#7201a8\"],[0.3333333333333333,\"#9c179e\"],[0.4444444444444444,\"#bd3786\"],[0.5555555555555556,\"#d8576b\"],[0.6666666666666666,\"#ed7953\"],[0.7777777777777778,\"#fb9f3a\"],[0.8888888888888888,\"#fdca26\"],[1.0,\"#f0f921\"]],\"type\":\"histogram2dcontour\"}],\"mesh3d\":[{\"colorbar\":{\"outlinewidth\":0,\"ticks\":\"\"},\"type\":\"mesh3d\"}],\"parcoords\":[{\"line\":{\"colorbar\":{\"outlinewidth\":0,\"ticks\":\"\"}},\"type\":\"parcoords\"}],\"pie\":[{\"automargin\":true,\"type\":\"pie\"}],\"scatter\":[{\"marker\":{\"colorbar\":{\"outlinewidth\":0,\"ticks\":\"\"}},\"type\":\"scatter\"}],\"scatter3d\":[{\"line\":{\"colorbar\":{\"outlinewidth\":0,\"ticks\":\"\"}},\"marker\":{\"colorbar\":{\"outlinewidth\":0,\"ticks\":\"\"}},\"type\":\"scatter3d\"}],\"scattercarpet\":[{\"marker\":{\"colorbar\":{\"outlinewidth\":0,\"ticks\":\"\"}},\"type\":\"scattercarpet\"}],\"scattergeo\":[{\"marker\":{\"colorbar\":{\"outlinewidth\":0,\"ticks\":\"\"}},\"type\":\"scattergeo\"}],\"scattergl\":[{\"marker\":{\"colorbar\":{\"outlinewidth\":0,\"ticks\":\"\"}},\"type\":\"scattergl\"}],\"scattermapbox\":[{\"marker\":{\"colorbar\":{\"outlinewidth\":0,\"ticks\":\"\"}},\"type\":\"scattermapbox\"}],\"scatterpolar\":[{\"marker\":{\"colorbar\":{\"outlinewidth\":0,\"ticks\":\"\"}},\"type\":\"scatterpolar\"}],\"scatterpolargl\":[{\"marker\":{\"colorbar\":{\"outlinewidth\":0,\"ticks\":\"\"}},\"type\":\"scatterpolargl\"}],\"scatterternary\":[{\"marker\":{\"colorbar\":{\"outlinewidth\":0,\"ticks\":\"\"}},\"type\":\"scatterternary\"}],\"surface\":[{\"colorbar\":{\"outlinewidth\":0,\"ticks\":\"\"},\"colorscale\":[[0.0,\"#0d0887\"],[0.1111111111111111,\"#46039f\"],[0.2222222222222222,\"#7201a8\"],[0.3333333333333333,\"#9c179e\"],[0.4444444444444444,\"#bd3786\"],[0.5555555555555556,\"#d8576b\"],[0.6666666666666666,\"#ed7953\"],[0.7777777777777778,\"#fb9f3a\"],[0.8888888888888888,\"#fdca26\"],[1.0,\"#f0f921\"]],\"type\":\"surface\"}],\"table\":[{\"cells\":{\"fill\":{\"color\":\"#EBF0F8\"},\"line\":{\"color\":\"white\"}},\"header\":{\"fill\":{\"color\":\"#C8D4E3\"},\"line\":{\"color\":\"white\"}},\"type\":\"table\"}]},\"layout\":{\"annotationdefaults\":{\"arrowcolor\":\"#2a3f5f\",\"arrowhead\":0,\"arrowwidth\":1},\"autotypenumbers\":\"strict\",\"coloraxis\":{\"colorbar\":{\"outlinewidth\":0,\"ticks\":\"\"}},\"colorscale\":{\"diverging\":[[0,\"#8e0152\"],[0.1,\"#c51b7d\"],[0.2,\"#de77ae\"],[0.3,\"#f1b6da\"],[0.4,\"#fde0ef\"],[0.5,\"#f7f7f7\"],[0.6,\"#e6f5d0\"],[0.7,\"#b8e186\"],[0.8,\"#7fbc41\"],[0.9,\"#4d9221\"],[1,\"#276419\"]],\"sequential\":[[0.0,\"#0d0887\"],[0.1111111111111111,\"#46039f\"],[0.2222222222222222,\"#7201a8\"],[0.3333333333333333,\"#9c179e\"],[0.4444444444444444,\"#bd3786\"],[0.5555555555555556,\"#d8576b\"],[0.6666666666666666,\"#ed7953\"],[0.7777777777777778,\"#fb9f3a\"],[0.8888888888888888,\"#fdca26\"],[1.0,\"#f0f921\"]],\"sequentialminus\":[[0.0,\"#0d0887\"],[0.1111111111111111,\"#46039f\"],[0.2222222222222222,\"#7201a8\"],[0.3333333333333333,\"#9c179e\"],[0.4444444444444444,\"#bd3786\"],[0.5555555555555556,\"#d8576b\"],[0.6666666666666666,\"#ed7953\"],[0.7777777777777778,\"#fb9f3a\"],[0.8888888888888888,\"#fdca26\"],[1.0,\"#f0f921\"]]},\"colorway\":[\"#636efa\",\"#EF553B\",\"#00cc96\",\"#ab63fa\",\"#FFA15A\",\"#19d3f3\",\"#FF6692\",\"#B6E880\",\"#FF97FF\",\"#FECB52\"],\"font\":{\"color\":\"#2a3f5f\"},\"geo\":{\"bgcolor\":\"white\",\"lakecolor\":\"white\",\"landcolor\":\"#E5ECF6\",\"showlakes\":true,\"showland\":true,\"subunitcolor\":\"white\"},\"hoverlabel\":{\"align\":\"left\"},\"hovermode\":\"closest\",\"mapbox\":{\"style\":\"light\"},\"paper_bgcolor\":\"white\",\"plot_bgcolor\":\"#E5ECF6\",\"polar\":{\"angularaxis\":{\"gridcolor\":\"white\",\"linecolor\":\"white\",\"ticks\":\"\"},\"bgcolor\":\"#E5ECF6\",\"radialaxis\":{\"gridcolor\":\"white\",\"linecolor\":\"white\",\"ticks\":\"\"}},\"scene\":{\"xaxis\":{\"backgroundcolor\":\"#E5ECF6\",\"gridcolor\":\"white\",\"gridwidth\":2,\"linecolor\":\"white\",\"showbackground\":true,\"ticks\":\"\",\"zerolinecolor\":\"white\"},\"yaxis\":{\"backgroundcolor\":\"#E5ECF6\",\"gridcolor\":\"white\",\"gridwidth\":2,\"linecolor\":\"white\",\"showbackground\":true,\"ticks\":\"\",\"zerolinecolor\":\"white\"},\"zaxis\":{\"backgroundcolor\":\"#E5ECF6\",\"gridcolor\":\"white\",\"gridwidth\":2,\"linecolor\":\"white\",\"showbackground\":true,\"ticks\":\"\",\"zerolinecolor\":\"white\"}},\"shapedefaults\":{\"line\":{\"color\":\"#2a3f5f\"}},\"ternary\":{\"aaxis\":{\"gridcolor\":\"white\",\"linecolor\":\"white\",\"ticks\":\"\"},\"baxis\":{\"gridcolor\":\"white\",\"linecolor\":\"white\",\"ticks\":\"\"},\"bgcolor\":\"#E5ECF6\",\"caxis\":{\"gridcolor\":\"white\",\"linecolor\":\"white\",\"ticks\":\"\"}},\"title\":{\"x\":0.05},\"xaxis\":{\"automargin\":true,\"gridcolor\":\"white\",\"linecolor\":\"white\",\"ticks\":\"\",\"title\":{\"standoff\":15},\"zerolinecolor\":\"white\",\"zerolinewidth\":2},\"yaxis\":{\"automargin\":true,\"gridcolor\":\"white\",\"linecolor\":\"white\",\"ticks\":\"\",\"title\":{\"standoff\":15},\"zerolinecolor\":\"white\",\"zerolinewidth\":2}}},\"xaxis\":{\"anchor\":\"y\",\"domain\":[0.0,1.0],\"title\":{\"text\":\"Year\"}},\"yaxis\":{\"anchor\":\"x\",\"domain\":[0.0,1.0],\"title\":{\"text\":\"Count\"}}},                        {\"responsive\": true}                    ).then(function(){\n",
              "                            \n",
              "var gd = document.getElementById('17276208-9154-4d84-8595-9edb608a09d5');\n",
              "var x = new MutationObserver(function (mutations, observer) {{\n",
              "        var display = window.getComputedStyle(gd).display;\n",
              "        if (!display || display === 'none') {{\n",
              "            console.log([gd, 'removed!']);\n",
              "            Plotly.purge(gd);\n",
              "            observer.disconnect();\n",
              "        }}\n",
              "}});\n",
              "\n",
              "// Listen for the removal of the full notebook cells\n",
              "var notebookContainer = gd.closest('#notebook-container');\n",
              "if (notebookContainer) {{\n",
              "    x.observe(notebookContainer, {childList: true});\n",
              "}}\n",
              "\n",
              "// Listen for the clearing of the current output cell\n",
              "var outputEl = gd.closest('.output');\n",
              "if (outputEl) {{\n",
              "    x.observe(outputEl, {childList: true});\n",
              "}}\n",
              "\n",
              "                        })                };                });            </script>        </div>"
            ]
          },
          "metadata": {},
          "output_type": "display_data"
        }
      ],
      "source": [
        "fig = px.line(puzzle2, y = \"Count\")\n",
        "fig.update_layout(font_size = 15)"
      ]
    },
    {
      "cell_type": "code",
      "execution_count": null,
      "metadata": {
        "tags": [],
        "id": "ZhvY26jCeUG3"
      },
      "outputs": [],
      "source": [
        "#not covered in lecture but we can also compute relative births\n",
        "relative_births = puzzle2 / max(puzzle2[\"Count\"])"
      ]
    },
    {
      "cell_type": "code",
      "execution_count": null,
      "metadata": {
        "id": "ahfdHugmeUG3",
        "outputId": "8271b255-553b-48ef-e9f6-47b6651f419d"
      },
      "outputs": [
        {
          "data": {
            "application/vnd.plotly.v1+json": {
              "config": {
                "plotlyServerURL": "https://plot.ly"
              },
              "data": [
                {
                  "hovertemplate": "Year=%{x}<br>Count=%{y}<extra></extra>",
                  "legendgroup": "",
                  "line": {
                    "color": "#636efa",
                    "dash": "solid"
                  },
                  "marker": {
                    "symbol": "circle"
                  },
                  "mode": "lines",
                  "name": "",
                  "orientation": "v",
                  "showlegend": false,
                  "type": "scatter",
                  "x": [
                    1910,
                    1911,
                    1912,
                    1913,
                    1914,
                    1915,
                    1916,
                    1917,
                    1918,
                    1919,
                    1920,
                    1921,
                    1922,
                    1923,
                    1924,
                    1925,
                    1926,
                    1927,
                    1928,
                    1929,
                    1930,
                    1931,
                    1932,
                    1933,
                    1934,
                    1935,
                    1936,
                    1937,
                    1938,
                    1939,
                    1940,
                    1941,
                    1942,
                    1943,
                    1944,
                    1945,
                    1946,
                    1947,
                    1948,
                    1949,
                    1950,
                    1951,
                    1952,
                    1953,
                    1954,
                    1955,
                    1956,
                    1957,
                    1958,
                    1959,
                    1960,
                    1961,
                    1962,
                    1963,
                    1964,
                    1965,
                    1966,
                    1967,
                    1968,
                    1969,
                    1970,
                    1971,
                    1972,
                    1973,
                    1974,
                    1975,
                    1976,
                    1977,
                    1978,
                    1979,
                    1980,
                    1981,
                    1982,
                    1983,
                    1984,
                    1985,
                    1986,
                    1987,
                    1988,
                    1989,
                    1990,
                    1991,
                    1992,
                    1993,
                    1994,
                    1995,
                    1996,
                    1997,
                    1998,
                    1999,
                    2000,
                    2001,
                    2002,
                    2003,
                    2004,
                    2005,
                    2006,
                    2007,
                    2008,
                    2009,
                    2010,
                    2011,
                    2012,
                    2013,
                    2014,
                    2015,
                    2016,
                    2017,
                    2018,
                    2019,
                    2020
                  ],
                  "xaxis": "x",
                  "y": [
                    0.022677033310465736,
                    0.02516197880936047,
                    0.03736565286988337,
                    0.0452016159768275,
                    0.052652641207409104,
                    0.07105343395075844,
                    0.07452930863632899,
                    0.07951825596463145,
                    0.08785730619711868,
                    0.08876438752953732,
                    0.10723378306273344,
                    0.11616357954112357,
                    0.11783291409406205,
                    0.13004802195289275,
                    0.14441649515969204,
                    0.14069288817745254,
                    0.1376819879563991,
                    0.14019361231801206,
                    0.14007165180272887,
                    0.1361841603780776,
                    0.1419658510557207,
                    0.13378306273344004,
                    0.13044820489366568,
                    0.12536016464669564,
                    0.1303872246360241,
                    0.13307797850445918,
                    0.14030795030109003,
                    0.15470310237060753,
                    0.1696585105572071,
                    0.1738699596005793,
                    0.19026221510785882,
                    0.21240948243006327,
                    0.2630497751352999,
                    0.29716441801966614,
                    0.3042724293010138,
                    0.31825977589755317,
                    0.37840917752877506,
                    0.4302309627258175,
                    0.42463221282109914,
                    0.4315153594023935,
                    0.43274639835353307,
                    0.46088116472292096,
                    0.5006021800442106,
                    0.5291904870798079,
                    0.546909063190792,
                    0.5570889549508347,
                    0.5961925451635033,
                    0.6248265873923318,
                    0.6209429072337831,
                    0.6338059303300556,
                    0.6579464898239195,
                    0.6671392636633889,
                    0.6610831618263587,
                    0.6635566735269457,
                    0.6550918515130727,
                    0.6161064105495846,
                    0.5859249942831009,
                    0.5828378687399954,
                    0.5861536702492568,
                    0.6093071118225475,
                    0.6251238661483345,
                    0.5655804558274259,
                    0.5223873770866682,
                    0.4984297583657291,
                    0.5207027974693194,
                    0.5276278679777422,
                    0.5483116091165485,
                    0.5700282033691593,
                    0.5843395075844195,
                    0.6224216784815916,
                    0.6619826206265721,
                    0.6908910740147877,
                    0.7078359631069441,
                    0.7153403460629622,
                    0.7339621922402623,
                    0.770706608735422,
                    0.7914055949386386,
                    0.8197576034758747,
                    0.8704169525116243,
                    0.9298345910511472,
                    1,
                    0.996585105572071,
                    0.9784549127220062,
                    0.9511586248951902,
                    0.9240795792362223,
                    0.8940048784206114,
                    0.8756764997332114,
                    0.8492568031099932,
                    0.8422250171506974,
                    0.8348159158472445,
                    0.8528927509718729,
                    0.8470272124399726,
                    0.8487270371217318,
                    0.8636672002439211,
                    0.8718385547678938,
                    0.8779022791371294,
                    0.8944546078207181,
                    0.9001143379830779,
                    0.8736527174327312,
                    0.8316220748532662,
                    0.8036854943212135,
                    0.7908148486927358,
                    0.7962725817516579,
                    0.7810770638005946,
                    0.7981401021419315,
                    0.7816639987803948,
                    0.7750590746245903,
                    0.7445384556749752,
                    0.7200205808369541,
                    0.6999161521457428,
                    0.6555492034453846
                  ],
                  "yaxis": "y"
                }
              ],
              "layout": {
                "autosize": true,
                "font": {
                  "size": 15
                },
                "legend": {
                  "tracegroupgap": 0
                },
                "margin": {
                  "t": 60
                },
                "template": {
                  "data": {
                    "bar": [
                      {
                        "error_x": {
                          "color": "#2a3f5f"
                        },
                        "error_y": {
                          "color": "#2a3f5f"
                        },
                        "marker": {
                          "line": {
                            "color": "#E5ECF6",
                            "width": 0.5
                          },
                          "pattern": {
                            "fillmode": "overlay",
                            "size": 10,
                            "solidity": 0.2
                          }
                        },
                        "type": "bar"
                      }
                    ],
                    "barpolar": [
                      {
                        "marker": {
                          "line": {
                            "color": "#E5ECF6",
                            "width": 0.5
                          },
                          "pattern": {
                            "fillmode": "overlay",
                            "size": 10,
                            "solidity": 0.2
                          }
                        },
                        "type": "barpolar"
                      }
                    ],
                    "carpet": [
                      {
                        "aaxis": {
                          "endlinecolor": "#2a3f5f",
                          "gridcolor": "white",
                          "linecolor": "white",
                          "minorgridcolor": "white",
                          "startlinecolor": "#2a3f5f"
                        },
                        "baxis": {
                          "endlinecolor": "#2a3f5f",
                          "gridcolor": "white",
                          "linecolor": "white",
                          "minorgridcolor": "white",
                          "startlinecolor": "#2a3f5f"
                        },
                        "type": "carpet"
                      }
                    ],
                    "choropleth": [
                      {
                        "colorbar": {
                          "outlinewidth": 0,
                          "ticks": ""
                        },
                        "type": "choropleth"
                      }
                    ],
                    "contour": [
                      {
                        "colorbar": {
                          "outlinewidth": 0,
                          "ticks": ""
                        },
                        "colorscale": [
                          [
                            0,
                            "#0d0887"
                          ],
                          [
                            0.1111111111111111,
                            "#46039f"
                          ],
                          [
                            0.2222222222222222,
                            "#7201a8"
                          ],
                          [
                            0.3333333333333333,
                            "#9c179e"
                          ],
                          [
                            0.4444444444444444,
                            "#bd3786"
                          ],
                          [
                            0.5555555555555556,
                            "#d8576b"
                          ],
                          [
                            0.6666666666666666,
                            "#ed7953"
                          ],
                          [
                            0.7777777777777778,
                            "#fb9f3a"
                          ],
                          [
                            0.8888888888888888,
                            "#fdca26"
                          ],
                          [
                            1,
                            "#f0f921"
                          ]
                        ],
                        "type": "contour"
                      }
                    ],
                    "contourcarpet": [
                      {
                        "colorbar": {
                          "outlinewidth": 0,
                          "ticks": ""
                        },
                        "type": "contourcarpet"
                      }
                    ],
                    "heatmap": [
                      {
                        "colorbar": {
                          "outlinewidth": 0,
                          "ticks": ""
                        },
                        "colorscale": [
                          [
                            0,
                            "#0d0887"
                          ],
                          [
                            0.1111111111111111,
                            "#46039f"
                          ],
                          [
                            0.2222222222222222,
                            "#7201a8"
                          ],
                          [
                            0.3333333333333333,
                            "#9c179e"
                          ],
                          [
                            0.4444444444444444,
                            "#bd3786"
                          ],
                          [
                            0.5555555555555556,
                            "#d8576b"
                          ],
                          [
                            0.6666666666666666,
                            "#ed7953"
                          ],
                          [
                            0.7777777777777778,
                            "#fb9f3a"
                          ],
                          [
                            0.8888888888888888,
                            "#fdca26"
                          ],
                          [
                            1,
                            "#f0f921"
                          ]
                        ],
                        "type": "heatmap"
                      }
                    ],
                    "heatmapgl": [
                      {
                        "colorbar": {
                          "outlinewidth": 0,
                          "ticks": ""
                        },
                        "colorscale": [
                          [
                            0,
                            "#0d0887"
                          ],
                          [
                            0.1111111111111111,
                            "#46039f"
                          ],
                          [
                            0.2222222222222222,
                            "#7201a8"
                          ],
                          [
                            0.3333333333333333,
                            "#9c179e"
                          ],
                          [
                            0.4444444444444444,
                            "#bd3786"
                          ],
                          [
                            0.5555555555555556,
                            "#d8576b"
                          ],
                          [
                            0.6666666666666666,
                            "#ed7953"
                          ],
                          [
                            0.7777777777777778,
                            "#fb9f3a"
                          ],
                          [
                            0.8888888888888888,
                            "#fdca26"
                          ],
                          [
                            1,
                            "#f0f921"
                          ]
                        ],
                        "type": "heatmapgl"
                      }
                    ],
                    "histogram": [
                      {
                        "marker": {
                          "pattern": {
                            "fillmode": "overlay",
                            "size": 10,
                            "solidity": 0.2
                          }
                        },
                        "type": "histogram"
                      }
                    ],
                    "histogram2d": [
                      {
                        "colorbar": {
                          "outlinewidth": 0,
                          "ticks": ""
                        },
                        "colorscale": [
                          [
                            0,
                            "#0d0887"
                          ],
                          [
                            0.1111111111111111,
                            "#46039f"
                          ],
                          [
                            0.2222222222222222,
                            "#7201a8"
                          ],
                          [
                            0.3333333333333333,
                            "#9c179e"
                          ],
                          [
                            0.4444444444444444,
                            "#bd3786"
                          ],
                          [
                            0.5555555555555556,
                            "#d8576b"
                          ],
                          [
                            0.6666666666666666,
                            "#ed7953"
                          ],
                          [
                            0.7777777777777778,
                            "#fb9f3a"
                          ],
                          [
                            0.8888888888888888,
                            "#fdca26"
                          ],
                          [
                            1,
                            "#f0f921"
                          ]
                        ],
                        "type": "histogram2d"
                      }
                    ],
                    "histogram2dcontour": [
                      {
                        "colorbar": {
                          "outlinewidth": 0,
                          "ticks": ""
                        },
                        "colorscale": [
                          [
                            0,
                            "#0d0887"
                          ],
                          [
                            0.1111111111111111,
                            "#46039f"
                          ],
                          [
                            0.2222222222222222,
                            "#7201a8"
                          ],
                          [
                            0.3333333333333333,
                            "#9c179e"
                          ],
                          [
                            0.4444444444444444,
                            "#bd3786"
                          ],
                          [
                            0.5555555555555556,
                            "#d8576b"
                          ],
                          [
                            0.6666666666666666,
                            "#ed7953"
                          ],
                          [
                            0.7777777777777778,
                            "#fb9f3a"
                          ],
                          [
                            0.8888888888888888,
                            "#fdca26"
                          ],
                          [
                            1,
                            "#f0f921"
                          ]
                        ],
                        "type": "histogram2dcontour"
                      }
                    ],
                    "mesh3d": [
                      {
                        "colorbar": {
                          "outlinewidth": 0,
                          "ticks": ""
                        },
                        "type": "mesh3d"
                      }
                    ],
                    "parcoords": [
                      {
                        "line": {
                          "colorbar": {
                            "outlinewidth": 0,
                            "ticks": ""
                          }
                        },
                        "type": "parcoords"
                      }
                    ],
                    "pie": [
                      {
                        "automargin": true,
                        "type": "pie"
                      }
                    ],
                    "scatter": [
                      {
                        "marker": {
                          "colorbar": {
                            "outlinewidth": 0,
                            "ticks": ""
                          }
                        },
                        "type": "scatter"
                      }
                    ],
                    "scatter3d": [
                      {
                        "line": {
                          "colorbar": {
                            "outlinewidth": 0,
                            "ticks": ""
                          }
                        },
                        "marker": {
                          "colorbar": {
                            "outlinewidth": 0,
                            "ticks": ""
                          }
                        },
                        "type": "scatter3d"
                      }
                    ],
                    "scattercarpet": [
                      {
                        "marker": {
                          "colorbar": {
                            "outlinewidth": 0,
                            "ticks": ""
                          }
                        },
                        "type": "scattercarpet"
                      }
                    ],
                    "scattergeo": [
                      {
                        "marker": {
                          "colorbar": {
                            "outlinewidth": 0,
                            "ticks": ""
                          }
                        },
                        "type": "scattergeo"
                      }
                    ],
                    "scattergl": [
                      {
                        "marker": {
                          "colorbar": {
                            "outlinewidth": 0,
                            "ticks": ""
                          }
                        },
                        "type": "scattergl"
                      }
                    ],
                    "scattermapbox": [
                      {
                        "marker": {
                          "colorbar": {
                            "outlinewidth": 0,
                            "ticks": ""
                          }
                        },
                        "type": "scattermapbox"
                      }
                    ],
                    "scatterpolar": [
                      {
                        "marker": {
                          "colorbar": {
                            "outlinewidth": 0,
                            "ticks": ""
                          }
                        },
                        "type": "scatterpolar"
                      }
                    ],
                    "scatterpolargl": [
                      {
                        "marker": {
                          "colorbar": {
                            "outlinewidth": 0,
                            "ticks": ""
                          }
                        },
                        "type": "scatterpolargl"
                      }
                    ],
                    "scatterternary": [
                      {
                        "marker": {
                          "colorbar": {
                            "outlinewidth": 0,
                            "ticks": ""
                          }
                        },
                        "type": "scatterternary"
                      }
                    ],
                    "surface": [
                      {
                        "colorbar": {
                          "outlinewidth": 0,
                          "ticks": ""
                        },
                        "colorscale": [
                          [
                            0,
                            "#0d0887"
                          ],
                          [
                            0.1111111111111111,
                            "#46039f"
                          ],
                          [
                            0.2222222222222222,
                            "#7201a8"
                          ],
                          [
                            0.3333333333333333,
                            "#9c179e"
                          ],
                          [
                            0.4444444444444444,
                            "#bd3786"
                          ],
                          [
                            0.5555555555555556,
                            "#d8576b"
                          ],
                          [
                            0.6666666666666666,
                            "#ed7953"
                          ],
                          [
                            0.7777777777777778,
                            "#fb9f3a"
                          ],
                          [
                            0.8888888888888888,
                            "#fdca26"
                          ],
                          [
                            1,
                            "#f0f921"
                          ]
                        ],
                        "type": "surface"
                      }
                    ],
                    "table": [
                      {
                        "cells": {
                          "fill": {
                            "color": "#EBF0F8"
                          },
                          "line": {
                            "color": "white"
                          }
                        },
                        "header": {
                          "fill": {
                            "color": "#C8D4E3"
                          },
                          "line": {
                            "color": "white"
                          }
                        },
                        "type": "table"
                      }
                    ]
                  },
                  "layout": {
                    "annotationdefaults": {
                      "arrowcolor": "#2a3f5f",
                      "arrowhead": 0,
                      "arrowwidth": 1
                    },
                    "autotypenumbers": "strict",
                    "coloraxis": {
                      "colorbar": {
                        "outlinewidth": 0,
                        "ticks": ""
                      }
                    },
                    "colorscale": {
                      "diverging": [
                        [
                          0,
                          "#8e0152"
                        ],
                        [
                          0.1,
                          "#c51b7d"
                        ],
                        [
                          0.2,
                          "#de77ae"
                        ],
                        [
                          0.3,
                          "#f1b6da"
                        ],
                        [
                          0.4,
                          "#fde0ef"
                        ],
                        [
                          0.5,
                          "#f7f7f7"
                        ],
                        [
                          0.6,
                          "#e6f5d0"
                        ],
                        [
                          0.7,
                          "#b8e186"
                        ],
                        [
                          0.8,
                          "#7fbc41"
                        ],
                        [
                          0.9,
                          "#4d9221"
                        ],
                        [
                          1,
                          "#276419"
                        ]
                      ],
                      "sequential": [
                        [
                          0,
                          "#0d0887"
                        ],
                        [
                          0.1111111111111111,
                          "#46039f"
                        ],
                        [
                          0.2222222222222222,
                          "#7201a8"
                        ],
                        [
                          0.3333333333333333,
                          "#9c179e"
                        ],
                        [
                          0.4444444444444444,
                          "#bd3786"
                        ],
                        [
                          0.5555555555555556,
                          "#d8576b"
                        ],
                        [
                          0.6666666666666666,
                          "#ed7953"
                        ],
                        [
                          0.7777777777777778,
                          "#fb9f3a"
                        ],
                        [
                          0.8888888888888888,
                          "#fdca26"
                        ],
                        [
                          1,
                          "#f0f921"
                        ]
                      ],
                      "sequentialminus": [
                        [
                          0,
                          "#0d0887"
                        ],
                        [
                          0.1111111111111111,
                          "#46039f"
                        ],
                        [
                          0.2222222222222222,
                          "#7201a8"
                        ],
                        [
                          0.3333333333333333,
                          "#9c179e"
                        ],
                        [
                          0.4444444444444444,
                          "#bd3786"
                        ],
                        [
                          0.5555555555555556,
                          "#d8576b"
                        ],
                        [
                          0.6666666666666666,
                          "#ed7953"
                        ],
                        [
                          0.7777777777777778,
                          "#fb9f3a"
                        ],
                        [
                          0.8888888888888888,
                          "#fdca26"
                        ],
                        [
                          1,
                          "#f0f921"
                        ]
                      ]
                    },
                    "colorway": [
                      "#636efa",
                      "#EF553B",
                      "#00cc96",
                      "#ab63fa",
                      "#FFA15A",
                      "#19d3f3",
                      "#FF6692",
                      "#B6E880",
                      "#FF97FF",
                      "#FECB52"
                    ],
                    "font": {
                      "color": "#2a3f5f"
                    },
                    "geo": {
                      "bgcolor": "white",
                      "lakecolor": "white",
                      "landcolor": "#E5ECF6",
                      "showlakes": true,
                      "showland": true,
                      "subunitcolor": "white"
                    },
                    "hoverlabel": {
                      "align": "left"
                    },
                    "hovermode": "closest",
                    "mapbox": {
                      "style": "light"
                    },
                    "paper_bgcolor": "white",
                    "plot_bgcolor": "#E5ECF6",
                    "polar": {
                      "angularaxis": {
                        "gridcolor": "white",
                        "linecolor": "white",
                        "ticks": ""
                      },
                      "bgcolor": "#E5ECF6",
                      "radialaxis": {
                        "gridcolor": "white",
                        "linecolor": "white",
                        "ticks": ""
                      }
                    },
                    "scene": {
                      "xaxis": {
                        "backgroundcolor": "#E5ECF6",
                        "gridcolor": "white",
                        "gridwidth": 2,
                        "linecolor": "white",
                        "showbackground": true,
                        "ticks": "",
                        "zerolinecolor": "white"
                      },
                      "yaxis": {
                        "backgroundcolor": "#E5ECF6",
                        "gridcolor": "white",
                        "gridwidth": 2,
                        "linecolor": "white",
                        "showbackground": true,
                        "ticks": "",
                        "zerolinecolor": "white"
                      },
                      "zaxis": {
                        "backgroundcolor": "#E5ECF6",
                        "gridcolor": "white",
                        "gridwidth": 2,
                        "linecolor": "white",
                        "showbackground": true,
                        "ticks": "",
                        "zerolinecolor": "white"
                      }
                    },
                    "shapedefaults": {
                      "line": {
                        "color": "#2a3f5f"
                      }
                    },
                    "ternary": {
                      "aaxis": {
                        "gridcolor": "white",
                        "linecolor": "white",
                        "ticks": ""
                      },
                      "baxis": {
                        "gridcolor": "white",
                        "linecolor": "white",
                        "ticks": ""
                      },
                      "bgcolor": "#E5ECF6",
                      "caxis": {
                        "gridcolor": "white",
                        "linecolor": "white",
                        "ticks": ""
                      }
                    },
                    "title": {
                      "x": 0.05
                    },
                    "xaxis": {
                      "automargin": true,
                      "gridcolor": "white",
                      "linecolor": "white",
                      "ticks": "",
                      "title": {
                        "standoff": 15
                      },
                      "zerolinecolor": "white",
                      "zerolinewidth": 2
                    },
                    "yaxis": {
                      "automargin": true,
                      "gridcolor": "white",
                      "linecolor": "white",
                      "ticks": "",
                      "title": {
                        "standoff": 15
                      },
                      "zerolinecolor": "white",
                      "zerolinewidth": 2
                    }
                  }
                },
                "xaxis": {
                  "anchor": "y",
                  "autorange": true,
                  "domain": [
                    0,
                    1
                  ],
                  "range": [
                    1910,
                    2020
                  ],
                  "title": {
                    "text": "Year"
                  },
                  "type": "linear"
                },
                "yaxis": {
                  "anchor": "x",
                  "autorange": true,
                  "domain": [
                    0,
                    1
                  ],
                  "range": [
                    -0.03161868706117506,
                    1.0542957203716408
                  ],
                  "title": {
                    "text": "Count"
                  },
                  "type": "linear"
                }
              }
            },
            "image/png": "[encoded data removed]",
            "text/html": [
              "<div>                            <div id=\"b88fea53-8dad-45bd-ae9c-0fd31f89a42a\" class=\"plotly-graph-div\" style=\"height:525px; width:100%;\"></div>            <script type=\"text/javascript\">                require([\"plotly\"], function(Plotly) {                    window.PLOTLYENV=window.PLOTLYENV || {};                                    if (document.getElementById(\"b88fea53-8dad-45bd-ae9c-0fd31f89a42a\")) {                    Plotly.newPlot(                        \"b88fea53-8dad-45bd-ae9c-0fd31f89a42a\",                        [{\"hovertemplate\":\"Year=%{x}<br>Count=%{y}<extra></extra>\",\"legendgroup\":\"\",\"line\":{\"color\":\"#636efa\",\"dash\":\"solid\"},\"marker\":{\"symbol\":\"circle\"},\"mode\":\"lines\",\"name\":\"\",\"orientation\":\"v\",\"showlegend\":false,\"type\":\"scatter\",\"x\":[1910,1911,1912,1913,1914,1915,1916,1917,1918,1919,1920,1921,1922,1923,1924,1925,1926,1927,1928,1929,1930,1931,1932,1933,1934,1935,1936,1937,1938,1939,1940,1941,1942,1943,1944,1945,1946,1947,1948,1949,1950,1951,1952,1953,1954,1955,1956,1957,1958,1959,1960,1961,1962,1963,1964,1965,1966,1967,1968,1969,1970,1971,1972,1973,1974,1975,1976,1977,1978,1979,1980,1981,1982,1983,1984,1985,1986,1987,1988,1989,1990,1991,1992,1993,1994,1995,1996,1997,1998,1999,2000,2001,2002,2003,2004,2005,2006,2007,2008,2009,2010,2011,2012,2013,2014,2015,2016,2017,2018,2019,2020],\"xaxis\":\"x\",\"y\":[0.022677033310465736,0.02516197880936047,0.03736565286988337,0.0452016159768275,0.052652641207409104,0.07105343395075844,0.07452930863632899,0.07951825596463145,0.08785730619711868,0.08876438752953732,0.10723378306273344,0.11616357954112357,0.11783291409406205,0.13004802195289275,0.14441649515969204,0.14069288817745254,0.1376819879563991,0.14019361231801206,0.14007165180272887,0.1361841603780776,0.1419658510557207,0.13378306273344004,0.13044820489366568,0.12536016464669564,0.1303872246360241,0.13307797850445918,0.14030795030109003,0.15470310237060753,0.1696585105572071,0.1738699596005793,0.19026221510785882,0.21240948243006327,0.2630497751352999,0.29716441801966614,0.3042724293010138,0.31825977589755317,0.37840917752877506,0.4302309627258175,0.42463221282109914,0.4315153594023935,0.43274639835353307,0.46088116472292096,0.5006021800442106,0.5291904870798079,0.546909063190792,0.5570889549508347,0.5961925451635033,0.6248265873923318,0.6209429072337831,0.6338059303300556,0.6579464898239195,0.6671392636633889,0.6610831618263587,0.6635566735269457,0.6550918515130727,0.6161064105495846,0.5859249942831009,0.5828378687399954,0.5861536702492568,0.6093071118225475,0.6251238661483345,0.5655804558274259,0.5223873770866682,0.4984297583657291,0.5207027974693194,0.5276278679777422,0.5483116091165485,0.5700282033691593,0.5843395075844195,0.6224216784815916,0.6619826206265721,0.6908910740147877,0.7078359631069441,0.7153403460629622,0.7339621922402623,0.770706608735422,0.7914055949386386,0.8197576034758747,0.8704169525116243,0.9298345910511472,1.0,0.996585105572071,0.9784549127220062,0.9511586248951902,0.9240795792362223,0.8940048784206114,0.8756764997332114,0.8492568031099932,0.8422250171506974,0.8348159158472445,0.8528927509718729,0.8470272124399726,0.8487270371217318,0.8636672002439211,0.8718385547678938,0.8779022791371294,0.8944546078207181,0.9001143379830779,0.8736527174327312,0.8316220748532662,0.8036854943212135,0.7908148486927358,0.7962725817516579,0.7810770638005946,0.7981401021419315,0.7816639987803948,0.7750590746245903,0.7445384556749752,0.7200205808369541,0.6999161521457428,0.6555492034453846],\"yaxis\":\"y\"}],                        {\"font\":{\"size\":15},\"legend\":{\"tracegroupgap\":0},\"margin\":{\"t\":60},\"template\":{\"data\":{\"bar\":[{\"error_x\":{\"color\":\"#2a3f5f\"},\"error_y\":{\"color\":\"#2a3f5f\"},\"marker\":{\"line\":{\"color\":\"#E5ECF6\",\"width\":0.5},\"pattern\":{\"fillmode\":\"overlay\",\"size\":10,\"solidity\":0.2}},\"type\":\"bar\"}],\"barpolar\":[{\"marker\":{\"line\":{\"color\":\"#E5ECF6\",\"width\":0.5},\"pattern\":{\"fillmode\":\"overlay\",\"size\":10,\"solidity\":0.2}},\"type\":\"barpolar\"}],\"carpet\":[{\"aaxis\":{\"endlinecolor\":\"#2a3f5f\",\"gridcolor\":\"white\",\"linecolor\":\"white\",\"minorgridcolor\":\"white\",\"startlinecolor\":\"#2a3f5f\"},\"baxis\":{\"endlinecolor\":\"#2a3f5f\",\"gridcolor\":\"white\",\"linecolor\":\"white\",\"minorgridcolor\":\"white\",\"startlinecolor\":\"#2a3f5f\"},\"type\":\"carpet\"}],\"choropleth\":[{\"colorbar\":{\"outlinewidth\":0,\"ticks\":\"\"},\"type\":\"choropleth\"}],\"contour\":[{\"colorbar\":{\"outlinewidth\":0,\"ticks\":\"\"},\"colorscale\":[[0.0,\"#0d0887\"],[0.1111111111111111,\"#46039f\"],[0.2222222222222222,\"#7201a8\"],[0.3333333333333333,\"#9c179e\"],[0.4444444444444444,\"#bd3786\"],[0.5555555555555556,\"#d8576b\"],[0.6666666666666666,\"#ed7953\"],[0.7777777777777778,\"#fb9f3a\"],[0.8888888888888888,\"#fdca26\"],[1.0,\"#f0f921\"]],\"type\":\"contour\"}],\"contourcarpet\":[{\"colorbar\":{\"outlinewidth\":0,\"ticks\":\"\"},\"type\":\"contourcarpet\"}],\"heatmap\":[{\"colorbar\":{\"outlinewidth\":0,\"ticks\":\"\"},\"colorscale\":[[0.0,\"#0d0887\"],[0.1111111111111111,\"#46039f\"],[0.2222222222222222,\"#7201a8\"],[0.3333333333333333,\"#9c179e\"],[0.4444444444444444,\"#bd3786\"],[0.5555555555555556,\"#d8576b\"],[0.6666666666666666,\"#ed7953\"],[0.7777777777777778,\"#fb9f3a\"],[0.8888888888888888,\"#fdca26\"],[1.0,\"#f0f921\"]],\"type\":\"heatmap\"}],\"heatmapgl\":[{\"colorbar\":{\"outlinewidth\":0,\"ticks\":\"\"},\"colorscale\":[[0.0,\"#0d0887\"],[0.1111111111111111,\"#46039f\"],[0.2222222222222222,\"#7201a8\"],[0.3333333333333333,\"#9c179e\"],[0.4444444444444444,\"#bd3786\"],[0.5555555555555556,\"#d8576b\"],[0.6666666666666666,\"#ed7953\"],[0.7777777777777778,\"#fb9f3a\"],[0.8888888888888888,\"#fdca26\"],[1.0,\"#f0f921\"]],\"type\":\"heatmapgl\"}],\"histogram\":[{\"marker\":{\"pattern\":{\"fillmode\":\"overlay\",\"size\":10,\"solidity\":0.2}},\"type\":\"histogram\"}],\"histogram2d\":[{\"colorbar\":{\"outlinewidth\":0,\"ticks\":\"\"},\"colorscale\":[[0.0,\"#0d0887\"],[0.1111111111111111,\"#46039f\"],[0.2222222222222222,\"#7201a8\"],[0.3333333333333333,\"#9c179e\"],[0.4444444444444444,\"#bd3786\"],[0.5555555555555556,\"#d8576b\"],[0.6666666666666666,\"#ed7953\"],[0.7777777777777778,\"#fb9f3a\"],[0.8888888888888888,\"#fdca26\"],[1.0,\"#f0f921\"]],\"type\":\"histogram2d\"}],\"histogram2dcontour\":[{\"colorbar\":{\"outlinewidth\":0,\"ticks\":\"\"},\"colorscale\":[[0.0,\"#0d0887\"],[0.1111111111111111,\"#46039f\"],[0.2222222222222222,\"#7201a8\"],[0.3333333333333333,\"#9c179e\"],[0.4444444444444444,\"#bd3786\"],[0.5555555555555556,\"#d8576b\"],[0.6666666666666666,\"#ed7953\"],[0.7777777777777778,\"#fb9f3a\"],[0.8888888888888888,\"#fdca26\"],[1.0,\"#f0f921\"]],\"type\":\"histogram2dcontour\"}],\"mesh3d\":[{\"colorbar\":{\"outlinewidth\":0,\"ticks\":\"\"},\"type\":\"mesh3d\"}],\"parcoords\":[{\"line\":{\"colorbar\":{\"outlinewidth\":0,\"ticks\":\"\"}},\"type\":\"parcoords\"}],\"pie\":[{\"automargin\":true,\"type\":\"pie\"}],\"scatter\":[{\"marker\":{\"colorbar\":{\"outlinewidth\":0,\"ticks\":\"\"}},\"type\":\"scatter\"}],\"scatter3d\":[{\"line\":{\"colorbar\":{\"outlinewidth\":0,\"ticks\":\"\"}},\"marker\":{\"colorbar\":{\"outlinewidth\":0,\"ticks\":\"\"}},\"type\":\"scatter3d\"}],\"scattercarpet\":[{\"marker\":{\"colorbar\":{\"outlinewidth\":0,\"ticks\":\"\"}},\"type\":\"scattercarpet\"}],\"scattergeo\":[{\"marker\":{\"colorbar\":{\"outlinewidth\":0,\"ticks\":\"\"}},\"type\":\"scattergeo\"}],\"scattergl\":[{\"marker\":{\"colorbar\":{\"outlinewidth\":0,\"ticks\":\"\"}},\"type\":\"scattergl\"}],\"scattermapbox\":[{\"marker\":{\"colorbar\":{\"outlinewidth\":0,\"ticks\":\"\"}},\"type\":\"scattermapbox\"}],\"scatterpolar\":[{\"marker\":{\"colorbar\":{\"outlinewidth\":0,\"ticks\":\"\"}},\"type\":\"scatterpolar\"}],\"scatterpolargl\":[{\"marker\":{\"colorbar\":{\"outlinewidth\":0,\"ticks\":\"\"}},\"type\":\"scatterpolargl\"}],\"scatterternary\":[{\"marker\":{\"colorbar\":{\"outlinewidth\":0,\"ticks\":\"\"}},\"type\":\"scatterternary\"}],\"surface\":[{\"colorbar\":{\"outlinewidth\":0,\"ticks\":\"\"},\"colorscale\":[[0.0,\"#0d0887\"],[0.1111111111111111,\"#46039f\"],[0.2222222222222222,\"#7201a8\"],[0.3333333333333333,\"#9c179e\"],[0.4444444444444444,\"#bd3786\"],[0.5555555555555556,\"#d8576b\"],[0.6666666666666666,\"#ed7953\"],[0.7777777777777778,\"#fb9f3a\"],[0.8888888888888888,\"#fdca26\"],[1.0,\"#f0f921\"]],\"type\":\"surface\"}],\"table\":[{\"cells\":{\"fill\":{\"color\":\"#EBF0F8\"},\"line\":{\"color\":\"white\"}},\"header\":{\"fill\":{\"color\":\"#C8D4E3\"},\"line\":{\"color\":\"white\"}},\"type\":\"table\"}]},\"layout\":{\"annotationdefaults\":{\"arrowcolor\":\"#2a3f5f\",\"arrowhead\":0,\"arrowwidth\":1},\"autotypenumbers\":\"strict\",\"coloraxis\":{\"colorbar\":{\"outlinewidth\":0,\"ticks\":\"\"}},\"colorscale\":{\"diverging\":[[0,\"#8e0152\"],[0.1,\"#c51b7d\"],[0.2,\"#de77ae\"],[0.3,\"#f1b6da\"],[0.4,\"#fde0ef\"],[0.5,\"#f7f7f7\"],[0.6,\"#e6f5d0\"],[0.7,\"#b8e186\"],[0.8,\"#7fbc41\"],[0.9,\"#4d9221\"],[1,\"#276419\"]],\"sequential\":[[0.0,\"#0d0887\"],[0.1111111111111111,\"#46039f\"],[0.2222222222222222,\"#7201a8\"],[0.3333333333333333,\"#9c179e\"],[0.4444444444444444,\"#bd3786\"],[0.5555555555555556,\"#d8576b\"],[0.6666666666666666,\"#ed7953\"],[0.7777777777777778,\"#fb9f3a\"],[0.8888888888888888,\"#fdca26\"],[1.0,\"#f0f921\"]],\"sequentialminus\":[[0.0,\"#0d0887\"],[0.1111111111111111,\"#46039f\"],[0.2222222222222222,\"#7201a8\"],[0.3333333333333333,\"#9c179e\"],[0.4444444444444444,\"#bd3786\"],[0.5555555555555556,\"#d8576b\"],[0.6666666666666666,\"#ed7953\"],[0.7777777777777778,\"#fb9f3a\"],[0.8888888888888888,\"#fdca26\"],[1.0,\"#f0f921\"]]},\"colorway\":[\"#636efa\",\"#EF553B\",\"#00cc96\",\"#ab63fa\",\"#FFA15A\",\"#19d3f3\",\"#FF6692\",\"#B6E880\",\"#FF97FF\",\"#FECB52\"],\"font\":{\"color\":\"#2a3f5f\"},\"geo\":{\"bgcolor\":\"white\",\"lakecolor\":\"white\",\"landcolor\":\"#E5ECF6\",\"showlakes\":true,\"showland\":true,\"subunitcolor\":\"white\"},\"hoverlabel\":{\"align\":\"left\"},\"hovermode\":\"closest\",\"mapbox\":{\"style\":\"light\"},\"paper_bgcolor\":\"white\",\"plot_bgcolor\":\"#E5ECF6\",\"polar\":{\"angularaxis\":{\"gridcolor\":\"white\",\"linecolor\":\"white\",\"ticks\":\"\"},\"bgcolor\":\"#E5ECF6\",\"radialaxis\":{\"gridcolor\":\"white\",\"linecolor\":\"white\",\"ticks\":\"\"}},\"scene\":{\"xaxis\":{\"backgroundcolor\":\"#E5ECF6\",\"gridcolor\":\"white\",\"gridwidth\":2,\"linecolor\":\"white\",\"showbackground\":true,\"ticks\":\"\",\"zerolinecolor\":\"white\"},\"yaxis\":{\"backgroundcolor\":\"#E5ECF6\",\"gridcolor\":\"white\",\"gridwidth\":2,\"linecolor\":\"white\",\"showbackground\":true,\"ticks\":\"\",\"zerolinecolor\":\"white\"},\"zaxis\":{\"backgroundcolor\":\"#E5ECF6\",\"gridcolor\":\"white\",\"gridwidth\":2,\"linecolor\":\"white\",\"showbackground\":true,\"ticks\":\"\",\"zerolinecolor\":\"white\"}},\"shapedefaults\":{\"line\":{\"color\":\"#2a3f5f\"}},\"ternary\":{\"aaxis\":{\"gridcolor\":\"white\",\"linecolor\":\"white\",\"ticks\":\"\"},\"baxis\":{\"gridcolor\":\"white\",\"linecolor\":\"white\",\"ticks\":\"\"},\"bgcolor\":\"#E5ECF6\",\"caxis\":{\"gridcolor\":\"white\",\"linecolor\":\"white\",\"ticks\":\"\"}},\"title\":{\"x\":0.05},\"xaxis\":{\"automargin\":true,\"gridcolor\":\"white\",\"linecolor\":\"white\",\"ticks\":\"\",\"title\":{\"standoff\":15},\"zerolinecolor\":\"white\",\"zerolinewidth\":2},\"yaxis\":{\"automargin\":true,\"gridcolor\":\"white\",\"linecolor\":\"white\",\"ticks\":\"\",\"title\":{\"standoff\":15},\"zerolinecolor\":\"white\",\"zerolinewidth\":2}}},\"xaxis\":{\"anchor\":\"y\",\"domain\":[0.0,1.0],\"title\":{\"text\":\"Year\"}},\"yaxis\":{\"anchor\":\"x\",\"domain\":[0.0,1.0],\"title\":{\"text\":\"Count\"}}},                        {\"responsive\": true}                    ).then(function(){\n",
              "                            \n",
              "var gd = document.getElementById('b88fea53-8dad-45bd-ae9c-0fd31f89a42a');\n",
              "var x = new MutationObserver(function (mutations, observer) {{\n",
              "        var display = window.getComputedStyle(gd).display;\n",
              "        if (!display || display === 'none') {{\n",
              "            console.log([gd, 'removed!']);\n",
              "            Plotly.purge(gd);\n",
              "            observer.disconnect();\n",
              "        }}\n",
              "}});\n",
              "\n",
              "// Listen for the removal of the full notebook cells\n",
              "var notebookContainer = gd.closest('#notebook-container');\n",
              "if (notebookContainer) {{\n",
              "    x.observe(notebookContainer, {childList: true});\n",
              "}}\n",
              "\n",
              "// Listen for the clearing of the current output cell\n",
              "var outputEl = gd.closest('.output');\n",
              "if (outputEl) {{\n",
              "    x.observe(outputEl, {childList: true});\n",
              "}}\n",
              "\n",
              "                        })                };                });            </script>        </div>"
            ]
          },
          "metadata": {},
          "output_type": "display_data"
        }
      ],
      "source": [
        "fig = px.line(relative_births, y = \"Count\")\n",
        "fig.update_layout(font_size = 15)"
      ]
    },
    {
      "cell_type": "markdown",
      "metadata": {
        "id": "D5TfSKJieUG3"
      },
      "source": [
        "#### groupby Puzzle #4"
      ]
    },
    {
      "cell_type": "code",
      "execution_count": null,
      "metadata": {
        "id": "K4iRbh6yeUG4",
        "outputId": "3e56a4b8-27d5-4919-b969-47761e293acb"
      },
      "outputs": [
        {
          "data": {
            "text/html": [
              "<div>\n",
              "<style scoped>\n",
              "    .dataframe tbody tr th:only-of-type {\n",
              "        vertical-align: middle;\n",
              "    }\n",
              "\n",
              "    .dataframe tbody tr th {\n",
              "        vertical-align: top;\n",
              "    }\n",
              "\n",
              "    .dataframe thead th {\n",
              "        text-align: right;\n",
              "    }\n",
              "</style>\n",
              "<table border=\"1\" class=\"dataframe\">\n",
              "  <thead>\n",
              "    <tr style=\"text-align: right;\">\n",
              "      <th></th>\n",
              "      <th>Year</th>\n",
              "      <th>Candidate</th>\n",
              "      <th>Party</th>\n",
              "      <th>Popular vote</th>\n",
              "      <th>Result</th>\n",
              "      <th>%</th>\n",
              "    </tr>\n",
              "  </thead>\n",
              "  <tbody>\n",
              "    <tr>\n",
              "      <th>98</th>\n",
              "      <td>1944</td>\n",
              "      <td>Thomas E. Dewey</td>\n",
              "      <td>Republican</td>\n",
              "      <td>22017929</td>\n",
              "      <td>loss</td>\n",
              "      <td>46.226199</td>\n",
              "    </tr>\n",
              "    <tr>\n",
              "      <th>34</th>\n",
              "      <td>1876</td>\n",
              "      <td>Samuel J. Tilden</td>\n",
              "      <td>Democratic</td>\n",
              "      <td>4288546</td>\n",
              "      <td>loss</td>\n",
              "      <td>51.528376</td>\n",
              "    </tr>\n",
              "    <tr>\n",
              "      <th>42</th>\n",
              "      <td>1888</td>\n",
              "      <td>Alson Streeter</td>\n",
              "      <td>Union Labor</td>\n",
              "      <td>146602</td>\n",
              "      <td>loss</td>\n",
              "      <td>1.288861</td>\n",
              "    </tr>\n",
              "    <tr>\n",
              "      <th>70</th>\n",
              "      <td>1912</td>\n",
              "      <td>Woodrow Wilson</td>\n",
              "      <td>Democratic</td>\n",
              "      <td>6296284</td>\n",
              "      <td>win</td>\n",
              "      <td>41.933422</td>\n",
              "    </tr>\n",
              "    <tr>\n",
              "      <th>113</th>\n",
              "      <td>1964</td>\n",
              "      <td>Barry Goldwater</td>\n",
              "      <td>Republican</td>\n",
              "      <td>27175754</td>\n",
              "      <td>loss</td>\n",
              "      <td>38.655297</td>\n",
              "    </tr>\n",
              "  </tbody>\n",
              "</table>\n",
              "</div>"
            ],
            "text/plain": [
              "     Year         Candidate        Party  Popular vote Result          %\n",
              "98   1944   Thomas E. Dewey   Republican      22017929   loss  46.226199\n",
              "34   1876  Samuel J. Tilden   Democratic       4288546   loss  51.528376\n",
              "42   1888    Alson Streeter  Union Labor        146602   loss   1.288861\n",
              "70   1912    Woodrow Wilson   Democratic       6296284    win  41.933422\n",
              "113  1964   Barry Goldwater   Republican      27175754   loss  38.655297"
            ]
          },
          "execution_count": 64,
          "metadata": {},
          "output_type": "execute_result"
        }
      ],
      "source": [
        "elections = pd.read_csv(\"elections.csv\")\n",
        "elections.sample(5)"
      ]
    },
    {
      "cell_type": "markdown",
      "metadata": {
        "id": "_qLShXTeeUG4"
      },
      "source": [
        "We have to be careful when using aggregation functions. For example, the code below might be misinterpreted to say that Woodrow Wilson successfully ran for election in 2020. Why is this happening?"
      ]
    },
    {
      "cell_type": "code",
      "execution_count": null,
      "metadata": {
        "id": "NZJRsGzEeUG4",
        "outputId": "054d032d-be2b-418a-9e42-0043f1efe445"
      },
      "outputs": [
        {
          "data": {
            "text/html": [
              "<div>\n",
              "<style scoped>\n",
              "    .dataframe tbody tr th:only-of-type {\n",
              "        vertical-align: middle;\n",
              "    }\n",
              "\n",
              "    .dataframe tbody tr th {\n",
              "        vertical-align: top;\n",
              "    }\n",
              "\n",
              "    .dataframe thead th {\n",
              "        text-align: right;\n",
              "    }\n",
              "</style>\n",
              "<table border=\"1\" class=\"dataframe\">\n",
              "  <thead>\n",
              "    <tr style=\"text-align: right;\">\n",
              "      <th></th>\n",
              "      <th>Year</th>\n",
              "      <th>Candidate</th>\n",
              "      <th>Popular vote</th>\n",
              "      <th>Result</th>\n",
              "      <th>%</th>\n",
              "    </tr>\n",
              "    <tr>\n",
              "      <th>Party</th>\n",
              "      <th></th>\n",
              "      <th></th>\n",
              "      <th></th>\n",
              "      <th></th>\n",
              "      <th></th>\n",
              "    </tr>\n",
              "  </thead>\n",
              "  <tbody>\n",
              "    <tr>\n",
              "      <th>American</th>\n",
              "      <td>1976</td>\n",
              "      <td>Thomas J. Anderson</td>\n",
              "      <td>873053</td>\n",
              "      <td>loss</td>\n",
              "      <td>21.554001</td>\n",
              "    </tr>\n",
              "    <tr>\n",
              "      <th>American Independent</th>\n",
              "      <td>1976</td>\n",
              "      <td>Lester Maddox</td>\n",
              "      <td>9901118</td>\n",
              "      <td>loss</td>\n",
              "      <td>13.571218</td>\n",
              "    </tr>\n",
              "    <tr>\n",
              "      <th>Anti-Masonic</th>\n",
              "      <td>1832</td>\n",
              "      <td>William Wirt</td>\n",
              "      <td>100715</td>\n",
              "      <td>loss</td>\n",
              "      <td>7.821583</td>\n",
              "    </tr>\n",
              "    <tr>\n",
              "      <th>Anti-Monopoly</th>\n",
              "      <td>1884</td>\n",
              "      <td>Benjamin Butler</td>\n",
              "      <td>134294</td>\n",
              "      <td>loss</td>\n",
              "      <td>1.335838</td>\n",
              "    </tr>\n",
              "    <tr>\n",
              "      <th>Citizens</th>\n",
              "      <td>1980</td>\n",
              "      <td>Barry Commoner</td>\n",
              "      <td>233052</td>\n",
              "      <td>loss</td>\n",
              "      <td>0.270182</td>\n",
              "    </tr>\n",
              "    <tr>\n",
              "      <th>Communist</th>\n",
              "      <td>1932</td>\n",
              "      <td>William Z. Foster</td>\n",
              "      <td>103307</td>\n",
              "      <td>loss</td>\n",
              "      <td>0.261069</td>\n",
              "    </tr>\n",
              "    <tr>\n",
              "      <th>Constitution</th>\n",
              "      <td>2016</td>\n",
              "      <td>Michael Peroutka</td>\n",
              "      <td>203091</td>\n",
              "      <td>loss</td>\n",
              "      <td>0.152398</td>\n",
              "    </tr>\n",
              "    <tr>\n",
              "      <th>Constitutional Union</th>\n",
              "      <td>1860</td>\n",
              "      <td>John Bell</td>\n",
              "      <td>590901</td>\n",
              "      <td>loss</td>\n",
              "      <td>12.639283</td>\n",
              "    </tr>\n",
              "    <tr>\n",
              "      <th>Democratic</th>\n",
              "      <td>2020</td>\n",
              "      <td>Woodrow Wilson</td>\n",
              "      <td>81268924</td>\n",
              "      <td>win</td>\n",
              "      <td>61.344703</td>\n",
              "    </tr>\n",
              "    <tr>\n",
              "      <th>Democratic-Republican</th>\n",
              "      <td>1824</td>\n",
              "      <td>John Quincy Adams</td>\n",
              "      <td>151271</td>\n",
              "      <td>win</td>\n",
              "      <td>57.210122</td>\n",
              "    </tr>\n",
              "  </tbody>\n",
              "</table>\n",
              "</div>"
            ],
            "text/plain": [
              "                       Year           Candidate  Popular vote Result  \\\n",
              "Party                                                                  \n",
              "American               1976  Thomas J. Anderson        873053   loss   \n",
              "American Independent   1976       Lester Maddox       9901118   loss   \n",
              "Anti-Masonic           1832        William Wirt        100715   loss   \n",
              "Anti-Monopoly          1884     Benjamin Butler        134294   loss   \n",
              "Citizens               1980      Barry Commoner        233052   loss   \n",
              "Communist              1932   William Z. Foster        103307   loss   \n",
              "Constitution           2016    Michael Peroutka        203091   loss   \n",
              "Constitutional Union   1860           John Bell        590901   loss   \n",
              "Democratic             2020      Woodrow Wilson      81268924    win   \n",
              "Democratic-Republican  1824   John Quincy Adams        151271    win   \n",
              "\n",
              "                               %  \n",
              "Party                             \n",
              "American               21.554001  \n",
              "American Independent   13.571218  \n",
              "Anti-Masonic            7.821583  \n",
              "Anti-Monopoly           1.335838  \n",
              "Citizens                0.270182  \n",
              "Communist               0.261069  \n",
              "Constitution            0.152398  \n",
              "Constitutional Union   12.639283  \n",
              "Democratic             61.344703  \n",
              "Democratic-Republican  57.210122  "
            ]
          },
          "execution_count": 33,
          "metadata": {},
          "output_type": "execute_result"
        }
      ],
      "source": [
        "elections.groupby(\"Party\").agg(max).head(10)"
      ]
    },
    {
      "cell_type": "markdown",
      "metadata": {
        "id": "Taa4TCKseUG4"
      },
      "source": [
        "### Quick Subpuzzle"
      ]
    },
    {
      "cell_type": "markdown",
      "metadata": {
        "id": "NK0HBJFTeUG5"
      },
      "source": [
        "Inspired by above, try to predict the results of the groupby operation shown. The answer is below the image."
      ]
    },
    {
      "cell_type": "markdown",
      "metadata": {
        "id": "EG-GsFAceUG5"
      },
      "source": [
        "![groupby_puzzle.png](attachment:groupby_puzzle.png)"
      ]
    },
    {
      "cell_type": "markdown",
      "metadata": {
        "id": "3SMwKyEOeUG5"
      },
      "source": [
        "The top ?? will be \"hi\", the second ?? will be \"tx\", and the third ?? will be \"sd\". "
      ]
    },
    {
      "cell_type": "code",
      "execution_count": null,
      "metadata": {
        "id": "RP_-0VRAeUG5",
        "outputId": "854946df-23e3-490f-a665-e04994de9651"
      },
      "outputs": [
        {
          "data": {
            "text/html": [
              "<div>\n",
              "<style scoped>\n",
              "    .dataframe tbody tr th:only-of-type {\n",
              "        vertical-align: middle;\n",
              "    }\n",
              "\n",
              "    .dataframe tbody tr th {\n",
              "        vertical-align: top;\n",
              "    }\n",
              "\n",
              "    .dataframe thead th {\n",
              "        text-align: right;\n",
              "    }\n",
              "</style>\n",
              "<table border=\"1\" class=\"dataframe\">\n",
              "  <thead>\n",
              "    <tr style=\"text-align: right;\">\n",
              "      <th></th>\n",
              "      <th>x</th>\n",
              "      <th>y</th>\n",
              "    </tr>\n",
              "  </thead>\n",
              "  <tbody>\n",
              "    <tr>\n",
              "      <th>A</th>\n",
              "      <td>3</td>\n",
              "      <td>ak</td>\n",
              "    </tr>\n",
              "    <tr>\n",
              "      <th>B</th>\n",
              "      <td>1</td>\n",
              "      <td>tx</td>\n",
              "    </tr>\n",
              "    <tr>\n",
              "      <th>C</th>\n",
              "      <td>4</td>\n",
              "      <td>fl</td>\n",
              "    </tr>\n",
              "    <tr>\n",
              "      <th>A</th>\n",
              "      <td>1</td>\n",
              "      <td>hi</td>\n",
              "    </tr>\n",
              "    <tr>\n",
              "      <th>B</th>\n",
              "      <td>5</td>\n",
              "      <td>mi</td>\n",
              "    </tr>\n",
              "    <tr>\n",
              "      <th>C</th>\n",
              "      <td>9</td>\n",
              "      <td>ak</td>\n",
              "    </tr>\n",
              "    <tr>\n",
              "      <th>A</th>\n",
              "      <td>2</td>\n",
              "      <td>ca</td>\n",
              "    </tr>\n",
              "    <tr>\n",
              "      <th>C</th>\n",
              "      <td>5</td>\n",
              "      <td>sd</td>\n",
              "    </tr>\n",
              "    <tr>\n",
              "      <th>B</th>\n",
              "      <td>6</td>\n",
              "      <td>nc</td>\n",
              "    </tr>\n",
              "  </tbody>\n",
              "</table>\n",
              "</div>"
            ],
            "text/plain": [
              "   x   y\n",
              "A  3  ak\n",
              "B  1  tx\n",
              "C  4  fl\n",
              "A  1  hi\n",
              "B  5  mi\n",
              "C  9  ak\n",
              "A  2  ca\n",
              "C  5  sd\n",
              "B  6  nc"
            ]
          },
          "execution_count": 34,
          "metadata": {},
          "output_type": "execute_result"
        }
      ],
      "source": [
        "ds = pd.DataFrame(dict(x=[3,1,4,1,5,9,2,5,6], \n",
        "                      y=['ak', 'tx', 'fl', 'hi', 'mi', 'ak', 'ca', 'sd', 'nc']), \n",
        "                      index=list('ABCABCACB') )\n",
        "ds"
      ]
    },
    {
      "cell_type": "code",
      "execution_count": null,
      "metadata": {
        "id": "ctl-2IS4eUG5",
        "outputId": "5dccbe04-dc87-4868-9319-9bfb5de59c22"
      },
      "outputs": [
        {
          "data": {
            "text/html": [
              "<div>\n",
              "<style scoped>\n",
              "    .dataframe tbody tr th:only-of-type {\n",
              "        vertical-align: middle;\n",
              "    }\n",
              "\n",
              "    .dataframe tbody tr th {\n",
              "        vertical-align: top;\n",
              "    }\n",
              "\n",
              "    .dataframe thead th {\n",
              "        text-align: right;\n",
              "    }\n",
              "</style>\n",
              "<table border=\"1\" class=\"dataframe\">\n",
              "  <thead>\n",
              "    <tr style=\"text-align: right;\">\n",
              "      <th></th>\n",
              "      <th>x</th>\n",
              "      <th>y</th>\n",
              "    </tr>\n",
              "  </thead>\n",
              "  <tbody>\n",
              "    <tr>\n",
              "      <th>A</th>\n",
              "      <td>3</td>\n",
              "      <td>hi</td>\n",
              "    </tr>\n",
              "    <tr>\n",
              "      <th>B</th>\n",
              "      <td>6</td>\n",
              "      <td>tx</td>\n",
              "    </tr>\n",
              "    <tr>\n",
              "      <th>C</th>\n",
              "      <td>9</td>\n",
              "      <td>sd</td>\n",
              "    </tr>\n",
              "  </tbody>\n",
              "</table>\n",
              "</div>"
            ],
            "text/plain": [
              "   x   y\n",
              "A  3  hi\n",
              "B  6  tx\n",
              "C  9  sd"
            ]
          },
          "execution_count": 35,
          "metadata": {},
          "output_type": "execute_result"
        }
      ],
      "source": [
        "ds.groupby(ds.index).agg(max)"
      ]
    },
    {
      "cell_type": "markdown",
      "metadata": {
        "id": "Z2f1Ue8teUG7"
      },
      "source": [
        "### Completing groupby puzzle #4"
      ]
    },
    {
      "cell_type": "markdown",
      "metadata": {
        "id": "ugGJmDOkeUG7"
      },
      "source": [
        "Next we'll write code that properly returns _the best result by each party_. That is, each row should show the Year, Candidate, Popular Vote, Result, and % for the election in which that party saw its best results (rather than mixing them as in the example above), here's what the first rows of the correct output should look like:\n",
        "\n",
        "![parties.png](attachment:ab21f8de-ad29-46c2-bea7-e9aea9c40e3e.png)"
      ]
    },
    {
      "cell_type": "code",
      "execution_count": null,
      "metadata": {
        "id": "AGWbnEK1eUG7",
        "outputId": "ad7552ee-6446-41e9-81ec-90720dec37f0"
      },
      "outputs": [
        {
          "data": {
            "text/html": [
              "<div>\n",
              "<style scoped>\n",
              "    .dataframe tbody tr th:only-of-type {\n",
              "        vertical-align: middle;\n",
              "    }\n",
              "\n",
              "    .dataframe tbody tr th {\n",
              "        vertical-align: top;\n",
              "    }\n",
              "\n",
              "    .dataframe thead th {\n",
              "        text-align: right;\n",
              "    }\n",
              "</style>\n",
              "<table border=\"1\" class=\"dataframe\">\n",
              "  <thead>\n",
              "    <tr style=\"text-align: right;\">\n",
              "      <th></th>\n",
              "      <th>Year</th>\n",
              "      <th>Candidate</th>\n",
              "      <th>Party</th>\n",
              "      <th>Popular vote</th>\n",
              "      <th>Result</th>\n",
              "      <th>%</th>\n",
              "    </tr>\n",
              "  </thead>\n",
              "  <tbody>\n",
              "    <tr>\n",
              "      <th>114</th>\n",
              "      <td>1964</td>\n",
              "      <td>Lyndon Johnson</td>\n",
              "      <td>Democratic</td>\n",
              "      <td>43127041</td>\n",
              "      <td>win</td>\n",
              "      <td>61.344703</td>\n",
              "    </tr>\n",
              "    <tr>\n",
              "      <th>91</th>\n",
              "      <td>1936</td>\n",
              "      <td>Franklin Roosevelt</td>\n",
              "      <td>Democratic</td>\n",
              "      <td>27752648</td>\n",
              "      <td>win</td>\n",
              "      <td>60.978107</td>\n",
              "    </tr>\n",
              "    <tr>\n",
              "      <th>120</th>\n",
              "      <td>1972</td>\n",
              "      <td>Richard Nixon</td>\n",
              "      <td>Republican</td>\n",
              "      <td>47168710</td>\n",
              "      <td>win</td>\n",
              "      <td>60.907806</td>\n",
              "    </tr>\n",
              "    <tr>\n",
              "      <th>79</th>\n",
              "      <td>1920</td>\n",
              "      <td>Warren Harding</td>\n",
              "      <td>Republican</td>\n",
              "      <td>16144093</td>\n",
              "      <td>win</td>\n",
              "      <td>60.574501</td>\n",
              "    </tr>\n",
              "    <tr>\n",
              "      <th>133</th>\n",
              "      <td>1984</td>\n",
              "      <td>Ronald Reagan</td>\n",
              "      <td>Republican</td>\n",
              "      <td>54455472</td>\n",
              "      <td>win</td>\n",
              "      <td>59.023326</td>\n",
              "    </tr>\n",
              "  </tbody>\n",
              "</table>\n",
              "</div>"
            ],
            "text/plain": [
              "     Year           Candidate       Party  Popular vote Result          %\n",
              "114  1964      Lyndon Johnson  Democratic      43127041    win  61.344703\n",
              "91   1936  Franklin Roosevelt  Democratic      27752648    win  60.978107\n",
              "120  1972       Richard Nixon  Republican      47168710    win  60.907806\n",
              "79   1920      Warren Harding  Republican      16144093    win  60.574501\n",
              "133  1984       Ronald Reagan  Republican      54455472    win  59.023326"
            ]
          },
          "execution_count": 36,
          "metadata": {},
          "output_type": "execute_result"
        }
      ],
      "source": [
        "elections_sorted_by_percent = elections.sort_values(\"%\", ascending=False)\n",
        "elections_sorted_by_percent.head(5)"
      ]
    },
    {
      "cell_type": "code",
      "execution_count": null,
      "metadata": {
        "id": "T_nnVUQAeUG8",
        "outputId": "56971ec1-eeb2-48a2-a75d-34d82ee8f166"
      },
      "outputs": [
        {
          "data": {
            "text/html": [
              "<div>\n",
              "<style scoped>\n",
              "    .dataframe tbody tr th:only-of-type {\n",
              "        vertical-align: middle;\n",
              "    }\n",
              "\n",
              "    .dataframe tbody tr th {\n",
              "        vertical-align: top;\n",
              "    }\n",
              "\n",
              "    .dataframe thead th {\n",
              "        text-align: right;\n",
              "    }\n",
              "</style>\n",
              "<table border=\"1\" class=\"dataframe\">\n",
              "  <thead>\n",
              "    <tr style=\"text-align: right;\">\n",
              "      <th></th>\n",
              "      <th>Year</th>\n",
              "      <th>Candidate</th>\n",
              "      <th>Popular vote</th>\n",
              "      <th>Result</th>\n",
              "      <th>%</th>\n",
              "    </tr>\n",
              "    <tr>\n",
              "      <th>Party</th>\n",
              "      <th></th>\n",
              "      <th></th>\n",
              "      <th></th>\n",
              "      <th></th>\n",
              "      <th></th>\n",
              "    </tr>\n",
              "  </thead>\n",
              "  <tbody>\n",
              "    <tr>\n",
              "      <th>American</th>\n",
              "      <td>1856</td>\n",
              "      <td>Millard Fillmore</td>\n",
              "      <td>873053</td>\n",
              "      <td>loss</td>\n",
              "      <td>21.554001</td>\n",
              "    </tr>\n",
              "    <tr>\n",
              "      <th>American Independent</th>\n",
              "      <td>1968</td>\n",
              "      <td>George Wallace</td>\n",
              "      <td>9901118</td>\n",
              "      <td>loss</td>\n",
              "      <td>13.571218</td>\n",
              "    </tr>\n",
              "    <tr>\n",
              "      <th>Anti-Masonic</th>\n",
              "      <td>1832</td>\n",
              "      <td>William Wirt</td>\n",
              "      <td>100715</td>\n",
              "      <td>loss</td>\n",
              "      <td>7.821583</td>\n",
              "    </tr>\n",
              "    <tr>\n",
              "      <th>Anti-Monopoly</th>\n",
              "      <td>1884</td>\n",
              "      <td>Benjamin Butler</td>\n",
              "      <td>134294</td>\n",
              "      <td>loss</td>\n",
              "      <td>1.335838</td>\n",
              "    </tr>\n",
              "    <tr>\n",
              "      <th>Citizens</th>\n",
              "      <td>1980</td>\n",
              "      <td>Barry Commoner</td>\n",
              "      <td>233052</td>\n",
              "      <td>loss</td>\n",
              "      <td>0.270182</td>\n",
              "    </tr>\n",
              "    <tr>\n",
              "      <th>Communist</th>\n",
              "      <td>1932</td>\n",
              "      <td>William Z. Foster</td>\n",
              "      <td>103307</td>\n",
              "      <td>loss</td>\n",
              "      <td>0.261069</td>\n",
              "    </tr>\n",
              "    <tr>\n",
              "      <th>Constitution</th>\n",
              "      <td>2008</td>\n",
              "      <td>Chuck Baldwin</td>\n",
              "      <td>199750</td>\n",
              "      <td>loss</td>\n",
              "      <td>0.152398</td>\n",
              "    </tr>\n",
              "    <tr>\n",
              "      <th>Constitutional Union</th>\n",
              "      <td>1860</td>\n",
              "      <td>John Bell</td>\n",
              "      <td>590901</td>\n",
              "      <td>loss</td>\n",
              "      <td>12.639283</td>\n",
              "    </tr>\n",
              "    <tr>\n",
              "      <th>Democratic</th>\n",
              "      <td>1964</td>\n",
              "      <td>Lyndon Johnson</td>\n",
              "      <td>43127041</td>\n",
              "      <td>win</td>\n",
              "      <td>61.344703</td>\n",
              "    </tr>\n",
              "  </tbody>\n",
              "</table>\n",
              "</div>"
            ],
            "text/plain": [
              "                      Year          Candidate  Popular vote Result          %\n",
              "Party                                                                        \n",
              "American              1856   Millard Fillmore        873053   loss  21.554001\n",
              "American Independent  1968     George Wallace       9901118   loss  13.571218\n",
              "Anti-Masonic          1832       William Wirt        100715   loss   7.821583\n",
              "Anti-Monopoly         1884    Benjamin Butler        134294   loss   1.335838\n",
              "Citizens              1980     Barry Commoner        233052   loss   0.270182\n",
              "Communist             1932  William Z. Foster        103307   loss   0.261069\n",
              "Constitution          2008      Chuck Baldwin        199750   loss   0.152398\n",
              "Constitutional Union  1860          John Bell        590901   loss  12.639283\n",
              "Democratic            1964     Lyndon Johnson      43127041    win  61.344703"
            ]
          },
          "execution_count": 37,
          "metadata": {},
          "output_type": "execute_result"
        }
      ],
      "source": [
        "elections_sorted_by_percent = elections.sort_values(\"%\", ascending=False)\n",
        "elections_sorted_by_percent.groupby(\"Party\").agg(lambda x : x.iloc[0]).head(9)"
      ]
    },
    {
      "cell_type": "markdown",
      "metadata": {
        "id": "IMTQf8OqeUG9"
      },
      "source": []
    },
    {
      "cell_type": "code",
      "execution_count": null,
      "metadata": {
        "id": "Zn2nHc56eUG9",
        "outputId": "9a72c0e2-0952-4882-c2e4-7f3527afc1ea"
      },
      "outputs": [
        {
          "data": {
            "text/html": [
              "<div>\n",
              "<style scoped>\n",
              "    .dataframe tbody tr th:only-of-type {\n",
              "        vertical-align: middle;\n",
              "    }\n",
              "\n",
              "    .dataframe tbody tr th {\n",
              "        vertical-align: top;\n",
              "    }\n",
              "\n",
              "    .dataframe thead th {\n",
              "        text-align: right;\n",
              "    }\n",
              "</style>\n",
              "<table border=\"1\" class=\"dataframe\">\n",
              "  <thead>\n",
              "    <tr style=\"text-align: right;\">\n",
              "      <th></th>\n",
              "      <th>Year</th>\n",
              "      <th>Candidate</th>\n",
              "      <th>Popular vote</th>\n",
              "      <th>Result</th>\n",
              "      <th>%</th>\n",
              "    </tr>\n",
              "    <tr>\n",
              "      <th>Party</th>\n",
              "      <th></th>\n",
              "      <th></th>\n",
              "      <th></th>\n",
              "      <th></th>\n",
              "      <th></th>\n",
              "    </tr>\n",
              "  </thead>\n",
              "  <tbody>\n",
              "    <tr>\n",
              "      <th>American</th>\n",
              "      <td>1856</td>\n",
              "      <td>Millard Fillmore</td>\n",
              "      <td>873053</td>\n",
              "      <td>loss</td>\n",
              "      <td>21.554001</td>\n",
              "    </tr>\n",
              "    <tr>\n",
              "      <th>American Independent</th>\n",
              "      <td>1968</td>\n",
              "      <td>George Wallace</td>\n",
              "      <td>9901118</td>\n",
              "      <td>loss</td>\n",
              "      <td>13.571218</td>\n",
              "    </tr>\n",
              "    <tr>\n",
              "      <th>Anti-Masonic</th>\n",
              "      <td>1832</td>\n",
              "      <td>William Wirt</td>\n",
              "      <td>100715</td>\n",
              "      <td>loss</td>\n",
              "      <td>7.821583</td>\n",
              "    </tr>\n",
              "    <tr>\n",
              "      <th>Anti-Monopoly</th>\n",
              "      <td>1884</td>\n",
              "      <td>Benjamin Butler</td>\n",
              "      <td>134294</td>\n",
              "      <td>loss</td>\n",
              "      <td>1.335838</td>\n",
              "    </tr>\n",
              "    <tr>\n",
              "      <th>Citizens</th>\n",
              "      <td>1980</td>\n",
              "      <td>Barry Commoner</td>\n",
              "      <td>233052</td>\n",
              "      <td>loss</td>\n",
              "      <td>0.270182</td>\n",
              "    </tr>\n",
              "    <tr>\n",
              "      <th>Communist</th>\n",
              "      <td>1932</td>\n",
              "      <td>William Z. Foster</td>\n",
              "      <td>103307</td>\n",
              "      <td>loss</td>\n",
              "      <td>0.261069</td>\n",
              "    </tr>\n",
              "    <tr>\n",
              "      <th>Constitution</th>\n",
              "      <td>2008</td>\n",
              "      <td>Chuck Baldwin</td>\n",
              "      <td>199750</td>\n",
              "      <td>loss</td>\n",
              "      <td>0.152398</td>\n",
              "    </tr>\n",
              "    <tr>\n",
              "      <th>Constitutional Union</th>\n",
              "      <td>1860</td>\n",
              "      <td>John Bell</td>\n",
              "      <td>590901</td>\n",
              "      <td>loss</td>\n",
              "      <td>12.639283</td>\n",
              "    </tr>\n",
              "    <tr>\n",
              "      <th>Democratic</th>\n",
              "      <td>1964</td>\n",
              "      <td>Lyndon Johnson</td>\n",
              "      <td>43127041</td>\n",
              "      <td>win</td>\n",
              "      <td>61.344703</td>\n",
              "    </tr>\n",
              "  </tbody>\n",
              "</table>\n",
              "</div>"
            ],
            "text/plain": [
              "                      Year          Candidate  Popular vote Result          %\n",
              "Party                                                                        \n",
              "American              1856   Millard Fillmore        873053   loss  21.554001\n",
              "American Independent  1968     George Wallace       9901118   loss  13.571218\n",
              "Anti-Masonic          1832       William Wirt        100715   loss   7.821583\n",
              "Anti-Monopoly         1884    Benjamin Butler        134294   loss   1.335838\n",
              "Citizens              1980     Barry Commoner        233052   loss   0.270182\n",
              "Communist             1932  William Z. Foster        103307   loss   0.261069\n",
              "Constitution          2008      Chuck Baldwin        199750   loss   0.152398\n",
              "Constitutional Union  1860          John Bell        590901   loss  12.639283\n",
              "Democratic            1964     Lyndon Johnson      43127041    win  61.344703"
            ]
          },
          "execution_count": 38,
          "metadata": {},
          "output_type": "execute_result"
        }
      ],
      "source": [
        "elections_sorted_by_percent = elections.sort_values(\"%\", ascending=False)\n",
        "elections_sorted_by_percent.groupby(\"Party\").agg(lambda x : x.iloc[0]).head(9)"
      ]
    },
    {
      "cell_type": "markdown",
      "metadata": {
        "id": "sBnxCbPQeUG9"
      },
      "source": [
        "You'll soon discover that with Pandas' rich tool set, there's typically more than one way to get to the same answer. Each approach has different tradeoffs in terms of readability, performance, memory consumption, complexity and more.  It will take some experience for you to develop a sense of which approach is better for each problem, but you should in general try to think if you can at least envision a different solution to a given problem, especially if you find your current solution to be particularly convoluted or hard to read.\n",
        "\n",
        "Here's a couple of other ways of obtaining the same result (in each case we only show the top part with `head()`).  The first approach uses `groupby` but finds the location of the maximum value via the `idxmax()` method (look up its documentation!).  We then index and sort by party to match the requested formatting:"
      ]
    },
    {
      "cell_type": "code",
      "execution_count": null,
      "metadata": {
        "id": "iAXVtzxSeUG-",
        "outputId": "adfff298-1138-4999-c2f8-703cca80e8d0"
      },
      "outputs": [
        {
          "data": {
            "text/html": [
              "<div>\n",
              "<style scoped>\n",
              "    .dataframe tbody tr th:only-of-type {\n",
              "        vertical-align: middle;\n",
              "    }\n",
              "\n",
              "    .dataframe tbody tr th {\n",
              "        vertical-align: top;\n",
              "    }\n",
              "\n",
              "    .dataframe thead th {\n",
              "        text-align: right;\n",
              "    }\n",
              "</style>\n",
              "<table border=\"1\" class=\"dataframe\">\n",
              "  <thead>\n",
              "    <tr style=\"text-align: right;\">\n",
              "      <th></th>\n",
              "      <th>Year</th>\n",
              "      <th>Candidate</th>\n",
              "      <th>Party</th>\n",
              "      <th>Popular vote</th>\n",
              "      <th>Result</th>\n",
              "      <th>%</th>\n",
              "    </tr>\n",
              "  </thead>\n",
              "  <tbody>\n",
              "    <tr>\n",
              "      <th>0</th>\n",
              "      <td>1824</td>\n",
              "      <td>Andrew Jackson</td>\n",
              "      <td>Democratic-Republican</td>\n",
              "      <td>151271</td>\n",
              "      <td>loss</td>\n",
              "      <td>57.210122</td>\n",
              "    </tr>\n",
              "    <tr>\n",
              "      <th>1</th>\n",
              "      <td>1824</td>\n",
              "      <td>John Quincy Adams</td>\n",
              "      <td>Democratic-Republican</td>\n",
              "      <td>113142</td>\n",
              "      <td>win</td>\n",
              "      <td>42.789878</td>\n",
              "    </tr>\n",
              "    <tr>\n",
              "      <th>2</th>\n",
              "      <td>1828</td>\n",
              "      <td>Andrew Jackson</td>\n",
              "      <td>Democratic</td>\n",
              "      <td>642806</td>\n",
              "      <td>win</td>\n",
              "      <td>56.203927</td>\n",
              "    </tr>\n",
              "    <tr>\n",
              "      <th>3</th>\n",
              "      <td>1828</td>\n",
              "      <td>John Quincy Adams</td>\n",
              "      <td>National Republican</td>\n",
              "      <td>500897</td>\n",
              "      <td>loss</td>\n",
              "      <td>43.796073</td>\n",
              "    </tr>\n",
              "    <tr>\n",
              "      <th>4</th>\n",
              "      <td>1832</td>\n",
              "      <td>Andrew Jackson</td>\n",
              "      <td>Democratic</td>\n",
              "      <td>702735</td>\n",
              "      <td>win</td>\n",
              "      <td>54.574789</td>\n",
              "    </tr>\n",
              "  </tbody>\n",
              "</table>\n",
              "</div>"
            ],
            "text/plain": [
              "   Year          Candidate                  Party  Popular vote Result  \\\n",
              "0  1824     Andrew Jackson  Democratic-Republican        151271   loss   \n",
              "1  1824  John Quincy Adams  Democratic-Republican        113142    win   \n",
              "2  1828     Andrew Jackson             Democratic        642806    win   \n",
              "3  1828  John Quincy Adams    National Republican        500897   loss   \n",
              "4  1832     Andrew Jackson             Democratic        702735    win   \n",
              "\n",
              "           %  \n",
              "0  57.210122  \n",
              "1  42.789878  \n",
              "2  56.203927  \n",
              "3  43.796073  \n",
              "4  54.574789  "
            ]
          },
          "execution_count": 39,
          "metadata": {},
          "output_type": "execute_result"
        }
      ],
      "source": [
        "elections.head()"
      ]
    },
    {
      "cell_type": "code",
      "execution_count": null,
      "metadata": {
        "id": "ywNw79g2eUG-",
        "outputId": "c7b9179f-916c-4873-d575-3689ba28b0ef"
      },
      "outputs": [
        {
          "data": {
            "text/plain": [
              "Party\n",
              "American                  22\n",
              "American Independent     115\n",
              "Anti-Masonic               6\n",
              "Anti-Monopoly             38\n",
              "Citizens                 127\n",
              "Communist                 89\n",
              "Constitution             164\n",
              "Constitutional Union      24\n",
              "Democratic               114\n",
              "Democratic-Republican      0\n",
              "Dixiecrat                103\n",
              "Farmer–Labor              78\n",
              "Free Soil                 15\n",
              "Green                    155\n",
              "Greenback                 35\n",
              "Independent              143\n",
              "Liberal Republican        31\n",
              "Libertarian              175\n",
              "National Democratic       50\n",
              "National Republican        3\n",
              "National Union            27\n",
              "Natural Law              148\n",
              "New Alliance             136\n",
              "Northern Democratic       26\n",
              "Populist                  48\n",
              "Progressive               68\n",
              "Prohibition               49\n",
              "Reform                   150\n",
              "Republican               120\n",
              "Socialist                 66\n",
              "Southern Democratic       25\n",
              "States' Rights           110\n",
              "Taxpayers                147\n",
              "Union                     93\n",
              "Union Labor               42\n",
              "Whig                      11\n",
              "Name: %, dtype: int64"
            ]
          },
          "execution_count": 40,
          "metadata": {},
          "output_type": "execute_result"
        }
      ],
      "source": [
        "elections.groupby('Party')['%'].idxmax()"
      ]
    },
    {
      "cell_type": "code",
      "execution_count": null,
      "metadata": {
        "id": "8UfhmCHteUG-",
        "outputId": "ee5e9464-e4fe-49f1-9b8f-8dcabf3589e8"
      },
      "outputs": [
        {
          "data": {
            "text/html": [
              "<div>\n",
              "<style scoped>\n",
              "    .dataframe tbody tr th:only-of-type {\n",
              "        vertical-align: middle;\n",
              "    }\n",
              "\n",
              "    .dataframe tbody tr th {\n",
              "        vertical-align: top;\n",
              "    }\n",
              "\n",
              "    .dataframe thead th {\n",
              "        text-align: right;\n",
              "    }\n",
              "</style>\n",
              "<table border=\"1\" class=\"dataframe\">\n",
              "  <thead>\n",
              "    <tr style=\"text-align: right;\">\n",
              "      <th></th>\n",
              "      <th>Year</th>\n",
              "      <th>Candidate</th>\n",
              "      <th>Popular vote</th>\n",
              "      <th>Result</th>\n",
              "      <th>%</th>\n",
              "    </tr>\n",
              "    <tr>\n",
              "      <th>Party</th>\n",
              "      <th></th>\n",
              "      <th></th>\n",
              "      <th></th>\n",
              "      <th></th>\n",
              "      <th></th>\n",
              "    </tr>\n",
              "  </thead>\n",
              "  <tbody>\n",
              "    <tr>\n",
              "      <th>American</th>\n",
              "      <td>1856</td>\n",
              "      <td>Millard Fillmore</td>\n",
              "      <td>873053</td>\n",
              "      <td>loss</td>\n",
              "      <td>21.554001</td>\n",
              "    </tr>\n",
              "    <tr>\n",
              "      <th>American Independent</th>\n",
              "      <td>1968</td>\n",
              "      <td>George Wallace</td>\n",
              "      <td>9901118</td>\n",
              "      <td>loss</td>\n",
              "      <td>13.571218</td>\n",
              "    </tr>\n",
              "    <tr>\n",
              "      <th>Anti-Masonic</th>\n",
              "      <td>1832</td>\n",
              "      <td>William Wirt</td>\n",
              "      <td>100715</td>\n",
              "      <td>loss</td>\n",
              "      <td>7.821583</td>\n",
              "    </tr>\n",
              "    <tr>\n",
              "      <th>Anti-Monopoly</th>\n",
              "      <td>1884</td>\n",
              "      <td>Benjamin Butler</td>\n",
              "      <td>134294</td>\n",
              "      <td>loss</td>\n",
              "      <td>1.335838</td>\n",
              "    </tr>\n",
              "    <tr>\n",
              "      <th>Citizens</th>\n",
              "      <td>1980</td>\n",
              "      <td>Barry Commoner</td>\n",
              "      <td>233052</td>\n",
              "      <td>loss</td>\n",
              "      <td>0.270182</td>\n",
              "    </tr>\n",
              "  </tbody>\n",
              "</table>\n",
              "</div>"
            ],
            "text/plain": [
              "                      Year         Candidate  Popular vote Result          %\n",
              "Party                                                                       \n",
              "American              1856  Millard Fillmore        873053   loss  21.554001\n",
              "American Independent  1968    George Wallace       9901118   loss  13.571218\n",
              "Anti-Masonic          1832      William Wirt        100715   loss   7.821583\n",
              "Anti-Monopoly         1884   Benjamin Butler        134294   loss   1.335838\n",
              "Citizens              1980    Barry Commoner        233052   loss   0.270182"
            ]
          },
          "execution_count": 41,
          "metadata": {},
          "output_type": "execute_result"
        }
      ],
      "source": [
        "best_per_party = elections.loc[elections.groupby('Party')['%'].idxmax()]  # This is the computational part\n",
        "best_per_party.set_index('Party').sort_index().head()  # This indexes by Party to match the formatting above"
      ]
    },
    {
      "cell_type": "markdown",
      "metadata": {
        "id": "Niaq24EgeUG-"
      },
      "source": [
        "And this one doesn't even use `groupby`! This approach instead uses the `drop_duplicates` method to keep only the last occurrence of of each party after having sorted by \"%\", which is the best performance.  Again, the 2nd line is purely formatting:"
      ]
    },
    {
      "cell_type": "code",
      "execution_count": null,
      "metadata": {
        "id": "GdqfvxATeUG_",
        "outputId": "2b01ada3-d8be-4df3-a63f-d875784f4213"
      },
      "outputs": [
        {
          "data": {
            "text/html": [
              "<div>\n",
              "<style scoped>\n",
              "    .dataframe tbody tr th:only-of-type {\n",
              "        vertical-align: middle;\n",
              "    }\n",
              "\n",
              "    .dataframe tbody tr th {\n",
              "        vertical-align: top;\n",
              "    }\n",
              "\n",
              "    .dataframe thead th {\n",
              "        text-align: right;\n",
              "    }\n",
              "</style>\n",
              "<table border=\"1\" class=\"dataframe\">\n",
              "  <thead>\n",
              "    <tr style=\"text-align: right;\">\n",
              "      <th></th>\n",
              "      <th>Year</th>\n",
              "      <th>Candidate</th>\n",
              "      <th>Popular vote</th>\n",
              "      <th>Result</th>\n",
              "      <th>%</th>\n",
              "    </tr>\n",
              "    <tr>\n",
              "      <th>Party</th>\n",
              "      <th></th>\n",
              "      <th></th>\n",
              "      <th></th>\n",
              "      <th></th>\n",
              "      <th></th>\n",
              "    </tr>\n",
              "  </thead>\n",
              "  <tbody>\n",
              "    <tr>\n",
              "      <th>American</th>\n",
              "      <td>1856</td>\n",
              "      <td>Millard Fillmore</td>\n",
              "      <td>873053</td>\n",
              "      <td>loss</td>\n",
              "      <td>21.554001</td>\n",
              "    </tr>\n",
              "    <tr>\n",
              "      <th>American Independent</th>\n",
              "      <td>1968</td>\n",
              "      <td>George Wallace</td>\n",
              "      <td>9901118</td>\n",
              "      <td>loss</td>\n",
              "      <td>13.571218</td>\n",
              "    </tr>\n",
              "    <tr>\n",
              "      <th>Anti-Masonic</th>\n",
              "      <td>1832</td>\n",
              "      <td>William Wirt</td>\n",
              "      <td>100715</td>\n",
              "      <td>loss</td>\n",
              "      <td>7.821583</td>\n",
              "    </tr>\n",
              "    <tr>\n",
              "      <th>Anti-Monopoly</th>\n",
              "      <td>1884</td>\n",
              "      <td>Benjamin Butler</td>\n",
              "      <td>134294</td>\n",
              "      <td>loss</td>\n",
              "      <td>1.335838</td>\n",
              "    </tr>\n",
              "    <tr>\n",
              "      <th>Citizens</th>\n",
              "      <td>1980</td>\n",
              "      <td>Barry Commoner</td>\n",
              "      <td>233052</td>\n",
              "      <td>loss</td>\n",
              "      <td>0.270182</td>\n",
              "    </tr>\n",
              "  </tbody>\n",
              "</table>\n",
              "</div>"
            ],
            "text/plain": [
              "                      Year         Candidate  Popular vote Result          %\n",
              "Party                                                                       \n",
              "American              1856  Millard Fillmore        873053   loss  21.554001\n",
              "American Independent  1968    George Wallace       9901118   loss  13.571218\n",
              "Anti-Masonic          1832      William Wirt        100715   loss   7.821583\n",
              "Anti-Monopoly         1884   Benjamin Butler        134294   loss   1.335838\n",
              "Citizens              1980    Barry Commoner        233052   loss   0.270182"
            ]
          },
          "execution_count": 42,
          "metadata": {},
          "output_type": "execute_result"
        }
      ],
      "source": [
        "best_per_party2 = elections.sort_values('%').drop_duplicates(['Party'], keep='last')\n",
        "best_per_party2.set_index('Party').sort_index().head()  # Formatting"
      ]
    },
    {
      "cell_type": "markdown",
      "metadata": {
        "id": "Yi8CB4NYeUG_"
      },
      "source": [
        "*Challenge:* see if you can find yet another approach that still gives the same answer."
      ]
    },
    {
      "cell_type": "markdown",
      "metadata": {
        "id": "Kl1HjKt4eUG_"
      },
      "source": [
        "---"
      ]
    },
    {
      "cell_type": "markdown",
      "metadata": {
        "id": "hPs1Ts2EeUG_"
      },
      "source": [
        "## Other DataFrameGroupBy Features"
      ]
    },
    {
      "cell_type": "markdown",
      "metadata": {
        "id": "ysx_wwHeeUG_"
      },
      "source": [
        "The result of groupby is not a DataFrame or a list of DataFrames. It is instead a special type called a `DataFrameGroupBy`."
      ]
    },
    {
      "cell_type": "code",
      "execution_count": null,
      "metadata": {
        "id": "0onLqBl-eUHA",
        "outputId": "7f208243-fe50-4908-f8b0-69e2e4910ad4"
      },
      "outputs": [
        {
          "data": {
            "text/plain": [
              "pandas.core.groupby.generic.DataFrameGroupBy"
            ]
          },
          "execution_count": 43,
          "metadata": {},
          "output_type": "execute_result"
        }
      ],
      "source": [
        "grouped_by_year = babynames.groupby(\"Year\")\n",
        "type(grouped_by_year)"
      ]
    },
    {
      "cell_type": "markdown",
      "metadata": {
        "tags": [],
        "id": "zUNGoJjMeUHA"
      },
      "source": [
        "### groupby.size()"
      ]
    },
    {
      "cell_type": "code",
      "execution_count": null,
      "metadata": {
        "id": "1_0CGH2BeUHA",
        "outputId": "3d8048f2-15e8-4d78-bc3f-584c36d19217"
      },
      "outputs": [
        {
          "data": {
            "text/plain": [
              "<pandas.core.groupby.generic.DataFrameGroupBy object at 0x7f44658c9d30>"
            ]
          },
          "execution_count": 44,
          "metadata": {},
          "output_type": "execute_result"
        }
      ],
      "source": [
        "elections.groupby(\"Party\")"
      ]
    },
    {
      "cell_type": "code",
      "execution_count": null,
      "metadata": {
        "scrolled": true,
        "id": "j54V2vB7eUHB",
        "outputId": "6b1cc31b-2e0c-4db3-98fb-678881234fff"
      },
      "outputs": [
        {
          "data": {
            "text/plain": [
              "Party\n",
              "American                  2\n",
              "American Independent      3\n",
              "Anti-Masonic              1\n",
              "Anti-Monopoly             1\n",
              "Citizens                  1\n",
              "Communist                 1\n",
              "Constitution              3\n",
              "Constitutional Union      1\n",
              "Democratic               47\n",
              "Democratic-Republican     2\n",
              "Dixiecrat                 1\n",
              "Farmer–Labor              1\n",
              "Free Soil                 2\n",
              "Green                     7\n",
              "Greenback                 1\n",
              "dtype: int64"
            ]
          },
          "execution_count": 45,
          "metadata": {},
          "output_type": "execute_result"
        }
      ],
      "source": [
        "#size returns a Series giving the size of each group\n",
        "elections.groupby(\"Party\").size().head(15)"
      ]
    },
    {
      "cell_type": "markdown",
      "metadata": {
        "id": "TRFQXEyOeUHC"
      },
      "source": [
        "### groupby.filter()"
      ]
    },
    {
      "cell_type": "code",
      "execution_count": null,
      "metadata": {
        "id": "4cglIUWseUHD",
        "outputId": "1d48a799-6e8b-4d1e-98cf-78db0274ddf7"
      },
      "outputs": [
        {
          "data": {
            "text/html": [
              "<div>\n",
              "<style scoped>\n",
              "    .dataframe tbody tr th:only-of-type {\n",
              "        vertical-align: middle;\n",
              "    }\n",
              "\n",
              "    .dataframe tbody tr th {\n",
              "        vertical-align: top;\n",
              "    }\n",
              "\n",
              "    .dataframe thead th {\n",
              "        text-align: right;\n",
              "    }\n",
              "</style>\n",
              "<table border=\"1\" class=\"dataframe\">\n",
              "  <thead>\n",
              "    <tr style=\"text-align: right;\">\n",
              "      <th></th>\n",
              "      <th>Year</th>\n",
              "      <th>Candidate</th>\n",
              "      <th>Party</th>\n",
              "      <th>Popular vote</th>\n",
              "      <th>Result</th>\n",
              "      <th>%</th>\n",
              "    </tr>\n",
              "  </thead>\n",
              "  <tbody>\n",
              "    <tr>\n",
              "      <th>23</th>\n",
              "      <td>1860</td>\n",
              "      <td>Abraham Lincoln</td>\n",
              "      <td>Republican</td>\n",
              "      <td>1855993</td>\n",
              "      <td>win</td>\n",
              "      <td>39.699408</td>\n",
              "    </tr>\n",
              "    <tr>\n",
              "      <th>24</th>\n",
              "      <td>1860</td>\n",
              "      <td>John Bell</td>\n",
              "      <td>Constitutional Union</td>\n",
              "      <td>590901</td>\n",
              "      <td>loss</td>\n",
              "      <td>12.639283</td>\n",
              "    </tr>\n",
              "    <tr>\n",
              "      <th>25</th>\n",
              "      <td>1860</td>\n",
              "      <td>John C. Breckinridge</td>\n",
              "      <td>Southern Democratic</td>\n",
              "      <td>848019</td>\n",
              "      <td>loss</td>\n",
              "      <td>18.138998</td>\n",
              "    </tr>\n",
              "    <tr>\n",
              "      <th>26</th>\n",
              "      <td>1860</td>\n",
              "      <td>Stephen A. Douglas</td>\n",
              "      <td>Northern Democratic</td>\n",
              "      <td>1380202</td>\n",
              "      <td>loss</td>\n",
              "      <td>29.522311</td>\n",
              "    </tr>\n",
              "    <tr>\n",
              "      <th>66</th>\n",
              "      <td>1912</td>\n",
              "      <td>Eugene V. Debs</td>\n",
              "      <td>Socialist</td>\n",
              "      <td>901551</td>\n",
              "      <td>loss</td>\n",
              "      <td>6.004354</td>\n",
              "    </tr>\n",
              "    <tr>\n",
              "      <th>67</th>\n",
              "      <td>1912</td>\n",
              "      <td>Eugene W. Chafin</td>\n",
              "      <td>Prohibition</td>\n",
              "      <td>208156</td>\n",
              "      <td>loss</td>\n",
              "      <td>1.386325</td>\n",
              "    </tr>\n",
              "    <tr>\n",
              "      <th>68</th>\n",
              "      <td>1912</td>\n",
              "      <td>Theodore Roosevelt</td>\n",
              "      <td>Progressive</td>\n",
              "      <td>4122721</td>\n",
              "      <td>loss</td>\n",
              "      <td>27.457433</td>\n",
              "    </tr>\n",
              "    <tr>\n",
              "      <th>69</th>\n",
              "      <td>1912</td>\n",
              "      <td>William Taft</td>\n",
              "      <td>Republican</td>\n",
              "      <td>3486242</td>\n",
              "      <td>loss</td>\n",
              "      <td>23.218466</td>\n",
              "    </tr>\n",
              "    <tr>\n",
              "      <th>70</th>\n",
              "      <td>1912</td>\n",
              "      <td>Woodrow Wilson</td>\n",
              "      <td>Democratic</td>\n",
              "      <td>6296284</td>\n",
              "      <td>win</td>\n",
              "      <td>41.933422</td>\n",
              "    </tr>\n",
              "    <tr>\n",
              "      <th>115</th>\n",
              "      <td>1968</td>\n",
              "      <td>George Wallace</td>\n",
              "      <td>American Independent</td>\n",
              "      <td>9901118</td>\n",
              "      <td>loss</td>\n",
              "      <td>13.571218</td>\n",
              "    </tr>\n",
              "    <tr>\n",
              "      <th>116</th>\n",
              "      <td>1968</td>\n",
              "      <td>Hubert Humphrey</td>\n",
              "      <td>Democratic</td>\n",
              "      <td>31271839</td>\n",
              "      <td>loss</td>\n",
              "      <td>42.863537</td>\n",
              "    </tr>\n",
              "    <tr>\n",
              "      <th>117</th>\n",
              "      <td>1968</td>\n",
              "      <td>Richard Nixon</td>\n",
              "      <td>Republican</td>\n",
              "      <td>31783783</td>\n",
              "      <td>win</td>\n",
              "      <td>43.565246</td>\n",
              "    </tr>\n",
              "    <tr>\n",
              "      <th>139</th>\n",
              "      <td>1992</td>\n",
              "      <td>Andre Marrou</td>\n",
              "      <td>Libertarian</td>\n",
              "      <td>290087</td>\n",
              "      <td>loss</td>\n",
              "      <td>0.278516</td>\n",
              "    </tr>\n",
              "    <tr>\n",
              "      <th>140</th>\n",
              "      <td>1992</td>\n",
              "      <td>Bill Clinton</td>\n",
              "      <td>Democratic</td>\n",
              "      <td>44909806</td>\n",
              "      <td>win</td>\n",
              "      <td>43.118485</td>\n",
              "    </tr>\n",
              "    <tr>\n",
              "      <th>141</th>\n",
              "      <td>1992</td>\n",
              "      <td>Bo Gritz</td>\n",
              "      <td>Populist</td>\n",
              "      <td>106152</td>\n",
              "      <td>loss</td>\n",
              "      <td>0.101918</td>\n",
              "    </tr>\n",
              "    <tr>\n",
              "      <th>142</th>\n",
              "      <td>1992</td>\n",
              "      <td>George H. W. Bush</td>\n",
              "      <td>Republican</td>\n",
              "      <td>39104550</td>\n",
              "      <td>loss</td>\n",
              "      <td>37.544784</td>\n",
              "    </tr>\n",
              "    <tr>\n",
              "      <th>143</th>\n",
              "      <td>1992</td>\n",
              "      <td>Ross Perot</td>\n",
              "      <td>Independent</td>\n",
              "      <td>19743821</td>\n",
              "      <td>loss</td>\n",
              "      <td>18.956298</td>\n",
              "    </tr>\n",
              "  </tbody>\n",
              "</table>\n",
              "</div>"
            ],
            "text/plain": [
              "     Year             Candidate                 Party  Popular vote Result  \\\n",
              "23   1860       Abraham Lincoln            Republican       1855993    win   \n",
              "24   1860             John Bell  Constitutional Union        590901   loss   \n",
              "25   1860  John C. Breckinridge   Southern Democratic        848019   loss   \n",
              "26   1860    Stephen A. Douglas   Northern Democratic       1380202   loss   \n",
              "66   1912        Eugene V. Debs             Socialist        901551   loss   \n",
              "67   1912      Eugene W. Chafin           Prohibition        208156   loss   \n",
              "68   1912    Theodore Roosevelt           Progressive       4122721   loss   \n",
              "69   1912          William Taft            Republican       3486242   loss   \n",
              "70   1912        Woodrow Wilson            Democratic       6296284    win   \n",
              "115  1968        George Wallace  American Independent       9901118   loss   \n",
              "116  1968       Hubert Humphrey            Democratic      31271839   loss   \n",
              "117  1968         Richard Nixon            Republican      31783783    win   \n",
              "139  1992          Andre Marrou           Libertarian        290087   loss   \n",
              "140  1992          Bill Clinton            Democratic      44909806    win   \n",
              "141  1992              Bo Gritz              Populist        106152   loss   \n",
              "142  1992     George H. W. Bush            Republican      39104550   loss   \n",
              "143  1992            Ross Perot           Independent      19743821   loss   \n",
              "\n",
              "             %  \n",
              "23   39.699408  \n",
              "24   12.639283  \n",
              "25   18.138998  \n",
              "26   29.522311  \n",
              "66    6.004354  \n",
              "67    1.386325  \n",
              "68   27.457433  \n",
              "69   23.218466  \n",
              "70   41.933422  \n",
              "115  13.571218  \n",
              "116  42.863537  \n",
              "117  43.565246  \n",
              "139   0.278516  \n",
              "140  43.118485  \n",
              "141   0.101918  \n",
              "142  37.544784  \n",
              "143  18.956298  "
            ]
          },
          "execution_count": 46,
          "metadata": {},
          "output_type": "execute_result"
        }
      ],
      "source": [
        "# filter gives a copy of the original DataFrame where row r is included\n",
        "# if its group obeys the given condition\n",
        "#\n",
        "# Note: Filtering is done per GROUP, not per ROW.\n",
        "elections.groupby(\"Year\").filter(lambda sf: sf[\"%\"].max() < 45)"
      ]
    },
    {
      "cell_type": "code",
      "execution_count": null,
      "metadata": {
        "id": "9XIDa9mxeUHD",
        "outputId": "c015d318-48bc-47d6-c6da-5b2aa58cabaa"
      },
      "outputs": [
        {
          "name": "stdout",
          "output_type": "stream",
          "text": [
            "American\n"
          ]
        },
        {
          "data": {
            "text/html": [
              "<div>\n",
              "<style scoped>\n",
              "    .dataframe tbody tr th:only-of-type {\n",
              "        vertical-align: middle;\n",
              "    }\n",
              "\n",
              "    .dataframe tbody tr th {\n",
              "        vertical-align: top;\n",
              "    }\n",
              "\n",
              "    .dataframe thead th {\n",
              "        text-align: right;\n",
              "    }\n",
              "</style>\n",
              "<table border=\"1\" class=\"dataframe\">\n",
              "  <thead>\n",
              "    <tr style=\"text-align: right;\">\n",
              "      <th></th>\n",
              "      <th>Year</th>\n",
              "      <th>Candidate</th>\n",
              "      <th>Party</th>\n",
              "      <th>Popular vote</th>\n",
              "      <th>Result</th>\n",
              "      <th>%</th>\n",
              "    </tr>\n",
              "  </thead>\n",
              "  <tbody>\n",
              "    <tr>\n",
              "      <th>22</th>\n",
              "      <td>1856</td>\n",
              "      <td>Millard Fillmore</td>\n",
              "      <td>American</td>\n",
              "      <td>873053</td>\n",
              "      <td>loss</td>\n",
              "      <td>21.554001</td>\n",
              "    </tr>\n",
              "    <tr>\n",
              "      <th>126</th>\n",
              "      <td>1976</td>\n",
              "      <td>Thomas J. Anderson</td>\n",
              "      <td>American</td>\n",
              "      <td>158271</td>\n",
              "      <td>loss</td>\n",
              "      <td>0.194862</td>\n",
              "    </tr>\n",
              "  </tbody>\n",
              "</table>\n",
              "</div>"
            ],
            "text/plain": [
              "     Year           Candidate     Party  Popular vote Result          %\n",
              "22   1856    Millard Fillmore  American        873053   loss  21.554001\n",
              "126  1976  Thomas J. Anderson  American        158271   loss   0.194862"
            ]
          },
          "metadata": {},
          "output_type": "display_data"
        },
        {
          "name": "stdout",
          "output_type": "stream",
          "text": [
            "American Independent\n"
          ]
        },
        {
          "data": {
            "text/html": [
              "<div>\n",
              "<style scoped>\n",
              "    .dataframe tbody tr th:only-of-type {\n",
              "        vertical-align: middle;\n",
              "    }\n",
              "\n",
              "    .dataframe tbody tr th {\n",
              "        vertical-align: top;\n",
              "    }\n",
              "\n",
              "    .dataframe thead th {\n",
              "        text-align: right;\n",
              "    }\n",
              "</style>\n",
              "<table border=\"1\" class=\"dataframe\">\n",
              "  <thead>\n",
              "    <tr style=\"text-align: right;\">\n",
              "      <th></th>\n",
              "      <th>Year</th>\n",
              "      <th>Candidate</th>\n",
              "      <th>Party</th>\n",
              "      <th>Popular vote</th>\n",
              "      <th>Result</th>\n",
              "      <th>%</th>\n",
              "    </tr>\n",
              "  </thead>\n",
              "  <tbody>\n",
              "    <tr>\n",
              "      <th>115</th>\n",
              "      <td>1968</td>\n",
              "      <td>George Wallace</td>\n",
              "      <td>American Independent</td>\n",
              "      <td>9901118</td>\n",
              "      <td>loss</td>\n",
              "      <td>13.571218</td>\n",
              "    </tr>\n",
              "    <tr>\n",
              "      <th>119</th>\n",
              "      <td>1972</td>\n",
              "      <td>John G. Schmitz</td>\n",
              "      <td>American Independent</td>\n",
              "      <td>1100868</td>\n",
              "      <td>loss</td>\n",
              "      <td>1.421524</td>\n",
              "    </tr>\n",
              "    <tr>\n",
              "      <th>124</th>\n",
              "      <td>1976</td>\n",
              "      <td>Lester Maddox</td>\n",
              "      <td>American Independent</td>\n",
              "      <td>170274</td>\n",
              "      <td>loss</td>\n",
              "      <td>0.209640</td>\n",
              "    </tr>\n",
              "  </tbody>\n",
              "</table>\n",
              "</div>"
            ],
            "text/plain": [
              "     Year        Candidate                 Party  Popular vote Result  \\\n",
              "115  1968   George Wallace  American Independent       9901118   loss   \n",
              "119  1972  John G. Schmitz  American Independent       1100868   loss   \n",
              "124  1976    Lester Maddox  American Independent        170274   loss   \n",
              "\n",
              "             %  \n",
              "115  13.571218  \n",
              "119   1.421524  \n",
              "124   0.209640  "
            ]
          },
          "metadata": {},
          "output_type": "display_data"
        },
        {
          "name": "stdout",
          "output_type": "stream",
          "text": [
            "Anti-Masonic\n"
          ]
        },
        {
          "data": {
            "text/html": [
              "<div>\n",
              "<style scoped>\n",
              "    .dataframe tbody tr th:only-of-type {\n",
              "        vertical-align: middle;\n",
              "    }\n",
              "\n",
              "    .dataframe tbody tr th {\n",
              "        vertical-align: top;\n",
              "    }\n",
              "\n",
              "    .dataframe thead th {\n",
              "        text-align: right;\n",
              "    }\n",
              "</style>\n",
              "<table border=\"1\" class=\"dataframe\">\n",
              "  <thead>\n",
              "    <tr style=\"text-align: right;\">\n",
              "      <th></th>\n",
              "      <th>Year</th>\n",
              "      <th>Candidate</th>\n",
              "      <th>Party</th>\n",
              "      <th>Popular vote</th>\n",
              "      <th>Result</th>\n",
              "      <th>%</th>\n",
              "    </tr>\n",
              "  </thead>\n",
              "  <tbody>\n",
              "    <tr>\n",
              "      <th>6</th>\n",
              "      <td>1832</td>\n",
              "      <td>William Wirt</td>\n",
              "      <td>Anti-Masonic</td>\n",
              "      <td>100715</td>\n",
              "      <td>loss</td>\n",
              "      <td>7.821583</td>\n",
              "    </tr>\n",
              "  </tbody>\n",
              "</table>\n",
              "</div>"
            ],
            "text/plain": [
              "   Year     Candidate         Party  Popular vote Result         %\n",
              "6  1832  William Wirt  Anti-Masonic        100715   loss  7.821583"
            ]
          },
          "metadata": {},
          "output_type": "display_data"
        },
        {
          "name": "stdout",
          "output_type": "stream",
          "text": [
            "Anti-Monopoly\n"
          ]
        },
        {
          "data": {
            "text/html": [
              "<div>\n",
              "<style scoped>\n",
              "    .dataframe tbody tr th:only-of-type {\n",
              "        vertical-align: middle;\n",
              "    }\n",
              "\n",
              "    .dataframe tbody tr th {\n",
              "        vertical-align: top;\n",
              "    }\n",
              "\n",
              "    .dataframe thead th {\n",
              "        text-align: right;\n",
              "    }\n",
              "</style>\n",
              "<table border=\"1\" class=\"dataframe\">\n",
              "  <thead>\n",
              "    <tr style=\"text-align: right;\">\n",
              "      <th></th>\n",
              "      <th>Year</th>\n",
              "      <th>Candidate</th>\n",
              "      <th>Party</th>\n",
              "      <th>Popular vote</th>\n",
              "      <th>Result</th>\n",
              "      <th>%</th>\n",
              "    </tr>\n",
              "  </thead>\n",
              "  <tbody>\n",
              "    <tr>\n",
              "      <th>38</th>\n",
              "      <td>1884</td>\n",
              "      <td>Benjamin Butler</td>\n",
              "      <td>Anti-Monopoly</td>\n",
              "      <td>134294</td>\n",
              "      <td>loss</td>\n",
              "      <td>1.335838</td>\n",
              "    </tr>\n",
              "  </tbody>\n",
              "</table>\n",
              "</div>"
            ],
            "text/plain": [
              "    Year        Candidate          Party  Popular vote Result         %\n",
              "38  1884  Benjamin Butler  Anti-Monopoly        134294   loss  1.335838"
            ]
          },
          "metadata": {},
          "output_type": "display_data"
        },
        {
          "name": "stdout",
          "output_type": "stream",
          "text": [
            "Citizens\n"
          ]
        },
        {
          "data": {
            "text/html": [
              "<div>\n",
              "<style scoped>\n",
              "    .dataframe tbody tr th:only-of-type {\n",
              "        vertical-align: middle;\n",
              "    }\n",
              "\n",
              "    .dataframe tbody tr th {\n",
              "        vertical-align: top;\n",
              "    }\n",
              "\n",
              "    .dataframe thead th {\n",
              "        text-align: right;\n",
              "    }\n",
              "</style>\n",
              "<table border=\"1\" class=\"dataframe\">\n",
              "  <thead>\n",
              "    <tr style=\"text-align: right;\">\n",
              "      <th></th>\n",
              "      <th>Year</th>\n",
              "      <th>Candidate</th>\n",
              "      <th>Party</th>\n",
              "      <th>Popular vote</th>\n",
              "      <th>Result</th>\n",
              "      <th>%</th>\n",
              "    </tr>\n",
              "  </thead>\n",
              "  <tbody>\n",
              "    <tr>\n",
              "      <th>127</th>\n",
              "      <td>1980</td>\n",
              "      <td>Barry Commoner</td>\n",
              "      <td>Citizens</td>\n",
              "      <td>233052</td>\n",
              "      <td>loss</td>\n",
              "      <td>0.270182</td>\n",
              "    </tr>\n",
              "  </tbody>\n",
              "</table>\n",
              "</div>"
            ],
            "text/plain": [
              "     Year       Candidate     Party  Popular vote Result         %\n",
              "127  1980  Barry Commoner  Citizens        233052   loss  0.270182"
            ]
          },
          "metadata": {},
          "output_type": "display_data"
        }
      ],
      "source": [
        "# the code below lets us peek into the groups and see why they were rejected or not\n",
        "for i, (n, g) in enumerate(elections.groupby(\"Party\")):\n",
        "    print(n)\n",
        "    display(g)\n",
        "    if i>3: break"
      ]
    },
    {
      "cell_type": "markdown",
      "metadata": {
        "id": "DOgb3j4veUHD"
      },
      "source": [
        "## Puzzle 5: Finding the number of babies born in each year of each sex."
      ]
    },
    {
      "cell_type": "markdown",
      "metadata": {
        "id": "RgY2aSaJeUHE"
      },
      "source": [
        "Earlier we saw how to add up the total number of babies born in each year, but what if we want the number born in each and year for each sex separately?"
      ]
    },
    {
      "cell_type": "code",
      "execution_count": null,
      "metadata": {
        "id": "zhybvWpceUHE",
        "outputId": "0aa5760d-36db-4b35-8648-f0df0b393bdc"
      },
      "outputs": [
        {
          "data": {
            "text/html": [
              "<div>\n",
              "<style scoped>\n",
              "    .dataframe tbody tr th:only-of-type {\n",
              "        vertical-align: middle;\n",
              "    }\n",
              "\n",
              "    .dataframe tbody tr th {\n",
              "        vertical-align: top;\n",
              "    }\n",
              "\n",
              "    .dataframe thead th {\n",
              "        text-align: right;\n",
              "    }\n",
              "</style>\n",
              "<table border=\"1\" class=\"dataframe\">\n",
              "  <thead>\n",
              "    <tr style=\"text-align: right;\">\n",
              "      <th></th>\n",
              "      <th>Count</th>\n",
              "    </tr>\n",
              "    <tr>\n",
              "      <th>Year</th>\n",
              "      <th></th>\n",
              "    </tr>\n",
              "  </thead>\n",
              "  <tbody>\n",
              "    <tr>\n",
              "      <th>1910</th>\n",
              "      <td>9163</td>\n",
              "    </tr>\n",
              "    <tr>\n",
              "      <th>1911</th>\n",
              "      <td>9983</td>\n",
              "    </tr>\n",
              "    <tr>\n",
              "      <th>1912</th>\n",
              "      <td>17946</td>\n",
              "    </tr>\n",
              "    <tr>\n",
              "      <th>1913</th>\n",
              "      <td>22094</td>\n",
              "    </tr>\n",
              "    <tr>\n",
              "      <th>1914</th>\n",
              "      <td>26926</td>\n",
              "    </tr>\n",
              "    <tr>\n",
              "      <th>...</th>\n",
              "      <td>...</td>\n",
              "    </tr>\n",
              "    <tr>\n",
              "      <th>2016</th>\n",
              "      <td>426658</td>\n",
              "    </tr>\n",
              "    <tr>\n",
              "      <th>2017</th>\n",
              "      <td>410614</td>\n",
              "    </tr>\n",
              "    <tr>\n",
              "      <th>2018</th>\n",
              "      <td>394826</td>\n",
              "    </tr>\n",
              "    <tr>\n",
              "      <th>2019</th>\n",
              "      <td>385777</td>\n",
              "    </tr>\n",
              "    <tr>\n",
              "      <th>2020</th>\n",
              "      <td>359229</td>\n",
              "    </tr>\n",
              "  </tbody>\n",
              "</table>\n",
              "<p>111 rows × 1 columns</p>\n",
              "</div>"
            ],
            "text/plain": [
              "       Count\n",
              "Year        \n",
              "1910    9163\n",
              "1911    9983\n",
              "1912   17946\n",
              "1913   22094\n",
              "1914   26926\n",
              "...      ...\n",
              "2016  426658\n",
              "2017  410614\n",
              "2018  394826\n",
              "2019  385777\n",
              "2020  359229\n",
              "\n",
              "[111 rows x 1 columns]"
            ]
          },
          "execution_count": 57,
          "metadata": {},
          "output_type": "execute_result"
        }
      ],
      "source": [
        "babynames.groupby(\"Year\").sum()"
      ]
    },
    {
      "cell_type": "markdown",
      "metadata": {
        "id": "itTDp7WSeUHE"
      },
      "source": [
        "It is possible to group a DataFrame by multiple features. For example, if we group by Year and Sex we get back a DataFrame with the total number of babies of each sex born in each year."
      ]
    },
    {
      "cell_type": "code",
      "execution_count": null,
      "metadata": {
        "id": "vqGbdOb1eUHF",
        "outputId": "7cc7e6b8-f577-4e02-feaa-5c9d4c485df5"
      },
      "outputs": [
        {
          "data": {
            "text/html": [
              "<div>\n",
              "<style scoped>\n",
              "    .dataframe tbody tr th:only-of-type {\n",
              "        vertical-align: middle;\n",
              "    }\n",
              "\n",
              "    .dataframe tbody tr th {\n",
              "        vertical-align: top;\n",
              "    }\n",
              "\n",
              "    .dataframe thead th {\n",
              "        text-align: right;\n",
              "    }\n",
              "</style>\n",
              "<table border=\"1\" class=\"dataframe\">\n",
              "  <thead>\n",
              "    <tr style=\"text-align: right;\">\n",
              "      <th></th>\n",
              "      <th>State</th>\n",
              "      <th>Sex</th>\n",
              "      <th>Year</th>\n",
              "      <th>Name</th>\n",
              "      <th>Count</th>\n",
              "    </tr>\n",
              "  </thead>\n",
              "  <tbody>\n",
              "    <tr>\n",
              "      <th>0</th>\n",
              "      <td>CA</td>\n",
              "      <td>F</td>\n",
              "      <td>1910</td>\n",
              "      <td>Mary</td>\n",
              "      <td>295</td>\n",
              "    </tr>\n",
              "    <tr>\n",
              "      <th>1</th>\n",
              "      <td>CA</td>\n",
              "      <td>F</td>\n",
              "      <td>1910</td>\n",
              "      <td>Helen</td>\n",
              "      <td>239</td>\n",
              "    </tr>\n",
              "    <tr>\n",
              "      <th>2</th>\n",
              "      <td>CA</td>\n",
              "      <td>F</td>\n",
              "      <td>1910</td>\n",
              "      <td>Dorothy</td>\n",
              "      <td>220</td>\n",
              "    </tr>\n",
              "    <tr>\n",
              "      <th>3</th>\n",
              "      <td>CA</td>\n",
              "      <td>F</td>\n",
              "      <td>1910</td>\n",
              "      <td>Margaret</td>\n",
              "      <td>163</td>\n",
              "    </tr>\n",
              "    <tr>\n",
              "      <th>4</th>\n",
              "      <td>CA</td>\n",
              "      <td>F</td>\n",
              "      <td>1910</td>\n",
              "      <td>Frances</td>\n",
              "      <td>134</td>\n",
              "    </tr>\n",
              "    <tr>\n",
              "      <th>5</th>\n",
              "      <td>CA</td>\n",
              "      <td>F</td>\n",
              "      <td>1910</td>\n",
              "      <td>Ruth</td>\n",
              "      <td>128</td>\n",
              "    </tr>\n",
              "    <tr>\n",
              "      <th>6</th>\n",
              "      <td>CA</td>\n",
              "      <td>F</td>\n",
              "      <td>1910</td>\n",
              "      <td>Evelyn</td>\n",
              "      <td>126</td>\n",
              "    </tr>\n",
              "    <tr>\n",
              "      <th>7</th>\n",
              "      <td>CA</td>\n",
              "      <td>F</td>\n",
              "      <td>1910</td>\n",
              "      <td>Alice</td>\n",
              "      <td>118</td>\n",
              "    </tr>\n",
              "    <tr>\n",
              "      <th>8</th>\n",
              "      <td>CA</td>\n",
              "      <td>F</td>\n",
              "      <td>1910</td>\n",
              "      <td>Virginia</td>\n",
              "      <td>101</td>\n",
              "    </tr>\n",
              "    <tr>\n",
              "      <th>9</th>\n",
              "      <td>CA</td>\n",
              "      <td>F</td>\n",
              "      <td>1910</td>\n",
              "      <td>Elizabeth</td>\n",
              "      <td>93</td>\n",
              "    </tr>\n",
              "  </tbody>\n",
              "</table>\n",
              "</div>"
            ],
            "text/plain": [
              "  State Sex  Year       Name  Count\n",
              "0    CA   F  1910       Mary    295\n",
              "1    CA   F  1910      Helen    239\n",
              "2    CA   F  1910    Dorothy    220\n",
              "3    CA   F  1910   Margaret    163\n",
              "4    CA   F  1910    Frances    134\n",
              "5    CA   F  1910       Ruth    128\n",
              "6    CA   F  1910     Evelyn    126\n",
              "7    CA   F  1910      Alice    118\n",
              "8    CA   F  1910   Virginia    101\n",
              "9    CA   F  1910  Elizabeth     93"
            ]
          },
          "execution_count": 54,
          "metadata": {},
          "output_type": "execute_result"
        }
      ],
      "source": [
        "babynames.head(10)"
      ]
    },
    {
      "cell_type": "code",
      "execution_count": null,
      "metadata": {
        "scrolled": true,
        "id": "hR8dFGASeUHJ",
        "outputId": "e2544e7d-8e9d-47e4-b374-2b5c2ca76dd9"
      },
      "outputs": [
        {
          "data": {
            "text/html": [
              "<div>\n",
              "<style scoped>\n",
              "    .dataframe tbody tr th:only-of-type {\n",
              "        vertical-align: middle;\n",
              "    }\n",
              "\n",
              "    .dataframe tbody tr th {\n",
              "        vertical-align: top;\n",
              "    }\n",
              "\n",
              "    .dataframe thead th {\n",
              "        text-align: right;\n",
              "    }\n",
              "</style>\n",
              "<table border=\"1\" class=\"dataframe\">\n",
              "  <thead>\n",
              "    <tr style=\"text-align: right;\">\n",
              "      <th></th>\n",
              "      <th></th>\n",
              "      <th>Count</th>\n",
              "    </tr>\n",
              "    <tr>\n",
              "      <th>Year</th>\n",
              "      <th>Sex</th>\n",
              "      <th></th>\n",
              "    </tr>\n",
              "  </thead>\n",
              "  <tbody>\n",
              "    <tr>\n",
              "      <th rowspan=\"2\" valign=\"top\">1910</th>\n",
              "      <th>F</th>\n",
              "      <td>5950</td>\n",
              "    </tr>\n",
              "    <tr>\n",
              "      <th>M</th>\n",
              "      <td>3213</td>\n",
              "    </tr>\n",
              "    <tr>\n",
              "      <th rowspan=\"2\" valign=\"top\">1911</th>\n",
              "      <th>F</th>\n",
              "      <td>6602</td>\n",
              "    </tr>\n",
              "    <tr>\n",
              "      <th>M</th>\n",
              "      <td>3381</td>\n",
              "    </tr>\n",
              "    <tr>\n",
              "      <th rowspan=\"2\" valign=\"top\">1912</th>\n",
              "      <th>F</th>\n",
              "      <td>9804</td>\n",
              "    </tr>\n",
              "    <tr>\n",
              "      <th>M</th>\n",
              "      <td>8142</td>\n",
              "    </tr>\n",
              "  </tbody>\n",
              "</table>\n",
              "</div>"
            ],
            "text/plain": [
              "          Count\n",
              "Year Sex       \n",
              "1910 F     5950\n",
              "     M     3213\n",
              "1911 F     6602\n",
              "     M     3381\n",
              "1912 F     9804\n",
              "     M     8142"
            ]
          },
          "execution_count": 50,
          "metadata": {},
          "output_type": "execute_result"
        }
      ],
      "source": [
        "babynames.groupby([\"Year\", \"Sex\"]).agg(sum).head(6)"
      ]
    },
    {
      "cell_type": "code",
      "execution_count": null,
      "metadata": {
        "id": "eIdTTvwpeUHK",
        "outputId": "79508720-af9c-4b2c-aa90-d5d9adc28b9e"
      },
      "outputs": [
        {
          "data": {
            "text/html": [
              "<div>\n",
              "<style scoped>\n",
              "    .dataframe tbody tr th:only-of-type {\n",
              "        vertical-align: middle;\n",
              "    }\n",
              "\n",
              "    .dataframe tbody tr th {\n",
              "        vertical-align: top;\n",
              "    }\n",
              "\n",
              "    .dataframe thead th {\n",
              "        text-align: right;\n",
              "    }\n",
              "</style>\n",
              "<table border=\"1\" class=\"dataframe\">\n",
              "  <thead>\n",
              "    <tr style=\"text-align: right;\">\n",
              "      <th></th>\n",
              "      <th></th>\n",
              "      <th>Count</th>\n",
              "    </tr>\n",
              "    <tr>\n",
              "      <th>Sex</th>\n",
              "      <th>Year</th>\n",
              "      <th></th>\n",
              "    </tr>\n",
              "  </thead>\n",
              "  <tbody>\n",
              "    <tr>\n",
              "      <th rowspan=\"6\" valign=\"top\">F</th>\n",
              "      <th>1910</th>\n",
              "      <td>5950</td>\n",
              "    </tr>\n",
              "    <tr>\n",
              "      <th>1911</th>\n",
              "      <td>6602</td>\n",
              "    </tr>\n",
              "    <tr>\n",
              "      <th>1912</th>\n",
              "      <td>9804</td>\n",
              "    </tr>\n",
              "    <tr>\n",
              "      <th>1913</th>\n",
              "      <td>11860</td>\n",
              "    </tr>\n",
              "    <tr>\n",
              "      <th>1914</th>\n",
              "      <td>13815</td>\n",
              "    </tr>\n",
              "    <tr>\n",
              "      <th>1915</th>\n",
              "      <td>18643</td>\n",
              "    </tr>\n",
              "  </tbody>\n",
              "</table>\n",
              "</div>"
            ],
            "text/plain": [
              "          Count\n",
              "Sex Year       \n",
              "F   1910   5950\n",
              "    1911   6602\n",
              "    1912   9804\n",
              "    1913  11860\n",
              "    1914  13815\n",
              "    1915  18643"
            ]
          },
          "execution_count": 51,
          "metadata": {},
          "output_type": "execute_result"
        }
      ],
      "source": [
        "babynames.groupby([\"Sex\", \"Year\"]).agg(sum).head(6)"
      ]
    },
    {
      "cell_type": "markdown",
      "metadata": {
        "id": "5zUBrHLIeUHK"
      },
      "source": [
        "The DataFrame resulting from an aggregation operation on a table grouped by a list of columns is multi-indexed. That is, it has more than one dimension to its index. We will explore this in a future lecture."
      ]
    },
    {
      "cell_type": "markdown",
      "metadata": {
        "id": "Y9F570SCeUHK"
      },
      "source": [
        "A more natural approach is to use a pivot table (like we saw in data 8)."
      ]
    },
    {
      "cell_type": "code",
      "execution_count": null,
      "metadata": {
        "id": "rvYHluH0eUHK",
        "outputId": "5f47ef87-29d2-4531-a695-843232726f53"
      },
      "outputs": [
        {
          "data": {
            "text/html": [
              "<div>\n",
              "<style scoped>\n",
              "    .dataframe tbody tr th:only-of-type {\n",
              "        vertical-align: middle;\n",
              "    }\n",
              "\n",
              "    .dataframe tbody tr th {\n",
              "        vertical-align: top;\n",
              "    }\n",
              "\n",
              "    .dataframe thead th {\n",
              "        text-align: right;\n",
              "    }\n",
              "</style>\n",
              "<table border=\"1\" class=\"dataframe\">\n",
              "  <thead>\n",
              "    <tr style=\"text-align: right;\">\n",
              "      <th></th>\n",
              "      <th>State</th>\n",
              "      <th>Sex</th>\n",
              "      <th>Year</th>\n",
              "      <th>Name</th>\n",
              "      <th>Count</th>\n",
              "    </tr>\n",
              "  </thead>\n",
              "  <tbody>\n",
              "    <tr>\n",
              "      <th>131013</th>\n",
              "      <td>CA</td>\n",
              "      <td>F</td>\n",
              "      <td>1994</td>\n",
              "      <td>Leandrea</td>\n",
              "      <td>5</td>\n",
              "    </tr>\n",
              "    <tr>\n",
              "      <th>115942</th>\n",
              "      <td>CA</td>\n",
              "      <td>F</td>\n",
              "      <td>1990</td>\n",
              "      <td>Deandrea</td>\n",
              "      <td>5</td>\n",
              "    </tr>\n",
              "    <tr>\n",
              "      <th>300700</th>\n",
              "      <td>CA</td>\n",
              "      <td>M</td>\n",
              "      <td>1985</td>\n",
              "      <td>Deandrea</td>\n",
              "      <td>6</td>\n",
              "    </tr>\n",
              "    <tr>\n",
              "      <th>108715</th>\n",
              "      <td>CA</td>\n",
              "      <td>F</td>\n",
              "      <td>1988</td>\n",
              "      <td>Deandrea</td>\n",
              "      <td>5</td>\n",
              "    </tr>\n",
              "    <tr>\n",
              "      <th>101962</th>\n",
              "      <td>CA</td>\n",
              "      <td>F</td>\n",
              "      <td>1986</td>\n",
              "      <td>Deandrea</td>\n",
              "      <td>6</td>\n",
              "    </tr>\n",
              "  </tbody>\n",
              "</table>\n",
              "</div>"
            ],
            "text/plain": [
              "       State Sex  Year      Name  Count\n",
              "131013    CA   F  1994  Leandrea      5\n",
              "115942    CA   F  1990  Deandrea      5\n",
              "300700    CA   M  1985  Deandrea      6\n",
              "108715    CA   F  1988  Deandrea      5\n",
              "101962    CA   F  1986  Deandrea      6"
            ]
          },
          "execution_count": 55,
          "metadata": {},
          "output_type": "execute_result"
        }
      ],
      "source": [
        "babynames.head(5)"
      ]
    },
    {
      "cell_type": "code",
      "execution_count": null,
      "metadata": {
        "id": "Fn55eY2deUHK",
        "outputId": "d5e5c268-f7c8-473f-dda5-a824ae45d5dd"
      },
      "outputs": [
        {
          "data": {
            "text/html": [
              "<div>\n",
              "<style scoped>\n",
              "    .dataframe tbody tr th:only-of-type {\n",
              "        vertical-align: middle;\n",
              "    }\n",
              "\n",
              "    .dataframe tbody tr th {\n",
              "        vertical-align: top;\n",
              "    }\n",
              "\n",
              "    .dataframe thead th {\n",
              "        text-align: right;\n",
              "    }\n",
              "</style>\n",
              "<table border=\"1\" class=\"dataframe\">\n",
              "  <thead>\n",
              "    <tr style=\"text-align: right;\">\n",
              "      <th>Sex</th>\n",
              "      <th>F</th>\n",
              "      <th>M</th>\n",
              "    </tr>\n",
              "    <tr>\n",
              "      <th>Year</th>\n",
              "      <th></th>\n",
              "      <th></th>\n",
              "    </tr>\n",
              "  </thead>\n",
              "  <tbody>\n",
              "    <tr>\n",
              "      <th>1910</th>\n",
              "      <td>5950</td>\n",
              "      <td>3213</td>\n",
              "    </tr>\n",
              "    <tr>\n",
              "      <th>1911</th>\n",
              "      <td>6602</td>\n",
              "      <td>3381</td>\n",
              "    </tr>\n",
              "    <tr>\n",
              "      <th>1912</th>\n",
              "      <td>9804</td>\n",
              "      <td>8142</td>\n",
              "    </tr>\n",
              "    <tr>\n",
              "      <th>1913</th>\n",
              "      <td>11860</td>\n",
              "      <td>10234</td>\n",
              "    </tr>\n",
              "    <tr>\n",
              "      <th>1914</th>\n",
              "      <td>13815</td>\n",
              "      <td>13111</td>\n",
              "    </tr>\n",
              "    <tr>\n",
              "      <th>1915</th>\n",
              "      <td>18643</td>\n",
              "      <td>17192</td>\n",
              "    </tr>\n",
              "  </tbody>\n",
              "</table>\n",
              "</div>"
            ],
            "text/plain": [
              "Sex       F      M\n",
              "Year              \n",
              "1910   5950   3213\n",
              "1911   6602   3381\n",
              "1912   9804   8142\n",
              "1913  11860  10234\n",
              "1914  13815  13111\n",
              "1915  18643  17192"
            ]
          },
          "execution_count": 57,
          "metadata": {},
          "output_type": "execute_result"
        }
      ],
      "source": [
        "babynames_pivot = babynames.pivot_table(\n",
        "    index='Year',     # the rows (turned into index)\n",
        "    columns='Sex',    # the column values\n",
        "    values=['Count'], # the field(s) to processed in each group\n",
        "    aggfunc=np.sum,   # group operation\n",
        ")\n",
        "babynames_pivot.head(6)"
      ]
    },
    {
      "cell_type": "code",
      "execution_count": null,
      "metadata": {
        "scrolled": false,
        "id": "0wfOpXALeUHL",
        "outputId": "400006f4-3d21-4712-e7af-2478f15425da"
      },
      "outputs": [
        {
          "data": {
            "text/html": [
              "<div>\n",
              "<style scoped>\n",
              "    .dataframe tbody tr th:only-of-type {\n",
              "        vertical-align: middle;\n",
              "    }\n",
              "\n",
              "    .dataframe tbody tr th {\n",
              "        vertical-align: top;\n",
              "    }\n",
              "\n",
              "    .dataframe thead tr th {\n",
              "        text-align: left;\n",
              "    }\n",
              "\n",
              "    .dataframe thead tr:last-of-type th {\n",
              "        text-align: right;\n",
              "    }\n",
              "</style>\n",
              "<table border=\"1\" class=\"dataframe\">\n",
              "  <thead>\n",
              "    <tr>\n",
              "      <th></th>\n",
              "      <th colspan=\"2\" halign=\"left\">Count</th>\n",
              "      <th colspan=\"2\" halign=\"left\">Name</th>\n",
              "    </tr>\n",
              "    <tr>\n",
              "      <th>Sex</th>\n",
              "      <th>F</th>\n",
              "      <th>M</th>\n",
              "      <th>F</th>\n",
              "      <th>M</th>\n",
              "    </tr>\n",
              "    <tr>\n",
              "      <th>Year</th>\n",
              "      <th></th>\n",
              "      <th></th>\n",
              "      <th></th>\n",
              "      <th></th>\n",
              "    </tr>\n",
              "  </thead>\n",
              "  <tbody>\n",
              "    <tr>\n",
              "      <th>1910</th>\n",
              "      <td>295</td>\n",
              "      <td>237</td>\n",
              "      <td>Yvonne</td>\n",
              "      <td>William</td>\n",
              "    </tr>\n",
              "    <tr>\n",
              "      <th>1911</th>\n",
              "      <td>390</td>\n",
              "      <td>214</td>\n",
              "      <td>Zelma</td>\n",
              "      <td>Willis</td>\n",
              "    </tr>\n",
              "    <tr>\n",
              "      <th>1912</th>\n",
              "      <td>534</td>\n",
              "      <td>501</td>\n",
              "      <td>Yvonne</td>\n",
              "      <td>Woodrow</td>\n",
              "    </tr>\n",
              "    <tr>\n",
              "      <th>1913</th>\n",
              "      <td>584</td>\n",
              "      <td>614</td>\n",
              "      <td>Zelma</td>\n",
              "      <td>Yoshio</td>\n",
              "    </tr>\n",
              "    <tr>\n",
              "      <th>1914</th>\n",
              "      <td>773</td>\n",
              "      <td>769</td>\n",
              "      <td>Zelma</td>\n",
              "      <td>Yoshio</td>\n",
              "    </tr>\n",
              "    <tr>\n",
              "      <th>1915</th>\n",
              "      <td>998</td>\n",
              "      <td>1033</td>\n",
              "      <td>Zita</td>\n",
              "      <td>Yukio</td>\n",
              "    </tr>\n",
              "  </tbody>\n",
              "</table>\n",
              "</div>"
            ],
            "text/plain": [
              "     Count          Name         \n",
              "Sex      F     M       F        M\n",
              "Year                             \n",
              "1910   295   237  Yvonne  William\n",
              "1911   390   214   Zelma   Willis\n",
              "1912   534   501  Yvonne  Woodrow\n",
              "1913   584   614   Zelma   Yoshio\n",
              "1914   773   769   Zelma   Yoshio\n",
              "1915   998  1033    Zita    Yukio"
            ]
          },
          "execution_count": 59,
          "metadata": {},
          "output_type": "execute_result"
        }
      ],
      "source": [
        "babynames_pivot = babynames.pivot_table(\n",
        "    index='Year',     # the rows (turned into index)\n",
        "    columns='Sex',    # the column values\n",
        "    values=['Count', 'Name'], \n",
        "    aggfunc=np.max,   # group operation\n",
        ")\n",
        "babynames_pivot.head(6)"
      ]
    },
    {
      "cell_type": "markdown",
      "metadata": {
        "id": "d2SaT7QIeUHL"
      },
      "source": [
        "The basic idea behind pivot tables is shown in the image below."
      ]
    },
    {
      "cell_type": "markdown",
      "metadata": {
        "id": "a88fYdxkeUHL"
      },
      "source": [
        "![pivot_picture.png](attachment:pivot_picture.png)"
      ]
    },
    {
      "cell_type": "markdown",
      "metadata": {
        "id": "Du_3ySU1eUHM"
      },
      "source": [
        "---"
      ]
    },
    {
      "cell_type": "markdown",
      "metadata": {
        "id": "MR71MWepeUHM"
      },
      "source": [
        "## Merging Tables"
      ]
    },
    {
      "cell_type": "code",
      "execution_count": null,
      "metadata": {
        "id": "yqwUv86QeUHM",
        "outputId": "6d6316b8-d593-4637-a89c-3181e72d00c4"
      },
      "outputs": [
        {
          "ename": "NameError",
          "evalue": "name 'elections' is not defined",
          "output_type": "error",
          "traceback": [
            "\u001b[0;31m---------------------------------------------------------------------------\u001b[0m",
            "\u001b[0;31mNameError\u001b[0m                                 Traceback (most recent call last)",
            "Input \u001b[0;32mIn [63]\u001b[0m, in \u001b[0;36m<module>\u001b[0;34m\u001b[0m\n\u001b[0;32m----> 1\u001b[0m \u001b[43melections\u001b[49m\n",
            "\u001b[0;31mNameError\u001b[0m: name 'elections' is not defined"
          ]
        }
      ],
      "source": [
        "elections"
      ]
    },
    {
      "cell_type": "code",
      "execution_count": null,
      "metadata": {
        "id": "QtaPSQGWeUHM",
        "outputId": "9d0c1b5a-b4eb-4270-aa73-3c15d7b20ec0"
      },
      "outputs": [
        {
          "data": {
            "text/html": [
              "<div>\n",
              "<style scoped>\n",
              "    .dataframe tbody tr th:only-of-type {\n",
              "        vertical-align: middle;\n",
              "    }\n",
              "\n",
              "    .dataframe tbody tr th {\n",
              "        vertical-align: top;\n",
              "    }\n",
              "\n",
              "    .dataframe thead th {\n",
              "        text-align: right;\n",
              "    }\n",
              "</style>\n",
              "<table border=\"1\" class=\"dataframe\">\n",
              "  <thead>\n",
              "    <tr style=\"text-align: right;\">\n",
              "      <th></th>\n",
              "      <th>State</th>\n",
              "      <th>Sex</th>\n",
              "      <th>Year</th>\n",
              "      <th>Name</th>\n",
              "      <th>Count</th>\n",
              "    </tr>\n",
              "  </thead>\n",
              "  <tbody>\n",
              "    <tr>\n",
              "      <th>392447</th>\n",
              "      <td>CA</td>\n",
              "      <td>M</td>\n",
              "      <td>2020</td>\n",
              "      <td>Deandre</td>\n",
              "      <td>19</td>\n",
              "    </tr>\n",
              "    <tr>\n",
              "      <th>394024</th>\n",
              "      <td>CA</td>\n",
              "      <td>M</td>\n",
              "      <td>2020</td>\n",
              "      <td>Leandre</td>\n",
              "      <td>5</td>\n",
              "    </tr>\n",
              "    <tr>\n",
              "      <th>392438</th>\n",
              "      <td>CA</td>\n",
              "      <td>M</td>\n",
              "      <td>2020</td>\n",
              "      <td>Andreas</td>\n",
              "      <td>19</td>\n",
              "    </tr>\n",
              "    <tr>\n",
              "      <th>391863</th>\n",
              "      <td>CA</td>\n",
              "      <td>M</td>\n",
              "      <td>2020</td>\n",
              "      <td>Leandro</td>\n",
              "      <td>72</td>\n",
              "    </tr>\n",
              "    <tr>\n",
              "      <th>392562</th>\n",
              "      <td>CA</td>\n",
              "      <td>M</td>\n",
              "      <td>2020</td>\n",
              "      <td>Rudra</td>\n",
              "      <td>17</td>\n",
              "    </tr>\n",
              "    <tr>\n",
              "      <th>...</th>\n",
              "      <td>...</td>\n",
              "      <td>...</td>\n",
              "      <td>...</td>\n",
              "      <td>...</td>\n",
              "      <td>...</td>\n",
              "    </tr>\n",
              "    <tr>\n",
              "      <th>393418</th>\n",
              "      <td>CA</td>\n",
              "      <td>M</td>\n",
              "      <td>2020</td>\n",
              "      <td>Demetri</td>\n",
              "      <td>7</td>\n",
              "    </tr>\n",
              "    <tr>\n",
              "      <th>393881</th>\n",
              "      <td>CA</td>\n",
              "      <td>M</td>\n",
              "      <td>2020</td>\n",
              "      <td>Casimir</td>\n",
              "      <td>5</td>\n",
              "    </tr>\n",
              "    <tr>\n",
              "      <th>393393</th>\n",
              "      <td>CA</td>\n",
              "      <td>M</td>\n",
              "      <td>2020</td>\n",
              "      <td>Bridger</td>\n",
              "      <td>7</td>\n",
              "    </tr>\n",
              "    <tr>\n",
              "      <th>393391</th>\n",
              "      <td>CA</td>\n",
              "      <td>M</td>\n",
              "      <td>2020</td>\n",
              "      <td>Brayson</td>\n",
              "      <td>7</td>\n",
              "    </tr>\n",
              "    <tr>\n",
              "      <th>393392</th>\n",
              "      <td>CA</td>\n",
              "      <td>M</td>\n",
              "      <td>2020</td>\n",
              "      <td>Brecken</td>\n",
              "      <td>7</td>\n",
              "    </tr>\n",
              "  </tbody>\n",
              "</table>\n",
              "<p>2770 rows × 5 columns</p>\n",
              "</div>"
            ],
            "text/plain": [
              "       State Sex  Year     Name  Count\n",
              "392447    CA   M  2020  Deandre     19\n",
              "394024    CA   M  2020  Leandre      5\n",
              "392438    CA   M  2020  Andreas     19\n",
              "391863    CA   M  2020  Leandro     72\n",
              "392562    CA   M  2020    Rudra     17\n",
              "...      ...  ..   ...      ...    ...\n",
              "393418    CA   M  2020  Demetri      7\n",
              "393881    CA   M  2020  Casimir      5\n",
              "393393    CA   M  2020  Bridger      7\n",
              "393391    CA   M  2020  Brayson      7\n",
              "393392    CA   M  2020  Brecken      7\n",
              "\n",
              "[2770 rows x 5 columns]"
            ]
          },
          "execution_count": 107,
          "metadata": {},
          "output_type": "execute_result"
        }
      ],
      "source": [
        "male_2020_babynames = babynames.query('Sex == \"M\" and Year == 2020')\n",
        "male_2020_babynames"
      ]
    },
    {
      "cell_type": "code",
      "execution_count": null,
      "metadata": {
        "id": "gRZJWOQreUHN"
      },
      "outputs": [],
      "source": [
        "elections[\"First Name\"] = elections[\"Candidate\"].str.split().str[0]"
      ]
    },
    {
      "cell_type": "code",
      "execution_count": null,
      "metadata": {
        "scrolled": true,
        "id": "6zH1mhrqeUHN",
        "outputId": "d54fc639-eec9-417d-a83b-6b185d6297d7"
      },
      "outputs": [
        {
          "data": {
            "text/html": [
              "<div>\n",
              "<style scoped>\n",
              "    .dataframe tbody tr th:only-of-type {\n",
              "        vertical-align: middle;\n",
              "    }\n",
              "\n",
              "    .dataframe tbody tr th {\n",
              "        vertical-align: top;\n",
              "    }\n",
              "\n",
              "    .dataframe thead th {\n",
              "        text-align: right;\n",
              "    }\n",
              "</style>\n",
              "<table border=\"1\" class=\"dataframe\">\n",
              "  <thead>\n",
              "    <tr style=\"text-align: right;\">\n",
              "      <th></th>\n",
              "      <th>Year</th>\n",
              "      <th>Candidate</th>\n",
              "      <th>Party</th>\n",
              "      <th>Popular vote</th>\n",
              "      <th>Result</th>\n",
              "      <th>%</th>\n",
              "      <th>First Name</th>\n",
              "    </tr>\n",
              "  </thead>\n",
              "  <tbody>\n",
              "    <tr>\n",
              "      <th>0</th>\n",
              "      <td>1824</td>\n",
              "      <td>Andrew Jackson</td>\n",
              "      <td>Democratic-Republican</td>\n",
              "      <td>151271</td>\n",
              "      <td>loss</td>\n",
              "      <td>57.210122</td>\n",
              "      <td>Andrew</td>\n",
              "    </tr>\n",
              "    <tr>\n",
              "      <th>1</th>\n",
              "      <td>1824</td>\n",
              "      <td>John Quincy Adams</td>\n",
              "      <td>Democratic-Republican</td>\n",
              "      <td>113142</td>\n",
              "      <td>win</td>\n",
              "      <td>42.789878</td>\n",
              "      <td>John</td>\n",
              "    </tr>\n",
              "    <tr>\n",
              "      <th>2</th>\n",
              "      <td>1828</td>\n",
              "      <td>Andrew Jackson</td>\n",
              "      <td>Democratic</td>\n",
              "      <td>642806</td>\n",
              "      <td>win</td>\n",
              "      <td>56.203927</td>\n",
              "      <td>Andrew</td>\n",
              "    </tr>\n",
              "    <tr>\n",
              "      <th>3</th>\n",
              "      <td>1828</td>\n",
              "      <td>John Quincy Adams</td>\n",
              "      <td>National Republican</td>\n",
              "      <td>500897</td>\n",
              "      <td>loss</td>\n",
              "      <td>43.796073</td>\n",
              "      <td>John</td>\n",
              "    </tr>\n",
              "    <tr>\n",
              "      <th>4</th>\n",
              "      <td>1832</td>\n",
              "      <td>Andrew Jackson</td>\n",
              "      <td>Democratic</td>\n",
              "      <td>702735</td>\n",
              "      <td>win</td>\n",
              "      <td>54.574789</td>\n",
              "      <td>Andrew</td>\n",
              "    </tr>\n",
              "    <tr>\n",
              "      <th>...</th>\n",
              "      <td>...</td>\n",
              "      <td>...</td>\n",
              "      <td>...</td>\n",
              "      <td>...</td>\n",
              "      <td>...</td>\n",
              "      <td>...</td>\n",
              "      <td>...</td>\n",
              "    </tr>\n",
              "    <tr>\n",
              "      <th>177</th>\n",
              "      <td>2016</td>\n",
              "      <td>Jill Stein</td>\n",
              "      <td>Green</td>\n",
              "      <td>1457226</td>\n",
              "      <td>loss</td>\n",
              "      <td>1.073699</td>\n",
              "      <td>Jill</td>\n",
              "    </tr>\n",
              "    <tr>\n",
              "      <th>178</th>\n",
              "      <td>2020</td>\n",
              "      <td>Joseph Biden</td>\n",
              "      <td>Democratic</td>\n",
              "      <td>81268924</td>\n",
              "      <td>win</td>\n",
              "      <td>51.311515</td>\n",
              "      <td>Joseph</td>\n",
              "    </tr>\n",
              "    <tr>\n",
              "      <th>179</th>\n",
              "      <td>2020</td>\n",
              "      <td>Donald Trump</td>\n",
              "      <td>Republican</td>\n",
              "      <td>74216154</td>\n",
              "      <td>loss</td>\n",
              "      <td>46.858542</td>\n",
              "      <td>Donald</td>\n",
              "    </tr>\n",
              "    <tr>\n",
              "      <th>180</th>\n",
              "      <td>2020</td>\n",
              "      <td>Jo Jorgensen</td>\n",
              "      <td>Libertarian</td>\n",
              "      <td>1865724</td>\n",
              "      <td>loss</td>\n",
              "      <td>1.177979</td>\n",
              "      <td>Jo</td>\n",
              "    </tr>\n",
              "    <tr>\n",
              "      <th>181</th>\n",
              "      <td>2020</td>\n",
              "      <td>Howard Hawkins</td>\n",
              "      <td>Green</td>\n",
              "      <td>405035</td>\n",
              "      <td>loss</td>\n",
              "      <td>0.255731</td>\n",
              "      <td>Howard</td>\n",
              "    </tr>\n",
              "  </tbody>\n",
              "</table>\n",
              "<p>182 rows × 7 columns</p>\n",
              "</div>"
            ],
            "text/plain": [
              "     Year          Candidate                  Party  Popular vote Result  \\\n",
              "0    1824     Andrew Jackson  Democratic-Republican        151271   loss   \n",
              "1    1824  John Quincy Adams  Democratic-Republican        113142    win   \n",
              "2    1828     Andrew Jackson             Democratic        642806    win   \n",
              "3    1828  John Quincy Adams    National Republican        500897   loss   \n",
              "4    1832     Andrew Jackson             Democratic        702735    win   \n",
              "..    ...                ...                    ...           ...    ...   \n",
              "177  2016         Jill Stein                  Green       1457226   loss   \n",
              "178  2020       Joseph Biden             Democratic      81268924    win   \n",
              "179  2020       Donald Trump             Republican      74216154   loss   \n",
              "180  2020       Jo Jorgensen            Libertarian       1865724   loss   \n",
              "181  2020     Howard Hawkins                  Green        405035   loss   \n",
              "\n",
              "             % First Name  \n",
              "0    57.210122     Andrew  \n",
              "1    42.789878       John  \n",
              "2    56.203927     Andrew  \n",
              "3    43.796073       John  \n",
              "4    54.574789     Andrew  \n",
              "..         ...        ...  \n",
              "177   1.073699       Jill  \n",
              "178  51.311515     Joseph  \n",
              "179  46.858542     Donald  \n",
              "180   1.177979         Jo  \n",
              "181   0.255731     Howard  \n",
              "\n",
              "[182 rows x 7 columns]"
            ]
          },
          "execution_count": 66,
          "metadata": {},
          "output_type": "execute_result"
        }
      ],
      "source": [
        "elections"
      ]
    },
    {
      "cell_type": "code",
      "execution_count": null,
      "metadata": {
        "id": "kI2STOvVeUHN",
        "outputId": "5b91c010-8a0b-4647-c0ee-44939035b757"
      },
      "outputs": [
        {
          "ename": "NameError",
          "evalue": "name 'male_2020_babynames' is not defined",
          "output_type": "error",
          "traceback": [
            "\u001b[0;31m---------------------------------------------------------------------------\u001b[0m",
            "\u001b[0;31mNameError\u001b[0m                                 Traceback (most recent call last)",
            "Input \u001b[0;32mIn [67]\u001b[0m, in \u001b[0;36m<module>\u001b[0;34m\u001b[0m\n\u001b[0;32m----> 1\u001b[0m merged \u001b[38;5;241m=\u001b[39m pd\u001b[38;5;241m.\u001b[39mmerge(left \u001b[38;5;241m=\u001b[39m elections, right \u001b[38;5;241m=\u001b[39m \u001b[43mmale_2020_babynames\u001b[49m, \n\u001b[1;32m      2\u001b[0m                   left_on \u001b[38;5;241m=\u001b[39m \u001b[38;5;124m\"\u001b[39m\u001b[38;5;124mFirst Name\u001b[39m\u001b[38;5;124m\"\u001b[39m, right_on \u001b[38;5;241m=\u001b[39m \u001b[38;5;124m\"\u001b[39m\u001b[38;5;124mName\u001b[39m\u001b[38;5;124m\"\u001b[39m)\n\u001b[1;32m      3\u001b[0m merged\n",
            "\u001b[0;31mNameError\u001b[0m: name 'male_2020_babynames' is not defined"
          ]
        }
      ],
      "source": [
        "merged = pd.merge(left = elections, right = male_2020_babynames, \n",
        "                  left_on = \"First Name\", right_on = \"Name\")\n",
        "merged"
      ]
    },
    {
      "cell_type": "code",
      "execution_count": null,
      "metadata": {
        "id": "TNNtRzs4eUHN",
        "outputId": "6e717f5f-2903-4bc9-9e30-178887cc2197"
      },
      "outputs": [
        {
          "data": {
            "text/html": [
              "<div>\n",
              "<style scoped>\n",
              "    .dataframe tbody tr th:only-of-type {\n",
              "        vertical-align: middle;\n",
              "    }\n",
              "\n",
              "    .dataframe tbody tr th {\n",
              "        vertical-align: top;\n",
              "    }\n",
              "\n",
              "    .dataframe thead th {\n",
              "        text-align: right;\n",
              "    }\n",
              "</style>\n",
              "<table border=\"1\" class=\"dataframe\">\n",
              "  <thead>\n",
              "    <tr style=\"text-align: right;\">\n",
              "      <th></th>\n",
              "      <th>Year_x</th>\n",
              "      <th>Candidate</th>\n",
              "      <th>Party</th>\n",
              "      <th>Popular vote</th>\n",
              "      <th>Result</th>\n",
              "      <th>%</th>\n",
              "      <th>First Name</th>\n",
              "      <th>State</th>\n",
              "      <th>Sex</th>\n",
              "      <th>Year_y</th>\n",
              "      <th>Name</th>\n",
              "      <th>Count</th>\n",
              "    </tr>\n",
              "  </thead>\n",
              "  <tbody>\n",
              "    <tr>\n",
              "      <th>129</th>\n",
              "      <td>1996</td>\n",
              "      <td>Bill Clinton</td>\n",
              "      <td>Democratic</td>\n",
              "      <td>47400125</td>\n",
              "      <td>win</td>\n",
              "      <td>49.296938</td>\n",
              "      <td>Bill</td>\n",
              "      <td>CA</td>\n",
              "      <td>M</td>\n",
              "      <td>2020</td>\n",
              "      <td>Bill</td>\n",
              "      <td>5</td>\n",
              "    </tr>\n",
              "    <tr>\n",
              "      <th>106</th>\n",
              "      <td>1956</td>\n",
              "      <td>Dwight Eisenhower</td>\n",
              "      <td>Republican</td>\n",
              "      <td>35579180</td>\n",
              "      <td>win</td>\n",
              "      <td>57.650654</td>\n",
              "      <td>Dwight</td>\n",
              "      <td>CA</td>\n",
              "      <td>M</td>\n",
              "      <td>2020</td>\n",
              "      <td>Dwight</td>\n",
              "      <td>5</td>\n",
              "    </tr>\n",
              "    <tr>\n",
              "      <th>105</th>\n",
              "      <td>1952</td>\n",
              "      <td>Dwight Eisenhower</td>\n",
              "      <td>Republican</td>\n",
              "      <td>34075529</td>\n",
              "      <td>win</td>\n",
              "      <td>55.325173</td>\n",
              "      <td>Dwight</td>\n",
              "      <td>CA</td>\n",
              "      <td>M</td>\n",
              "      <td>2020</td>\n",
              "      <td>Dwight</td>\n",
              "      <td>5</td>\n",
              "    </tr>\n",
              "    <tr>\n",
              "      <th>131</th>\n",
              "      <td>1992</td>\n",
              "      <td>Ross Perot</td>\n",
              "      <td>Independent</td>\n",
              "      <td>19743821</td>\n",
              "      <td>loss</td>\n",
              "      <td>18.956298</td>\n",
              "      <td>Ross</td>\n",
              "      <td>CA</td>\n",
              "      <td>M</td>\n",
              "      <td>2020</td>\n",
              "      <td>Ross</td>\n",
              "      <td>5</td>\n",
              "    </tr>\n",
              "    <tr>\n",
              "      <th>132</th>\n",
              "      <td>1996</td>\n",
              "      <td>Ross Perot</td>\n",
              "      <td>Reform</td>\n",
              "      <td>8085294</td>\n",
              "      <td>loss</td>\n",
              "      <td>8.408844</td>\n",
              "      <td>Ross</td>\n",
              "      <td>CA</td>\n",
              "      <td>M</td>\n",
              "      <td>2020</td>\n",
              "      <td>Ross</td>\n",
              "      <td>5</td>\n",
              "    </tr>\n",
              "    <tr>\n",
              "      <th>...</th>\n",
              "      <td>...</td>\n",
              "      <td>...</td>\n",
              "      <td>...</td>\n",
              "      <td>...</td>\n",
              "      <td>...</td>\n",
              "      <td>...</td>\n",
              "      <td>...</td>\n",
              "      <td>...</td>\n",
              "      <td>...</td>\n",
              "      <td>...</td>\n",
              "      <td>...</td>\n",
              "      <td>...</td>\n",
              "    </tr>\n",
              "    <tr>\n",
              "      <th>121</th>\n",
              "      <td>2004</td>\n",
              "      <td>David Cobb</td>\n",
              "      <td>Green</td>\n",
              "      <td>119859</td>\n",
              "      <td>loss</td>\n",
              "      <td>0.098088</td>\n",
              "      <td>David</td>\n",
              "      <td>CA</td>\n",
              "      <td>M</td>\n",
              "      <td>2020</td>\n",
              "      <td>David</td>\n",
              "      <td>1155</td>\n",
              "    </tr>\n",
              "    <tr>\n",
              "      <th>120</th>\n",
              "      <td>1984</td>\n",
              "      <td>David Bergland</td>\n",
              "      <td>Libertarian</td>\n",
              "      <td>228111</td>\n",
              "      <td>loss</td>\n",
              "      <td>0.247245</td>\n",
              "      <td>David</td>\n",
              "      <td>CA</td>\n",
              "      <td>M</td>\n",
              "      <td>2020</td>\n",
              "      <td>David</td>\n",
              "      <td>1155</td>\n",
              "    </tr>\n",
              "    <tr>\n",
              "      <th>66</th>\n",
              "      <td>1884</td>\n",
              "      <td>Benjamin Butler</td>\n",
              "      <td>Anti-Monopoly</td>\n",
              "      <td>134294</td>\n",
              "      <td>loss</td>\n",
              "      <td>1.335838</td>\n",
              "      <td>Benjamin</td>\n",
              "      <td>CA</td>\n",
              "      <td>M</td>\n",
              "      <td>2020</td>\n",
              "      <td>Benjamin</td>\n",
              "      <td>1634</td>\n",
              "    </tr>\n",
              "    <tr>\n",
              "      <th>67</th>\n",
              "      <td>1888</td>\n",
              "      <td>Benjamin Harrison</td>\n",
              "      <td>Republican</td>\n",
              "      <td>5443633</td>\n",
              "      <td>win</td>\n",
              "      <td>47.858041</td>\n",
              "      <td>Benjamin</td>\n",
              "      <td>CA</td>\n",
              "      <td>M</td>\n",
              "      <td>2020</td>\n",
              "      <td>Benjamin</td>\n",
              "      <td>1634</td>\n",
              "    </tr>\n",
              "    <tr>\n",
              "      <th>68</th>\n",
              "      <td>1892</td>\n",
              "      <td>Benjamin Harrison</td>\n",
              "      <td>Republican</td>\n",
              "      <td>5176108</td>\n",
              "      <td>loss</td>\n",
              "      <td>42.984101</td>\n",
              "      <td>Benjamin</td>\n",
              "      <td>CA</td>\n",
              "      <td>M</td>\n",
              "      <td>2020</td>\n",
              "      <td>Benjamin</td>\n",
              "      <td>1634</td>\n",
              "    </tr>\n",
              "  </tbody>\n",
              "</table>\n",
              "<p>146 rows × 12 columns</p>\n",
              "</div>"
            ],
            "text/plain": [
              "     Year_x          Candidate          Party  Popular vote Result          %  \\\n",
              "129    1996       Bill Clinton     Democratic      47400125    win  49.296938   \n",
              "106    1956  Dwight Eisenhower     Republican      35579180    win  57.650654   \n",
              "105    1952  Dwight Eisenhower     Republican      34075529    win  55.325173   \n",
              "131    1992         Ross Perot    Independent      19743821   loss  18.956298   \n",
              "132    1996         Ross Perot         Reform       8085294   loss   8.408844   \n",
              "..      ...                ...            ...           ...    ...        ...   \n",
              "121    2004         David Cobb          Green        119859   loss   0.098088   \n",
              "120    1984     David Bergland    Libertarian        228111   loss   0.247245   \n",
              "66     1884    Benjamin Butler  Anti-Monopoly        134294   loss   1.335838   \n",
              "67     1888  Benjamin Harrison     Republican       5443633    win  47.858041   \n",
              "68     1892  Benjamin Harrison     Republican       5176108   loss  42.984101   \n",
              "\n",
              "    First Name State Sex  Year_y      Name  Count  \n",
              "129       Bill    CA   M    2020      Bill      5  \n",
              "106     Dwight    CA   M    2020    Dwight      5  \n",
              "105     Dwight    CA   M    2020    Dwight      5  \n",
              "131       Ross    CA   M    2020      Ross      5  \n",
              "132       Ross    CA   M    2020      Ross      5  \n",
              "..         ...   ...  ..     ...       ...    ...  \n",
              "121      David    CA   M    2020     David   1155  \n",
              "120      David    CA   M    2020     David   1155  \n",
              "66    Benjamin    CA   M    2020  Benjamin   1634  \n",
              "67    Benjamin    CA   M    2020  Benjamin   1634  \n",
              "68    Benjamin    CA   M    2020  Benjamin   1634  \n",
              "\n",
              "[146 rows x 12 columns]"
            ]
          },
          "execution_count": 106,
          "metadata": {},
          "output_type": "execute_result"
        }
      ],
      "source": [
        "merged.sort_values(\"Count\")"
      ]
    },
    {
      "cell_type": "code",
      "execution_count": null,
      "metadata": {
        "id": "nJBgmInseUHN"
      },
      "outputs": [],
      "source": []
    }
  ],
  "metadata": {
    "kernelspec": {
      "display_name": "Python 3 (ipykernel)",
      "language": "python",
      "name": "python3"
    },
    "language_info": {
      "codemirror_mode": {
        "name": "ipython",
        "version": 3
      },
      "file_extension": ".py",
      "mimetype": "text/x-python",
      "name": "python",
      "nbconvert_exporter": "python",
      "pygments_lexer": "ipython3",
      "version": "3.9.9"
    },
    "colab": {
      "provenance": []
    }
  },
  "nbformat": 4,
  "nbformat_minor": 0
}